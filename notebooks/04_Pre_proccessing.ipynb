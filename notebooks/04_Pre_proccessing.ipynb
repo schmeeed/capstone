{
 "cells": [
  {
   "cell_type": "code",
   "execution_count": 25,
   "id": "372152ec",
   "metadata": {},
   "outputs": [
    {
     "name": "stdout",
     "output_type": "stream",
     "text": [
      "The nb_black extension is already loaded. To reload it, use:\n",
      "  %reload_ext nb_black\n"
     ]
    },
    {
     "data": {
      "application/javascript": [
       "\n",
       "            setTimeout(function() {\n",
       "                var nbb_cell_id = 25;\n",
       "                var nbb_unformatted_code = \"import boto3\\nimport pandas as pd\\nimport numpy as np\\nfrom io import StringIO\\nimport json\\nfrom io import BytesIO\\nimport ijson\\nfrom pandas import json_normalize\\n\\n# the below extension properly formats a cell after it is run\\n%load_ext nb_black \\n\\n# Set the maximum number of rows to 200\\npd.set_option(\\\"display.max_rows\\\", 200)\\nimport pandas as pd\\n\\n# Set the maximum number of columns to 200\\npd.set_option('display.max_columns', 200)\";\n",
       "                var nbb_formatted_code = \"import boto3\\nimport pandas as pd\\nimport numpy as np\\nfrom io import StringIO\\nimport json\\nfrom io import BytesIO\\nimport ijson\\nfrom pandas import json_normalize\\n\\n# the below extension properly formats a cell after it is run\\n%load_ext nb_black\\n\\n# Set the maximum number of rows to 200\\npd.set_option(\\\"display.max_rows\\\", 200)\\nimport pandas as pd\\n\\n# Set the maximum number of columns to 200\\npd.set_option(\\\"display.max_columns\\\", 200)\";\n",
       "                var nbb_cells = Jupyter.notebook.get_cells();\n",
       "                for (var i = 0; i < nbb_cells.length; ++i) {\n",
       "                    if (nbb_cells[i].input_prompt_number == nbb_cell_id) {\n",
       "                        if (nbb_cells[i].get_text() == nbb_unformatted_code) {\n",
       "                             nbb_cells[i].set_text(nbb_formatted_code);\n",
       "                        }\n",
       "                        break;\n",
       "                    }\n",
       "                }\n",
       "            }, 500);\n",
       "            "
      ],
      "text/plain": [
       "<IPython.core.display.Javascript object>"
      ]
     },
     "metadata": {},
     "output_type": "display_data"
    }
   ],
   "source": [
    "import boto3\n",
    "import pandas as pd\n",
    "import numpy as np\n",
    "from io import StringIO\n",
    "import json\n",
    "from io import BytesIO\n",
    "import ijson\n",
    "from pandas import json_normalize\n",
    "\n",
    "# the below extension properly formats a cell after it is run\n",
    "%load_ext nb_black \n",
    "\n",
    "# Set the maximum number of rows to 200\n",
    "pd.set_option(\"display.max_rows\", 200)\n",
    "import pandas as pd\n",
    "\n",
    "# Set the maximum number of columns to 200\n",
    "pd.set_option('display.max_columns', 200)\n"
   ]
  },
  {
   "cell_type": "markdown",
   "id": "9e354cb4",
   "metadata": {},
   "source": [
    "Loading the CSV's from AWS"
   ]
  },
  {
   "cell_type": "code",
   "execution_count": 2,
   "id": "81be8a40",
   "metadata": {
    "scrolled": false
   },
   "outputs": [
    {
     "data": {
      "application/javascript": [
       "\n",
       "            setTimeout(function() {\n",
       "                var nbb_cell_id = 2;\n",
       "                var nbb_unformatted_code = \"# Creating an S3 client object\\ns3 = boto3.client('s3')\\n\\n# Specifying the name of the bucket\\nbucket_name = 'capstonehaystacks'\\n\\n# List of CSV files to download\\ncsv_files = [\\n    'atlanta_cbsa_zip.csv',\\n    'core_geo_dataset.csv',\\n    'crime_rating_zipcode.csv',\\n    'elementary_schools.csv',\\n    'GA_LISTINGS_SALES_V2.csv',\\n    'GA_LISTINGS_SALES.csv',\\n    'high_schools.csv',\\n    'middle_schools.csv'\\n]\\n\\n# Dictionary to store the dataframes\\ndataframes = {}\\n\\n# Downloading the files from S3 and reading them into pandas dataframes\\nfor file_name in csv_files:\\n    s3.download_file(bucket_name, file_name, file_name)\\n    dataframes[file_name[:-4]] = pd.read_csv(file_name, index_col=False)\\n\\n# Access the dataframes using their respective keys\\natlanta_cbsa_zip_df = dataframes['atlanta_cbsa_zip']\\ncore_geo_dataset_df = dataframes['core_geo_dataset']\\ncrime_rating_zipcode_df = dataframes['crime_rating_zipcode']\\nelementary_schools_df = dataframes['elementary_schools']\\nGA_LISTINGS_SALES_V2_df = dataframes['GA_LISTINGS_SALES_V2']\\nGA_LISTINGS_SALES_df = dataframes['GA_LISTINGS_SALES']\\nhigh_schools_df = dataframes['high_schools']\\nmiddle_schools_df = dataframes['middle_schools']\";\n",
       "                var nbb_formatted_code = \"# Creating an S3 client object\\ns3 = boto3.client(\\\"s3\\\")\\n\\n# Specifying the name of the bucket\\nbucket_name = \\\"capstonehaystacks\\\"\\n\\n# List of CSV files to download\\ncsv_files = [\\n    \\\"atlanta_cbsa_zip.csv\\\",\\n    \\\"core_geo_dataset.csv\\\",\\n    \\\"crime_rating_zipcode.csv\\\",\\n    \\\"elementary_schools.csv\\\",\\n    \\\"GA_LISTINGS_SALES_V2.csv\\\",\\n    \\\"GA_LISTINGS_SALES.csv\\\",\\n    \\\"high_schools.csv\\\",\\n    \\\"middle_schools.csv\\\",\\n]\\n\\n# Dictionary to store the dataframes\\ndataframes = {}\\n\\n# Downloading the files from S3 and reading them into pandas dataframes\\nfor file_name in csv_files:\\n    s3.download_file(bucket_name, file_name, file_name)\\n    dataframes[file_name[:-4]] = pd.read_csv(file_name, index_col=False)\\n\\n# Access the dataframes using their respective keys\\natlanta_cbsa_zip_df = dataframes[\\\"atlanta_cbsa_zip\\\"]\\ncore_geo_dataset_df = dataframes[\\\"core_geo_dataset\\\"]\\ncrime_rating_zipcode_df = dataframes[\\\"crime_rating_zipcode\\\"]\\nelementary_schools_df = dataframes[\\\"elementary_schools\\\"]\\nGA_LISTINGS_SALES_V2_df = dataframes[\\\"GA_LISTINGS_SALES_V2\\\"]\\nGA_LISTINGS_SALES_df = dataframes[\\\"GA_LISTINGS_SALES\\\"]\\nhigh_schools_df = dataframes[\\\"high_schools\\\"]\\nmiddle_schools_df = dataframes[\\\"middle_schools\\\"]\";\n",
       "                var nbb_cells = Jupyter.notebook.get_cells();\n",
       "                for (var i = 0; i < nbb_cells.length; ++i) {\n",
       "                    if (nbb_cells[i].input_prompt_number == nbb_cell_id) {\n",
       "                        if (nbb_cells[i].get_text() == nbb_unformatted_code) {\n",
       "                             nbb_cells[i].set_text(nbb_formatted_code);\n",
       "                        }\n",
       "                        break;\n",
       "                    }\n",
       "                }\n",
       "            }, 500);\n",
       "            "
      ],
      "text/plain": [
       "<IPython.core.display.Javascript object>"
      ]
     },
     "metadata": {},
     "output_type": "display_data"
    }
   ],
   "source": [
    "# Creating an S3 client object\n",
    "s3 = boto3.client('s3')\n",
    "\n",
    "# Specifying the name of the bucket\n",
    "bucket_name = 'capstonehaystacks'\n",
    "\n",
    "# List of CSV files to download\n",
    "csv_files = [\n",
    "    'atlanta_cbsa_zip.csv',\n",
    "    'core_geo_dataset.csv',\n",
    "    'crime_rating_zipcode.csv',\n",
    "    'elementary_schools.csv',\n",
    "    'GA_LISTINGS_SALES_V2.csv',\n",
    "    'GA_LISTINGS_SALES.csv',\n",
    "    'high_schools.csv',\n",
    "    'middle_schools.csv'\n",
    "]\n",
    "\n",
    "# Dictionary to store the dataframes\n",
    "dataframes = {}\n",
    "\n",
    "# Downloading the files from S3 and reading them into pandas dataframes\n",
    "for file_name in csv_files:\n",
    "    s3.download_file(bucket_name, file_name, file_name)\n",
    "    dataframes[file_name[:-4]] = pd.read_csv(file_name, index_col=False)\n",
    "\n",
    "# Access the dataframes using their respective keys\n",
    "atlanta_cbsa_zip_df = dataframes['atlanta_cbsa_zip']\n",
    "core_geo_dataset_df = dataframes['core_geo_dataset']\n",
    "crime_rating_zipcode_df = dataframes['crime_rating_zipcode']\n",
    "elementary_schools_df = dataframes['elementary_schools']\n",
    "GA_LISTINGS_SALES_V2_df = dataframes['GA_LISTINGS_SALES_V2']\n",
    "GA_LISTINGS_SALES_df = dataframes['GA_LISTINGS_SALES']\n",
    "high_schools_df = dataframes['high_schools']\n",
    "middle_schools_df = dataframes['middle_schools']\n",
    "\n"
   ]
  },
  {
   "cell_type": "code",
   "execution_count": 3,
   "id": "a38be5f1",
   "metadata": {},
   "outputs": [
    {
     "data": {
      "application/javascript": [
       "\n",
       "            setTimeout(function() {\n",
       "                var nbb_cell_id = 3;\n",
       "                var nbb_unformatted_code = \"# Looping through the keys in the dataframes dictionary and drop the 'Unnamed: 0' column\\nfor key in dataframes.keys():\\n    dataframes[key].drop(columns=['Unnamed: 0'], inplace=True)\";\n",
       "                var nbb_formatted_code = \"# Looping through the keys in the dataframes dictionary and drop the 'Unnamed: 0' column\\nfor key in dataframes.keys():\\n    dataframes[key].drop(columns=[\\\"Unnamed: 0\\\"], inplace=True)\";\n",
       "                var nbb_cells = Jupyter.notebook.get_cells();\n",
       "                for (var i = 0; i < nbb_cells.length; ++i) {\n",
       "                    if (nbb_cells[i].input_prompt_number == nbb_cell_id) {\n",
       "                        if (nbb_cells[i].get_text() == nbb_unformatted_code) {\n",
       "                             nbb_cells[i].set_text(nbb_formatted_code);\n",
       "                        }\n",
       "                        break;\n",
       "                    }\n",
       "                }\n",
       "            }, 500);\n",
       "            "
      ],
      "text/plain": [
       "<IPython.core.display.Javascript object>"
      ]
     },
     "metadata": {},
     "output_type": "display_data"
    }
   ],
   "source": [
    "# Looping through the keys in the dataframes dictionary and drop the 'Unnamed: 0' column\n",
    "for key in dataframes.keys():\n",
    "    dataframes[key].drop(columns=['Unnamed: 0'], inplace=True)\n"
   ]
  },
  {
   "cell_type": "code",
   "execution_count": 4,
   "id": "04b7f1c3",
   "metadata": {},
   "outputs": [
    {
     "name": "stdout",
     "output_type": "stream",
     "text": [
      "Columns in atlanta_cbsa_zip_df:\n",
      "Index(['census_cbsa_geoid', 'census_cbsa_name', 'census_cbsa_lsad',\n",
      "       'census_cbsa_lat', 'census_cbsa_lon', 'census_zcta5_geoid',\n",
      "       'census_zcta5_lat', 'census_zcta5_lon'],\n",
      "      dtype='object')\n",
      "\n",
      "Columns in core_geo_dataset_df:\n",
      "Index(['census_zcta5_geoid', 'census_zcta5_lat', 'census_zcta5_lon',\n",
      "       'census_tract_geoid', 'census_tract_lat', 'census_tract_lon'],\n",
      "      dtype='object')\n",
      "\n",
      "Columns in crime_rating_zipcode_df:\n",
      "Index(['census_state_abbr', 'census_zcta5_geoid', 'census_cbsa_geoid_count',\n",
      "       'census_cbsa_geoid_list', 'overall_crime_grade', 'violent_crime_grade',\n",
      "       'violent_crime_total_rate', 'violent_crime_assault_rate',\n",
      "       'violent_crime_robbery_rate', 'violent_crime_rape_rate',\n",
      "       'violent_crime_murder_rate', 'property_crime_grade',\n",
      "       'property_crime_total_rate', 'property_crime_theft_rate',\n",
      "       'property_crime_vehicle_theft_rate', 'property_crime_burglary_rate',\n",
      "       'property_crime_arson_rate', 'other_crime_grade',\n",
      "       'other_crime_total_rate', 'other_crime_kidnapping_rate',\n",
      "       'other_crime_drug_crimes_rate', 'other_crime_vandalism_rate',\n",
      "       'other_crime_identity_theft_rate', 'other_crime_animal_cruelty_rate',\n",
      "       'crime_safety_paragraph', 'interpreting_crime_map_paragraph'],\n",
      "      dtype='object')\n",
      "\n",
      "Columns in elementary_schools_df:\n",
      "Index(['id', 'districtID', 'districtName', 'districtCity', 'lat', 'long',\n",
      "       'name', 'gradeLevels', 'address', 'rating', 'ratingScale', 'schoolType',\n",
      "       'zipcode', 'studentsPerTeacher', 'parentRating'],\n",
      "      dtype='object')\n",
      "\n",
      "Columns in GA_LISTINGS_SALES_V2_df:\n",
      "Index(['latitude', 'longitude', 'full_street_address', 'city', 'county_name',\n",
      "       'beds', 'baths_full', 'baths_half', 'square_footage', 'lot_size',\n",
      "       'year_built', 'details', 'special_features', 'unit_count', 'price',\n",
      "       'transaction_type', 'listing_status', 'listing_special_features',\n",
      "       'census_state_name', 'census_county_name', 'zip'],\n",
      "      dtype='object')\n",
      "\n",
      "Columns in GA_LISTINGS_SALES_df:\n",
      "Index(['latitude', 'longitude', 'city', 'county_name', 'beds', 'baths_full',\n",
      "       'baths_half', 'square_footage', 'lot_size', 'year_built', 'details',\n",
      "       'special_features', 'unit_count', 'price', 'transaction_type',\n",
      "       'listing_status', 'listing_special_features', 'census_state_name',\n",
      "       'census_county_name', 'zip'],\n",
      "      dtype='object')\n",
      "\n",
      "Columns in high_schools_df:\n",
      "Index(['id', 'districtID', 'districtName', 'districtCity', 'lat', 'long',\n",
      "       'name', 'gradeLevels', 'address', 'rating', 'ratingScale', 'schoolType',\n",
      "       'zipcode', 'studentsPerTeacher', 'parentRating'],\n",
      "      dtype='object')\n",
      "\n",
      "Columns in middle_schools_df:\n",
      "Index(['id', 'districtID', 'districtName', 'districtCity', 'lat', 'long',\n",
      "       'name', 'gradeLevels', 'address', 'rating', 'ratingScale', 'schoolType',\n",
      "       'zipcode', 'studentsPerTeacher', 'parentRating'],\n",
      "      dtype='object')\n"
     ]
    },
    {
     "data": {
      "application/javascript": [
       "\n",
       "            setTimeout(function() {\n",
       "                var nbb_cell_id = 4;\n",
       "                var nbb_unformatted_code = \"print(\\\"Columns in atlanta_cbsa_zip_df:\\\")\\nprint(atlanta_cbsa_zip_df.columns)\\n\\nprint(\\\"\\\\nColumns in core_geo_dataset_df:\\\")\\nprint(core_geo_dataset_df.columns)\\n\\nprint(\\\"\\\\nColumns in crime_rating_zipcode_df:\\\")\\nprint(crime_rating_zipcode_df.columns)\\n\\nprint(\\\"\\\\nColumns in elementary_schools_df:\\\")\\nprint(elementary_schools_df.columns)\\n\\nprint(\\\"\\\\nColumns in GA_LISTINGS_SALES_V2_df:\\\")\\nprint(GA_LISTINGS_SALES_V2_df.columns)\\n\\nprint(\\\"\\\\nColumns in GA_LISTINGS_SALES_df:\\\")\\nprint(GA_LISTINGS_SALES_df.columns)\\n\\nprint(\\\"\\\\nColumns in high_schools_df:\\\")\\nprint(high_schools_df.columns)\\n\\nprint(\\\"\\\\nColumns in middle_schools_df:\\\")\\nprint(middle_schools_df.columns)\";\n",
       "                var nbb_formatted_code = \"print(\\\"Columns in atlanta_cbsa_zip_df:\\\")\\nprint(atlanta_cbsa_zip_df.columns)\\n\\nprint(\\\"\\\\nColumns in core_geo_dataset_df:\\\")\\nprint(core_geo_dataset_df.columns)\\n\\nprint(\\\"\\\\nColumns in crime_rating_zipcode_df:\\\")\\nprint(crime_rating_zipcode_df.columns)\\n\\nprint(\\\"\\\\nColumns in elementary_schools_df:\\\")\\nprint(elementary_schools_df.columns)\\n\\nprint(\\\"\\\\nColumns in GA_LISTINGS_SALES_V2_df:\\\")\\nprint(GA_LISTINGS_SALES_V2_df.columns)\\n\\nprint(\\\"\\\\nColumns in GA_LISTINGS_SALES_df:\\\")\\nprint(GA_LISTINGS_SALES_df.columns)\\n\\nprint(\\\"\\\\nColumns in high_schools_df:\\\")\\nprint(high_schools_df.columns)\\n\\nprint(\\\"\\\\nColumns in middle_schools_df:\\\")\\nprint(middle_schools_df.columns)\";\n",
       "                var nbb_cells = Jupyter.notebook.get_cells();\n",
       "                for (var i = 0; i < nbb_cells.length; ++i) {\n",
       "                    if (nbb_cells[i].input_prompt_number == nbb_cell_id) {\n",
       "                        if (nbb_cells[i].get_text() == nbb_unformatted_code) {\n",
       "                             nbb_cells[i].set_text(nbb_formatted_code);\n",
       "                        }\n",
       "                        break;\n",
       "                    }\n",
       "                }\n",
       "            }, 500);\n",
       "            "
      ],
      "text/plain": [
       "<IPython.core.display.Javascript object>"
      ]
     },
     "metadata": {},
     "output_type": "display_data"
    }
   ],
   "source": [
    "print(\"Columns in atlanta_cbsa_zip_df:\")\n",
    "print(atlanta_cbsa_zip_df.columns)\n",
    "\n",
    "print(\"\\nColumns in core_geo_dataset_df:\")\n",
    "print(core_geo_dataset_df.columns)\n",
    "\n",
    "print(\"\\nColumns in crime_rating_zipcode_df:\")\n",
    "print(crime_rating_zipcode_df.columns)\n",
    "\n",
    "print(\"\\nColumns in elementary_schools_df:\")\n",
    "print(elementary_schools_df.columns)\n",
    "\n",
    "print(\"\\nColumns in GA_LISTINGS_SALES_V2_df:\")\n",
    "print(GA_LISTINGS_SALES_V2_df.columns)\n",
    "\n",
    "print(\"\\nColumns in GA_LISTINGS_SALES_df:\")\n",
    "print(GA_LISTINGS_SALES_df.columns)\n",
    "\n",
    "print(\"\\nColumns in high_schools_df:\")\n",
    "print(high_schools_df.columns)\n",
    "\n",
    "print(\"\\nColumns in middle_schools_df:\")\n",
    "print(middle_schools_df.columns)\n"
   ]
  },
  {
   "cell_type": "markdown",
   "id": "79d82062",
   "metadata": {},
   "source": [
    "Index_col=False didnt work so Im going to drop the first column for each data frame"
   ]
  },
  {
   "cell_type": "markdown",
   "id": "5899738f",
   "metadata": {},
   "source": [
    "Looking into the GA_listings_sales files to find the difference between them"
   ]
  },
  {
   "cell_type": "code",
   "execution_count": 6,
   "id": "3e78aeb8",
   "metadata": {},
   "outputs": [
    {
     "data": {
      "text/plain": [
       "(31064, 20)"
      ]
     },
     "execution_count": 6,
     "metadata": {},
     "output_type": "execute_result"
    }
   ],
   "source": [
    "GA_LISTINGS_SALES_df.shape"
   ]
  },
  {
   "cell_type": "code",
   "execution_count": 7,
   "id": "f8e3a221",
   "metadata": {},
   "outputs": [
    {
     "data": {
      "text/plain": [
       "(31064, 21)"
      ]
     },
     "execution_count": 7,
     "metadata": {},
     "output_type": "execute_result"
    }
   ],
   "source": [
    "GA_LISTINGS_SALES_V2_df.shape"
   ]
  },
  {
   "cell_type": "code",
   "execution_count": 8,
   "id": "8de1afbe",
   "metadata": {},
   "outputs": [
    {
     "data": {
      "text/plain": [
       "Index(['latitude', 'longitude', 'city', 'county_name', 'beds', 'baths_full',\n",
       "       'baths_half', 'square_footage', 'lot_size', 'year_built', 'details',\n",
       "       'special_features', 'unit_count', 'price', 'transaction_type',\n",
       "       'listing_status', 'listing_special_features', 'census_state_name',\n",
       "       'census_county_name', 'zip'],\n",
       "      dtype='object')"
      ]
     },
     "execution_count": 8,
     "metadata": {},
     "output_type": "execute_result"
    }
   ],
   "source": [
    "GA_LISTINGS_SALES_df.columns"
   ]
  },
  {
   "cell_type": "code",
   "execution_count": 9,
   "id": "c215ba0d",
   "metadata": {},
   "outputs": [
    {
     "data": {
      "text/plain": [
       "Index(['latitude', 'longitude', 'full_street_address', 'city', 'county_name',\n",
       "       'beds', 'baths_full', 'baths_half', 'square_footage', 'lot_size',\n",
       "       'year_built', 'details', 'special_features', 'unit_count', 'price',\n",
       "       'transaction_type', 'listing_status', 'listing_special_features',\n",
       "       'census_state_name', 'census_county_name', 'zip'],\n",
       "      dtype='object')"
      ]
     },
     "execution_count": 9,
     "metadata": {},
     "output_type": "execute_result"
    }
   ],
   "source": [
    "GA_LISTINGS_SALES_V2_df.columns"
   ]
  },
  {
   "cell_type": "markdown",
   "id": "31a6d60b",
   "metadata": {},
   "source": [
    "It looks like the difference is V2 has a full_street_address column.  Going forward I will work with V2"
   ]
  },
  {
   "cell_type": "markdown",
   "id": "d2cddee1",
   "metadata": {},
   "source": [
    "Next I'm going to look into the two json files to figure out how to properly convert them into a dataframe"
   ]
  },
  {
   "cell_type": "code",
   "execution_count": 73,
   "id": "71e92cc3",
   "metadata": {},
   "outputs": [
    {
     "data": {
      "application/javascript": [
       "\n",
       "            setTimeout(function() {\n",
       "                var nbb_cell_id = 73;\n",
       "                var nbb_unformatted_code = \"# This is a large JSON file and the below allows me to view just a portion of it so I can\\n# determine how to flatten it\\n\\n# COMMENTED OUT SINCE IT EXPOSES AN API KEY\\n\\n\\n# # Setting the bucket and file names\\n# bucket_name = 'capstonehaystacks'\\n# file_name = 'all_zips_grocery_store.json'\\n\\n# # Reading the file from the S3 bucket\\n# response = s3.get_object(Bucket=bucket_name, Key=file_name)\\n\\n# # Wrapping the response's body in a BytesIO object so ijson can read it\\n# file = BytesIO(response['Body'].read())\\n\\n# # Using 'item' as the prefix for each JSON object.\\n# items = ijson.items(file, 'item')\\n\\n# # Iterating through the JSON objects\\n# for index, item in enumerate(items):\\n#     # Print the current item\\n#     print(f\\\"Item {index}: {item}\\\")\\n\\n#     # Breaking the loop here at 10\\n#     if index >= 10:\\n#         break\";\n",
       "                var nbb_formatted_code = \"# This is a large JSON file and the below allows me to view just a portion of it so I can\\n# determine how to flatten it\\n\\n# COMMENTED OUT SINCE IT EXPOSES AN API KEY\\n\\n\\n# # Setting the bucket and file names\\n# bucket_name = 'capstonehaystacks'\\n# file_name = 'all_zips_grocery_store.json'\\n\\n# # Reading the file from the S3 bucket\\n# response = s3.get_object(Bucket=bucket_name, Key=file_name)\\n\\n# # Wrapping the response's body in a BytesIO object so ijson can read it\\n# file = BytesIO(response['Body'].read())\\n\\n# # Using 'item' as the prefix for each JSON object.\\n# items = ijson.items(file, 'item')\\n\\n# # Iterating through the JSON objects\\n# for index, item in enumerate(items):\\n#     # Print the current item\\n#     print(f\\\"Item {index}: {item}\\\")\\n\\n#     # Breaking the loop here at 10\\n#     if index >= 10:\\n#         break\";\n",
       "                var nbb_cells = Jupyter.notebook.get_cells();\n",
       "                for (var i = 0; i < nbb_cells.length; ++i) {\n",
       "                    if (nbb_cells[i].input_prompt_number == nbb_cell_id) {\n",
       "                        if (nbb_cells[i].get_text() == nbb_unformatted_code) {\n",
       "                             nbb_cells[i].set_text(nbb_formatted_code);\n",
       "                        }\n",
       "                        break;\n",
       "                    }\n",
       "                }\n",
       "            }, 500);\n",
       "            "
      ],
      "text/plain": [
       "<IPython.core.display.Javascript object>"
      ]
     },
     "metadata": {},
     "output_type": "display_data"
    }
   ],
   "source": [
    "# This is a large JSON file and the below allows me to view just a portion of it so I can\n",
    "# determine how to flatten it\n",
    "\n",
    "# COMMENTED OUT SINCE IT EXPOSES AN API KEY\n",
    "\n",
    "\n",
    "# # Setting the bucket and file names\n",
    "# bucket_name = 'capstonehaystacks'\n",
    "# file_name = 'all_zips_grocery_store.json'\n",
    "\n",
    "# # Reading the file from the S3 bucket\n",
    "# response = s3.get_object(Bucket=bucket_name, Key=file_name)\n",
    "\n",
    "# # Wrapping the response's body in a BytesIO object so ijson can read it\n",
    "# file = BytesIO(response['Body'].read())\n",
    "\n",
    "# # Using 'item' as the prefix for each JSON object.\n",
    "# items = ijson.items(file, 'item')\n",
    "\n",
    "# # Iterating through the JSON objects\n",
    "# for index, item in enumerate(items):\n",
    "#     # Print the current item\n",
    "#     print(f\"Item {index}: {item}\")\n",
    "\n",
    "#     # Breaking the loop here at 10\n",
    "#     if index >= 10:\n",
    "#         break\n"
   ]
  },
  {
   "cell_type": "markdown",
   "id": "1030ee84",
   "metadata": {},
   "source": [
    "I can now flatten the data after seeing how it is nested. I'm doing this locally instead of using the version in AWS. "
   ]
  },
  {
   "cell_type": "code",
   "execution_count": 26,
   "id": "03526205",
   "metadata": {},
   "outputs": [
    {
     "data": {
      "application/javascript": [
       "\n",
       "            setTimeout(function() {\n",
       "                var nbb_cell_id = 26;\n",
       "                var nbb_unformatted_code = \"# Loading the json file from local disk\\nwith open(\\\"all_zips_grocery_store.json\\\", \\\"r\\\") as file:\\n    data = json.load(file)\\n\\n# Flattening the data\\nflattened_data = json_normalize(data, record_path=[\\\"responce\\\", \\\"results\\\"], meta=[[\\\"index\\\"], [\\\"census_zcta_geoid\\\"], [\\\"params\\\", \\\"key\\\"], [\\\"params\\\", \\\"location\\\"], [\\\"params\\\", \\\"radius\\\"], [\\\"params\\\", \\\"type\\\"], [\\\"responce\\\", \\\"status\\\"]], errors=\\\"ignore\\\")\\n\\ngrocery_df = pd.DataFrame(flattened_data)\";\n",
       "                var nbb_formatted_code = \"# Loading the json file from local disk\\nwith open(\\\"all_zips_grocery_store.json\\\", \\\"r\\\") as file:\\n    data = json.load(file)\\n\\n# Flattening the data\\nflattened_data = json_normalize(\\n    data,\\n    record_path=[\\\"responce\\\", \\\"results\\\"],\\n    meta=[\\n        [\\\"index\\\"],\\n        [\\\"census_zcta_geoid\\\"],\\n        [\\\"params\\\", \\\"key\\\"],\\n        [\\\"params\\\", \\\"location\\\"],\\n        [\\\"params\\\", \\\"radius\\\"],\\n        [\\\"params\\\", \\\"type\\\"],\\n        [\\\"responce\\\", \\\"status\\\"],\\n    ],\\n    errors=\\\"ignore\\\",\\n)\\n\\ngrocery_df = pd.DataFrame(flattened_data)\";\n",
       "                var nbb_cells = Jupyter.notebook.get_cells();\n",
       "                for (var i = 0; i < nbb_cells.length; ++i) {\n",
       "                    if (nbb_cells[i].input_prompt_number == nbb_cell_id) {\n",
       "                        if (nbb_cells[i].get_text() == nbb_unformatted_code) {\n",
       "                             nbb_cells[i].set_text(nbb_formatted_code);\n",
       "                        }\n",
       "                        break;\n",
       "                    }\n",
       "                }\n",
       "            }, 500);\n",
       "            "
      ],
      "text/plain": [
       "<IPython.core.display.Javascript object>"
      ]
     },
     "metadata": {},
     "output_type": "display_data"
    }
   ],
   "source": [
    "# Loading the json file from local disk\n",
    "with open(\"all_zips_grocery_store.json\", \"r\") as file:\n",
    "    data = json.load(file)\n",
    "\n",
    "# Flattening the data\n",
    "flattened_data = json_normalize(data, record_path=[\"responce\", \"results\"], meta=[[\"index\"], [\"census_zcta_geoid\"], [\"params\", \"key\"], [\"params\", \"location\"], [\"params\", \"radius\"], [\"params\", \"type\"], [\"responce\", \"status\"]], errors=\"ignore\")\n",
    "\n",
    "# Converting to a dataframe\n",
    "grocery_df = pd.DataFrame(flattened_data)\n"
   ]
  },
  {
   "cell_type": "code",
   "execution_count": 30,
   "id": "db02f67c",
   "metadata": {},
   "outputs": [
    {
     "name": "stdout",
     "output_type": "stream",
     "text": [
      "(402803, 31)\n",
      "icon                                object\n",
      "icon_background_color               object\n",
      "icon_mask_base_uri                  object\n",
      "name                                object\n",
      "place_id                            object\n",
      "reference                           object\n",
      "scope                               object\n",
      "types                               object\n",
      "vicinity                            object\n",
      "geometry.location.lat              float64\n",
      "geometry.location.lng              float64\n",
      "geometry.viewport.northeast.lat    float64\n",
      "geometry.viewport.northeast.lng    float64\n",
      "geometry.viewport.southwest.lat    float64\n",
      "geometry.viewport.southwest.lng    float64\n",
      "business_status                     object\n",
      "plus_code.compound_code             object\n",
      "plus_code.global_code               object\n",
      "permanently_closed                  object\n",
      "photos                              object\n",
      "rating                             float64\n",
      "user_ratings_total                 float64\n",
      "opening_hours.open_now              object\n",
      "price_level                        float64\n",
      "index                               object\n",
      "census_zcta_geoid                   object\n",
      "params.key                          object\n",
      "params.location                     object\n",
      "params.radius                       object\n",
      "params.type                         object\n",
      "responce.status                     object\n",
      "dtype: object\n"
     ]
    },
    {
     "data": {
      "application/javascript": [
       "\n",
       "            setTimeout(function() {\n",
       "                var nbb_cell_id = 30;\n",
       "                var nbb_unformatted_code = \"print(grocery_df.shape)\\nprint(grocery_df.dtypes)\";\n",
       "                var nbb_formatted_code = \"print(grocery_df.shape)\\nprint(grocery_df.dtypes)\";\n",
       "                var nbb_cells = Jupyter.notebook.get_cells();\n",
       "                for (var i = 0; i < nbb_cells.length; ++i) {\n",
       "                    if (nbb_cells[i].input_prompt_number == nbb_cell_id) {\n",
       "                        if (nbb_cells[i].get_text() == nbb_unformatted_code) {\n",
       "                             nbb_cells[i].set_text(nbb_formatted_code);\n",
       "                        }\n",
       "                        break;\n",
       "                    }\n",
       "                }\n",
       "            }, 500);\n",
       "            "
      ],
      "text/plain": [
       "<IPython.core.display.Javascript object>"
      ]
     },
     "metadata": {},
     "output_type": "display_data"
    }
   ],
   "source": [
    "print(grocery_df.shape)\n",
    "print(grocery_df.dtypes)"
   ]
  },
  {
   "cell_type": "markdown",
   "id": "3efe0617",
   "metadata": {},
   "source": [
    "It is a large file and I'm now going to remove all rows outside of atlanta"
   ]
  },
  {
   "cell_type": "code",
   "execution_count": 33,
   "id": "66c7f242",
   "metadata": {},
   "outputs": [
    {
     "data": {
      "application/javascript": [
       "\n",
       "            setTimeout(function() {\n",
       "                var nbb_cell_id = 33;\n",
       "                var nbb_unformatted_code = \"# Converting the \\\"census_zcta_geoid\\\" column to integers\\ngrocery_df['census_zcta_geoid'] = grocery_df['census_zcta_geoid'].astype(int)\";\n",
       "                var nbb_formatted_code = \"# Converting the \\\"census_zcta_geoid\\\" column to integers\\ngrocery_df[\\\"census_zcta_geoid\\\"] = grocery_df[\\\"census_zcta_geoid\\\"].astype(int)\";\n",
       "                var nbb_cells = Jupyter.notebook.get_cells();\n",
       "                for (var i = 0; i < nbb_cells.length; ++i) {\n",
       "                    if (nbb_cells[i].input_prompt_number == nbb_cell_id) {\n",
       "                        if (nbb_cells[i].get_text() == nbb_unformatted_code) {\n",
       "                             nbb_cells[i].set_text(nbb_formatted_code);\n",
       "                        }\n",
       "                        break;\n",
       "                    }\n",
       "                }\n",
       "            }, 500);\n",
       "            "
      ],
      "text/plain": [
       "<IPython.core.display.Javascript object>"
      ]
     },
     "metadata": {},
     "output_type": "display_data"
    }
   ],
   "source": [
    "# Converting the \"census_zcta_geoid\" column to integers\n",
    "grocery_df[\"census_zcta_geoid\"] = grocery_df[\"census_zcta_geoid\"].astype(int)"
   ]
  },
  {
   "cell_type": "code",
   "execution_count": 32,
   "id": "4e0ebe0b",
   "metadata": {},
   "outputs": [
    {
     "data": {
      "application/javascript": [
       "\n",
       "            setTimeout(function() {\n",
       "                var nbb_cell_id = 32;\n",
       "                var nbb_unformatted_code = \"# Using the zip codes in this file to filter the grocery_df\\nzip_list = atlanta_cbsa_zip_df['census_zcta5_geoid'].tolist()\";\n",
       "                var nbb_formatted_code = \"# Using the zip codes in this file to filter the grocery_df\\nzip_list = atlanta_cbsa_zip_df[\\\"census_zcta5_geoid\\\"].tolist()\";\n",
       "                var nbb_cells = Jupyter.notebook.get_cells();\n",
       "                for (var i = 0; i < nbb_cells.length; ++i) {\n",
       "                    if (nbb_cells[i].input_prompt_number == nbb_cell_id) {\n",
       "                        if (nbb_cells[i].get_text() == nbb_unformatted_code) {\n",
       "                             nbb_cells[i].set_text(nbb_formatted_code);\n",
       "                        }\n",
       "                        break;\n",
       "                    }\n",
       "                }\n",
       "            }, 500);\n",
       "            "
      ],
      "text/plain": [
       "<IPython.core.display.Javascript object>"
      ]
     },
     "metadata": {},
     "output_type": "display_data"
    }
   ],
   "source": [
    "# Using the zip codes in this file to filter the grocery_df\n",
    "zip_list = atlanta_cbsa_zip_df[\"census_zcta5_geoid\"].tolist()"
   ]
  },
  {
   "cell_type": "code",
   "execution_count": 35,
   "id": "1d97292c",
   "metadata": {},
   "outputs": [
    {
     "data": {
      "application/javascript": [
       "\n",
       "            setTimeout(function() {\n",
       "                var nbb_cell_id = 35;\n",
       "                var nbb_unformatted_code = \"# Creating a boolean mask \\nmask = grocery_df[\\\"census_zcta_geoid\\\"].isin(zip_list)\\n\\n# Filter the dataframe based on the boolean mask\\ngrocery_atlanta_df = grocery_df[mask]\";\n",
       "                var nbb_formatted_code = \"# Creating a boolean mask\\nmask = grocery_df[\\\"census_zcta_geoid\\\"].isin(zip_list)\\n\\n# Filter the dataframe based on the boolean mask\\ngrocery_atlanta_df = grocery_df[mask]\";\n",
       "                var nbb_cells = Jupyter.notebook.get_cells();\n",
       "                for (var i = 0; i < nbb_cells.length; ++i) {\n",
       "                    if (nbb_cells[i].input_prompt_number == nbb_cell_id) {\n",
       "                        if (nbb_cells[i].get_text() == nbb_unformatted_code) {\n",
       "                             nbb_cells[i].set_text(nbb_formatted_code);\n",
       "                        }\n",
       "                        break;\n",
       "                    }\n",
       "                }\n",
       "            }, 500);\n",
       "            "
      ],
      "text/plain": [
       "<IPython.core.display.Javascript object>"
      ]
     },
     "metadata": {},
     "output_type": "display_data"
    }
   ],
   "source": [
    "# Creating a boolean mask\n",
    "mask = grocery_df[\"census_zcta_geoid\"].isin(zip_list)\n",
    "\n",
    "# Filtering the dataframe based on the boolean mask\n",
    "grocery_atlanta_df = grocery_df[mask]"
   ]
  },
  {
   "cell_type": "code",
   "execution_count": 46,
   "id": "4c4c1218",
   "metadata": {},
   "outputs": [
    {
     "data": {
      "application/javascript": [
       "\n",
       "            setTimeout(function() {\n",
       "                var nbb_cell_id = 46;\n",
       "                var nbb_unformatted_code = \"# Dropping columns that arent useful\\ngrocery_atlanta_df = grocery_atlanta_df.drop(['icon', 'icon_background_color', 'params.location', 'params.key', 'params.radius', 'params.type', 'icon_mask_base_uri', 'reference', 'scope', 'index', 'responce.status'], axis=1).reset_index(drop=True)\";\n",
       "                var nbb_formatted_code = \"# Dropping columns that arent useful\\ngrocery_atlanta_df = grocery_atlanta_df.drop(\\n    [\\n        \\\"icon\\\",\\n        \\\"icon_background_color\\\",\\n        \\\"params.location\\\",\\n        \\\"params.key\\\",\\n        \\\"params.radius\\\",\\n        \\\"params.type\\\",\\n        \\\"icon_mask_base_uri\\\",\\n        \\\"reference\\\",\\n        \\\"scope\\\",\\n        \\\"index\\\",\\n        \\\"responce.status\\\",\\n    ],\\n    axis=1,\\n).reset_index(drop=True)\";\n",
       "                var nbb_cells = Jupyter.notebook.get_cells();\n",
       "                for (var i = 0; i < nbb_cells.length; ++i) {\n",
       "                    if (nbb_cells[i].input_prompt_number == nbb_cell_id) {\n",
       "                        if (nbb_cells[i].get_text() == nbb_unformatted_code) {\n",
       "                             nbb_cells[i].set_text(nbb_formatted_code);\n",
       "                        }\n",
       "                        break;\n",
       "                    }\n",
       "                }\n",
       "            }, 500);\n",
       "            "
      ],
      "text/plain": [
       "<IPython.core.display.Javascript object>"
      ]
     },
     "metadata": {},
     "output_type": "display_data"
    }
   ],
   "source": [
    "# Dropping columns that arent useful\n",
    "grocery_atlanta_df = grocery_atlanta_df.drop(['icon', 'icon_background_color', 'params.location', 'params.key', 'params.radius', 'params.type', 'icon_mask_base_uri', 'reference', 'scope', 'index', 'responce.status'], axis=1).reset_index(drop=True)"
   ]
  },
  {
   "cell_type": "markdown",
   "id": "9ccdc049",
   "metadata": {},
   "source": [
    "I'm now doing the same process with all_zips_restaurant"
   ]
  },
  {
   "cell_type": "code",
   "execution_count": 50,
   "id": "5204da86",
   "metadata": {},
   "outputs": [
    {
     "data": {
      "application/javascript": [
       "\n",
       "            setTimeout(function() {\n",
       "                var nbb_cell_id = 50;\n",
       "                var nbb_unformatted_code = \"# Loading the json file from local disk\\nwith open(\\\"all_zips_restaurant.json\\\", \\\"r\\\") as file:\\n    data = json.load(file)\\n\\n# Flattening the data\\nflattened_data = json_normalize(data, record_path=[\\\"responce\\\", \\\"results\\\"], meta=[[\\\"index\\\"], [\\\"census_zcta_geoid\\\"], [\\\"params\\\", \\\"key\\\"], [\\\"params\\\", \\\"location\\\"], [\\\"params\\\", \\\"radius\\\"], [\\\"params\\\", \\\"type\\\"], [\\\"responce\\\", \\\"status\\\"]], errors=\\\"ignore\\\")\\n\\n# Converting to a dataframe\\nrestaurant_df = pd.DataFrame(flattened_data)\";\n",
       "                var nbb_formatted_code = \"# Loading the json file from local disk\\nwith open(\\\"all_zips_restaurant.json\\\", \\\"r\\\") as file:\\n    data = json.load(file)\\n\\n# Flattening the data\\nflattened_data = json_normalize(\\n    data,\\n    record_path=[\\\"responce\\\", \\\"results\\\"],\\n    meta=[\\n        [\\\"index\\\"],\\n        [\\\"census_zcta_geoid\\\"],\\n        [\\\"params\\\", \\\"key\\\"],\\n        [\\\"params\\\", \\\"location\\\"],\\n        [\\\"params\\\", \\\"radius\\\"],\\n        [\\\"params\\\", \\\"type\\\"],\\n        [\\\"responce\\\", \\\"status\\\"],\\n    ],\\n    errors=\\\"ignore\\\",\\n)\\n\\n# Converting to a dataframe\\nrestaurant_df = pd.DataFrame(flattened_data)\";\n",
       "                var nbb_cells = Jupyter.notebook.get_cells();\n",
       "                for (var i = 0; i < nbb_cells.length; ++i) {\n",
       "                    if (nbb_cells[i].input_prompt_number == nbb_cell_id) {\n",
       "                        if (nbb_cells[i].get_text() == nbb_unformatted_code) {\n",
       "                             nbb_cells[i].set_text(nbb_formatted_code);\n",
       "                        }\n",
       "                        break;\n",
       "                    }\n",
       "                }\n",
       "            }, 500);\n",
       "            "
      ],
      "text/plain": [
       "<IPython.core.display.Javascript object>"
      ]
     },
     "metadata": {},
     "output_type": "display_data"
    }
   ],
   "source": [
    "# Loading the json file from local disk\n",
    "with open(\"all_zips_restaurant.json\", \"r\") as file:\n",
    "    data = json.load(file)\n",
    "\n",
    "# Flattening the data\n",
    "flattened_data = json_normalize(data, record_path=[\"responce\", \"results\"], meta=[[\"index\"], [\"census_zcta_geoid\"], [\"params\", \"key\"], [\"params\", \"location\"], [\"params\", \"radius\"], [\"params\", \"type\"], [\"responce\", \"status\"]], errors=\"ignore\")\n",
    "\n",
    "# Converting to a dataframe\n",
    "restaurant_df = pd.DataFrame(flattened_data)\n"
   ]
  },
  {
   "cell_type": "code",
   "execution_count": 51,
   "id": "009e98bf",
   "metadata": {},
   "outputs": [
    {
     "name": "stdout",
     "output_type": "stream",
     "text": [
      "(198343, 31)\n",
      "business_status                     object\n",
      "icon                                object\n",
      "icon_background_color               object\n",
      "icon_mask_base_uri                  object\n",
      "name                                object\n",
      "photos                              object\n",
      "place_id                            object\n",
      "price_level                        float64\n",
      "rating                             float64\n",
      "reference                           object\n",
      "scope                               object\n",
      "types                               object\n",
      "user_ratings_total                 float64\n",
      "vicinity                            object\n",
      "geometry.location.lat              float64\n",
      "geometry.location.lng              float64\n",
      "geometry.viewport.northeast.lat    float64\n",
      "geometry.viewport.northeast.lng    float64\n",
      "geometry.viewport.southwest.lat    float64\n",
      "geometry.viewport.southwest.lng    float64\n",
      "opening_hours.open_now              object\n",
      "plus_code.compound_code             object\n",
      "plus_code.global_code               object\n",
      "permanently_closed                  object\n",
      "index                               object\n",
      "census_zcta_geoid                   object\n",
      "params.key                          object\n",
      "params.location                     object\n",
      "params.radius                       object\n",
      "params.type                         object\n",
      "responce.status                     object\n",
      "dtype: object\n"
     ]
    },
    {
     "data": {
      "application/javascript": [
       "\n",
       "            setTimeout(function() {\n",
       "                var nbb_cell_id = 51;\n",
       "                var nbb_unformatted_code = \"print(restaurant_df.shape)\\nprint(restaurant_df.dtypes)\";\n",
       "                var nbb_formatted_code = \"print(restaurant_df.shape)\\nprint(restaurant_df.dtypes)\";\n",
       "                var nbb_cells = Jupyter.notebook.get_cells();\n",
       "                for (var i = 0; i < nbb_cells.length; ++i) {\n",
       "                    if (nbb_cells[i].input_prompt_number == nbb_cell_id) {\n",
       "                        if (nbb_cells[i].get_text() == nbb_unformatted_code) {\n",
       "                             nbb_cells[i].set_text(nbb_formatted_code);\n",
       "                        }\n",
       "                        break;\n",
       "                    }\n",
       "                }\n",
       "            }, 500);\n",
       "            "
      ],
      "text/plain": [
       "<IPython.core.display.Javascript object>"
      ]
     },
     "metadata": {},
     "output_type": "display_data"
    }
   ],
   "source": [
    "print(restaurant_df.shape)\n",
    "print(restaurant_df.dtypes)"
   ]
  },
  {
   "cell_type": "code",
   "execution_count": 52,
   "id": "d67aed66",
   "metadata": {},
   "outputs": [
    {
     "data": {
      "application/javascript": [
       "\n",
       "            setTimeout(function() {\n",
       "                var nbb_cell_id = 52;\n",
       "                var nbb_unformatted_code = \"# Converting the \\\"census_zcta_geoid\\\" column to integers\\nrestaurant_df['census_zcta_geoid'] = restaurant_df['census_zcta_geoid'].astype(int)\";\n",
       "                var nbb_formatted_code = \"# Converting the \\\"census_zcta_geoid\\\" column to integers\\nrestaurant_df[\\\"census_zcta_geoid\\\"] = restaurant_df[\\\"census_zcta_geoid\\\"].astype(int)\";\n",
       "                var nbb_cells = Jupyter.notebook.get_cells();\n",
       "                for (var i = 0; i < nbb_cells.length; ++i) {\n",
       "                    if (nbb_cells[i].input_prompt_number == nbb_cell_id) {\n",
       "                        if (nbb_cells[i].get_text() == nbb_unformatted_code) {\n",
       "                             nbb_cells[i].set_text(nbb_formatted_code);\n",
       "                        }\n",
       "                        break;\n",
       "                    }\n",
       "                }\n",
       "            }, 500);\n",
       "            "
      ],
      "text/plain": [
       "<IPython.core.display.Javascript object>"
      ]
     },
     "metadata": {},
     "output_type": "display_data"
    }
   ],
   "source": [
    "# Converting the \"census_zcta_geoid\" column to integers\n",
    "restaurant_df[\"census_zcta_geoid\"] = restaurant_df[\"census_zcta_geoid\"].astype(int)"
   ]
  },
  {
   "cell_type": "code",
   "execution_count": 55,
   "id": "a008b42f",
   "metadata": {},
   "outputs": [
    {
     "data": {
      "application/javascript": [
       "\n",
       "            setTimeout(function() {\n",
       "                var nbb_cell_id = 55;\n",
       "                var nbb_unformatted_code = \"# Creating a boolean mask with the zip code list created earlier\\nmask = restaurant_df[\\\"census_zcta_geoid\\\"].isin(zip_list)\\n\\n# Filter the dataframe based on the boolean mask\\nrestaurant_atlanta_df = restaurant_df[mask]\";\n",
       "                var nbb_formatted_code = \"# Creating a boolean mask with the zip code list created earlier\\nmask = restaurant_df[\\\"census_zcta_geoid\\\"].isin(zip_list)\\n\\n# Filter the dataframe based on the boolean mask\\nrestaurant_atlanta_df = restaurant_df[mask]\";\n",
       "                var nbb_cells = Jupyter.notebook.get_cells();\n",
       "                for (var i = 0; i < nbb_cells.length; ++i) {\n",
       "                    if (nbb_cells[i].input_prompt_number == nbb_cell_id) {\n",
       "                        if (nbb_cells[i].get_text() == nbb_unformatted_code) {\n",
       "                             nbb_cells[i].set_text(nbb_formatted_code);\n",
       "                        }\n",
       "                        break;\n",
       "                    }\n",
       "                }\n",
       "            }, 500);\n",
       "            "
      ],
      "text/plain": [
       "<IPython.core.display.Javascript object>"
      ]
     },
     "metadata": {},
     "output_type": "display_data"
    }
   ],
   "source": [
    "# Creating a boolean mask with the zip code list created earlier\n",
    "mask = restaurant_df[\"census_zcta_geoid\"].isin(zip_list)\n",
    "\n",
    "# Filter the dataframe based on the boolean mask\n",
    "restaurant_atlanta_df = restaurant_df[mask]"
   ]
  },
  {
   "cell_type": "code",
   "execution_count": 57,
   "id": "993cf996",
   "metadata": {},
   "outputs": [
    {
     "data": {
      "application/javascript": [
       "\n",
       "            setTimeout(function() {\n",
       "                var nbb_cell_id = 57;\n",
       "                var nbb_unformatted_code = \"# Dropping columns that arent useful\\nrestaurant_atlanta_df = restaurant_atlanta_df.drop(['icon', 'icon_background_color', 'params.location', 'params.key', 'params.radius', 'params.type', 'icon_mask_base_uri', 'reference', 'scope', 'index', 'responce.status'], axis=1).reset_index(drop=True)\";\n",
       "                var nbb_formatted_code = \"# Dropping columns that arent useful\\nrestaurant_atlanta_df = restaurant_atlanta_df.drop(\\n    [\\n        \\\"icon\\\",\\n        \\\"icon_background_color\\\",\\n        \\\"params.location\\\",\\n        \\\"params.key\\\",\\n        \\\"params.radius\\\",\\n        \\\"params.type\\\",\\n        \\\"icon_mask_base_uri\\\",\\n        \\\"reference\\\",\\n        \\\"scope\\\",\\n        \\\"index\\\",\\n        \\\"responce.status\\\",\\n    ],\\n    axis=1,\\n).reset_index(drop=True)\";\n",
       "                var nbb_cells = Jupyter.notebook.get_cells();\n",
       "                for (var i = 0; i < nbb_cells.length; ++i) {\n",
       "                    if (nbb_cells[i].input_prompt_number == nbb_cell_id) {\n",
       "                        if (nbb_cells[i].get_text() == nbb_unformatted_code) {\n",
       "                             nbb_cells[i].set_text(nbb_formatted_code);\n",
       "                        }\n",
       "                        break;\n",
       "                    }\n",
       "                }\n",
       "            }, 500);\n",
       "            "
      ],
      "text/plain": [
       "<IPython.core.display.Javascript object>"
      ]
     },
     "metadata": {},
     "output_type": "display_data"
    }
   ],
   "source": [
    "# Dropping columns that arent useful and resetting index\n",
    "restaurant_atlanta_df = restaurant_atlanta_df.drop(['icon', 'icon_background_color', 'params.location', 'params.key', 'params.radius', 'params.type', 'icon_mask_base_uri', 'reference', 'scope', 'index', 'responce.status'], axis=1).reset_index(drop=True)"
   ]
  },
  {
   "cell_type": "markdown",
   "id": "e0b3b7f1",
   "metadata": {},
   "source": [
    "Combining the two files, dropping duplicates and saving in AWS and locally"
   ]
  },
  {
   "cell_type": "code",
   "execution_count": 64,
   "id": "26d3c6b7",
   "metadata": {},
   "outputs": [
    {
     "data": {
      "application/javascript": [
       "\n",
       "            setTimeout(function() {\n",
       "                var nbb_cell_id = 64;\n",
       "                var nbb_unformatted_code = \"\\n# Combining the two dataframes by concating vertically \\npoi_df = pd.concat([restaurant_atlanta_df, grocery_atlanta_df], ignore_index=True)\";\n",
       "                var nbb_formatted_code = \"# Combining the two dataframes by concating vertically\\npoi_df = pd.concat([restaurant_atlanta_df, grocery_atlanta_df], ignore_index=True)\";\n",
       "                var nbb_cells = Jupyter.notebook.get_cells();\n",
       "                for (var i = 0; i < nbb_cells.length; ++i) {\n",
       "                    if (nbb_cells[i].input_prompt_number == nbb_cell_id) {\n",
       "                        if (nbb_cells[i].get_text() == nbb_unformatted_code) {\n",
       "                             nbb_cells[i].set_text(nbb_formatted_code);\n",
       "                        }\n",
       "                        break;\n",
       "                    }\n",
       "                }\n",
       "            }, 500);\n",
       "            "
      ],
      "text/plain": [
       "<IPython.core.display.Javascript object>"
      ]
     },
     "metadata": {},
     "output_type": "display_data"
    }
   ],
   "source": [
    "# Combining the two dataframes by concating vertically \n",
    "poi_df = pd.concat([restaurant_atlanta_df, grocery_atlanta_df], ignore_index=True)"
   ]
  },
  {
   "cell_type": "code",
   "execution_count": 70,
   "id": "c28fd93f",
   "metadata": {},
   "outputs": [
    {
     "data": {
      "text/plain": [
       "1075"
      ]
     },
     "execution_count": 70,
     "metadata": {},
     "output_type": "execute_result"
    },
    {
     "data": {
      "application/javascript": [
       "\n",
       "            setTimeout(function() {\n",
       "                var nbb_cell_id = 70;\n",
       "                var nbb_unformatted_code = \"poi_df.duplicated(subset=['place_id']).sum()\";\n",
       "                var nbb_formatted_code = \"poi_df.duplicated(subset=[\\\"place_id\\\"]).sum()\";\n",
       "                var nbb_cells = Jupyter.notebook.get_cells();\n",
       "                for (var i = 0; i < nbb_cells.length; ++i) {\n",
       "                    if (nbb_cells[i].input_prompt_number == nbb_cell_id) {\n",
       "                        if (nbb_cells[i].get_text() == nbb_unformatted_code) {\n",
       "                             nbb_cells[i].set_text(nbb_formatted_code);\n",
       "                        }\n",
       "                        break;\n",
       "                    }\n",
       "                }\n",
       "            }, 500);\n",
       "            "
      ],
      "text/plain": [
       "<IPython.core.display.Javascript object>"
      ]
     },
     "metadata": {},
     "output_type": "display_data"
    }
   ],
   "source": [
    "# Checking or duplicates\n",
    "poi_df.duplicated(subset=['place_id']).sum()"
   ]
  },
  {
   "cell_type": "code",
   "execution_count": 71,
   "id": "51b2f0a4",
   "metadata": {},
   "outputs": [
    {
     "data": {
      "application/javascript": [
       "\n",
       "            setTimeout(function() {\n",
       "                var nbb_cell_id = 71;\n",
       "                var nbb_unformatted_code = \"poi_df.drop_duplicates(subset='place_id', inplace=True)\";\n",
       "                var nbb_formatted_code = \"poi_df.drop_duplicates(subset=\\\"place_id\\\", inplace=True)\";\n",
       "                var nbb_cells = Jupyter.notebook.get_cells();\n",
       "                for (var i = 0; i < nbb_cells.length; ++i) {\n",
       "                    if (nbb_cells[i].input_prompt_number == nbb_cell_id) {\n",
       "                        if (nbb_cells[i].get_text() == nbb_unformatted_code) {\n",
       "                             nbb_cells[i].set_text(nbb_formatted_code);\n",
       "                        }\n",
       "                        break;\n",
       "                    }\n",
       "                }\n",
       "            }, 500);\n",
       "            "
      ],
      "text/plain": [
       "<IPython.core.display.Javascript object>"
      ]
     },
     "metadata": {},
     "output_type": "display_data"
    }
   ],
   "source": [
    "#Dropping duplicates\n",
    "poi_df.drop_duplicates(subset='place_id', inplace=True)"
   ]
  },
  {
   "cell_type": "code",
   "execution_count": 75,
   "id": "dac0938c",
   "metadata": {},
   "outputs": [
    {
     "data": {
      "text/plain": [
       "(5213, 20)"
      ]
     },
     "execution_count": 75,
     "metadata": {},
     "output_type": "execute_result"
    },
    {
     "data": {
      "application/javascript": [
       "\n",
       "            setTimeout(function() {\n",
       "                var nbb_cell_id = 75;\n",
       "                var nbb_unformatted_code = \"poi_df.shape\";\n",
       "                var nbb_formatted_code = \"poi_df.shape\";\n",
       "                var nbb_cells = Jupyter.notebook.get_cells();\n",
       "                for (var i = 0; i < nbb_cells.length; ++i) {\n",
       "                    if (nbb_cells[i].input_prompt_number == nbb_cell_id) {\n",
       "                        if (nbb_cells[i].get_text() == nbb_unformatted_code) {\n",
       "                             nbb_cells[i].set_text(nbb_formatted_code);\n",
       "                        }\n",
       "                        break;\n",
       "                    }\n",
       "                }\n",
       "            }, 500);\n",
       "            "
      ],
      "text/plain": [
       "<IPython.core.display.Javascript object>"
      ]
     },
     "metadata": {},
     "output_type": "display_data"
    }
   ],
   "source": [
    "poi_df.shape"
   ]
  },
  {
   "cell_type": "code",
   "execution_count": 78,
   "id": "275c7a0d",
   "metadata": {},
   "outputs": [
    {
     "data": {
      "application/javascript": [
       "\n",
       "            setTimeout(function() {\n",
       "                var nbb_cell_id = 78;\n",
       "                var nbb_unformatted_code = \"# Saving locally\\npoi_df.to_csv('poi_df.csv', index=False)\";\n",
       "                var nbb_formatted_code = \"# Saving locally\\npoi_df.to_csv(\\\"poi_df.csv\\\", index=False)\";\n",
       "                var nbb_cells = Jupyter.notebook.get_cells();\n",
       "                for (var i = 0; i < nbb_cells.length; ++i) {\n",
       "                    if (nbb_cells[i].input_prompt_number == nbb_cell_id) {\n",
       "                        if (nbb_cells[i].get_text() == nbb_unformatted_code) {\n",
       "                             nbb_cells[i].set_text(nbb_formatted_code);\n",
       "                        }\n",
       "                        break;\n",
       "                    }\n",
       "                }\n",
       "            }, 500);\n",
       "            "
      ],
      "text/plain": [
       "<IPython.core.display.Javascript object>"
      ]
     },
     "metadata": {},
     "output_type": "display_data"
    }
   ],
   "source": [
    "# Saving locally\n",
    "poi_df.to_csv(\"poi_df.csv\", index=False)"
   ]
  },
  {
   "cell_type": "code",
   "execution_count": 79,
   "id": "255fa39f",
   "metadata": {},
   "outputs": [
    {
     "data": {
      "application/javascript": [
       "\n",
       "            setTimeout(function() {\n",
       "                var nbb_cell_id = 79;\n",
       "                var nbb_unformatted_code = \"# Saving to AWS\\n\\n# Defining the name of the CSV file on S3 and locally\\ns3_file_name = \\\"poi_df.csv\\\"\\nlocal_file_name = \\\"poi_df.csv\\\"\\n\\n# Uploading the file to S3\\ns3.upload_file(local_file_name, \\\"capstonehaystacks\\\", s3_file_name)\";\n",
       "                var nbb_formatted_code = \"# Saving to AWS\\n\\n# Defining the name of the CSV file on S3 and locally\\ns3_file_name = \\\"poi_df.csv\\\"\\nlocal_file_name = \\\"poi_df.csv\\\"\\n\\n# Uploading the file to S3\\ns3.upload_file(local_file_name, \\\"capstonehaystacks\\\", s3_file_name)\";\n",
       "                var nbb_cells = Jupyter.notebook.get_cells();\n",
       "                for (var i = 0; i < nbb_cells.length; ++i) {\n",
       "                    if (nbb_cells[i].input_prompt_number == nbb_cell_id) {\n",
       "                        if (nbb_cells[i].get_text() == nbb_unformatted_code) {\n",
       "                             nbb_cells[i].set_text(nbb_formatted_code);\n",
       "                        }\n",
       "                        break;\n",
       "                    }\n",
       "                }\n",
       "            }, 500);\n",
       "            "
      ],
      "text/plain": [
       "<IPython.core.display.Javascript object>"
      ]
     },
     "metadata": {},
     "output_type": "display_data"
    }
   ],
   "source": [
    "# Saving to AWS\n",
    "file_name = \"poi_df.csv\"\n",
    "\n",
    "# Upload the file to S3\n",
    "s3.upload_file(file_name, bucket_name, file_name)\n"
   ]
  },
  {
   "cell_type": "markdown",
   "id": "b1509807",
   "metadata": {},
   "source": [
    "### Processing GA_LISTINGS_SALES_V2_df and removing data that represents property outside of Atlanta"
   ]
  },
  {
   "cell_type": "code",
   "execution_count": 28,
   "id": "fa2e4846",
   "metadata": {
    "scrolled": false
   },
   "outputs": [
    {
     "data": {
      "text/plain": [
       "latitude                    float64\n",
       "longitude                   float64\n",
       "full_street_address          object\n",
       "city                         object\n",
       "county_name                  object\n",
       "beds                        float64\n",
       "baths_full                  float64\n",
       "baths_half                  float64\n",
       "square_footage              float64\n",
       "lot_size                    float64\n",
       "year_built                  float64\n",
       "details                      object\n",
       "special_features              int64\n",
       "unit_count                  float64\n",
       "price                         int64\n",
       "transaction_type              int64\n",
       "listing_status                int64\n",
       "listing_special_features      int64\n",
       "census_state_name            object\n",
       "census_county_name           object\n",
       "zip                          object\n",
       "dtype: object"
      ]
     },
     "execution_count": 28,
     "metadata": {},
     "output_type": "execute_result"
    }
   ],
   "source": [
    "# Zip column is currently a string value\n",
    "GA_LISTINGS_SALES_V2_df.dtypes"
   ]
  },
  {
   "cell_type": "code",
   "execution_count": 84,
   "id": "69d37c12",
   "metadata": {
    "scrolled": true
   },
   "outputs": [
    {
     "data": {
      "application/javascript": [
       "\n",
       "            setTimeout(function() {\n",
       "                var nbb_cell_id = 84;\n",
       "                var nbb_unformatted_code = \"# Converting the zip column to a numeric type and dropping any non-numeric or missing values\\nGA_LISTINGS_SALES_V2_df['zip'] = pd.to_numeric(GA_LISTINGS_SALES_V2_df['zip'], errors='coerce')\\nGA_LISTINGS_SALES_V2_df = GA_LISTINGS_SALES_V2_df.dropna(subset=['zip'])\\n\\n# Converting the zip column to an integer\\nGA_LISTINGS_SALES_V2_df.loc['zip'] = GA_LISTINGS_SALES_V2_df['zip'].astype(int)\\n\\n# grocery_df[\\\"census_zcta_geoid\\\"] = grocery_df[\\\"census_zcta_geoid\\\"].astype(int)\\n\\n# # Getting a list of all the census_zcta5_geoid values which are the zip codes in Atlanta\\n# census_zcta5_geoids = atlanta_cbsa_zip_df['census_zcta5_geoid'].tolist()\\n\\n# Filtering GA_LISTINGS_SALES_V2_df to keep only the rows with Atlanta zip codes\\nGA_LISTINGS_SALES_V2_df = GA_LISTINGS_SALES_V2_df[GA_LISTINGS_SALES_V2_df['zip'].isin(zip_list)]\";\n",
       "                var nbb_formatted_code = \"# Converting the zip column to a numeric type and dropping any non-numeric or missing values\\nGA_LISTINGS_SALES_V2_df[\\\"zip\\\"] = pd.to_numeric(\\n    GA_LISTINGS_SALES_V2_df[\\\"zip\\\"], errors=\\\"coerce\\\"\\n)\\nGA_LISTINGS_SALES_V2_df = GA_LISTINGS_SALES_V2_df.dropna(subset=[\\\"zip\\\"])\\n\\n# Converting the zip column to an integer\\nGA_LISTINGS_SALES_V2_df.loc[\\\"zip\\\"] = GA_LISTINGS_SALES_V2_df[\\\"zip\\\"].astype(int)\\n\\n# grocery_df[\\\"census_zcta_geoid\\\"] = grocery_df[\\\"census_zcta_geoid\\\"].astype(int)\\n\\n# # Getting a list of all the census_zcta5_geoid values which are the zip codes in Atlanta\\n# census_zcta5_geoids = atlanta_cbsa_zip_df['census_zcta5_geoid'].tolist()\\n\\n# Filtering GA_LISTINGS_SALES_V2_df to keep only the rows with Atlanta zip codes\\nGA_LISTINGS_SALES_V2_df = GA_LISTINGS_SALES_V2_df[\\n    GA_LISTINGS_SALES_V2_df[\\\"zip\\\"].isin(zip_list)\\n]\";\n",
       "                var nbb_cells = Jupyter.notebook.get_cells();\n",
       "                for (var i = 0; i < nbb_cells.length; ++i) {\n",
       "                    if (nbb_cells[i].input_prompt_number == nbb_cell_id) {\n",
       "                        if (nbb_cells[i].get_text() == nbb_unformatted_code) {\n",
       "                             nbb_cells[i].set_text(nbb_formatted_code);\n",
       "                        }\n",
       "                        break;\n",
       "                    }\n",
       "                }\n",
       "            }, 500);\n",
       "            "
      ],
      "text/plain": [
       "<IPython.core.display.Javascript object>"
      ]
     },
     "metadata": {},
     "output_type": "display_data"
    }
   ],
   "source": [
    "# Converting the zip column to a numeric type and dropping any non-numeric or missing values\n",
    "GA_LISTINGS_SALES_V2_df['zip'] = pd.to_numeric(GA_LISTINGS_SALES_V2_df['zip'], errors='coerce')\n",
    "GA_LISTINGS_SALES_V2_df = GA_LISTINGS_SALES_V2_df.dropna(subset=['zip'])\n",
    "\n",
    "# Converting the zip column to an integer\n",
    "GA_LISTINGS_SALES_V2_df.loc['zip'] = GA_LISTINGS_SALES_V2_df['zip'].astype(int)\n",
    "\n",
    "# Filtering GA_LISTINGS_SALES_V2_df to keep only the rows with Atlanta zip codes\n",
    "GA_LISTINGS_SALES_V2_df = GA_LISTINGS_SALES_V2_df[GA_LISTINGS_SALES_V2_df['zip'].isin(zip_list)]\n"
   ]
  },
  {
   "cell_type": "code",
   "execution_count": null,
   "id": "2da49a16",
   "metadata": {},
   "outputs": [],
   "source": []
  },
  {
   "cell_type": "code",
   "execution_count": 86,
   "id": "c8046e43",
   "metadata": {},
   "outputs": [
    {
     "data": {
      "text/plain": [
       "latitude                        0\n",
       "longitude                       0\n",
       "full_street_address             0\n",
       "city                            0\n",
       "county_name                     0\n",
       "beds                         7764\n",
       "baths_full                   7793\n",
       "baths_half                  12875\n",
       "square_footage               8690\n",
       "lot_size                      520\n",
       "year_built                   6278\n",
       "details                         0\n",
       "special_features                0\n",
       "unit_count                  16971\n",
       "price                           0\n",
       "transaction_type                0\n",
       "listing_status                  0\n",
       "listing_special_features        0\n",
       "census_state_name               0\n",
       "census_county_name              0\n",
       "zip                             0\n",
       "dtype: int64"
      ]
     },
     "execution_count": 86,
     "metadata": {},
     "output_type": "execute_result"
    },
    {
     "data": {
      "application/javascript": [
       "\n",
       "            setTimeout(function() {\n",
       "                var nbb_cell_id = 86;\n",
       "                var nbb_unformatted_code = \"GA_LISTINGS_SALES_V2_df.isna().sum()\";\n",
       "                var nbb_formatted_code = \"GA_LISTINGS_SALES_V2_df.isna().sum()\";\n",
       "                var nbb_cells = Jupyter.notebook.get_cells();\n",
       "                for (var i = 0; i < nbb_cells.length; ++i) {\n",
       "                    if (nbb_cells[i].input_prompt_number == nbb_cell_id) {\n",
       "                        if (nbb_cells[i].get_text() == nbb_unformatted_code) {\n",
       "                             nbb_cells[i].set_text(nbb_formatted_code);\n",
       "                        }\n",
       "                        break;\n",
       "                    }\n",
       "                }\n",
       "            }, 500);\n",
       "            "
      ],
      "text/plain": [
       "<IPython.core.display.Javascript object>"
      ]
     },
     "metadata": {},
     "output_type": "display_data"
    }
   ],
   "source": [
    "GA_LISTINGS_SALES_V2_df.isna().sum()\n"
   ]
  },
  {
   "cell_type": "code",
   "execution_count": 87,
   "id": "c09c3caf",
   "metadata": {},
   "outputs": [
    {
     "data": {
      "text/plain": [
       "5890"
      ]
     },
     "execution_count": 87,
     "metadata": {},
     "output_type": "execute_result"
    },
    {
     "data": {
      "application/javascript": [
       "\n",
       "            setTimeout(function() {\n",
       "                var nbb_cell_id = 87;\n",
       "                var nbb_unformatted_code = \"# How many rows are vacant land?\\nGA_LISTINGS_SALES_V2_df['details'].str.contains('Lots/Land').sum()\";\n",
       "                var nbb_formatted_code = \"# How many rows are vacant land?\\nGA_LISTINGS_SALES_V2_df[\\\"details\\\"].str.contains(\\\"Lots/Land\\\").sum()\";\n",
       "                var nbb_cells = Jupyter.notebook.get_cells();\n",
       "                for (var i = 0; i < nbb_cells.length; ++i) {\n",
       "                    if (nbb_cells[i].input_prompt_number == nbb_cell_id) {\n",
       "                        if (nbb_cells[i].get_text() == nbb_unformatted_code) {\n",
       "                             nbb_cells[i].set_text(nbb_formatted_code);\n",
       "                        }\n",
       "                        break;\n",
       "                    }\n",
       "                }\n",
       "            }, 500);\n",
       "            "
      ],
      "text/plain": [
       "<IPython.core.display.Javascript object>"
      ]
     },
     "metadata": {},
     "output_type": "display_data"
    }
   ],
   "source": [
    "# How many rows are vacant land?\n",
    "GA_LISTINGS_SALES_V2_df[\"details\"].str.contains(\"Lots/Land\").sum()"
   ]
  },
  {
   "cell_type": "code",
   "execution_count": 89,
   "id": "a9d8ee6b",
   "metadata": {},
   "outputs": [
    {
     "data": {
      "application/javascript": [
       "\n",
       "            setTimeout(function() {\n",
       "                var nbb_cell_id = 89;\n",
       "                var nbb_unformatted_code = \"# Dropping these since these sales wont help us\\nGA_LISTINGS_SALES_V2_df = GA_LISTINGS_SALES_V2_df[~GA_LISTINGS_SALES_V2_df['details'].str.contains('Lots/Land')]\";\n",
       "                var nbb_formatted_code = \"# Dropping these since these sales wont help us\\nGA_LISTINGS_SALES_V2_df = GA_LISTINGS_SALES_V2_df[\\n    ~GA_LISTINGS_SALES_V2_df[\\\"details\\\"].str.contains(\\\"Lots/Land\\\")\\n]\";\n",
       "                var nbb_cells = Jupyter.notebook.get_cells();\n",
       "                for (var i = 0; i < nbb_cells.length; ++i) {\n",
       "                    if (nbb_cells[i].input_prompt_number == nbb_cell_id) {\n",
       "                        if (nbb_cells[i].get_text() == nbb_unformatted_code) {\n",
       "                             nbb_cells[i].set_text(nbb_formatted_code);\n",
       "                        }\n",
       "                        break;\n",
       "                    }\n",
       "                }\n",
       "            }, 500);\n",
       "            "
      ],
      "text/plain": [
       "<IPython.core.display.Javascript object>"
      ]
     },
     "metadata": {},
     "output_type": "display_data"
    }
   ],
   "source": [
    "# Dropping these since these sales wont help us\n",
    "GA_LISTINGS_SALES_V2_df = GA_LISTINGS_SALES_V2_df[~GA_LISTINGS_SALES_V2_df['details'].str.contains('Lots/Land')]\n"
   ]
  },
  {
   "cell_type": "code",
   "execution_count": 109,
   "id": "2dc58dc0",
   "metadata": {},
   "outputs": [
    {
     "name": "stdout",
     "output_type": "stream",
     "text": [
      "The number of original zip codes: 241\n",
      "The number of zip codes with more than 30 observations: 148\n",
      "30052.0    245\n",
      "30318.0    159\n",
      "30135.0    143\n",
      "30305.0    123\n",
      "30132.0    123\n",
      "30642.0    123\n",
      "30310.0    119\n",
      "30157.0    117\n",
      "30032.0    116\n",
      "30223.0    116\n",
      "30253.0    114\n",
      "30506.0    114\n",
      "30161.0    113\n",
      "30281.0    113\n",
      "30114.0    112\n",
      "30349.0    111\n",
      "30143.0    110\n",
      "30316.0    109\n",
      "30014.0    109\n",
      "30004.0    108\n",
      "30263.0    107\n",
      "31024.0    102\n",
      "30315.0    101\n",
      "30309.0    100\n",
      "30041.0     98\n",
      "30040.0     98\n",
      "30214.0     97\n",
      "30180.0     95\n",
      "30252.0     95\n",
      "30127.0     95\n",
      "30228.0     94\n",
      "30016.0     93\n",
      "30101.0     93\n",
      "30224.0     92\n",
      "30024.0     92\n",
      "30518.0     91\n",
      "30655.0     91\n",
      "30043.0     89\n",
      "30115.0     89\n",
      "30540.0     89\n",
      "30680.0     89\n",
      "30331.0     87\n",
      "30236.0     87\n",
      "30120.0     86\n",
      "30344.0     84\n",
      "30117.0     83\n",
      "30188.0     82\n",
      "30058.0     80\n",
      "30078.0     80\n",
      "30240.0     77\n",
      "30519.0     77\n",
      "30314.0     76\n",
      "30319.0     76\n",
      "30534.0     76\n",
      "30134.0     76\n",
      "30327.0     75\n",
      "30038.0     73\n",
      "30533.0     73\n",
      "30012.0     73\n",
      "30047.0     73\n",
      "30019.0     72\n",
      "30060.0     72\n",
      "30044.0     72\n",
      "30045.0     71\n",
      "30308.0     70\n",
      "30066.0     69\n",
      "30039.0     69\n",
      "30064.0     67\n",
      "30650.0     67\n",
      "30311.0     67\n",
      "30075.0     66\n",
      "30213.0     65\n",
      "30248.0     65\n",
      "30102.0     65\n",
      "30144.0     64\n",
      "30083.0     63\n",
      "30233.0     63\n",
      "30080.0     60\n",
      "30126.0     60\n",
      "30324.0     59\n",
      "30046.0     58\n",
      "30141.0     56\n",
      "30013.0     55\n",
      "30269.0     55\n",
      "30022.0     55\n",
      "30328.0     54\n",
      "30294.0     54\n",
      "30517.0     54\n",
      "30116.0     53\n",
      "30009.0     52\n",
      "30656.0     52\n",
      "30548.0     51\n",
      "30094.0     50\n",
      "30342.0     49\n",
      "31029.0     49\n",
      "30265.0     49\n",
      "30067.0     48\n",
      "30030.0     48\n",
      "30087.0     47\n",
      "30034.0     47\n",
      "31064.0     47\n",
      "30326.0     46\n",
      "30121.0     46\n",
      "30152.0     45\n",
      "30097.0     45\n",
      "30068.0     45\n",
      "30306.0     45\n",
      "30341.0     44\n",
      "30241.0     44\n",
      "30179.0     44\n",
      "30062.0     43\n",
      "30082.0     43\n",
      "30096.0     42\n",
      "30215.0     42\n",
      "30350.0     41\n",
      "30238.0     41\n",
      "30276.0     41\n",
      "30291.0     41\n",
      "30189.0     40\n",
      "30296.0     40\n",
      "30153.0     39\n",
      "30307.0     38\n",
      "30055.0     38\n",
      "30107.0     38\n",
      "30110.0     38\n",
      "30017.0     38\n",
      "30084.0     37\n",
      "30008.0     37\n",
      "30339.0     36\n",
      "30025.0     36\n",
      "30620.0     36\n",
      "30274.0     36\n",
      "30273.0     35\n",
      "30312.0     35\n",
      "30076.0     35\n",
      "30103.0     35\n",
      "30354.0     35\n",
      "30033.0     34\n",
      "30666.0     33\n",
      "30122.0     33\n",
      "30268.0     33\n",
      "30011.0     32\n",
      "30028.0     32\n",
      "30297.0     32\n",
      "30176.0     31\n",
      "30338.0     31\n",
      "30106.0     31\n",
      "30168.0     31\n",
      "Name: zip, dtype: int64\n"
     ]
    },
    {
     "data": {
      "application/javascript": [
       "\n",
       "            setTimeout(function() {\n",
       "                var nbb_cell_id = 109;\n",
       "                var nbb_unformatted_code = \"value_counts = GA_LISTINGS_SALES_V2_df[\\\"zip\\\"].value_counts()\\nunique_values = value_counts[value_counts > 30].index\\nnum_unique_values = len(unique_values)\\ncounts_greater_than_30 = value_counts[value_counts > 30]\\n\\nprint(f\\\"The number of original zip codes: {len(zip_list)}\\\")\\nprint(f\\\"The number of zip codes with more than 30 observations: {num_unique_values}\\\")\\nprint(counts_greater_than_30)\\n# print(len(zip_list))\\n# print(num_unique_values)\\n# print(counts_greater_than_30)\";\n",
       "                var nbb_formatted_code = \"value_counts = GA_LISTINGS_SALES_V2_df[\\\"zip\\\"].value_counts()\\nunique_values = value_counts[value_counts > 30].index\\nnum_unique_values = len(unique_values)\\ncounts_greater_than_30 = value_counts[value_counts > 30]\\n\\nprint(f\\\"The number of original zip codes: {len(zip_list)}\\\")\\nprint(f\\\"The number of zip codes with more than 30 observations: {num_unique_values}\\\")\\nprint(counts_greater_than_30)\\n# print(len(zip_list))\\n# print(num_unique_values)\\n# print(counts_greater_than_30)\";\n",
       "                var nbb_cells = Jupyter.notebook.get_cells();\n",
       "                for (var i = 0; i < nbb_cells.length; ++i) {\n",
       "                    if (nbb_cells[i].input_prompt_number == nbb_cell_id) {\n",
       "                        if (nbb_cells[i].get_text() == nbb_unformatted_code) {\n",
       "                             nbb_cells[i].set_text(nbb_formatted_code);\n",
       "                        }\n",
       "                        break;\n",
       "                    }\n",
       "                }\n",
       "            }, 500);\n",
       "            "
      ],
      "text/plain": [
       "<IPython.core.display.Javascript object>"
      ]
     },
     "metadata": {},
     "output_type": "display_data"
    }
   ],
   "source": [
    "# About a hundred zip codes have less than 30 listings. We might remove these at a later point\n",
    "\n",
    "\n",
    "value_counts = GA_LISTINGS_SALES_V2_df[\"zip\"].value_counts()\n",
    "unique_values = value_counts[value_counts > 30].index\n",
    "num_unique_values = len(unique_values)\n",
    "counts_greater_than_30 = value_counts[value_counts > 30]\n",
    "\n",
    "print(f\"The number of original zip codes: {len(zip_list)}\")\n",
    "print(f\"The number of zip codes with more than 30 observations: {num_unique_values}\")\n",
    "print(counts_greater_than_30)"
   ]
  },
  {
   "cell_type": "code",
   "execution_count": 110,
   "id": "3a7d8f5e",
   "metadata": {},
   "outputs": [
    {
     "data": {
      "application/javascript": [
       "\n",
       "            setTimeout(function() {\n",
       "                var nbb_cell_id = 110;\n",
       "                var nbb_unformatted_code = \"#Saving locally\\nGA_LISTINGS_SALES_V2_df.to_csv('atlanta_listings.csv', index=False)\";\n",
       "                var nbb_formatted_code = \"# Saving locally\\nGA_LISTINGS_SALES_V2_df.to_csv(\\\"atlanta_listings.csv\\\", index=False)\";\n",
       "                var nbb_cells = Jupyter.notebook.get_cells();\n",
       "                for (var i = 0; i < nbb_cells.length; ++i) {\n",
       "                    if (nbb_cells[i].input_prompt_number == nbb_cell_id) {\n",
       "                        if (nbb_cells[i].get_text() == nbb_unformatted_code) {\n",
       "                             nbb_cells[i].set_text(nbb_formatted_code);\n",
       "                        }\n",
       "                        break;\n",
       "                    }\n",
       "                }\n",
       "            }, 500);\n",
       "            "
      ],
      "text/plain": [
       "<IPython.core.display.Javascript object>"
      ]
     },
     "metadata": {},
     "output_type": "display_data"
    }
   ],
   "source": [
    "# Saving locally\n",
    "GA_LISTINGS_SALES_V2_df.to_csv(\"atlanta_listings.csv\", index=False)"
   ]
  },
  {
   "cell_type": "code",
   "execution_count": 111,
   "id": "b626318d",
   "metadata": {},
   "outputs": [
    {
     "data": {
      "application/javascript": [
       "\n",
       "            setTimeout(function() {\n",
       "                var nbb_cell_id = 111;\n",
       "                var nbb_unformatted_code = \"# Saving to AWS\\nfile_name = 'atlanta_listings.csv'\\n\\n# Upload the file to S3\\ns3.upload_file(file_name, bucket_name, file_name)\";\n",
       "                var nbb_formatted_code = \"# Saving to AWS\\nfile_name = \\\"atlanta_listings.csv\\\"\\n\\n# Upload the file to S3\\ns3.upload_file(file_name, bucket_name, file_name)\";\n",
       "                var nbb_cells = Jupyter.notebook.get_cells();\n",
       "                for (var i = 0; i < nbb_cells.length; ++i) {\n",
       "                    if (nbb_cells[i].input_prompt_number == nbb_cell_id) {\n",
       "                        if (nbb_cells[i].get_text() == nbb_unformatted_code) {\n",
       "                             nbb_cells[i].set_text(nbb_formatted_code);\n",
       "                        }\n",
       "                        break;\n",
       "                    }\n",
       "                }\n",
       "            }, 500);\n",
       "            "
      ],
      "text/plain": [
       "<IPython.core.display.Javascript object>"
      ]
     },
     "metadata": {},
     "output_type": "display_data"
    }
   ],
   "source": [
    "# Saving to AWS\n",
    "file_name = \"atlanta_listings.csv\"\n",
    "\n",
    "# Upload the file to S3\n",
    "s3.upload_file(file_name, bucket_name, file_name)"
   ]
  },
  {
   "cell_type": "code",
   "execution_count": null,
   "id": "9ffbf216",
   "metadata": {},
   "outputs": [],
   "source": []
  }
 ],
 "metadata": {
  "kernelspec": {
   "display_name": "Python 3 (ipykernel)",
   "language": "python",
   "name": "python3"
  },
  "language_info": {
   "codemirror_mode": {
    "name": "ipython",
    "version": 3
   },
   "file_extension": ".py",
   "mimetype": "text/x-python",
   "name": "python",
   "nbconvert_exporter": "python",
   "pygments_lexer": "ipython3",
   "version": "3.9.12"
  }
 },
 "nbformat": 4,
 "nbformat_minor": 5
}
