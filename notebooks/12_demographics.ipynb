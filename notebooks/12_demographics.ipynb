{
 "cells": [
  {
   "cell_type": "code",
   "execution_count": 1,
   "id": "e59d31ae",
   "metadata": {},
   "outputs": [],
   "source": [
    "import pandas as pd\n",
    "import numpy as np\n",
    "\n",
    "import boto3\n",
    "import io\n",
    "\n",
    "import matplotlib.pyplot as plt\n",
    "\n",
    "from sklearn.neighbors import KNeighborsClassifier, NearestNeighbors\n",
    "from sklearn.metrics.pairwise import cosine_similarity\n",
    "from sklearn.preprocessing import StandardScaler\n",
    "\n",
    "\n",
    "# Set the maximum number of rows and Columns to 200\n",
    "pd.set_option(\"display.max_rows\", 200)\n",
    "pd.set_option(\"display.max_columns\", None)"
   ]
  },
  {
   "cell_type": "code",
   "execution_count": 2,
   "id": "ffdf213c",
   "metadata": {},
   "outputs": [],
   "source": [
    "# Create function to load s3 files from AWS\n",
    "def load_s3_file(file_name, s3, bucket_name, df_name):\n",
    "    # Downloading the file from S3 and parsing it into a dataframe\n",
    "    s3.download_file(bucket_name, file_name, file_name)\n",
    "    \n",
    "    # Low memory is set to False because columns have mixed data types\n",
    "    df_name = pd.read_csv(file_name, index_col=False, low_memory=False)\n",
    "    return df_name "
   ]
  },
  {
   "cell_type": "code",
   "execution_count": 4,
   "id": "dbfa6e2e",
   "metadata": {
    "scrolled": true
   },
   "outputs": [
    {
     "name": "stdout",
     "output_type": "stream",
     "text": [
      "ACSDP5Y2021.DP04-Data.csv\n",
      "ACSST5Y2021.S0101-Data.csv\n",
      "ACSST5Y2021.S0801-Data.csv\n",
      "ACSST5Y2021.S1901-Data.csv\n",
      "GA_LISTINGS_SALES.csv\n",
      "GA_LISTINGS_SALES_V2.csv\n",
      "GA_listing.csv\n",
      "POI_second_tab.csv\n",
      "all_zips_grocery_store.json\n",
      "all_zips_restaurant.json\n",
      "atlanta-geo.csv\n",
      "atlanta_cbsa_zip.csv\n",
      "atlanta_hdma_2021.csv\n",
      "atlanta_hdma_census_2021.csv\n",
      "atlanta_hdma_tract_2021.csv\n",
      "atlanta_listings.csv\n",
      "census_all.csv\n",
      "census_all_perCapita.csv\n",
      "census_data\n",
      "core_geo_dataset.csv\n",
      "crime.csv\n",
      "crime_rating_zipcode.csv\n",
      "elementary_schools.csv\n",
      "ga_georgia_zip_codes_geo.min.json\n",
      "high_schools.csv\n",
      "hmda_2017_ga_all-records_labels.csv\n",
      "hmda_2021_ga_all-records_labels.csv\n",
      "jason_listing.csv\n",
      "listing-with-poi-distances.csv\n",
      "listings_with_tract.csv\n",
      "middle_schools.csv\n",
      "poi-google-exploded.csv\n",
      "poi_combined_haystack.csv\n",
      "poi_combined_haystack_ALL.csv\n",
      "poi_combined_haystack_ALL_CLEANED.csv\n",
      "poi_expanded.csv\n",
      "points-of-interest-google.csv\n",
      "points-of-interest-google2.csv\n",
      "points-of-interest-google3.csv\n",
      "points-of-interest-haystacks.csv\n",
      "schools.csv\n",
      "zip_summary.csv\n",
      "zipcode_expanded\n",
      "zipcodes_111meter.min.json\n"
     ]
    }
   ],
   "source": [
    "# Load files from AWS\n",
    "s3R = boto3.resource(\"s3\")\n",
    "s3 = boto3.client(\"s3\")\n",
    "bucket_name = \"capstonehaystacks\"\n",
    "\n",
    "# Listing the contents of the S3 bucket\n",
    "for obj in s3R.Bucket(bucket_name).objects.all():\n",
    "    print(obj.key)"
   ]
  },
  {
   "cell_type": "code",
   "execution_count": 5,
   "id": "aa689ed6",
   "metadata": {},
   "outputs": [],
   "source": [
    "# Load S3 files to variables\n",
    "census = load_s3_file(\"census_all.csv\", s3, bucket_name, df_name=\"census\")\n",
    "census_capita = load_s3_file(\"census_all_perCapita.csv\", s3, bucket_name, df_name=\"census_capita\")\n",
    "hdma = load_s3_file(\"atlanta_hdma_2021.csv\", s3, bucket_name, df_name=\"hdma\")"
   ]
  },
  {
   "cell_type": "code",
   "execution_count": 6,
   "id": "429072f3",
   "metadata": {},
   "outputs": [
    {
     "data": {
      "text/html": [
       "<div>\n",
       "<style scoped>\n",
       "    .dataframe tbody tr th:only-of-type {\n",
       "        vertical-align: middle;\n",
       "    }\n",
       "\n",
       "    .dataframe tbody tr th {\n",
       "        vertical-align: top;\n",
       "    }\n",
       "\n",
       "    .dataframe thead th {\n",
       "        text-align: right;\n",
       "    }\n",
       "</style>\n",
       "<table border=\"1\" class=\"dataframe\">\n",
       "  <thead>\n",
       "    <tr style=\"text-align: right;\">\n",
       "      <th></th>\n",
       "      <th>zipcode</th>\n",
       "      <th>total_workers</th>\n",
       "      <th>car_commute</th>\n",
       "      <th>travel_less_10</th>\n",
       "      <th>travel_10_14</th>\n",
       "      <th>travel_15_19</th>\n",
       "      <th>travel_20_24</th>\n",
       "      <th>travel_25_29</th>\n",
       "      <th>travel_30_34</th>\n",
       "      <th>travel_35_44</th>\n",
       "      <th>travel_45_59</th>\n",
       "      <th>travel_more_60</th>\n",
       "      <th>travel_mean</th>\n",
       "      <th>population</th>\n",
       "      <th>percent_male</th>\n",
       "      <th>percent_under_15</th>\n",
       "      <th>percent_teen_15_19</th>\n",
       "      <th>percent_college_20_24</th>\n",
       "      <th>percent_25_39</th>\n",
       "      <th>percent_40-59</th>\n",
       "      <th>percent_over_60</th>\n",
       "      <th>total_units</th>\n",
       "      <th>rental_vacancy_rate</th>\n",
       "      <th>median_homeowner_value</th>\n",
       "      <th>median_rental_value</th>\n",
       "      <th>percent_owner_occupied</th>\n",
       "      <th>percent_after_2019</th>\n",
       "      <th>rent_less_15_percent_income</th>\n",
       "      <th>rent_over_30_percent</th>\n",
       "      <th>rent_15_30_percent</th>\n",
       "      <th>rent_less_999</th>\n",
       "      <th>rent_1000_2500</th>\n",
       "      <th>rent_over_2500</th>\n",
       "      <th>gross_rental_yield</th>\n",
       "      <th>total_households</th>\n",
       "      <th>percent_less_10k</th>\n",
       "      <th>percent_10k_15k</th>\n",
       "      <th>percent_15k_25k</th>\n",
       "      <th>percent_25k_35k</th>\n",
       "      <th>percent_35k_50k</th>\n",
       "      <th>percent_50k_75k</th>\n",
       "      <th>percent_75k_100k</th>\n",
       "      <th>percent_100k_150k</th>\n",
       "      <th>percent_150k_200k</th>\n",
       "      <th>percent_more_200k</th>\n",
       "      <th>household_median_income</th>\n",
       "      <th>household_mean_income</th>\n",
       "      <th>approval_percentage</th>\n",
       "    </tr>\n",
       "  </thead>\n",
       "  <tbody>\n",
       "    <tr>\n",
       "      <th>0</th>\n",
       "      <td>30002</td>\n",
       "      <td>3221</td>\n",
       "      <td>77.1</td>\n",
       "      <td>5.1</td>\n",
       "      <td>9.6</td>\n",
       "      <td>14.1</td>\n",
       "      <td>15.7</td>\n",
       "      <td>3.6</td>\n",
       "      <td>24.0</td>\n",
       "      <td>10.2</td>\n",
       "      <td>8.8</td>\n",
       "      <td>8.9</td>\n",
       "      <td>29.7</td>\n",
       "      <td>6025</td>\n",
       "      <td>49.0</td>\n",
       "      <td>19.4</td>\n",
       "      <td>1.6</td>\n",
       "      <td>2.1</td>\n",
       "      <td>25.4</td>\n",
       "      <td>27.6</td>\n",
       "      <td>24.1</td>\n",
       "      <td>3149</td>\n",
       "      <td>7.0</td>\n",
       "      <td>432400.0</td>\n",
       "      <td>933.0</td>\n",
       "      <td>56.5</td>\n",
       "      <td>21.0</td>\n",
       "      <td>12.4</td>\n",
       "      <td>64.2</td>\n",
       "      <td>23.5</td>\n",
       "      <td>72.5</td>\n",
       "      <td>26.7</td>\n",
       "      <td>0.8</td>\n",
       "      <td>2.589269</td>\n",
       "      <td>2810</td>\n",
       "      <td>2.1</td>\n",
       "      <td>9.3</td>\n",
       "      <td>6.7</td>\n",
       "      <td>13.5</td>\n",
       "      <td>5.2</td>\n",
       "      <td>10.7</td>\n",
       "      <td>12.8</td>\n",
       "      <td>15.1</td>\n",
       "      <td>11.5</td>\n",
       "      <td>13.2</td>\n",
       "      <td>79091.0</td>\n",
       "      <td>114933.0</td>\n",
       "      <td>87.51</td>\n",
       "    </tr>\n",
       "    <tr>\n",
       "      <th>1</th>\n",
       "      <td>30004</td>\n",
       "      <td>34618</td>\n",
       "      <td>75.4</td>\n",
       "      <td>10.6</td>\n",
       "      <td>11.9</td>\n",
       "      <td>14.7</td>\n",
       "      <td>15.3</td>\n",
       "      <td>3.1</td>\n",
       "      <td>9.8</td>\n",
       "      <td>7.9</td>\n",
       "      <td>12.8</td>\n",
       "      <td>13.7</td>\n",
       "      <td>29.9</td>\n",
       "      <td>66315</td>\n",
       "      <td>49.0</td>\n",
       "      <td>22.3</td>\n",
       "      <td>7.3</td>\n",
       "      <td>2.7</td>\n",
       "      <td>18.2</td>\n",
       "      <td>35.3</td>\n",
       "      <td>14.1</td>\n",
       "      <td>24391</td>\n",
       "      <td>4.5</td>\n",
       "      <td>444200.0</td>\n",
       "      <td>1478.0</td>\n",
       "      <td>76.4</td>\n",
       "      <td>10.3</td>\n",
       "      <td>9.7</td>\n",
       "      <td>36.7</td>\n",
       "      <td>53.5</td>\n",
       "      <td>7.9</td>\n",
       "      <td>85.0</td>\n",
       "      <td>7.0</td>\n",
       "      <td>3.992796</td>\n",
       "      <td>23933</td>\n",
       "      <td>3.0</td>\n",
       "      <td>1.6</td>\n",
       "      <td>2.8</td>\n",
       "      <td>2.6</td>\n",
       "      <td>6.6</td>\n",
       "      <td>8.2</td>\n",
       "      <td>14.1</td>\n",
       "      <td>17.9</td>\n",
       "      <td>13.6</td>\n",
       "      <td>29.6</td>\n",
       "      <td>129724.0</td>\n",
       "      <td>176246.0</td>\n",
       "      <td>90.60</td>\n",
       "    </tr>\n",
       "    <tr>\n",
       "      <th>2</th>\n",
       "      <td>30005</td>\n",
       "      <td>21241</td>\n",
       "      <td>71.2</td>\n",
       "      <td>8.8</td>\n",
       "      <td>15.0</td>\n",
       "      <td>13.6</td>\n",
       "      <td>16.9</td>\n",
       "      <td>4.2</td>\n",
       "      <td>11.1</td>\n",
       "      <td>6.6</td>\n",
       "      <td>10.5</td>\n",
       "      <td>13.3</td>\n",
       "      <td>28.7</td>\n",
       "      <td>40309</td>\n",
       "      <td>51.0</td>\n",
       "      <td>22.1</td>\n",
       "      <td>8.2</td>\n",
       "      <td>4.0</td>\n",
       "      <td>16.9</td>\n",
       "      <td>34.1</td>\n",
       "      <td>14.7</td>\n",
       "      <td>14248</td>\n",
       "      <td>8.8</td>\n",
       "      <td>464100.0</td>\n",
       "      <td>1712.0</td>\n",
       "      <td>71.9</td>\n",
       "      <td>11.8</td>\n",
       "      <td>17.4</td>\n",
       "      <td>36.3</td>\n",
       "      <td>46.2</td>\n",
       "      <td>1.1</td>\n",
       "      <td>91.3</td>\n",
       "      <td>7.6</td>\n",
       "      <td>4.426632</td>\n",
       "      <td>13498</td>\n",
       "      <td>1.7</td>\n",
       "      <td>1.2</td>\n",
       "      <td>2.4</td>\n",
       "      <td>1.8</td>\n",
       "      <td>4.2</td>\n",
       "      <td>7.7</td>\n",
       "      <td>9.4</td>\n",
       "      <td>21.2</td>\n",
       "      <td>13.9</td>\n",
       "      <td>36.6</td>\n",
       "      <td>152326.0</td>\n",
       "      <td>181245.0</td>\n",
       "      <td>91.29</td>\n",
       "    </tr>\n",
       "    <tr>\n",
       "      <th>3</th>\n",
       "      <td>30008</td>\n",
       "      <td>15093</td>\n",
       "      <td>83.3</td>\n",
       "      <td>5.6</td>\n",
       "      <td>6.0</td>\n",
       "      <td>13.6</td>\n",
       "      <td>20.3</td>\n",
       "      <td>4.9</td>\n",
       "      <td>22.8</td>\n",
       "      <td>7.9</td>\n",
       "      <td>9.0</td>\n",
       "      <td>10.0</td>\n",
       "      <td>30.5</td>\n",
       "      <td>35023</td>\n",
       "      <td>49.0</td>\n",
       "      <td>21.3</td>\n",
       "      <td>6.1</td>\n",
       "      <td>8.0</td>\n",
       "      <td>23.7</td>\n",
       "      <td>25.8</td>\n",
       "      <td>15.2</td>\n",
       "      <td>12420</td>\n",
       "      <td>2.0</td>\n",
       "      <td>200700.0</td>\n",
       "      <td>1195.0</td>\n",
       "      <td>60.2</td>\n",
       "      <td>8.8</td>\n",
       "      <td>7.5</td>\n",
       "      <td>63.2</td>\n",
       "      <td>29.3</td>\n",
       "      <td>32.7</td>\n",
       "      <td>67.4</td>\n",
       "      <td>0.0</td>\n",
       "      <td>7.144993</td>\n",
       "      <td>11648</td>\n",
       "      <td>6.5</td>\n",
       "      <td>3.3</td>\n",
       "      <td>9.1</td>\n",
       "      <td>9.6</td>\n",
       "      <td>11.2</td>\n",
       "      <td>20.2</td>\n",
       "      <td>12.0</td>\n",
       "      <td>18.3</td>\n",
       "      <td>7.1</td>\n",
       "      <td>2.6</td>\n",
       "      <td>60739.0</td>\n",
       "      <td>74072.0</td>\n",
       "      <td>85.11</td>\n",
       "    </tr>\n",
       "    <tr>\n",
       "      <th>4</th>\n",
       "      <td>30009</td>\n",
       "      <td>10425</td>\n",
       "      <td>65.5</td>\n",
       "      <td>14.7</td>\n",
       "      <td>16.1</td>\n",
       "      <td>16.4</td>\n",
       "      <td>12.7</td>\n",
       "      <td>4.3</td>\n",
       "      <td>8.9</td>\n",
       "      <td>2.9</td>\n",
       "      <td>12.2</td>\n",
       "      <td>11.8</td>\n",
       "      <td>27.0</td>\n",
       "      <td>19922</td>\n",
       "      <td>52.0</td>\n",
       "      <td>20.3</td>\n",
       "      <td>5.0</td>\n",
       "      <td>7.0</td>\n",
       "      <td>16.8</td>\n",
       "      <td>30.8</td>\n",
       "      <td>20.1</td>\n",
       "      <td>8278</td>\n",
       "      <td>7.1</td>\n",
       "      <td>456300.0</td>\n",
       "      <td>1764.0</td>\n",
       "      <td>63.7</td>\n",
       "      <td>19.3</td>\n",
       "      <td>14.0</td>\n",
       "      <td>40.3</td>\n",
       "      <td>45.7</td>\n",
       "      <td>10.4</td>\n",
       "      <td>66.1</td>\n",
       "      <td>23.5</td>\n",
       "      <td>4.639053</td>\n",
       "      <td>7563</td>\n",
       "      <td>1.8</td>\n",
       "      <td>2.3</td>\n",
       "      <td>4.6</td>\n",
       "      <td>4.6</td>\n",
       "      <td>8.0</td>\n",
       "      <td>8.9</td>\n",
       "      <td>9.6</td>\n",
       "      <td>15.2</td>\n",
       "      <td>14.7</td>\n",
       "      <td>30.3</td>\n",
       "      <td>136384.0</td>\n",
       "      <td>178231.0</td>\n",
       "      <td>90.17</td>\n",
       "    </tr>\n",
       "    <tr>\n",
       "      <th>...</th>\n",
       "      <td>...</td>\n",
       "      <td>...</td>\n",
       "      <td>...</td>\n",
       "      <td>...</td>\n",
       "      <td>...</td>\n",
       "      <td>...</td>\n",
       "      <td>...</td>\n",
       "      <td>...</td>\n",
       "      <td>...</td>\n",
       "      <td>...</td>\n",
       "      <td>...</td>\n",
       "      <td>...</td>\n",
       "      <td>...</td>\n",
       "      <td>...</td>\n",
       "      <td>...</td>\n",
       "      <td>...</td>\n",
       "      <td>...</td>\n",
       "      <td>...</td>\n",
       "      <td>...</td>\n",
       "      <td>...</td>\n",
       "      <td>...</td>\n",
       "      <td>...</td>\n",
       "      <td>...</td>\n",
       "      <td>...</td>\n",
       "      <td>...</td>\n",
       "      <td>...</td>\n",
       "      <td>...</td>\n",
       "      <td>...</td>\n",
       "      <td>...</td>\n",
       "      <td>...</td>\n",
       "      <td>...</td>\n",
       "      <td>...</td>\n",
       "      <td>...</td>\n",
       "      <td>...</td>\n",
       "      <td>...</td>\n",
       "      <td>...</td>\n",
       "      <td>...</td>\n",
       "      <td>...</td>\n",
       "      <td>...</td>\n",
       "      <td>...</td>\n",
       "      <td>...</td>\n",
       "      <td>...</td>\n",
       "      <td>...</td>\n",
       "      <td>...</td>\n",
       "      <td>...</td>\n",
       "      <td>...</td>\n",
       "      <td>...</td>\n",
       "      <td>...</td>\n",
       "    </tr>\n",
       "    <tr>\n",
       "      <th>202</th>\n",
       "      <td>31085</td>\n",
       "      <td>445</td>\n",
       "      <td>88.8</td>\n",
       "      <td>9.7</td>\n",
       "      <td>7.0</td>\n",
       "      <td>3.8</td>\n",
       "      <td>10.6</td>\n",
       "      <td>3.2</td>\n",
       "      <td>22.2</td>\n",
       "      <td>5.7</td>\n",
       "      <td>6.6</td>\n",
       "      <td>31.2</td>\n",
       "      <td>43.1</td>\n",
       "      <td>1150</td>\n",
       "      <td>51.0</td>\n",
       "      <td>9.0</td>\n",
       "      <td>6.0</td>\n",
       "      <td>3.7</td>\n",
       "      <td>14.3</td>\n",
       "      <td>29.4</td>\n",
       "      <td>37.5</td>\n",
       "      <td>455</td>\n",
       "      <td>0.0</td>\n",
       "      <td>81800.0</td>\n",
       "      <td>943.0</td>\n",
       "      <td>91.3</td>\n",
       "      <td>1.4</td>\n",
       "      <td>0.0</td>\n",
       "      <td>96.8</td>\n",
       "      <td>3.2</td>\n",
       "      <td>100.0</td>\n",
       "      <td>0.0</td>\n",
       "      <td>0.0</td>\n",
       "      <td>13.833741</td>\n",
       "      <td>414</td>\n",
       "      <td>14.7</td>\n",
       "      <td>2.7</td>\n",
       "      <td>3.1</td>\n",
       "      <td>22.9</td>\n",
       "      <td>12.3</td>\n",
       "      <td>8.0</td>\n",
       "      <td>13.0</td>\n",
       "      <td>15.7</td>\n",
       "      <td>1.9</td>\n",
       "      <td>5.6</td>\n",
       "      <td>37500.0</td>\n",
       "      <td>68342.0</td>\n",
       "      <td>85.89</td>\n",
       "    </tr>\n",
       "    <tr>\n",
       "      <th>203</th>\n",
       "      <td>31097</td>\n",
       "      <td>519</td>\n",
       "      <td>94.6</td>\n",
       "      <td>11.2</td>\n",
       "      <td>6.4</td>\n",
       "      <td>19.5</td>\n",
       "      <td>24.9</td>\n",
       "      <td>2.4</td>\n",
       "      <td>13.7</td>\n",
       "      <td>2.2</td>\n",
       "      <td>12.7</td>\n",
       "      <td>7.0</td>\n",
       "      <td>28.1</td>\n",
       "      <td>1437</td>\n",
       "      <td>50.0</td>\n",
       "      <td>18.3</td>\n",
       "      <td>3.8</td>\n",
       "      <td>9.0</td>\n",
       "      <td>14.8</td>\n",
       "      <td>22.5</td>\n",
       "      <td>31.5</td>\n",
       "      <td>613</td>\n",
       "      <td>0.0</td>\n",
       "      <td>146900.0</td>\n",
       "      <td>663.0</td>\n",
       "      <td>86.4</td>\n",
       "      <td>2.5</td>\n",
       "      <td>61.1</td>\n",
       "      <td>30.5</td>\n",
       "      <td>8.4</td>\n",
       "      <td>88.9</td>\n",
       "      <td>5.6</td>\n",
       "      <td>5.6</td>\n",
       "      <td>5.415929</td>\n",
       "      <td>478</td>\n",
       "      <td>3.1</td>\n",
       "      <td>1.7</td>\n",
       "      <td>7.5</td>\n",
       "      <td>5.0</td>\n",
       "      <td>10.3</td>\n",
       "      <td>36.8</td>\n",
       "      <td>17.4</td>\n",
       "      <td>11.7</td>\n",
       "      <td>3.1</td>\n",
       "      <td>3.3</td>\n",
       "      <td>59275.0</td>\n",
       "      <td>74733.0</td>\n",
       "      <td>82.16</td>\n",
       "    </tr>\n",
       "    <tr>\n",
       "      <th>204</th>\n",
       "      <td>31816</td>\n",
       "      <td>1846</td>\n",
       "      <td>89.8</td>\n",
       "      <td>25.8</td>\n",
       "      <td>14.5</td>\n",
       "      <td>5.2</td>\n",
       "      <td>2.8</td>\n",
       "      <td>2.6</td>\n",
       "      <td>5.9</td>\n",
       "      <td>16.4</td>\n",
       "      <td>18.9</td>\n",
       "      <td>7.7</td>\n",
       "      <td>30.7</td>\n",
       "      <td>4956</td>\n",
       "      <td>44.0</td>\n",
       "      <td>22.2</td>\n",
       "      <td>11.7</td>\n",
       "      <td>3.4</td>\n",
       "      <td>16.7</td>\n",
       "      <td>23.0</td>\n",
       "      <td>23.0</td>\n",
       "      <td>2577</td>\n",
       "      <td>0.0</td>\n",
       "      <td>110700.0</td>\n",
       "      <td>833.0</td>\n",
       "      <td>58.3</td>\n",
       "      <td>7.5</td>\n",
       "      <td>16.3</td>\n",
       "      <td>65.8</td>\n",
       "      <td>18.0</td>\n",
       "      <td>87.8</td>\n",
       "      <td>12.1</td>\n",
       "      <td>0.0</td>\n",
       "      <td>9.029810</td>\n",
       "      <td>2066</td>\n",
       "      <td>15.4</td>\n",
       "      <td>6.1</td>\n",
       "      <td>11.7</td>\n",
       "      <td>10.3</td>\n",
       "      <td>18.9</td>\n",
       "      <td>14.0</td>\n",
       "      <td>11.7</td>\n",
       "      <td>9.1</td>\n",
       "      <td>1.0</td>\n",
       "      <td>1.7</td>\n",
       "      <td>37280.0</td>\n",
       "      <td>54382.0</td>\n",
       "      <td>75.15</td>\n",
       "    </tr>\n",
       "    <tr>\n",
       "      <th>205</th>\n",
       "      <td>31822</td>\n",
       "      <td>2502</td>\n",
       "      <td>91.8</td>\n",
       "      <td>11.6</td>\n",
       "      <td>9.4</td>\n",
       "      <td>10.2</td>\n",
       "      <td>13.7</td>\n",
       "      <td>7.4</td>\n",
       "      <td>24.5</td>\n",
       "      <td>4.5</td>\n",
       "      <td>10.3</td>\n",
       "      <td>8.4</td>\n",
       "      <td>28.4</td>\n",
       "      <td>5899</td>\n",
       "      <td>49.0</td>\n",
       "      <td>16.6</td>\n",
       "      <td>6.1</td>\n",
       "      <td>4.9</td>\n",
       "      <td>17.4</td>\n",
       "      <td>24.0</td>\n",
       "      <td>31.0</td>\n",
       "      <td>2756</td>\n",
       "      <td>1.8</td>\n",
       "      <td>165900.0</td>\n",
       "      <td>794.0</td>\n",
       "      <td>79.2</td>\n",
       "      <td>6.6</td>\n",
       "      <td>18.8</td>\n",
       "      <td>39.6</td>\n",
       "      <td>41.7</td>\n",
       "      <td>88.0</td>\n",
       "      <td>8.7</td>\n",
       "      <td>3.3</td>\n",
       "      <td>5.743219</td>\n",
       "      <td>2316</td>\n",
       "      <td>9.0</td>\n",
       "      <td>4.7</td>\n",
       "      <td>10.0</td>\n",
       "      <td>9.6</td>\n",
       "      <td>16.3</td>\n",
       "      <td>14.6</td>\n",
       "      <td>9.6</td>\n",
       "      <td>18.0</td>\n",
       "      <td>1.2</td>\n",
       "      <td>6.9</td>\n",
       "      <td>52813.0</td>\n",
       "      <td>76390.0</td>\n",
       "      <td>81.78</td>\n",
       "    </tr>\n",
       "    <tr>\n",
       "      <th>206</th>\n",
       "      <td>31830</td>\n",
       "      <td>1020</td>\n",
       "      <td>89.3</td>\n",
       "      <td>16.1</td>\n",
       "      <td>20.0</td>\n",
       "      <td>4.8</td>\n",
       "      <td>7.1</td>\n",
       "      <td>4.2</td>\n",
       "      <td>5.1</td>\n",
       "      <td>13.2</td>\n",
       "      <td>9.9</td>\n",
       "      <td>19.6</td>\n",
       "      <td>30.6</td>\n",
       "      <td>2523</td>\n",
       "      <td>53.0</td>\n",
       "      <td>12.9</td>\n",
       "      <td>5.4</td>\n",
       "      <td>7.0</td>\n",
       "      <td>18.2</td>\n",
       "      <td>32.8</td>\n",
       "      <td>23.9</td>\n",
       "      <td>1124</td>\n",
       "      <td>0.0</td>\n",
       "      <td>117700.0</td>\n",
       "      <td>884.0</td>\n",
       "      <td>69.0</td>\n",
       "      <td>2.6</td>\n",
       "      <td>11.8</td>\n",
       "      <td>54.5</td>\n",
       "      <td>33.7</td>\n",
       "      <td>76.4</td>\n",
       "      <td>23.6</td>\n",
       "      <td>0.0</td>\n",
       "      <td>9.012744</td>\n",
       "      <td>961</td>\n",
       "      <td>22.4</td>\n",
       "      <td>5.8</td>\n",
       "      <td>6.2</td>\n",
       "      <td>6.5</td>\n",
       "      <td>8.4</td>\n",
       "      <td>21.3</td>\n",
       "      <td>6.5</td>\n",
       "      <td>18.1</td>\n",
       "      <td>1.5</td>\n",
       "      <td>3.3</td>\n",
       "      <td>50956.0</td>\n",
       "      <td>63020.0</td>\n",
       "      <td>81.34</td>\n",
       "    </tr>\n",
       "  </tbody>\n",
       "</table>\n",
       "<p>207 rows × 48 columns</p>\n",
       "</div>"
      ],
      "text/plain": [
       "     zipcode  total_workers  car_commute  travel_less_10  travel_10_14  \\\n",
       "0      30002           3221         77.1             5.1           9.6   \n",
       "1      30004          34618         75.4            10.6          11.9   \n",
       "2      30005          21241         71.2             8.8          15.0   \n",
       "3      30008          15093         83.3             5.6           6.0   \n",
       "4      30009          10425         65.5            14.7          16.1   \n",
       "..       ...            ...          ...             ...           ...   \n",
       "202    31085            445         88.8             9.7           7.0   \n",
       "203    31097            519         94.6            11.2           6.4   \n",
       "204    31816           1846         89.8            25.8          14.5   \n",
       "205    31822           2502         91.8            11.6           9.4   \n",
       "206    31830           1020         89.3            16.1          20.0   \n",
       "\n",
       "     travel_15_19  travel_20_24  travel_25_29  travel_30_34  travel_35_44  \\\n",
       "0            14.1          15.7           3.6          24.0          10.2   \n",
       "1            14.7          15.3           3.1           9.8           7.9   \n",
       "2            13.6          16.9           4.2          11.1           6.6   \n",
       "3            13.6          20.3           4.9          22.8           7.9   \n",
       "4            16.4          12.7           4.3           8.9           2.9   \n",
       "..            ...           ...           ...           ...           ...   \n",
       "202           3.8          10.6           3.2          22.2           5.7   \n",
       "203          19.5          24.9           2.4          13.7           2.2   \n",
       "204           5.2           2.8           2.6           5.9          16.4   \n",
       "205          10.2          13.7           7.4          24.5           4.5   \n",
       "206           4.8           7.1           4.2           5.1          13.2   \n",
       "\n",
       "     travel_45_59  travel_more_60  travel_mean  population  percent_male  \\\n",
       "0             8.8             8.9         29.7        6025          49.0   \n",
       "1            12.8            13.7         29.9       66315          49.0   \n",
       "2            10.5            13.3         28.7       40309          51.0   \n",
       "3             9.0            10.0         30.5       35023          49.0   \n",
       "4            12.2            11.8         27.0       19922          52.0   \n",
       "..            ...             ...          ...         ...           ...   \n",
       "202           6.6            31.2         43.1        1150          51.0   \n",
       "203          12.7             7.0         28.1        1437          50.0   \n",
       "204          18.9             7.7         30.7        4956          44.0   \n",
       "205          10.3             8.4         28.4        5899          49.0   \n",
       "206           9.9            19.6         30.6        2523          53.0   \n",
       "\n",
       "     percent_under_15  percent_teen_15_19  percent_college_20_24  \\\n",
       "0                19.4                 1.6                    2.1   \n",
       "1                22.3                 7.3                    2.7   \n",
       "2                22.1                 8.2                    4.0   \n",
       "3                21.3                 6.1                    8.0   \n",
       "4                20.3                 5.0                    7.0   \n",
       "..                ...                 ...                    ...   \n",
       "202               9.0                 6.0                    3.7   \n",
       "203              18.3                 3.8                    9.0   \n",
       "204              22.2                11.7                    3.4   \n",
       "205              16.6                 6.1                    4.9   \n",
       "206              12.9                 5.4                    7.0   \n",
       "\n",
       "     percent_25_39  percent_40-59  percent_over_60  total_units  \\\n",
       "0             25.4           27.6             24.1         3149   \n",
       "1             18.2           35.3             14.1        24391   \n",
       "2             16.9           34.1             14.7        14248   \n",
       "3             23.7           25.8             15.2        12420   \n",
       "4             16.8           30.8             20.1         8278   \n",
       "..             ...            ...              ...          ...   \n",
       "202           14.3           29.4             37.5          455   \n",
       "203           14.8           22.5             31.5          613   \n",
       "204           16.7           23.0             23.0         2577   \n",
       "205           17.4           24.0             31.0         2756   \n",
       "206           18.2           32.8             23.9         1124   \n",
       "\n",
       "     rental_vacancy_rate  median_homeowner_value  median_rental_value  \\\n",
       "0                    7.0                432400.0                933.0   \n",
       "1                    4.5                444200.0               1478.0   \n",
       "2                    8.8                464100.0               1712.0   \n",
       "3                    2.0                200700.0               1195.0   \n",
       "4                    7.1                456300.0               1764.0   \n",
       "..                   ...                     ...                  ...   \n",
       "202                  0.0                 81800.0                943.0   \n",
       "203                  0.0                146900.0                663.0   \n",
       "204                  0.0                110700.0                833.0   \n",
       "205                  1.8                165900.0                794.0   \n",
       "206                  0.0                117700.0                884.0   \n",
       "\n",
       "     percent_owner_occupied  percent_after_2019  rent_less_15_percent_income  \\\n",
       "0                      56.5                21.0                         12.4   \n",
       "1                      76.4                10.3                          9.7   \n",
       "2                      71.9                11.8                         17.4   \n",
       "3                      60.2                 8.8                          7.5   \n",
       "4                      63.7                19.3                         14.0   \n",
       "..                      ...                 ...                          ...   \n",
       "202                    91.3                 1.4                          0.0   \n",
       "203                    86.4                 2.5                         61.1   \n",
       "204                    58.3                 7.5                         16.3   \n",
       "205                    79.2                 6.6                         18.8   \n",
       "206                    69.0                 2.6                         11.8   \n",
       "\n",
       "     rent_over_30_percent  rent_15_30_percent  rent_less_999  rent_1000_2500  \\\n",
       "0                    64.2                23.5           72.5            26.7   \n",
       "1                    36.7                53.5            7.9            85.0   \n",
       "2                    36.3                46.2            1.1            91.3   \n",
       "3                    63.2                29.3           32.7            67.4   \n",
       "4                    40.3                45.7           10.4            66.1   \n",
       "..                    ...                 ...            ...             ...   \n",
       "202                  96.8                 3.2          100.0             0.0   \n",
       "203                  30.5                 8.4           88.9             5.6   \n",
       "204                  65.8                18.0           87.8            12.1   \n",
       "205                  39.6                41.7           88.0             8.7   \n",
       "206                  54.5                33.7           76.4            23.6   \n",
       "\n",
       "     rent_over_2500  gross_rental_yield  total_households  percent_less_10k  \\\n",
       "0               0.8            2.589269              2810               2.1   \n",
       "1               7.0            3.992796             23933               3.0   \n",
       "2               7.6            4.426632             13498               1.7   \n",
       "3               0.0            7.144993             11648               6.5   \n",
       "4              23.5            4.639053              7563               1.8   \n",
       "..              ...                 ...               ...               ...   \n",
       "202             0.0           13.833741               414              14.7   \n",
       "203             5.6            5.415929               478               3.1   \n",
       "204             0.0            9.029810              2066              15.4   \n",
       "205             3.3            5.743219              2316               9.0   \n",
       "206             0.0            9.012744               961              22.4   \n",
       "\n",
       "     percent_10k_15k  percent_15k_25k  percent_25k_35k  percent_35k_50k  \\\n",
       "0                9.3              6.7             13.5              5.2   \n",
       "1                1.6              2.8              2.6              6.6   \n",
       "2                1.2              2.4              1.8              4.2   \n",
       "3                3.3              9.1              9.6             11.2   \n",
       "4                2.3              4.6              4.6              8.0   \n",
       "..               ...              ...              ...              ...   \n",
       "202              2.7              3.1             22.9             12.3   \n",
       "203              1.7              7.5              5.0             10.3   \n",
       "204              6.1             11.7             10.3             18.9   \n",
       "205              4.7             10.0              9.6             16.3   \n",
       "206              5.8              6.2              6.5              8.4   \n",
       "\n",
       "     percent_50k_75k  percent_75k_100k  percent_100k_150k  percent_150k_200k  \\\n",
       "0               10.7              12.8               15.1               11.5   \n",
       "1                8.2              14.1               17.9               13.6   \n",
       "2                7.7               9.4               21.2               13.9   \n",
       "3               20.2              12.0               18.3                7.1   \n",
       "4                8.9               9.6               15.2               14.7   \n",
       "..               ...               ...                ...                ...   \n",
       "202              8.0              13.0               15.7                1.9   \n",
       "203             36.8              17.4               11.7                3.1   \n",
       "204             14.0              11.7                9.1                1.0   \n",
       "205             14.6               9.6               18.0                1.2   \n",
       "206             21.3               6.5               18.1                1.5   \n",
       "\n",
       "     percent_more_200k  household_median_income  household_mean_income  \\\n",
       "0                 13.2                  79091.0               114933.0   \n",
       "1                 29.6                 129724.0               176246.0   \n",
       "2                 36.6                 152326.0               181245.0   \n",
       "3                  2.6                  60739.0                74072.0   \n",
       "4                 30.3                 136384.0               178231.0   \n",
       "..                 ...                      ...                    ...   \n",
       "202                5.6                  37500.0                68342.0   \n",
       "203                3.3                  59275.0                74733.0   \n",
       "204                1.7                  37280.0                54382.0   \n",
       "205                6.9                  52813.0                76390.0   \n",
       "206                3.3                  50956.0                63020.0   \n",
       "\n",
       "     approval_percentage  \n",
       "0                  87.51  \n",
       "1                  90.60  \n",
       "2                  91.29  \n",
       "3                  85.11  \n",
       "4                  90.17  \n",
       "..                   ...  \n",
       "202                85.89  \n",
       "203                82.16  \n",
       "204                75.15  \n",
       "205                81.78  \n",
       "206                81.34  \n",
       "\n",
       "[207 rows x 48 columns]"
      ]
     },
     "execution_count": 6,
     "metadata": {},
     "output_type": "execute_result"
    }
   ],
   "source": [
    "census"
   ]
  },
  {
   "cell_type": "code",
   "execution_count": 81,
   "id": "bdf5c1d0",
   "metadata": {},
   "outputs": [
    {
     "data": {
      "text/plain": [
       "44"
      ]
     },
     "execution_count": 81,
     "metadata": {},
     "output_type": "execute_result"
    }
   ],
   "source": [
    "census.columns.get_loc('percent_more_200k')"
   ]
  },
  {
   "cell_type": "code",
   "execution_count": 82,
   "id": "dbc4c953",
   "metadata": {},
   "outputs": [
    {
     "data": {
      "text/plain": [
       "Index(['percent_less_10k', 'percent_10k_15k', 'percent_15k_25k',\n",
       "       'percent_25k_35k', 'percent_35k_50k', 'percent_50k_75k',\n",
       "       'percent_75k_100k', 'percent_100k_150k', 'percent_150k_200k',\n",
       "       'percent_more_200k'],\n",
       "      dtype='object')"
      ]
     },
     "execution_count": 82,
     "metadata": {},
     "output_type": "execute_result"
    }
   ],
   "source": [
    "census.iloc[:,35:45].columns"
   ]
  },
  {
   "cell_type": "code",
   "execution_count": 32,
   "id": "c37a5335",
   "metadata": {},
   "outputs": [
    {
     "data": {
      "text/plain": [
       "array([[19.4,  1.6,  2.1, 25.4, 27.6, 24.1],\n",
       "       [22.3,  7.3,  2.7, 18.2, 35.3, 14.1],\n",
       "       [22.1,  8.2,  4. , 16.9, 34.1, 14.7],\n",
       "       [21.3,  6.1,  8. , 23.7, 25.8, 15.2],\n",
       "       [20.3,  5. ,  7. , 16.8, 30.8, 20.1],\n",
       "       [22.5,  7.9,  6.3, 21.7, 27.1, 14.5],\n",
       "       [20.5,  8.5,  7.3, 19.5, 25.3, 18.9],\n",
       "       [18.7,  6.3,  5.6, 20. , 29.3, 20. ],\n",
       "       [20.4,  7.2,  6.7, 20.2, 25.3, 20.1],\n",
       "       [21.4,  8.6,  6.6, 20.1, 27.1, 16.2]])"
      ]
     },
     "execution_count": 32,
     "metadata": {},
     "output_type": "execute_result"
    }
   ],
   "source": [
    "census.iloc[:10,15:21].values"
   ]
  },
  {
   "cell_type": "code",
   "execution_count": 27,
   "id": "e8b6d6bf",
   "metadata": {},
   "outputs": [],
   "source": [
    "x = census.iloc[:, 15:21].columns.tolist()\n",
    "height = census.iloc[:, 15:21].values"
   ]
  },
  {
   "cell_type": "code",
   "execution_count": 28,
   "id": "e3ddcff6",
   "metadata": {},
   "outputs": [
    {
     "data": {
      "text/plain": [
       "['percent_under_15',\n",
       " 'percent_teen_15_19',\n",
       " 'percent_college_20_24',\n",
       " 'percent_25_39',\n",
       " 'percent_40-59',\n",
       " 'percent_over_60']"
      ]
     },
     "execution_count": 28,
     "metadata": {},
     "output_type": "execute_result"
    }
   ],
   "source": [
    "x"
   ]
  },
  {
   "cell_type": "code",
   "execution_count": 72,
   "id": "7b733e52",
   "metadata": {},
   "outputs": [
    {
     "data": {
      "image/png": "[encoded data removed]",
      "text/plain": [
       "<Figure size 432x288 with 1 Axes>"
      ]
     },
     "metadata": {
      "needs_background": "light"
     },
     "output_type": "display_data"
    }
   ],
   "source": [
    "import matplotlib.pyplot as plt\n",
    "import matplotlib.ticker as ticker\n",
    "\n",
    "zipcode = 30002\n",
    "age_col_i_start = 15\n",
    "age_col_i_end = 21\n",
    "\n",
    "x = census.iloc[:, age_col_i_start:age_col_i_end].columns\n",
    "height = census[census['zipcode'] == zipcode].iloc[:, age_col_i_start:age_col_i_end].values[0]\n",
    "height = height /100\n",
    "\n",
    "# Plotting the bar chart\n",
    "plt.bar(x, height)\n",
    "\n",
    "# Adding labels and title\n",
    "plt.xlabel('Age Range')\n",
    "plt.ylabel('% of Population')\n",
    "plt.title(f'Age Distribution in {zipcode}')\n",
    "\n",
    "# Rotating x-axis labels\n",
    "plt.xticks(rotation=45)\n",
    "\n",
    "# Formatting y-axis labels as percentages\n",
    "formatter = ticker.PercentFormatter(xmax=1)\n",
    "plt.gca().yaxis.set_major_formatter(formatter)\n",
    "\n",
    "# Display the plot\n",
    "plt.show()\n"
   ]
  },
  {
   "cell_type": "code",
   "execution_count": null,
   "id": "4592135c",
   "metadata": {},
   "outputs": [],
   "source": [
    "census.iloc[:,35:45]"
   ]
  },
  {
   "cell_type": "code",
   "execution_count": 78,
   "id": "d23a6d5a",
   "metadata": {},
   "outputs": [
    {
     "data": {
      "application/vnd.plotly.v1+json": {
       "config": {
        "plotlyServerURL": "https://plot.ly"
       },
       "data": [
        {
         "type": "bar",
         "x": [
          "percent_under_15",
          "percent_teen_15_19",
          "percent_college_20_24",
          "percent_25_39",
          "percent_40-59",
          "percent_over_60"
         ],
         "y": [
          0.19399999999999998,
          0.016,
          0.021,
          0.254,
          0.276,
          0.24100000000000002
         ]
        }
       ],
       "layout": {
        "template": {
         "data": {
          "bar": [
           {
            "error_x": {
             "color": "#2a3f5f"
            },
            "error_y": {
             "color": "#2a3f5f"
            },
            "marker": {
             "line": {
              "color": "#E5ECF6",
              "width": 0.5
             },
             "pattern": {
              "fillmode": "overlay",
              "size": 10,
              "solidity": 0.2
             }
            },
            "type": "bar"
           }
          ],
          "barpolar": [
           {
            "marker": {
             "line": {
              "color": "#E5ECF6",
              "width": 0.5
             },
             "pattern": {
              "fillmode": "overlay",
              "size": 10,
              "solidity": 0.2
             }
            },
            "type": "barpolar"
           }
          ],
          "carpet": [
           {
            "aaxis": {
             "endlinecolor": "#2a3f5f",
             "gridcolor": "white",
             "linecolor": "white",
             "minorgridcolor": "white",
             "startlinecolor": "#2a3f5f"
            },
            "baxis": {
             "endlinecolor": "#2a3f5f",
             "gridcolor": "white",
             "linecolor": "white",
             "minorgridcolor": "white",
             "startlinecolor": "#2a3f5f"
            },
            "type": "carpet"
           }
          ],
          "choropleth": [
           {
            "colorbar": {
             "outlinewidth": 0,
             "ticks": ""
            },
            "type": "choropleth"
           }
          ],
          "contour": [
           {
            "colorbar": {
             "outlinewidth": 0,
             "ticks": ""
            },
            "colorscale": [
             [
              0,
              "#0d0887"
             ],
             [
              0.1111111111111111,
              "#46039f"
             ],
             [
              0.2222222222222222,
              "#7201a8"
             ],
             [
              0.3333333333333333,
              "#9c179e"
             ],
             [
              0.4444444444444444,
              "#bd3786"
             ],
             [
              0.5555555555555556,
              "#d8576b"
             ],
             [
              0.6666666666666666,
              "#ed7953"
             ],
             [
              0.7777777777777778,
              "#fb9f3a"
             ],
             [
              0.8888888888888888,
              "#fdca26"
             ],
             [
              1,
              "#f0f921"
             ]
            ],
            "type": "contour"
           }
          ],
          "contourcarpet": [
           {
            "colorbar": {
             "outlinewidth": 0,
             "ticks": ""
            },
            "type": "contourcarpet"
           }
          ],
          "heatmap": [
           {
            "colorbar": {
             "outlinewidth": 0,
             "ticks": ""
            },
            "colorscale": [
             [
              0,
              "#0d0887"
             ],
             [
              0.1111111111111111,
              "#46039f"
             ],
             [
              0.2222222222222222,
              "#7201a8"
             ],
             [
              0.3333333333333333,
              "#9c179e"
             ],
             [
              0.4444444444444444,
              "#bd3786"
             ],
             [
              0.5555555555555556,
              "#d8576b"
             ],
             [
              0.6666666666666666,
              "#ed7953"
             ],
             [
              0.7777777777777778,
              "#fb9f3a"
             ],
             [
              0.8888888888888888,
              "#fdca26"
             ],
             [
              1,
              "#f0f921"
             ]
            ],
            "type": "heatmap"
           }
          ],
          "heatmapgl": [
           {
            "colorbar": {
             "outlinewidth": 0,
             "ticks": ""
            },
            "colorscale": [
             [
              0,
              "#0d0887"
             ],
             [
              0.1111111111111111,
              "#46039f"
             ],
             [
              0.2222222222222222,
              "#7201a8"
             ],
             [
              0.3333333333333333,
              "#9c179e"
             ],
             [
              0.4444444444444444,
              "#bd3786"
             ],
             [
              0.5555555555555556,
              "#d8576b"
             ],
             [
              0.6666666666666666,
              "#ed7953"
             ],
             [
              0.7777777777777778,
              "#fb9f3a"
             ],
             [
              0.8888888888888888,
              "#fdca26"
             ],
             [
              1,
              "#f0f921"
             ]
            ],
            "type": "heatmapgl"
           }
          ],
          "histogram": [
           {
            "marker": {
             "pattern": {
              "fillmode": "overlay",
              "size": 10,
              "solidity": 0.2
             }
            },
            "type": "histogram"
           }
          ],
          "histogram2d": [
           {
            "colorbar": {
             "outlinewidth": 0,
             "ticks": ""
            },
            "colorscale": [
             [
              0,
              "#0d0887"
             ],
             [
              0.1111111111111111,
              "#46039f"
             ],
             [
              0.2222222222222222,
              "#7201a8"
             ],
             [
              0.3333333333333333,
              "#9c179e"
             ],
             [
              0.4444444444444444,
              "#bd3786"
             ],
             [
              0.5555555555555556,
              "#d8576b"
             ],
             [
              0.6666666666666666,
              "#ed7953"
             ],
             [
              0.7777777777777778,
              "#fb9f3a"
             ],
             [
              0.8888888888888888,
              "#fdca26"
             ],
             [
              1,
              "#f0f921"
             ]
            ],
            "type": "histogram2d"
           }
          ],
          "histogram2dcontour": [
           {
            "colorbar": {
             "outlinewidth": 0,
             "ticks": ""
            },
            "colorscale": [
             [
              0,
              "#0d0887"
             ],
             [
              0.1111111111111111,
              "#46039f"
             ],
             [
              0.2222222222222222,
              "#7201a8"
             ],
             [
              0.3333333333333333,
              "#9c179e"
             ],
             [
              0.4444444444444444,
              "#bd3786"
             ],
             [
              0.5555555555555556,
              "#d8576b"
             ],
             [
              0.6666666666666666,
              "#ed7953"
             ],
             [
              0.7777777777777778,
              "#fb9f3a"
             ],
             [
              0.8888888888888888,
              "#fdca26"
             ],
             [
              1,
              "#f0f921"
             ]
            ],
            "type": "histogram2dcontour"
           }
          ],
          "mesh3d": [
           {
            "colorbar": {
             "outlinewidth": 0,
             "ticks": ""
            },
            "type": "mesh3d"
           }
          ],
          "parcoords": [
           {
            "line": {
             "colorbar": {
              "outlinewidth": 0,
              "ticks": ""
             }
            },
            "type": "parcoords"
           }
          ],
          "pie": [
           {
            "automargin": true,
            "type": "pie"
           }
          ],
          "scatter": [
           {
            "marker": {
             "colorbar": {
              "outlinewidth": 0,
              "ticks": ""
             }
            },
            "type": "scatter"
           }
          ],
          "scatter3d": [
           {
            "line": {
             "colorbar": {
              "outlinewidth": 0,
              "ticks": ""
             }
            },
            "marker": {
             "colorbar": {
              "outlinewidth": 0,
              "ticks": ""
             }
            },
            "type": "scatter3d"
           }
          ],
          "scattercarpet": [
           {
            "marker": {
             "colorbar": {
              "outlinewidth": 0,
              "ticks": ""
             }
            },
            "type": "scattercarpet"
           }
          ],
          "scattergeo": [
           {
            "marker": {
             "colorbar": {
              "outlinewidth": 0,
              "ticks": ""
             }
            },
            "type": "scattergeo"
           }
          ],
          "scattergl": [
           {
            "marker": {
             "colorbar": {
              "outlinewidth": 0,
              "ticks": ""
             }
            },
            "type": "scattergl"
           }
          ],
          "scattermapbox": [
           {
            "marker": {
             "colorbar": {
              "outlinewidth": 0,
              "ticks": ""
             }
            },
            "type": "scattermapbox"
           }
          ],
          "scatterpolar": [
           {
            "marker": {
             "colorbar": {
              "outlinewidth": 0,
              "ticks": ""
             }
            },
            "type": "scatterpolar"
           }
          ],
          "scatterpolargl": [
           {
            "marker": {
             "colorbar": {
              "outlinewidth": 0,
              "ticks": ""
             }
            },
            "type": "scatterpolargl"
           }
          ],
          "scatterternary": [
           {
            "marker": {
             "colorbar": {
              "outlinewidth": 0,
              "ticks": ""
             }
            },
            "type": "scatterternary"
           }
          ],
          "surface": [
           {
            "colorbar": {
             "outlinewidth": 0,
             "ticks": ""
            },
            "colorscale": [
             [
              0,
              "#0d0887"
             ],
             [
              0.1111111111111111,
              "#46039f"
             ],
             [
              0.2222222222222222,
              "#7201a8"
             ],
             [
              0.3333333333333333,
              "#9c179e"
             ],
             [
              0.4444444444444444,
              "#bd3786"
             ],
             [
              0.5555555555555556,
              "#d8576b"
             ],
             [
              0.6666666666666666,
              "#ed7953"
             ],
             [
              0.7777777777777778,
              "#fb9f3a"
             ],
             [
              0.8888888888888888,
              "#fdca26"
             ],
             [
              1,
              "#f0f921"
             ]
            ],
            "type": "surface"
           }
          ],
          "table": [
           {
            "cells": {
             "fill": {
              "color": "#EBF0F8"
             },
             "line": {
              "color": "white"
             }
            },
            "header": {
             "fill": {
              "color": "#C8D4E3"
             },
             "line": {
              "color": "white"
             }
            },
            "type": "table"
           }
          ]
         },
         "layout": {
          "annotationdefaults": {
           "arrowcolor": "#2a3f5f",
           "arrowhead": 0,
           "arrowwidth": 1
          },
          "autotypenumbers": "strict",
          "coloraxis": {
           "colorbar": {
            "outlinewidth": 0,
            "ticks": ""
           }
          },
          "colorscale": {
           "diverging": [
            [
             0,
             "#8e0152"
            ],
            [
             0.1,
             "#c51b7d"
            ],
            [
             0.2,
             "#de77ae"
            ],
            [
             0.3,
             "#f1b6da"
            ],
            [
             0.4,
             "#fde0ef"
            ],
            [
             0.5,
             "#f7f7f7"
            ],
            [
             0.6,
             "#e6f5d0"
            ],
            [
             0.7,
             "#b8e186"
            ],
            [
             0.8,
             "#7fbc41"
            ],
            [
             0.9,
             "#4d9221"
            ],
            [
             1,
             "#276419"
            ]
           ],
           "sequential": [
            [
             0,
             "#0d0887"
            ],
            [
             0.1111111111111111,
             "#46039f"
            ],
            [
             0.2222222222222222,
             "#7201a8"
            ],
            [
             0.3333333333333333,
             "#9c179e"
            ],
            [
             0.4444444444444444,
             "#bd3786"
            ],
            [
             0.5555555555555556,
             "#d8576b"
            ],
            [
             0.6666666666666666,
             "#ed7953"
            ],
            [
             0.7777777777777778,
             "#fb9f3a"
            ],
            [
             0.8888888888888888,
             "#fdca26"
            ],
            [
             1,
             "#f0f921"
            ]
           ],
           "sequentialminus": [
            [
             0,
             "#0d0887"
            ],
            [
             0.1111111111111111,
             "#46039f"
            ],
            [
             0.2222222222222222,
             "#7201a8"
            ],
            [
             0.3333333333333333,
             "#9c179e"
            ],
            [
             0.4444444444444444,
             "#bd3786"
            ],
            [
             0.5555555555555556,
             "#d8576b"
            ],
            [
             0.6666666666666666,
             "#ed7953"
            ],
            [
             0.7777777777777778,
             "#fb9f3a"
            ],
            [
             0.8888888888888888,
             "#fdca26"
            ],
            [
             1,
             "#f0f921"
            ]
           ]
          },
          "colorway": [
           "#636efa",
           "#EF553B",
           "#00cc96",
           "#ab63fa",
           "#FFA15A",
           "#19d3f3",
           "#FF6692",
           "#B6E880",
           "#FF97FF",
           "#FECB52"
          ],
          "font": {
           "color": "#2a3f5f"
          },
          "geo": {
           "bgcolor": "white",
           "lakecolor": "white",
           "landcolor": "#E5ECF6",
           "showlakes": true,
           "showland": true,
           "subunitcolor": "white"
          },
          "hoverlabel": {
           "align": "left"
          },
          "hovermode": "closest",
          "mapbox": {
           "style": "light"
          },
          "paper_bgcolor": "white",
          "plot_bgcolor": "#E5ECF6",
          "polar": {
           "angularaxis": {
            "gridcolor": "white",
            "linecolor": "white",
            "ticks": ""
           },
           "bgcolor": "#E5ECF6",
           "radialaxis": {
            "gridcolor": "white",
            "linecolor": "white",
            "ticks": ""
           }
          },
          "scene": {
           "xaxis": {
            "backgroundcolor": "#E5ECF6",
            "gridcolor": "white",
            "gridwidth": 2,
            "linecolor": "white",
            "showbackground": true,
            "ticks": "",
            "zerolinecolor": "white"
           },
           "yaxis": {
            "backgroundcolor": "#E5ECF6",
            "gridcolor": "white",
            "gridwidth": 2,
            "linecolor": "white",
            "showbackground": true,
            "ticks": "",
            "zerolinecolor": "white"
           },
           "zaxis": {
            "backgroundcolor": "#E5ECF6",
            "gridcolor": "white",
            "gridwidth": 2,
            "linecolor": "white",
            "showbackground": true,
            "ticks": "",
            "zerolinecolor": "white"
           }
          },
          "shapedefaults": {
           "line": {
            "color": "#2a3f5f"
           }
          },
          "ternary": {
           "aaxis": {
            "gridcolor": "white",
            "linecolor": "white",
            "ticks": ""
           },
           "baxis": {
            "gridcolor": "white",
            "linecolor": "white",
            "ticks": ""
           },
           "bgcolor": "#E5ECF6",
           "caxis": {
            "gridcolor": "white",
            "linecolor": "white",
            "ticks": ""
           }
          },
          "title": {
           "x": 0.05
          },
          "xaxis": {
           "automargin": true,
           "gridcolor": "white",
           "linecolor": "white",
           "ticks": "",
           "title": {
            "standoff": 15
           },
           "zerolinecolor": "white",
           "zerolinewidth": 2
          },
          "yaxis": {
           "automargin": true,
           "gridcolor": "white",
           "linecolor": "white",
           "ticks": "",
           "title": {
            "standoff": 15
           },
           "zerolinecolor": "white",
           "zerolinewidth": 2
          }
         }
        },
        "title": {
         "text": "Age Distribution in 30002"
        },
        "xaxis": {
         "title": {
          "text": "Age Range"
         }
        },
        "yaxis": {
         "tickangle": 45,
         "tickformat": ".0%",
         "title": {
          "text": "Percent"
         }
        }
       }
      },
      "text/html": [
       "<div>                            <div id=\"8f6c5e60-9d19-47ab-907d-a9d9396334ae\" class=\"plotly-graph-div\" style=\"height:525px; width:100%;\"></div>            <script type=\"text/javascript\">                require([\"plotly\"], function(Plotly) {                    window.PLOTLYENV=window.PLOTLYENV || {};                                    if (document.getElementById(\"8f6c5e60-9d19-47ab-907d-a9d9396334ae\")) {                    Plotly.newPlot(                        \"8f6c5e60-9d19-47ab-907d-a9d9396334ae\",                        [{\"x\":[\"percent_under_15\",\"percent_teen_15_19\",\"percent_college_20_24\",\"percent_25_39\",\"percent_40-59\",\"percent_over_60\"],\"y\":[0.19399999999999998,0.016,0.021,0.254,0.276,0.24100000000000002],\"type\":\"bar\"}],                        {\"title\":{\"text\":\"Age Distribution in 30002\"},\"xaxis\":{\"title\":{\"text\":\"Age Range\"}},\"yaxis\":{\"tickangle\":45,\"tickformat\":\".0%\",\"title\":{\"text\":\"Percent\"}},\"template\":{\"data\":{\"bar\":[{\"error_x\":{\"color\":\"#2a3f5f\"},\"error_y\":{\"color\":\"#2a3f5f\"},\"marker\":{\"line\":{\"color\":\"#E5ECF6\",\"width\":0.5},\"pattern\":{\"fillmode\":\"overlay\",\"size\":10,\"solidity\":0.2}},\"type\":\"bar\"}],\"barpolar\":[{\"marker\":{\"line\":{\"color\":\"#E5ECF6\",\"width\":0.5},\"pattern\":{\"fillmode\":\"overlay\",\"size\":10,\"solidity\":0.2}},\"type\":\"barpolar\"}],\"carpet\":[{\"aaxis\":{\"endlinecolor\":\"#2a3f5f\",\"gridcolor\":\"white\",\"linecolor\":\"white\",\"minorgridcolor\":\"white\",\"startlinecolor\":\"#2a3f5f\"},\"baxis\":{\"endlinecolor\":\"#2a3f5f\",\"gridcolor\":\"white\",\"linecolor\":\"white\",\"minorgridcolor\":\"white\",\"startlinecolor\":\"#2a3f5f\"},\"type\":\"carpet\"}],\"choropleth\":[{\"colorbar\":{\"outlinewidth\":0,\"ticks\":\"\"},\"type\":\"choropleth\"}],\"contour\":[{\"colorbar\":{\"outlinewidth\":0,\"ticks\":\"\"},\"colorscale\":[[0.0,\"#0d0887\"],[0.1111111111111111,\"#46039f\"],[0.2222222222222222,\"#7201a8\"],[0.3333333333333333,\"#9c179e\"],[0.4444444444444444,\"#bd3786\"],[0.5555555555555556,\"#d8576b\"],[0.6666666666666666,\"#ed7953\"],[0.7777777777777778,\"#fb9f3a\"],[0.8888888888888888,\"#fdca26\"],[1.0,\"#f0f921\"]],\"type\":\"contour\"}],\"contourcarpet\":[{\"colorbar\":{\"outlinewidth\":0,\"ticks\":\"\"},\"type\":\"contourcarpet\"}],\"heatmap\":[{\"colorbar\":{\"outlinewidth\":0,\"ticks\":\"\"},\"colorscale\":[[0.0,\"#0d0887\"],[0.1111111111111111,\"#46039f\"],[0.2222222222222222,\"#7201a8\"],[0.3333333333333333,\"#9c179e\"],[0.4444444444444444,\"#bd3786\"],[0.5555555555555556,\"#d8576b\"],[0.6666666666666666,\"#ed7953\"],[0.7777777777777778,\"#fb9f3a\"],[0.8888888888888888,\"#fdca26\"],[1.0,\"#f0f921\"]],\"type\":\"heatmap\"}],\"heatmapgl\":[{\"colorbar\":{\"outlinewidth\":0,\"ticks\":\"\"},\"colorscale\":[[0.0,\"#0d0887\"],[0.1111111111111111,\"#46039f\"],[0.2222222222222222,\"#7201a8\"],[0.3333333333333333,\"#9c179e\"],[0.4444444444444444,\"#bd3786\"],[0.5555555555555556,\"#d8576b\"],[0.6666666666666666,\"#ed7953\"],[0.7777777777777778,\"#fb9f3a\"],[0.8888888888888888,\"#fdca26\"],[1.0,\"#f0f921\"]],\"type\":\"heatmapgl\"}],\"histogram\":[{\"marker\":{\"pattern\":{\"fillmode\":\"overlay\",\"size\":10,\"solidity\":0.2}},\"type\":\"histogram\"}],\"histogram2d\":[{\"colorbar\":{\"outlinewidth\":0,\"ticks\":\"\"},\"colorscale\":[[0.0,\"#0d0887\"],[0.1111111111111111,\"#46039f\"],[0.2222222222222222,\"#7201a8\"],[0.3333333333333333,\"#9c179e\"],[0.4444444444444444,\"#bd3786\"],[0.5555555555555556,\"#d8576b\"],[0.6666666666666666,\"#ed7953\"],[0.7777777777777778,\"#fb9f3a\"],[0.8888888888888888,\"#fdca26\"],[1.0,\"#f0f921\"]],\"type\":\"histogram2d\"}],\"histogram2dcontour\":[{\"colorbar\":{\"outlinewidth\":0,\"ticks\":\"\"},\"colorscale\":[[0.0,\"#0d0887\"],[0.1111111111111111,\"#46039f\"],[0.2222222222222222,\"#7201a8\"],[0.3333333333333333,\"#9c179e\"],[0.4444444444444444,\"#bd3786\"],[0.5555555555555556,\"#d8576b\"],[0.6666666666666666,\"#ed7953\"],[0.7777777777777778,\"#fb9f3a\"],[0.8888888888888888,\"#fdca26\"],[1.0,\"#f0f921\"]],\"type\":\"histogram2dcontour\"}],\"mesh3d\":[{\"colorbar\":{\"outlinewidth\":0,\"ticks\":\"\"},\"type\":\"mesh3d\"}],\"parcoords\":[{\"line\":{\"colorbar\":{\"outlinewidth\":0,\"ticks\":\"\"}},\"type\":\"parcoords\"}],\"pie\":[{\"automargin\":true,\"type\":\"pie\"}],\"scatter\":[{\"marker\":{\"colorbar\":{\"outlinewidth\":0,\"ticks\":\"\"}},\"type\":\"scatter\"}],\"scatter3d\":[{\"line\":{\"colorbar\":{\"outlinewidth\":0,\"ticks\":\"\"}},\"marker\":{\"colorbar\":{\"outlinewidth\":0,\"ticks\":\"\"}},\"type\":\"scatter3d\"}],\"scattercarpet\":[{\"marker\":{\"colorbar\":{\"outlinewidth\":0,\"ticks\":\"\"}},\"type\":\"scattercarpet\"}],\"scattergeo\":[{\"marker\":{\"colorbar\":{\"outlinewidth\":0,\"ticks\":\"\"}},\"type\":\"scattergeo\"}],\"scattergl\":[{\"marker\":{\"colorbar\":{\"outlinewidth\":0,\"ticks\":\"\"}},\"type\":\"scattergl\"}],\"scattermapbox\":[{\"marker\":{\"colorbar\":{\"outlinewidth\":0,\"ticks\":\"\"}},\"type\":\"scattermapbox\"}],\"scatterpolar\":[{\"marker\":{\"colorbar\":{\"outlinewidth\":0,\"ticks\":\"\"}},\"type\":\"scatterpolar\"}],\"scatterpolargl\":[{\"marker\":{\"colorbar\":{\"outlinewidth\":0,\"ticks\":\"\"}},\"type\":\"scatterpolargl\"}],\"scatterternary\":[{\"marker\":{\"colorbar\":{\"outlinewidth\":0,\"ticks\":\"\"}},\"type\":\"scatterternary\"}],\"surface\":[{\"colorbar\":{\"outlinewidth\":0,\"ticks\":\"\"},\"colorscale\":[[0.0,\"#0d0887\"],[0.1111111111111111,\"#46039f\"],[0.2222222222222222,\"#7201a8\"],[0.3333333333333333,\"#9c179e\"],[0.4444444444444444,\"#bd3786\"],[0.5555555555555556,\"#d8576b\"],[0.6666666666666666,\"#ed7953\"],[0.7777777777777778,\"#fb9f3a\"],[0.8888888888888888,\"#fdca26\"],[1.0,\"#f0f921\"]],\"type\":\"surface\"}],\"table\":[{\"cells\":{\"fill\":{\"color\":\"#EBF0F8\"},\"line\":{\"color\":\"white\"}},\"header\":{\"fill\":{\"color\":\"#C8D4E3\"},\"line\":{\"color\":\"white\"}},\"type\":\"table\"}]},\"layout\":{\"annotationdefaults\":{\"arrowcolor\":\"#2a3f5f\",\"arrowhead\":0,\"arrowwidth\":1},\"autotypenumbers\":\"strict\",\"coloraxis\":{\"colorbar\":{\"outlinewidth\":0,\"ticks\":\"\"}},\"colorscale\":{\"diverging\":[[0,\"#8e0152\"],[0.1,\"#c51b7d\"],[0.2,\"#de77ae\"],[0.3,\"#f1b6da\"],[0.4,\"#fde0ef\"],[0.5,\"#f7f7f7\"],[0.6,\"#e6f5d0\"],[0.7,\"#b8e186\"],[0.8,\"#7fbc41\"],[0.9,\"#4d9221\"],[1,\"#276419\"]],\"sequential\":[[0.0,\"#0d0887\"],[0.1111111111111111,\"#46039f\"],[0.2222222222222222,\"#7201a8\"],[0.3333333333333333,\"#9c179e\"],[0.4444444444444444,\"#bd3786\"],[0.5555555555555556,\"#d8576b\"],[0.6666666666666666,\"#ed7953\"],[0.7777777777777778,\"#fb9f3a\"],[0.8888888888888888,\"#fdca26\"],[1.0,\"#f0f921\"]],\"sequentialminus\":[[0.0,\"#0d0887\"],[0.1111111111111111,\"#46039f\"],[0.2222222222222222,\"#7201a8\"],[0.3333333333333333,\"#9c179e\"],[0.4444444444444444,\"#bd3786\"],[0.5555555555555556,\"#d8576b\"],[0.6666666666666666,\"#ed7953\"],[0.7777777777777778,\"#fb9f3a\"],[0.8888888888888888,\"#fdca26\"],[1.0,\"#f0f921\"]]},\"colorway\":[\"#636efa\",\"#EF553B\",\"#00cc96\",\"#ab63fa\",\"#FFA15A\",\"#19d3f3\",\"#FF6692\",\"#B6E880\",\"#FF97FF\",\"#FECB52\"],\"font\":{\"color\":\"#2a3f5f\"},\"geo\":{\"bgcolor\":\"white\",\"lakecolor\":\"white\",\"landcolor\":\"#E5ECF6\",\"showlakes\":true,\"showland\":true,\"subunitcolor\":\"white\"},\"hoverlabel\":{\"align\":\"left\"},\"hovermode\":\"closest\",\"mapbox\":{\"style\":\"light\"},\"paper_bgcolor\":\"white\",\"plot_bgcolor\":\"#E5ECF6\",\"polar\":{\"angularaxis\":{\"gridcolor\":\"white\",\"linecolor\":\"white\",\"ticks\":\"\"},\"bgcolor\":\"#E5ECF6\",\"radialaxis\":{\"gridcolor\":\"white\",\"linecolor\":\"white\",\"ticks\":\"\"}},\"scene\":{\"xaxis\":{\"backgroundcolor\":\"#E5ECF6\",\"gridcolor\":\"white\",\"gridwidth\":2,\"linecolor\":\"white\",\"showbackground\":true,\"ticks\":\"\",\"zerolinecolor\":\"white\"},\"yaxis\":{\"backgroundcolor\":\"#E5ECF6\",\"gridcolor\":\"white\",\"gridwidth\":2,\"linecolor\":\"white\",\"showbackground\":true,\"ticks\":\"\",\"zerolinecolor\":\"white\"},\"zaxis\":{\"backgroundcolor\":\"#E5ECF6\",\"gridcolor\":\"white\",\"gridwidth\":2,\"linecolor\":\"white\",\"showbackground\":true,\"ticks\":\"\",\"zerolinecolor\":\"white\"}},\"shapedefaults\":{\"line\":{\"color\":\"#2a3f5f\"}},\"ternary\":{\"aaxis\":{\"gridcolor\":\"white\",\"linecolor\":\"white\",\"ticks\":\"\"},\"baxis\":{\"gridcolor\":\"white\",\"linecolor\":\"white\",\"ticks\":\"\"},\"bgcolor\":\"#E5ECF6\",\"caxis\":{\"gridcolor\":\"white\",\"linecolor\":\"white\",\"ticks\":\"\"}},\"title\":{\"x\":0.05},\"xaxis\":{\"automargin\":true,\"gridcolor\":\"white\",\"linecolor\":\"white\",\"ticks\":\"\",\"title\":{\"standoff\":15},\"zerolinecolor\":\"white\",\"zerolinewidth\":2},\"yaxis\":{\"automargin\":true,\"gridcolor\":\"white\",\"linecolor\":\"white\",\"ticks\":\"\",\"title\":{\"standoff\":15},\"zerolinecolor\":\"white\",\"zerolinewidth\":2}}}},                        {\"responsive\": true}                    ).then(function(){\n",
       "                            \n",
       "var gd = document.getElementById('8f6c5e60-9d19-47ab-907d-a9d9396334ae');\n",
       "var x = new MutationObserver(function (mutations, observer) {{\n",
       "        var display = window.getComputedStyle(gd).display;\n",
       "        if (!display || display === 'none') {{\n",
       "            console.log([gd, 'removed!']);\n",
       "            Plotly.purge(gd);\n",
       "            observer.disconnect();\n",
       "        }}\n",
       "}});\n",
       "\n",
       "// Listen for the removal of the full notebook cells\n",
       "var notebookContainer = gd.closest('#notebook-container');\n",
       "if (notebookContainer) {{\n",
       "    x.observe(notebookContainer, {childList: true});\n",
       "}}\n",
       "\n",
       "// Listen for the clearing of the current output cell\n",
       "var outputEl = gd.closest('.output');\n",
       "if (outputEl) {{\n",
       "    x.observe(outputEl, {childList: true});\n",
       "}}\n",
       "\n",
       "                        })                };                });            </script>        </div>"
      ]
     },
     "metadata": {},
     "output_type": "display_data"
    }
   ],
   "source": [
    "import plotly.graph_objects as go\n",
    "\n",
    "zipcode = 30002\n",
    "age_col_i_start = 15\n",
    "age_col_i_end = 21\n",
    "\n",
    "x = census.iloc[:, age_col_i_start:age_col_i_end].columns\n",
    "height = census[census['zipcode'] == zipcode].iloc[:, age_col_i_start:age_col_i_end].values[0]\n",
    "height = height / 100.0  # Dividing by 100 to convert to decimal\n",
    "\n",
    "# Creating the bar trace\n",
    "trace = go.Bar(\n",
    "    x=x,\n",
    "    y=height,\n",
    ")\n",
    "\n",
    "# Creating the layout\n",
    "layout = go.Layout(\n",
    "    title=dict(text=f\"Age Distribution in {zipcode}\"),\n",
    "    xaxis=dict(title='Age Range'),\n",
    "    yaxis=dict(title='Percent', tickformat='.0%', tickangle=45)\n",
    ")\n",
    "\n",
    "# Creating the figure\n",
    "fig = go.Figure(data=[trace], layout=layout)\n",
    "\n",
    "# Display the plot\n",
    "fig.show()"
   ]
  },
  {
   "cell_type": "code",
   "execution_count": null,
   "id": "23ad02f3",
   "metadata": {},
   "outputs": [],
   "source": [
    "import plotly.graph_objects as go\n",
    "\n",
    "zipcode = 30002\n",
    "age_col_i_start = 15\n",
    "age_col_i_end = 21\n",
    "\n",
    "x = census.iloc[:, age_col_i_start:age_col_i_end].columns\n",
    "height = census[census['zipcode'] == zipcode].iloc[:, age_col_i_start:age_col_i_end].values[0]\n",
    "height = height / 100.0  # Dividing by 100 to convert to decimal\n",
    "\n",
    "# Creating the bar trace\n",
    "trace = go.Bar(\n",
    "    x=x,\n",
    "    y=height,\n",
    ")\n",
    "\n",
    "# Creating the layout\n",
    "layout = go.Layout(\n",
    "    title=dict(text=f\"Age Distribution in {zipcode}\"),\n",
    "    xaxis=dict(title='Age Range'),\n",
    "    yaxis=dict(title='Percent', tickformat='.0%', tickangle=45)\n",
    ")\n",
    "\n",
    "# Creating the figure\n",
    "fig = go.Figure(data=[trace], layout=layout)\n",
    "\n",
    "# Display the plot\n",
    "fig.show()"
   ]
  },
  {
   "cell_type": "code",
   "execution_count": null,
   "id": "f407904f",
   "metadata": {},
   "outputs": [],
   "source": []
  }
 ],
 "metadata": {
  "kernelspec": {
   "display_name": "Python 3 (ipykernel)",
   "language": "python",
   "name": "python3"
  },
  "language_info": {
   "codemirror_mode": {
    "name": "ipython",
    "version": 3
   },
   "file_extension": ".py",
   "mimetype": "text/x-python",
   "name": "python",
   "nbconvert_exporter": "python",
   "pygments_lexer": "ipython3",
   "version": "3.9.12"
  }
 },
 "nbformat": 4,
 "nbformat_minor": 5
}
