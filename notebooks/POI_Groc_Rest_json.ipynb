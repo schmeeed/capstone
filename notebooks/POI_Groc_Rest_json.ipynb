{
 "cells": [
  {
   "cell_type": "code",
   "execution_count": 1,
   "id": "300842f9",
   "metadata": {},
   "outputs": [
    {
     "data": {
      "application/javascript": [
       "\n",
       "            setTimeout(function() {\n",
       "                var nbb_cell_id = 1;\n",
       "                var nbb_unformatted_code = \"import pandas as pd\\nimport boto3\\nimport json\\nimport pandas as pd\\nimport io\\n\\n# the below extension properly formats a cell after it is run\\n%load_ext nb_black\\n\\n# Set the maximum number of rows to 200\\npd.set_option(\\\"display.max_rows\\\", 200)\\nimport pandas as pd\\n\\n# Set the maximum number of columns to 200\\npd.set_option(\\\"display.max_columns\\\", 200)\";\n",
       "                var nbb_formatted_code = \"import pandas as pd\\nimport boto3\\nimport json\\nimport pandas as pd\\nimport io\\n\\n# the below extension properly formats a cell after it is run\\n%load_ext nb_black\\n\\n# Set the maximum number of rows to 200\\npd.set_option(\\\"display.max_rows\\\", 200)\\nimport pandas as pd\\n\\n# Set the maximum number of columns to 200\\npd.set_option(\\\"display.max_columns\\\", 200)\";\n",
       "                var nbb_cells = Jupyter.notebook.get_cells();\n",
       "                for (var i = 0; i < nbb_cells.length; ++i) {\n",
       "                    if (nbb_cells[i].input_prompt_number == nbb_cell_id) {\n",
       "                        if (nbb_cells[i].get_text() == nbb_unformatted_code) {\n",
       "                             nbb_cells[i].set_text(nbb_formatted_code);\n",
       "                        }\n",
       "                        break;\n",
       "                    }\n",
       "                }\n",
       "            }, 500);\n",
       "            "
      ],
      "text/plain": [
       "<IPython.core.display.Javascript object>"
      ]
     },
     "metadata": {},
     "output_type": "display_data"
    }
   ],
   "source": [
    "import pandas as pd\n",
    "import boto3\n",
    "import json\n",
    "import pandas as pd\n",
    "import io\n",
    "\n",
    "# the below extension properly formats a cell after it is run\n",
    "%load_ext nb_black\n",
    "\n",
    "# Set the maximum number of rows to 200\n",
    "pd.set_option(\"display.max_rows\", 200)\n",
    "import pandas as pd\n",
    "\n",
    "# Set the maximum number of columns to 200\n",
    "pd.set_option(\"display.max_columns\", 200)"
   ]
  },
  {
   "cell_type": "code",
   "execution_count": 2,
   "id": "190bcfd8",
   "metadata": {},
   "outputs": [
    {
     "data": {
      "application/javascript": [
       "\n",
       "            setTimeout(function() {\n",
       "                var nbb_cell_id = 2;\n",
       "                var nbb_unformatted_code = \"# Creating an S3 client object\\ns3 = boto3.client('s3')\\n\\n# Specifying the name of the bucket\\nbucket_name = 'capstonehaystacks'\\n\\n# Downloading the all_zips_grocery_store.json file from S3 and parsing it into data1\\nresponse1 = s3.get_object(Bucket=bucket_name, Key='all_zips_grocery_store.json')\\njson_content1 = response1['Body'].read().decode('utf-8')\\ngrocery_json = json.loads(json_content1)\\n\\n# Downloading the all_zips_restaurant.json file from S3 and parsing it into data2\\nresponse2 = s3.get_object(Bucket=bucket_name, Key='all_zips_restaurant.json')\\njson_content2 = response2['Body'].read().decode('utf-8')\\nrestaurant_json = json.loads(json_content2)\";\n",
       "                var nbb_formatted_code = \"# Creating an S3 client object\\ns3 = boto3.client(\\\"s3\\\")\\n\\n# Specifying the name of the bucket\\nbucket_name = \\\"capstonehaystacks\\\"\\n\\n# Downloading the all_zips_grocery_store.json file from S3 and parsing it into data1\\nresponse1 = s3.get_object(Bucket=bucket_name, Key=\\\"all_zips_grocery_store.json\\\")\\njson_content1 = response1[\\\"Body\\\"].read().decode(\\\"utf-8\\\")\\ngrocery_json = json.loads(json_content1)\\n\\n# Downloading the all_zips_restaurant.json file from S3 and parsing it into data2\\nresponse2 = s3.get_object(Bucket=bucket_name, Key=\\\"all_zips_restaurant.json\\\")\\njson_content2 = response2[\\\"Body\\\"].read().decode(\\\"utf-8\\\")\\nrestaurant_json = json.loads(json_content2)\";\n",
       "                var nbb_cells = Jupyter.notebook.get_cells();\n",
       "                for (var i = 0; i < nbb_cells.length; ++i) {\n",
       "                    if (nbb_cells[i].input_prompt_number == nbb_cell_id) {\n",
       "                        if (nbb_cells[i].get_text() == nbb_unformatted_code) {\n",
       "                             nbb_cells[i].set_text(nbb_formatted_code);\n",
       "                        }\n",
       "                        break;\n",
       "                    }\n",
       "                }\n",
       "            }, 500);\n",
       "            "
      ],
      "text/plain": [
       "<IPython.core.display.Javascript object>"
      ]
     },
     "metadata": {},
     "output_type": "display_data"
    }
   ],
   "source": [
    "# Creating an S3 client object\n",
    "s3 = boto3.client('s3')\n",
    "\n",
    "# Specifying the name of the bucket\n",
    "bucket_name = 'capstonehaystacks'\n",
    "\n",
    "# Downloading the all_zips_grocery_store.json file from S3 and parsing it into data1\n",
    "response1 = s3.get_object(Bucket=bucket_name, Key='all_zips_grocery_store.json')\n",
    "json_content1 = response1['Body'].read().decode('utf-8')\n",
    "grocery_json = json.loads(json_content1)\n",
    "\n",
    "# Downloading the all_zips_restaurant.json file from S3 and parsing it into data2\n",
    "response2 = s3.get_object(Bucket=bucket_name, Key='all_zips_restaurant.json')\n",
    "json_content2 = response2['Body'].read().decode('utf-8')\n",
    "restaurant_json = json.loads(json_content2)\n"
   ]
  },
  {
   "cell_type": "code",
   "execution_count": 3,
   "id": "df55c8c1",
   "metadata": {},
   "outputs": [
    {
     "data": {
      "application/javascript": [
       "\n",
       "            setTimeout(function() {\n",
       "                var nbb_cell_id = 3;\n",
       "                var nbb_unformatted_code = \"# THIS CODE LOADS POI'S WITH NO RATINGS AND ALSO INCLUDES ADDRESS AND ZIP CODE COLUMNS\\n\\n\\ndef json_to_df(json):\\n    \\\"\\\"\\\"\\n    Convert a list of JSON objects containing location information into a Pandas DataFrame.\\n\\n    :param json: A list of JSON objects containing location information.\\n    :return: A Pandas DataFrame containing the location information.\\n    \\\"\\\"\\\"\\n    data = []\\n\\n    for j in json:\\n        zipcode_ = j['census_zcta_geoid']\\n        for result in j['responce']['results']:\\n            try:\\n                # extracting the state from the compound code and check if it's 'GA'\\n                state_ = result['plus_code']['compound_code'].split(',')[-2].strip()\\n                poi_types_ = result['types']\\n\\n                if state_ == 'GA':\\n                    # extracting relevant information from the JSON object\\n                    place_id_ = result['place_id']\\n                    latitude_ = result['geometry']['location']['lat']\\n                    longitude_ = result['geometry']['location']['lng']\\n                    rating_ = result.get('rating', None)\\n                    num_ratings_ = result.get('user_ratings_total', None)\\n                    name_ = result['name']\\n                    address_ = result['vicinity']\\n\\n                    # appending the extracted information to the data list\\n                    data.append([latitude_, longitude_, state_, place_id_, name_, rating_, num_ratings_, poi_types_, zipcode_, address_])\\n            except:\\n                pass\\n\\n    # creating df using the data list\\n    df = pd.DataFrame(data, columns=['latitude', 'longitude', 'state', 'place_id', 'name', 'rating', 'num_ratings', 'poi_types', 'zipcode', 'address'])\\n    return df\";\n",
       "                var nbb_formatted_code = \"# THIS CODE LOADS POI'S WITH NO RATINGS AND ALSO INCLUDES ADDRESS AND ZIP CODE COLUMNS\\n\\n\\ndef json_to_df(json):\\n    \\\"\\\"\\\"\\n    Convert a list of JSON objects containing location information into a Pandas DataFrame.\\n\\n    :param json: A list of JSON objects containing location information.\\n    :return: A Pandas DataFrame containing the location information.\\n    \\\"\\\"\\\"\\n    data = []\\n\\n    for j in json:\\n        zipcode_ = j[\\\"census_zcta_geoid\\\"]\\n        for result in j[\\\"responce\\\"][\\\"results\\\"]:\\n            try:\\n                # extracting the state from the compound code and check if it's 'GA'\\n                state_ = result[\\\"plus_code\\\"][\\\"compound_code\\\"].split(\\\",\\\")[-2].strip()\\n                poi_types_ = result[\\\"types\\\"]\\n\\n                if state_ == \\\"GA\\\":\\n                    # extracting relevant information from the JSON object\\n                    place_id_ = result[\\\"place_id\\\"]\\n                    latitude_ = result[\\\"geometry\\\"][\\\"location\\\"][\\\"lat\\\"]\\n                    longitude_ = result[\\\"geometry\\\"][\\\"location\\\"][\\\"lng\\\"]\\n                    rating_ = result.get(\\\"rating\\\", None)\\n                    num_ratings_ = result.get(\\\"user_ratings_total\\\", None)\\n                    name_ = result[\\\"name\\\"]\\n                    address_ = result[\\\"vicinity\\\"]\\n\\n                    # appending the extracted information to the data list\\n                    data.append(\\n                        [\\n                            latitude_,\\n                            longitude_,\\n                            state_,\\n                            place_id_,\\n                            name_,\\n                            rating_,\\n                            num_ratings_,\\n                            poi_types_,\\n                            zipcode_,\\n                            address_,\\n                        ]\\n                    )\\n            except:\\n                pass\\n\\n    # creating df using the data list\\n    df = pd.DataFrame(\\n        data,\\n        columns=[\\n            \\\"latitude\\\",\\n            \\\"longitude\\\",\\n            \\\"state\\\",\\n            \\\"place_id\\\",\\n            \\\"name\\\",\\n            \\\"rating\\\",\\n            \\\"num_ratings\\\",\\n            \\\"poi_types\\\",\\n            \\\"zipcode\\\",\\n            \\\"address\\\",\\n        ],\\n    )\\n    return df\";\n",
       "                var nbb_cells = Jupyter.notebook.get_cells();\n",
       "                for (var i = 0; i < nbb_cells.length; ++i) {\n",
       "                    if (nbb_cells[i].input_prompt_number == nbb_cell_id) {\n",
       "                        if (nbb_cells[i].get_text() == nbb_unformatted_code) {\n",
       "                             nbb_cells[i].set_text(nbb_formatted_code);\n",
       "                        }\n",
       "                        break;\n",
       "                    }\n",
       "                }\n",
       "            }, 500);\n",
       "            "
      ],
      "text/plain": [
       "<IPython.core.display.Javascript object>"
      ]
     },
     "metadata": {},
     "output_type": "display_data"
    }
   ],
   "source": [
    "# THIS CODE LOADS POI'S WITH NO RATINGS AND ALSO INCLUDES ADDRESS AND ZIP CODE COLUMNS\n",
    "\n",
    "\n",
    "def json_to_df(json):\n",
    "    \"\"\"\n",
    "    Convert a list of JSON objects containing location information into a Pandas DataFrame.\n",
    "\n",
    "    :param json: A list of JSON objects containing location information.\n",
    "    :return: A Pandas DataFrame containing the location information.\n",
    "    \"\"\"\n",
    "    data = []\n",
    "\n",
    "    for j in json:\n",
    "        zipcode_ = j['census_zcta_geoid']\n",
    "        for result in j['responce']['results']:\n",
    "            try:\n",
    "                # extracting the state from the compound code and check if it's 'GA'\n",
    "                state_ = result['plus_code']['compound_code'].split(',')[-2].strip()\n",
    "                poi_types_ = result['types']\n",
    "\n",
    "                if state_ == 'GA':\n",
    "                    # extracting relevant information from the JSON object\n",
    "                    place_id_ = result['place_id']\n",
    "                    latitude_ = result['geometry']['location']['lat']\n",
    "                    longitude_ = result['geometry']['location']['lng']\n",
    "                    rating_ = result.get('rating', None)\n",
    "                    num_ratings_ = result.get('user_ratings_total', None)\n",
    "                    name_ = result['name']\n",
    "                    address_ = result['vicinity']\n",
    "\n",
    "                    # appending the extracted information to the data list\n",
    "                    data.append([latitude_, longitude_, state_, place_id_, name_, rating_, num_ratings_, poi_types_, zipcode_, address_])\n",
    "            except:\n",
    "                pass\n",
    "\n",
    "    # creating df using the data list\n",
    "    df = pd.DataFrame(data, columns=['latitude', 'longitude', 'state', 'place_id', 'name', 'rating', 'num_ratings', 'poi_types', 'zipcode', 'address'])\n",
    "    return df\n"
   ]
  },
  {
   "cell_type": "code",
   "execution_count": 4,
   "id": "248c234c",
   "metadata": {},
   "outputs": [
    {
     "data": {
      "application/javascript": [
       "\n",
       "            setTimeout(function() {\n",
       "                var nbb_cell_id = 4;\n",
       "                var nbb_unformatted_code = \"# # THIS CODE LOADS ONLY OBSERVATIONS WITH RATINGS\\n\\n# def json_to_df(json):\\n#     \\\"\\\"\\\"\\n#     Convert a list of JSON objects containing location information into a Pandas DataFrame.\\n\\n#     :param json: A list of JSON objects containing location information.\\n#     :return: A Pandas DataFrame containing the location information.\\n#     \\\"\\\"\\\"\\n#     data = []\\n\\n#     for j in json:\\n#         zipcode_ = j['census_zcta_geoid']\\n#         for result in j['responce']['results']:\\n#             try:\\n#                 # extracting the state from the compound code and check if it's 'GA'\\n#                 state_ = result['plus_code']['compound_code'].split(',')[-2].strip()\\n#                 poi_types_ = result['types']\\n\\n#                 if state_ == 'GA':\\n#                     # extracting relevant information from the JSON object\\n#                     place_id_ = result['place_id']\\n#                     latitude_ = result['geometry']['location']['lat']\\n#                     longitude_ = result['geometry']['location']['lng']\\n#                     rating_ = result.get('rating', None)\\n#                     num_ratings_ = result.get('user_ratings_total', None)\\n#                     name_ = result['name']\\n#                     address_ = result['vicinity']\\n\\n#                     # check if the POI has user reviews\\n#                     if num_ratings_ is not None and num_ratings_ > 0:\\n#                         # appending the extracted information to the data list\\n#                         data.append([latitude_, longitude_, state_, place_id_, name_, rating_, num_ratings_, poi_types_, zipcode_, address_])\\n#             except:\\n#                 pass\\n\\n#     # creating df using the data list\\n#     df = pd.DataFrame(data, columns=['latitude', 'longitude', 'state', 'place_id', 'name', 'rating', 'num_ratings', 'poi_types', 'zipcode', 'address'])\\n#     return df\";\n",
       "                var nbb_formatted_code = \"# # THIS CODE LOADS ONLY OBSERVATIONS WITH RATINGS\\n\\n# def json_to_df(json):\\n#     \\\"\\\"\\\"\\n#     Convert a list of JSON objects containing location information into a Pandas DataFrame.\\n\\n#     :param json: A list of JSON objects containing location information.\\n#     :return: A Pandas DataFrame containing the location information.\\n#     \\\"\\\"\\\"\\n#     data = []\\n\\n#     for j in json:\\n#         zipcode_ = j['census_zcta_geoid']\\n#         for result in j['responce']['results']:\\n#             try:\\n#                 # extracting the state from the compound code and check if it's 'GA'\\n#                 state_ = result['plus_code']['compound_code'].split(',')[-2].strip()\\n#                 poi_types_ = result['types']\\n\\n#                 if state_ == 'GA':\\n#                     # extracting relevant information from the JSON object\\n#                     place_id_ = result['place_id']\\n#                     latitude_ = result['geometry']['location']['lat']\\n#                     longitude_ = result['geometry']['location']['lng']\\n#                     rating_ = result.get('rating', None)\\n#                     num_ratings_ = result.get('user_ratings_total', None)\\n#                     name_ = result['name']\\n#                     address_ = result['vicinity']\\n\\n#                     # check if the POI has user reviews\\n#                     if num_ratings_ is not None and num_ratings_ > 0:\\n#                         # appending the extracted information to the data list\\n#                         data.append([latitude_, longitude_, state_, place_id_, name_, rating_, num_ratings_, poi_types_, zipcode_, address_])\\n#             except:\\n#                 pass\\n\\n#     # creating df using the data list\\n#     df = pd.DataFrame(data, columns=['latitude', 'longitude', 'state', 'place_id', 'name', 'rating', 'num_ratings', 'poi_types', 'zipcode', 'address'])\\n#     return df\";\n",
       "                var nbb_cells = Jupyter.notebook.get_cells();\n",
       "                for (var i = 0; i < nbb_cells.length; ++i) {\n",
       "                    if (nbb_cells[i].input_prompt_number == nbb_cell_id) {\n",
       "                        if (nbb_cells[i].get_text() == nbb_unformatted_code) {\n",
       "                             nbb_cells[i].set_text(nbb_formatted_code);\n",
       "                        }\n",
       "                        break;\n",
       "                    }\n",
       "                }\n",
       "            }, 500);\n",
       "            "
      ],
      "text/plain": [
       "<IPython.core.display.Javascript object>"
      ]
     },
     "metadata": {},
     "output_type": "display_data"
    }
   ],
   "source": [
    "# # THIS CODE LOADS ONLY OBSERVATIONS WITH RATINGS\n",
    "\n",
    "# def json_to_df(json):\n",
    "#     \"\"\"\n",
    "#     Convert a list of JSON objects containing location information into a Pandas DataFrame.\n",
    "\n",
    "#     :param json: A list of JSON objects containing location information.\n",
    "#     :return: A Pandas DataFrame containing the location information.\n",
    "#     \"\"\"\n",
    "#     data = []\n",
    "\n",
    "#     for j in json:\n",
    "#         zipcode_ = j['census_zcta_geoid']\n",
    "#         for result in j['responce']['results']:\n",
    "#             try:\n",
    "#                 # extracting the state from the compound code and check if it's 'GA'\n",
    "#                 state_ = result['plus_code']['compound_code'].split(',')[-2].strip()\n",
    "#                 poi_types_ = result['types']\n",
    "\n",
    "#                 if state_ == 'GA':\n",
    "#                     # extracting relevant information from the JSON object\n",
    "#                     place_id_ = result['place_id']\n",
    "#                     latitude_ = result['geometry']['location']['lat']\n",
    "#                     longitude_ = result['geometry']['location']['lng']\n",
    "#                     rating_ = result.get('rating', None)\n",
    "#                     num_ratings_ = result.get('user_ratings_total', None)\n",
    "#                     name_ = result['name']\n",
    "#                     address_ = result['vicinity']\n",
    "\n",
    "#                     # check if the POI has user reviews\n",
    "#                     if num_ratings_ is not None and num_ratings_ > 0:\n",
    "#                         # appending the extracted information to the data list\n",
    "#                         data.append([latitude_, longitude_, state_, place_id_, name_, rating_, num_ratings_, poi_types_, zipcode_, address_])\n",
    "#             except:\n",
    "#                 pass\n",
    "\n",
    "#     # creating df using the data list\n",
    "#     df = pd.DataFrame(data, columns=['latitude', 'longitude', 'state', 'place_id', 'name', 'rating', 'num_ratings', 'poi_types', 'zipcode', 'address'])\n",
    "#     return df\n"
   ]
  },
  {
   "cell_type": "code",
   "execution_count": 5,
   "id": "a1f146fe",
   "metadata": {},
   "outputs": [
    {
     "data": {
      "application/javascript": [
       "\n",
       "            setTimeout(function() {\n",
       "                var nbb_cell_id = 5;\n",
       "                var nbb_unformatted_code = \"grocery_df = json_to_df(grocery_json)\";\n",
       "                var nbb_formatted_code = \"grocery_df = json_to_df(grocery_json)\";\n",
       "                var nbb_cells = Jupyter.notebook.get_cells();\n",
       "                for (var i = 0; i < nbb_cells.length; ++i) {\n",
       "                    if (nbb_cells[i].input_prompt_number == nbb_cell_id) {\n",
       "                        if (nbb_cells[i].get_text() == nbb_unformatted_code) {\n",
       "                             nbb_cells[i].set_text(nbb_formatted_code);\n",
       "                        }\n",
       "                        break;\n",
       "                    }\n",
       "                }\n",
       "            }, 500);\n",
       "            "
      ],
      "text/plain": [
       "<IPython.core.display.Javascript object>"
      ]
     },
     "metadata": {},
     "output_type": "display_data"
    }
   ],
   "source": [
    "grocery_df = json_to_df(grocery_json)"
   ]
  },
  {
   "cell_type": "code",
   "execution_count": 6,
   "id": "aa53b931",
   "metadata": {},
   "outputs": [
    {
     "data": {
      "text/plain": [
       "(10174, 10)"
      ]
     },
     "execution_count": 6,
     "metadata": {},
     "output_type": "execute_result"
    },
    {
     "data": {
      "application/javascript": [
       "\n",
       "            setTimeout(function() {\n",
       "                var nbb_cell_id = 6;\n",
       "                var nbb_unformatted_code = \"grocery_df.shape\";\n",
       "                var nbb_formatted_code = \"grocery_df.shape\";\n",
       "                var nbb_cells = Jupyter.notebook.get_cells();\n",
       "                for (var i = 0; i < nbb_cells.length; ++i) {\n",
       "                    if (nbb_cells[i].input_prompt_number == nbb_cell_id) {\n",
       "                        if (nbb_cells[i].get_text() == nbb_unformatted_code) {\n",
       "                             nbb_cells[i].set_text(nbb_formatted_code);\n",
       "                        }\n",
       "                        break;\n",
       "                    }\n",
       "                }\n",
       "            }, 500);\n",
       "            "
      ],
      "text/plain": [
       "<IPython.core.display.Javascript object>"
      ]
     },
     "metadata": {},
     "output_type": "display_data"
    }
   ],
   "source": [
    "grocery_df.shape"
   ]
  },
  {
   "cell_type": "code",
   "execution_count": 7,
   "id": "e740f49c",
   "metadata": {},
   "outputs": [
    {
     "data": {
      "text/plain": [
       "latitude          0\n",
       "longitude         0\n",
       "state             0\n",
       "place_id          0\n",
       "name              0\n",
       "rating         6984\n",
       "num_ratings    6984\n",
       "poi_types         0\n",
       "zipcode           0\n",
       "address           0\n",
       "dtype: int64"
      ]
     },
     "execution_count": 7,
     "metadata": {},
     "output_type": "execute_result"
    },
    {
     "data": {
      "application/javascript": [
       "\n",
       "            setTimeout(function() {\n",
       "                var nbb_cell_id = 7;\n",
       "                var nbb_unformatted_code = \"grocery_df.isna().sum()\";\n",
       "                var nbb_formatted_code = \"grocery_df.isna().sum()\";\n",
       "                var nbb_cells = Jupyter.notebook.get_cells();\n",
       "                for (var i = 0; i < nbb_cells.length; ++i) {\n",
       "                    if (nbb_cells[i].input_prompt_number == nbb_cell_id) {\n",
       "                        if (nbb_cells[i].get_text() == nbb_unformatted_code) {\n",
       "                             nbb_cells[i].set_text(nbb_formatted_code);\n",
       "                        }\n",
       "                        break;\n",
       "                    }\n",
       "                }\n",
       "            }, 500);\n",
       "            "
      ],
      "text/plain": [
       "<IPython.core.display.Javascript object>"
      ]
     },
     "metadata": {},
     "output_type": "display_data"
    }
   ],
   "source": [
    "grocery_df.isna().sum()"
   ]
  },
  {
   "cell_type": "code",
   "execution_count": 8,
   "id": "f3ea7c7c",
   "metadata": {},
   "outputs": [
    {
     "data": {
      "application/javascript": [
       "\n",
       "            setTimeout(function() {\n",
       "                var nbb_cell_id = 8;\n",
       "                var nbb_unformatted_code = \"restaurant_df = json_to_df(restaurant_json)\";\n",
       "                var nbb_formatted_code = \"restaurant_df = json_to_df(restaurant_json)\";\n",
       "                var nbb_cells = Jupyter.notebook.get_cells();\n",
       "                for (var i = 0; i < nbb_cells.length; ++i) {\n",
       "                    if (nbb_cells[i].input_prompt_number == nbb_cell_id) {\n",
       "                        if (nbb_cells[i].get_text() == nbb_unformatted_code) {\n",
       "                             nbb_cells[i].set_text(nbb_formatted_code);\n",
       "                        }\n",
       "                        break;\n",
       "                    }\n",
       "                }\n",
       "            }, 500);\n",
       "            "
      ],
      "text/plain": [
       "<IPython.core.display.Javascript object>"
      ]
     },
     "metadata": {},
     "output_type": "display_data"
    }
   ],
   "source": [
    "restaurant_df = json_to_df(restaurant_json)"
   ]
  },
  {
   "cell_type": "code",
   "execution_count": 9,
   "id": "3df5d055",
   "metadata": {},
   "outputs": [
    {
     "data": {
      "text/plain": [
       "(5432, 10)"
      ]
     },
     "execution_count": 9,
     "metadata": {},
     "output_type": "execute_result"
    },
    {
     "data": {
      "application/javascript": [
       "\n",
       "            setTimeout(function() {\n",
       "                var nbb_cell_id = 9;\n",
       "                var nbb_unformatted_code = \"restaurant_df.shape\";\n",
       "                var nbb_formatted_code = \"restaurant_df.shape\";\n",
       "                var nbb_cells = Jupyter.notebook.get_cells();\n",
       "                for (var i = 0; i < nbb_cells.length; ++i) {\n",
       "                    if (nbb_cells[i].input_prompt_number == nbb_cell_id) {\n",
       "                        if (nbb_cells[i].get_text() == nbb_unformatted_code) {\n",
       "                             nbb_cells[i].set_text(nbb_formatted_code);\n",
       "                        }\n",
       "                        break;\n",
       "                    }\n",
       "                }\n",
       "            }, 500);\n",
       "            "
      ],
      "text/plain": [
       "<IPython.core.display.Javascript object>"
      ]
     },
     "metadata": {},
     "output_type": "display_data"
    }
   ],
   "source": [
    "restaurant_df.shape"
   ]
  },
  {
   "cell_type": "code",
   "execution_count": 10,
   "id": "60196f17",
   "metadata": {},
   "outputs": [
    {
     "data": {
      "application/javascript": [
       "\n",
       "            setTimeout(function() {\n",
       "                var nbb_cell_id = 10;\n",
       "                var nbb_unformatted_code = \"poi_df = pd.concat([grocery_df, restaurant_df], axis=0)\";\n",
       "                var nbb_formatted_code = \"poi_df = pd.concat([grocery_df, restaurant_df], axis=0)\";\n",
       "                var nbb_cells = Jupyter.notebook.get_cells();\n",
       "                for (var i = 0; i < nbb_cells.length; ++i) {\n",
       "                    if (nbb_cells[i].input_prompt_number == nbb_cell_id) {\n",
       "                        if (nbb_cells[i].get_text() == nbb_unformatted_code) {\n",
       "                             nbb_cells[i].set_text(nbb_formatted_code);\n",
       "                        }\n",
       "                        break;\n",
       "                    }\n",
       "                }\n",
       "            }, 500);\n",
       "            "
      ],
      "text/plain": [
       "<IPython.core.display.Javascript object>"
      ]
     },
     "metadata": {},
     "output_type": "display_data"
    }
   ],
   "source": [
    "poi_df = pd.concat([grocery_df, restaurant_df], axis=0)"
   ]
  },
  {
   "cell_type": "code",
   "execution_count": 11,
   "id": "61f84422",
   "metadata": {},
   "outputs": [
    {
     "data": {
      "application/javascript": [
       "\n",
       "            setTimeout(function() {\n",
       "                var nbb_cell_id = 11;\n",
       "                var nbb_unformatted_code = \"# poi_df[\\\"primary_type\\\"] = poi_df[\\\"poi_types\\\"].apply(lambda x: x[0])\";\n",
       "                var nbb_formatted_code = \"# poi_df[\\\"primary_type\\\"] = poi_df[\\\"poi_types\\\"].apply(lambda x: x[0])\";\n",
       "                var nbb_cells = Jupyter.notebook.get_cells();\n",
       "                for (var i = 0; i < nbb_cells.length; ++i) {\n",
       "                    if (nbb_cells[i].input_prompt_number == nbb_cell_id) {\n",
       "                        if (nbb_cells[i].get_text() == nbb_unformatted_code) {\n",
       "                             nbb_cells[i].set_text(nbb_formatted_code);\n",
       "                        }\n",
       "                        break;\n",
       "                    }\n",
       "                }\n",
       "            }, 500);\n",
       "            "
      ],
      "text/plain": [
       "<IPython.core.display.Javascript object>"
      ]
     },
     "metadata": {},
     "output_type": "display_data"
    }
   ],
   "source": [
    "# poi_df[\"primary_type\"] = poi_df[\"poi_types\"].apply(lambda x: x[0])"
   ]
  },
  {
   "cell_type": "code",
   "execution_count": 12,
   "id": "96ff5a43",
   "metadata": {},
   "outputs": [
    {
     "data": {
      "text/plain": [
       "latitude          0\n",
       "longitude         0\n",
       "state             0\n",
       "place_id          0\n",
       "name              0\n",
       "rating         7133\n",
       "num_ratings    7133\n",
       "poi_types         0\n",
       "zipcode           0\n",
       "address           0\n",
       "dtype: int64"
      ]
     },
     "execution_count": 12,
     "metadata": {},
     "output_type": "execute_result"
    },
    {
     "data": {
      "application/javascript": [
       "\n",
       "            setTimeout(function() {\n",
       "                var nbb_cell_id = 12;\n",
       "                var nbb_unformatted_code = \"poi_df.isna().sum()\";\n",
       "                var nbb_formatted_code = \"poi_df.isna().sum()\";\n",
       "                var nbb_cells = Jupyter.notebook.get_cells();\n",
       "                for (var i = 0; i < nbb_cells.length; ++i) {\n",
       "                    if (nbb_cells[i].input_prompt_number == nbb_cell_id) {\n",
       "                        if (nbb_cells[i].get_text() == nbb_unformatted_code) {\n",
       "                             nbb_cells[i].set_text(nbb_formatted_code);\n",
       "                        }\n",
       "                        break;\n",
       "                    }\n",
       "                }\n",
       "            }, 500);\n",
       "            "
      ],
      "text/plain": [
       "<IPython.core.display.Javascript object>"
      ]
     },
     "metadata": {},
     "output_type": "display_data"
    }
   ],
   "source": [
    "poi_df.isna().sum()"
   ]
  },
  {
   "cell_type": "code",
   "execution_count": 13,
   "id": "40580fb1",
   "metadata": {},
   "outputs": [
    {
     "data": {
      "text/html": [
       "<div>\n",
       "<style scoped>\n",
       "    .dataframe tbody tr th:only-of-type {\n",
       "        vertical-align: middle;\n",
       "    }\n",
       "\n",
       "    .dataframe tbody tr th {\n",
       "        vertical-align: top;\n",
       "    }\n",
       "\n",
       "    .dataframe thead th {\n",
       "        text-align: right;\n",
       "    }\n",
       "</style>\n",
       "<table border=\"1\" class=\"dataframe\">\n",
       "  <thead>\n",
       "    <tr style=\"text-align: right;\">\n",
       "      <th></th>\n",
       "      <th>latitude</th>\n",
       "      <th>longitude</th>\n",
       "      <th>state</th>\n",
       "      <th>place_id</th>\n",
       "      <th>name</th>\n",
       "      <th>rating</th>\n",
       "      <th>num_ratings</th>\n",
       "      <th>poi_types</th>\n",
       "      <th>zipcode</th>\n",
       "      <th>address</th>\n",
       "    </tr>\n",
       "  </thead>\n",
       "  <tbody>\n",
       "    <tr>\n",
       "      <th>0</th>\n",
       "      <td>33.791987</td>\n",
       "      <td>-84.385677</td>\n",
       "      <td>GA</td>\n",
       "      <td>ChIJoz4--E8E9YgRxpSO8xC1jj0</td>\n",
       "      <td>Residence Inn Atlanta Midtown/Peachtree at 17th</td>\n",
       "      <td>4.1</td>\n",
       "      <td>723.0</td>\n",
       "      <td>[lodging, point_of_interest, establishment]</td>\n",
       "      <td>30309</td>\n",
       "      <td>1365 Peachtree Street Northeast, Atlanta</td>\n",
       "    </tr>\n",
       "    <tr>\n",
       "      <th>1</th>\n",
       "      <td>33.790216</td>\n",
       "      <td>-84.388776</td>\n",
       "      <td>GA</td>\n",
       "      <td>ChIJh-lI8FoE9YgRyKGKYvLpvA8</td>\n",
       "      <td>Artmore Hotel</td>\n",
       "      <td>3.9</td>\n",
       "      <td>1106.0</td>\n",
       "      <td>[lodging, point_of_interest, establishment]</td>\n",
       "      <td>30309</td>\n",
       "      <td>1302 West Peachtree Street Northwest, Atlanta</td>\n",
       "    </tr>\n",
       "    <tr>\n",
       "      <th>2</th>\n",
       "      <td>33.799427</td>\n",
       "      <td>-84.392589</td>\n",
       "      <td>GA</td>\n",
       "      <td>ChIJFybLXVQE9YgRTePNqN08VnU</td>\n",
       "      <td>Atlanta Peachtree Station</td>\n",
       "      <td>3.6</td>\n",
       "      <td>163.0</td>\n",
       "      <td>[train_station, transit_station, point_of_inte...</td>\n",
       "      <td>30309</td>\n",
       "      <td>1688 Peachtree Road Northwest, Atlanta</td>\n",
       "    </tr>\n",
       "  </tbody>\n",
       "</table>\n",
       "</div>"
      ],
      "text/plain": [
       "    latitude  longitude state                     place_id  \\\n",
       "0  33.791987 -84.385677    GA  ChIJoz4--E8E9YgRxpSO8xC1jj0   \n",
       "1  33.790216 -84.388776    GA  ChIJh-lI8FoE9YgRyKGKYvLpvA8   \n",
       "2  33.799427 -84.392589    GA  ChIJFybLXVQE9YgRTePNqN08VnU   \n",
       "\n",
       "                                              name  rating  num_ratings  \\\n",
       "0  Residence Inn Atlanta Midtown/Peachtree at 17th     4.1        723.0   \n",
       "1                                    Artmore Hotel     3.9       1106.0   \n",
       "2                        Atlanta Peachtree Station     3.6        163.0   \n",
       "\n",
       "                                           poi_types zipcode  \\\n",
       "0        [lodging, point_of_interest, establishment]   30309   \n",
       "1        [lodging, point_of_interest, establishment]   30309   \n",
       "2  [train_station, transit_station, point_of_inte...   30309   \n",
       "\n",
       "                                         address  \n",
       "0       1365 Peachtree Street Northeast, Atlanta  \n",
       "1  1302 West Peachtree Street Northwest, Atlanta  \n",
       "2         1688 Peachtree Road Northwest, Atlanta  "
      ]
     },
     "execution_count": 13,
     "metadata": {},
     "output_type": "execute_result"
    },
    {
     "data": {
      "application/javascript": [
       "\n",
       "            setTimeout(function() {\n",
       "                var nbb_cell_id = 13;\n",
       "                var nbb_unformatted_code = \"poi_df.head(3)\";\n",
       "                var nbb_formatted_code = \"poi_df.head(3)\";\n",
       "                var nbb_cells = Jupyter.notebook.get_cells();\n",
       "                for (var i = 0; i < nbb_cells.length; ++i) {\n",
       "                    if (nbb_cells[i].input_prompt_number == nbb_cell_id) {\n",
       "                        if (nbb_cells[i].get_text() == nbb_unformatted_code) {\n",
       "                             nbb_cells[i].set_text(nbb_formatted_code);\n",
       "                        }\n",
       "                        break;\n",
       "                    }\n",
       "                }\n",
       "            }, 500);\n",
       "            "
      ],
      "text/plain": [
       "<IPython.core.display.Javascript object>"
      ]
     },
     "metadata": {},
     "output_type": "display_data"
    }
   ],
   "source": [
    "poi_df.head(3)"
   ]
  },
  {
   "cell_type": "code",
   "execution_count": 14,
   "id": "a0798e7f",
   "metadata": {
    "scrolled": true
   },
   "outputs": [
    {
     "data": {
      "application/javascript": [
       "\n",
       "            setTimeout(function() {\n",
       "                var nbb_cell_id = 14;\n",
       "                var nbb_unformatted_code = \"# poi_df['primary_type'].value_counts()\";\n",
       "                var nbb_formatted_code = \"# poi_df['primary_type'].value_counts()\";\n",
       "                var nbb_cells = Jupyter.notebook.get_cells();\n",
       "                for (var i = 0; i < nbb_cells.length; ++i) {\n",
       "                    if (nbb_cells[i].input_prompt_number == nbb_cell_id) {\n",
       "                        if (nbb_cells[i].get_text() == nbb_unformatted_code) {\n",
       "                             nbb_cells[i].set_text(nbb_formatted_code);\n",
       "                        }\n",
       "                        break;\n",
       "                    }\n",
       "                }\n",
       "            }, 500);\n",
       "            "
      ],
      "text/plain": [
       "<IPython.core.display.Javascript object>"
      ]
     },
     "metadata": {},
     "output_type": "display_data"
    }
   ],
   "source": [
    "# poi_df['primary_type'].value_counts()"
   ]
  },
  {
   "cell_type": "code",
   "execution_count": 15,
   "id": "79293b51",
   "metadata": {},
   "outputs": [
    {
     "name": "stdout",
     "output_type": "stream",
     "text": [
      "File uploaded to S3 with ETag: \"89b136b22791ae4df5cd71e4b7efe810\"\n"
     ]
    },
    {
     "data": {
      "application/javascript": [
       "\n",
       "            setTimeout(function() {\n",
       "                var nbb_cell_id = 15;\n",
       "                var nbb_unformatted_code = \"\\n# Create an S3 resource instead of using the S3 client that was used earlier\\ns3R = boto3.resource('s3')\\n\\n# Convert the poi_df DataFrame to a csv buffer in memory\\ncsv_buffer = io.StringIO()\\npoi_df.to_csv(csv_buffer, index=False)\\n\\n# Naming the file for AWS storage\\nfile_name = 'poi_combined_haystack_ALL.csv'\\n\\n# Uploading the file to S3 and printing the response\\nresponse = s3R.Object(bucket_name, file_name).put(Body=csv_buffer.getvalue())\\nprint(f\\\"File uploaded to S3 with ETag: {response['ETag']}\\\") # Checking the status to confirm it was uploaded\";\n",
       "                var nbb_formatted_code = \"# Create an S3 resource instead of using the S3 client that was used earlier\\ns3R = boto3.resource(\\\"s3\\\")\\n\\n# Convert the poi_df DataFrame to a csv buffer in memory\\ncsv_buffer = io.StringIO()\\npoi_df.to_csv(csv_buffer, index=False)\\n\\n# Naming the file for AWS storage\\nfile_name = \\\"poi_combined_haystack_ALL.csv\\\"\\n\\n# Uploading the file to S3 and printing the response\\nresponse = s3R.Object(bucket_name, file_name).put(Body=csv_buffer.getvalue())\\nprint(\\n    f\\\"File uploaded to S3 with ETag: {response['ETag']}\\\"\\n)  # Checking the status to confirm it was uploaded\";\n",
       "                var nbb_cells = Jupyter.notebook.get_cells();\n",
       "                for (var i = 0; i < nbb_cells.length; ++i) {\n",
       "                    if (nbb_cells[i].input_prompt_number == nbb_cell_id) {\n",
       "                        if (nbb_cells[i].get_text() == nbb_unformatted_code) {\n",
       "                             nbb_cells[i].set_text(nbb_formatted_code);\n",
       "                        }\n",
       "                        break;\n",
       "                    }\n",
       "                }\n",
       "            }, 500);\n",
       "            "
      ],
      "text/plain": [
       "<IPython.core.display.Javascript object>"
      ]
     },
     "metadata": {},
     "output_type": "display_data"
    }
   ],
   "source": [
    "\n",
    "# Create an S3 resource instead of using the S3 client that was used earlier\n",
    "s3R = boto3.resource('s3')\n",
    "\n",
    "# Convert the poi_df DataFrame to a csv buffer in memory\n",
    "csv_buffer = io.StringIO()\n",
    "poi_df.to_csv(csv_buffer, index=False)\n",
    "\n",
    "# Naming the file for AWS storage\n",
    "file_name = 'poi_combined_haystack_ALL.csv'\n",
    "\n",
    "# Uploading the file to S3 and printing the response\n",
    "response = s3R.Object(bucket_name, file_name).put(Body=csv_buffer.getvalue())\n",
    "print(f\"File uploaded to S3 with ETag: {response['ETag']}\") # Checking the status to confirm it was uploaded\n"
   ]
  },
  {
   "cell_type": "code",
   "execution_count": null,
   "id": "1dc205e5",
   "metadata": {},
   "outputs": [],
   "source": []
  }
 ],
 "metadata": {
  "kernelspec": {
   "display_name": "Python 3 (ipykernel)",
   "language": "python",
   "name": "python3"
  },
  "language_info": {
   "codemirror_mode": {
    "name": "ipython",
    "version": 3
   },
   "file_extension": ".py",
   "mimetype": "text/x-python",
   "name": "python",
   "nbconvert_exporter": "python",
   "pygments_lexer": "ipython3",
   "version": "3.9.12"
  }
 },
 "nbformat": 4,
 "nbformat_minor": 5
}
