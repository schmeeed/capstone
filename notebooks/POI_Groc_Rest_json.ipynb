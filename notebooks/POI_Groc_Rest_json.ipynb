{
 "cells": [
  {
   "cell_type": "code",
   "execution_count": 23,
   "id": "300842f9",
   "metadata": {},
   "outputs": [
    {
     "name": "stdout",
     "output_type": "stream",
     "text": [
      "The nb_black extension is already loaded. To reload it, use:\n",
      "  %reload_ext nb_black\n"
     ]
    },
    {
     "data": {
      "application/javascript": [
       "\n",
       "            setTimeout(function() {\n",
       "                var nbb_cell_id = 23;\n",
       "                var nbb_unformatted_code = \"import pandas as pd\\nimport boto3\\nimport json\\nimport pandas as pd\\nimport geopy\\nfrom geopy.geocoders import Nominatim\\nimport time\\n\\n# the below extension properly formats a cell after it is run\\n%load_ext nb_black\\n\\n# Set the maximum number of rows to 200\\npd.set_option(\\\"display.max_rows\\\", 200)\\nimport pandas as pd\\n\\n# Set the maximum number of columns to 200\\npd.set_option(\\\"display.max_columns\\\", 200)\";\n",
       "                var nbb_formatted_code = \"import pandas as pd\\nimport boto3\\nimport json\\nimport pandas as pd\\nimport geopy\\nfrom geopy.geocoders import Nominatim\\nimport time\\n\\n# the below extension properly formats a cell after it is run\\n%load_ext nb_black\\n\\n# Set the maximum number of rows to 200\\npd.set_option(\\\"display.max_rows\\\", 200)\\nimport pandas as pd\\n\\n# Set the maximum number of columns to 200\\npd.set_option(\\\"display.max_columns\\\", 200)\";\n",
       "                var nbb_cells = Jupyter.notebook.get_cells();\n",
       "                for (var i = 0; i < nbb_cells.length; ++i) {\n",
       "                    if (nbb_cells[i].input_prompt_number == nbb_cell_id) {\n",
       "                        if (nbb_cells[i].get_text() == nbb_unformatted_code) {\n",
       "                             nbb_cells[i].set_text(nbb_formatted_code);\n",
       "                        }\n",
       "                        break;\n",
       "                    }\n",
       "                }\n",
       "            }, 500);\n",
       "            "
      ],
      "text/plain": [
       "<IPython.core.display.Javascript object>"
      ]
     },
     "metadata": {},
     "output_type": "display_data"
    }
   ],
   "source": [
    "import pandas as pd\n",
    "import boto3\n",
    "import json\n",
    "import pandas as pd\n",
    "import io\n",
    "\n",
    "# the below extension properly formats a cell after it is run\n",
    "%load_ext nb_black\n",
    "\n",
    "# Set the maximum number of rows to 200\n",
    "pd.set_option(\"display.max_rows\", 200)\n",
    "import pandas as pd\n",
    "\n",
    "# Set the maximum number of columns to 200\n",
    "pd.set_option(\"display.max_columns\", 200)"
   ]
  },
  {
   "cell_type": "code",
   "execution_count": 24,
   "id": "190bcfd8",
   "metadata": {},
   "outputs": [
    {
     "data": {
      "application/javascript": [
       "\n",
       "            setTimeout(function() {\n",
       "                var nbb_cell_id = 24;\n",
       "                var nbb_unformatted_code = \"\\n\\n# Creating an S3 client object\\ns3 = boto3.client('s3')\\n\\n# Specifying the name of the bucket\\nbucket_name = 'capstonehaystacks'\\n\\n# Downloading the all_zips_grocery_store.json file from S3 and parsing it into data1\\nresponse1 = s3.get_object(Bucket=bucket_name, Key='all_zips_grocery_store.json')\\njson_content1 = response1['Body'].read().decode('utf-8')\\ngrocery_json = json.loads(json_content1)\\n\\n# Downloading the all_zips_restaurant.json file from S3 and parsing it into data2\\nresponse2 = s3.get_object(Bucket=bucket_name, Key='all_zips_restaurant.json')\\njson_content2 = response2['Body'].read().decode('utf-8')\\nrestaurant_json = json.loads(json_content2)\";\n",
       "                var nbb_formatted_code = \"# Creating an S3 client object\\ns3 = boto3.client(\\\"s3\\\")\\n\\n# Specifying the name of the bucket\\nbucket_name = \\\"capstonehaystacks\\\"\\n\\n# Downloading the all_zips_grocery_store.json file from S3 and parsing it into data1\\nresponse1 = s3.get_object(Bucket=bucket_name, Key=\\\"all_zips_grocery_store.json\\\")\\njson_content1 = response1[\\\"Body\\\"].read().decode(\\\"utf-8\\\")\\ngrocery_json = json.loads(json_content1)\\n\\n# Downloading the all_zips_restaurant.json file from S3 and parsing it into data2\\nresponse2 = s3.get_object(Bucket=bucket_name, Key=\\\"all_zips_restaurant.json\\\")\\njson_content2 = response2[\\\"Body\\\"].read().decode(\\\"utf-8\\\")\\nrestaurant_json = json.loads(json_content2)\";\n",
       "                var nbb_cells = Jupyter.notebook.get_cells();\n",
       "                for (var i = 0; i < nbb_cells.length; ++i) {\n",
       "                    if (nbb_cells[i].input_prompt_number == nbb_cell_id) {\n",
       "                        if (nbb_cells[i].get_text() == nbb_unformatted_code) {\n",
       "                             nbb_cells[i].set_text(nbb_formatted_code);\n",
       "                        }\n",
       "                        break;\n",
       "                    }\n",
       "                }\n",
       "            }, 500);\n",
       "            "
      ],
      "text/plain": [
       "<IPython.core.display.Javascript object>"
      ]
     },
     "metadata": {},
     "output_type": "display_data"
    }
   ],
   "source": [
    "\n",
    "\n",
    "# Creating an S3 client object\n",
    "s3 = boto3.client('s3')\n",
    "\n",
    "# Specifying the name of the bucket\n",
    "bucket_name = 'capstonehaystacks'\n",
    "\n",
    "# Downloading the all_zips_grocery_store.json file from S3 and parsing it into data1\n",
    "response1 = s3.get_object(Bucket=bucket_name, Key='all_zips_grocery_store.json')\n",
    "json_content1 = response1['Body'].read().decode('utf-8')\n",
    "grocery_json = json.loads(json_content1)\n",
    "\n",
    "# Downloading the all_zips_restaurant.json file from S3 and parsing it into data2\n",
    "response2 = s3.get_object(Bucket=bucket_name, Key='all_zips_restaurant.json')\n",
    "json_content2 = response2['Body'].read().decode('utf-8')\n",
    "restaurant_json = json.loads(json_content2)\n"
   ]
  },
  {
   "cell_type": "code",
   "execution_count": 26,
   "id": "df55c8c1",
   "metadata": {},
   "outputs": [
    {
     "data": {
      "application/javascript": [
       "\n",
       "            setTimeout(function() {\n",
       "                var nbb_cell_id = 26;\n",
       "                var nbb_unformatted_code = \"# THIS CODE LOADS POI'S WITH NO RATINGS AND ALSO INCLUDES ADDRESS AND ZIP CODE COLUMNS\\n\\n\\ndef json_to_df(json):\\n    \\\"\\\"\\\"\\n    Convert a list of JSON objects containing location information into a Pandas DataFrame.\\n\\n    :param json: A list of JSON objects containing location information.\\n    :return: A Pandas DataFrame containing the location information.\\n    \\\"\\\"\\\"\\n    data = []\\n\\n    for j in json:\\n        zipcode_ = j['census_zcta_geoid']\\n        for result in j['responce']['results']:\\n            try:\\n                # extracting the state from the compound code and check if it's 'GA'\\n                state_ = result['plus_code']['compound_code'].split(',')[-2].strip()\\n                poi_types_ = result['types']\\n\\n                if state_ == 'GA':\\n                    # extracting relevant information from the JSON object\\n                    place_id_ = result['place_id']\\n                    latitude_ = result['geometry']['location']['lat']\\n                    longitude_ = result['geometry']['location']['lng']\\n                    rating_ = result.get('rating', None)\\n                    num_ratings_ = result.get('user_ratings_total', None)\\n                    name_ = result['name']\\n                    address_ = result['vicinity']\\n\\n                    # appending the extracted information to the data list\\n                    data.append([latitude_, longitude_, state_, place_id_, name_, rating_, num_ratings_, poi_types_, zipcode_, address_])\\n            except:\\n                pass\\n\\n    # creating df using the data list\\n    df = pd.DataFrame(data, columns=['latitude', 'longitude', 'state', 'place_id', 'name', 'rating', 'num_ratings', 'poi_types', 'zipcode', 'address'])\\n    return df\";\n",
       "                var nbb_formatted_code = \"# THIS CODE LOADS POI'S WITH NO RATINGS AND ALSO INCLUDES ADDRESS AND ZIP CODE COLUMNS\\n\\n\\ndef json_to_df(json):\\n    \\\"\\\"\\\"\\n    Convert a list of JSON objects containing location information into a Pandas DataFrame.\\n\\n    :param json: A list of JSON objects containing location information.\\n    :return: A Pandas DataFrame containing the location information.\\n    \\\"\\\"\\\"\\n    data = []\\n\\n    for j in json:\\n        zipcode_ = j[\\\"census_zcta_geoid\\\"]\\n        for result in j[\\\"responce\\\"][\\\"results\\\"]:\\n            try:\\n                # extracting the state from the compound code and check if it's 'GA'\\n                state_ = result[\\\"plus_code\\\"][\\\"compound_code\\\"].split(\\\",\\\")[-2].strip()\\n                poi_types_ = result[\\\"types\\\"]\\n\\n                if state_ == \\\"GA\\\":\\n                    # extracting relevant information from the JSON object\\n                    place_id_ = result[\\\"place_id\\\"]\\n                    latitude_ = result[\\\"geometry\\\"][\\\"location\\\"][\\\"lat\\\"]\\n                    longitude_ = result[\\\"geometry\\\"][\\\"location\\\"][\\\"lng\\\"]\\n                    rating_ = result.get(\\\"rating\\\", None)\\n                    num_ratings_ = result.get(\\\"user_ratings_total\\\", None)\\n                    name_ = result[\\\"name\\\"]\\n                    address_ = result[\\\"vicinity\\\"]\\n\\n                    # appending the extracted information to the data list\\n                    data.append(\\n                        [\\n                            latitude_,\\n                            longitude_,\\n                            state_,\\n                            place_id_,\\n                            name_,\\n                            rating_,\\n                            num_ratings_,\\n                            poi_types_,\\n                            zipcode_,\\n                            address_,\\n                        ]\\n                    )\\n            except:\\n                pass\\n\\n    # creating df using the data list\\n    df = pd.DataFrame(\\n        data,\\n        columns=[\\n            \\\"latitude\\\",\\n            \\\"longitude\\\",\\n            \\\"state\\\",\\n            \\\"place_id\\\",\\n            \\\"name\\\",\\n            \\\"rating\\\",\\n            \\\"num_ratings\\\",\\n            \\\"poi_types\\\",\\n            \\\"zipcode\\\",\\n            \\\"address\\\",\\n        ],\\n    )\\n    return df\";\n",
       "                var nbb_cells = Jupyter.notebook.get_cells();\n",
       "                for (var i = 0; i < nbb_cells.length; ++i) {\n",
       "                    if (nbb_cells[i].input_prompt_number == nbb_cell_id) {\n",
       "                        if (nbb_cells[i].get_text() == nbb_unformatted_code) {\n",
       "                             nbb_cells[i].set_text(nbb_formatted_code);\n",
       "                        }\n",
       "                        break;\n",
       "                    }\n",
       "                }\n",
       "            }, 500);\n",
       "            "
      ],
      "text/plain": [
       "<IPython.core.display.Javascript object>"
      ]
     },
     "metadata": {},
     "output_type": "display_data"
    }
   ],
   "source": [
    "# # THIS CODE LOADS POI'S WITH NO RATINGS AND ALSO INCLUDES ADDRESS AND ZIP CODE COLUMNS\n",
    "\n",
    "\n",
    "# def json_to_df(json):\n",
    "#     \"\"\"\n",
    "#     Convert a list of JSON objects containing location information into a Pandas DataFrame.\n",
    "\n",
    "#     :param json: A list of JSON objects containing location information.\n",
    "#     :return: A Pandas DataFrame containing the location information.\n",
    "#     \"\"\"\n",
    "#     data = []\n",
    "\n",
    "#     for j in json:\n",
    "#         zipcode_ = j['census_zcta_geoid']\n",
    "#         for result in j['responce']['results']:\n",
    "#             try:\n",
    "#                 # extracting the state from the compound code and check if it's 'GA'\n",
    "#                 state_ = result['plus_code']['compound_code'].split(',')[-2].strip()\n",
    "#                 poi_types_ = result['types']\n",
    "\n",
    "#                 if state_ == 'GA':\n",
    "#                     # extracting relevant information from the JSON object\n",
    "#                     place_id_ = result['place_id']\n",
    "#                     latitude_ = result['geometry']['location']['lat']\n",
    "#                     longitude_ = result['geometry']['location']['lng']\n",
    "#                     rating_ = result.get('rating', None)\n",
    "#                     num_ratings_ = result.get('user_ratings_total', None)\n",
    "#                     name_ = result['name']\n",
    "#                     address_ = result['vicinity']\n",
    "\n",
    "#                     # appending the extracted information to the data list\n",
    "#                     data.append([latitude_, longitude_, state_, place_id_, name_, rating_, num_ratings_, poi_types_, zipcode_, address_])\n",
    "#             except:\n",
    "#                 pass\n",
    "\n",
    "#     # creating df using the data list\n",
    "#     df = pd.DataFrame(data, columns=['latitude', 'longitude', 'state', 'place_id', 'name', 'rating', 'num_ratings', 'poi_types', 'zipcode', 'address'])\n",
    "#     return df\n"
   ]
  },
  {
   "cell_type": "code",
   "execution_count": 30,
   "id": "248c234c",
   "metadata": {},
   "outputs": [
    {
     "data": {
      "application/javascript": [
       "\n",
       "            setTimeout(function() {\n",
       "                var nbb_cell_id = 30;\n",
       "                var nbb_unformatted_code = \"def json_to_df(json):\\n    \\\"\\\"\\\"\\n    Convert a list of JSON objects containing location information into a Pandas DataFrame.\\n\\n    :param json: A list of JSON objects containing location information.\\n    :return: A Pandas DataFrame containing the location information.\\n    \\\"\\\"\\\"\\n    data = []\\n\\n    for j in json:\\n        zipcode_ = j['census_zcta_geoid']\\n        for result in j['responce']['results']:\\n            try:\\n                # extracting the state from the compound code and check if it's 'GA'\\n                state_ = result['plus_code']['compound_code'].split(',')[-2].strip()\\n                poi_types_ = result['types']\\n\\n                if state_ == 'GA':\\n                    # extracting relevant information from the JSON object\\n                    place_id_ = result['place_id']\\n                    latitude_ = result['geometry']['location']['lat']\\n                    longitude_ = result['geometry']['location']['lng']\\n                    rating_ = result.get('rating', None)\\n                    num_ratings_ = result.get('user_ratings_total', None)\\n                    name_ = result['name']\\n                    address_ = result['vicinity']\\n\\n                    # check if the POI has user reviews\\n                    if num_ratings_ is not None and num_ratings_ > 0:\\n                        # appending the extracted information to the data list\\n                        data.append([latitude_, longitude_, state_, place_id_, name_, rating_, num_ratings_, poi_types_, zipcode_, address_])\\n            except:\\n                pass\\n\\n    # creating df using the data list\\n    df = pd.DataFrame(data, columns=['latitude', 'longitude', 'state', 'place_id', 'name', 'rating', 'num_ratings', 'poi_types', 'zipcode', 'address'])\\n    return df\";\n",
       "                var nbb_formatted_code = \"def json_to_df(json):\\n    \\\"\\\"\\\"\\n    Convert a list of JSON objects containing location information into a Pandas DataFrame.\\n\\n    :param json: A list of JSON objects containing location information.\\n    :return: A Pandas DataFrame containing the location information.\\n    \\\"\\\"\\\"\\n    data = []\\n\\n    for j in json:\\n        zipcode_ = j[\\\"census_zcta_geoid\\\"]\\n        for result in j[\\\"responce\\\"][\\\"results\\\"]:\\n            try:\\n                # extracting the state from the compound code and check if it's 'GA'\\n                state_ = result[\\\"plus_code\\\"][\\\"compound_code\\\"].split(\\\",\\\")[-2].strip()\\n                poi_types_ = result[\\\"types\\\"]\\n\\n                if state_ == \\\"GA\\\":\\n                    # extracting relevant information from the JSON object\\n                    place_id_ = result[\\\"place_id\\\"]\\n                    latitude_ = result[\\\"geometry\\\"][\\\"location\\\"][\\\"lat\\\"]\\n                    longitude_ = result[\\\"geometry\\\"][\\\"location\\\"][\\\"lng\\\"]\\n                    rating_ = result.get(\\\"rating\\\", None)\\n                    num_ratings_ = result.get(\\\"user_ratings_total\\\", None)\\n                    name_ = result[\\\"name\\\"]\\n                    address_ = result[\\\"vicinity\\\"]\\n\\n                    # check if the POI has user reviews\\n                    if num_ratings_ is not None and num_ratings_ > 0:\\n                        # appending the extracted information to the data list\\n                        data.append(\\n                            [\\n                                latitude_,\\n                                longitude_,\\n                                state_,\\n                                place_id_,\\n                                name_,\\n                                rating_,\\n                                num_ratings_,\\n                                poi_types_,\\n                                zipcode_,\\n                                address_,\\n                            ]\\n                        )\\n            except:\\n                pass\\n\\n    # creating df using the data list\\n    df = pd.DataFrame(\\n        data,\\n        columns=[\\n            \\\"latitude\\\",\\n            \\\"longitude\\\",\\n            \\\"state\\\",\\n            \\\"place_id\\\",\\n            \\\"name\\\",\\n            \\\"rating\\\",\\n            \\\"num_ratings\\\",\\n            \\\"poi_types\\\",\\n            \\\"zipcode\\\",\\n            \\\"address\\\",\\n        ],\\n    )\\n    return df\";\n",
       "                var nbb_cells = Jupyter.notebook.get_cells();\n",
       "                for (var i = 0; i < nbb_cells.length; ++i) {\n",
       "                    if (nbb_cells[i].input_prompt_number == nbb_cell_id) {\n",
       "                        if (nbb_cells[i].get_text() == nbb_unformatted_code) {\n",
       "                             nbb_cells[i].set_text(nbb_formatted_code);\n",
       "                        }\n",
       "                        break;\n",
       "                    }\n",
       "                }\n",
       "            }, 500);\n",
       "            "
      ],
      "text/plain": [
       "<IPython.core.display.Javascript object>"
      ]
     },
     "metadata": {},
     "output_type": "display_data"
    }
   ],
   "source": [
    "# THIS CODE LOADS ONLY OBSERVATIONS WITH RATINGS\n",
    "\n",
    "def json_to_df(json):\n",
    "    \"\"\"\n",
    "    Convert a list of JSON objects containing location information into a Pandas DataFrame.\n",
    "\n",
    "    :param json: A list of JSON objects containing location information.\n",
    "    :return: A Pandas DataFrame containing the location information.\n",
    "    \"\"\"\n",
    "    data = []\n",
    "\n",
    "    for j in json:\n",
    "        zipcode_ = j['census_zcta_geoid']\n",
    "        for result in j['responce']['results']:\n",
    "            try:\n",
    "                # extracting the state from the compound code and check if it's 'GA'\n",
    "                state_ = result['plus_code']['compound_code'].split(',')[-2].strip()\n",
    "                poi_types_ = result['types']\n",
    "\n",
    "                if state_ == 'GA':\n",
    "                    # extracting relevant information from the JSON object\n",
    "                    place_id_ = result['place_id']\n",
    "                    latitude_ = result['geometry']['location']['lat']\n",
    "                    longitude_ = result['geometry']['location']['lng']\n",
    "                    rating_ = result.get('rating', None)\n",
    "                    num_ratings_ = result.get('user_ratings_total', None)\n",
    "                    name_ = result['name']\n",
    "                    address_ = result['vicinity']\n",
    "\n",
    "                    # check if the POI has user reviews\n",
    "                    if num_ratings_ is not None and num_ratings_ > 0:\n",
    "                        # appending the extracted information to the data list\n",
    "                        data.append([latitude_, longitude_, state_, place_id_, name_, rating_, num_ratings_, poi_types_, zipcode_, address_])\n",
    "            except:\n",
    "                pass\n",
    "\n",
    "    # creating df using the data list\n",
    "    df = pd.DataFrame(data, columns=['latitude', 'longitude', 'state', 'place_id', 'name', 'rating', 'num_ratings', 'poi_types', 'zipcode', 'address'])\n",
    "    return df\n"
   ]
  },
  {
   "cell_type": "code",
   "execution_count": 31,
   "id": "a1f146fe",
   "metadata": {},
   "outputs": [
    {
     "data": {
      "application/javascript": [
       "\n",
       "            setTimeout(function() {\n",
       "                var nbb_cell_id = 31;\n",
       "                var nbb_unformatted_code = \"grocery_df = json_to_df(grocery_json)\";\n",
       "                var nbb_formatted_code = \"grocery_df = json_to_df(grocery_json)\";\n",
       "                var nbb_cells = Jupyter.notebook.get_cells();\n",
       "                for (var i = 0; i < nbb_cells.length; ++i) {\n",
       "                    if (nbb_cells[i].input_prompt_number == nbb_cell_id) {\n",
       "                        if (nbb_cells[i].get_text() == nbb_unformatted_code) {\n",
       "                             nbb_cells[i].set_text(nbb_formatted_code);\n",
       "                        }\n",
       "                        break;\n",
       "                    }\n",
       "                }\n",
       "            }, 500);\n",
       "            "
      ],
      "text/plain": [
       "<IPython.core.display.Javascript object>"
      ]
     },
     "metadata": {},
     "output_type": "display_data"
    }
   ],
   "source": [
    "grocery_df = json_to_df(grocery_json)"
   ]
  },
  {
   "cell_type": "code",
   "execution_count": 32,
   "id": "aa53b931",
   "metadata": {},
   "outputs": [
    {
     "data": {
      "text/plain": [
       "(3190, 10)"
      ]
     },
     "execution_count": 32,
     "metadata": {},
     "output_type": "execute_result"
    },
    {
     "data": {
      "application/javascript": [
       "\n",
       "            setTimeout(function() {\n",
       "                var nbb_cell_id = 32;\n",
       "                var nbb_unformatted_code = \"grocery_df.shape\";\n",
       "                var nbb_formatted_code = \"grocery_df.shape\";\n",
       "                var nbb_cells = Jupyter.notebook.get_cells();\n",
       "                for (var i = 0; i < nbb_cells.length; ++i) {\n",
       "                    if (nbb_cells[i].input_prompt_number == nbb_cell_id) {\n",
       "                        if (nbb_cells[i].get_text() == nbb_unformatted_code) {\n",
       "                             nbb_cells[i].set_text(nbb_formatted_code);\n",
       "                        }\n",
       "                        break;\n",
       "                    }\n",
       "                }\n",
       "            }, 500);\n",
       "            "
      ],
      "text/plain": [
       "<IPython.core.display.Javascript object>"
      ]
     },
     "metadata": {},
     "output_type": "display_data"
    }
   ],
   "source": [
    "grocery_df.shape"
   ]
  },
  {
   "cell_type": "code",
   "execution_count": 33,
   "id": "e740f49c",
   "metadata": {},
   "outputs": [
    {
     "data": {
      "text/plain": [
       "latitude       0\n",
       "longitude      0\n",
       "state          0\n",
       "place_id       0\n",
       "name           0\n",
       "rating         0\n",
       "num_ratings    0\n",
       "poi_types      0\n",
       "zipcode        0\n",
       "address        0\n",
       "dtype: int64"
      ]
     },
     "execution_count": 33,
     "metadata": {},
     "output_type": "execute_result"
    },
    {
     "data": {
      "application/javascript": [
       "\n",
       "            setTimeout(function() {\n",
       "                var nbb_cell_id = 33;\n",
       "                var nbb_unformatted_code = \"grocery_df.isna().sum()\";\n",
       "                var nbb_formatted_code = \"grocery_df.isna().sum()\";\n",
       "                var nbb_cells = Jupyter.notebook.get_cells();\n",
       "                for (var i = 0; i < nbb_cells.length; ++i) {\n",
       "                    if (nbb_cells[i].input_prompt_number == nbb_cell_id) {\n",
       "                        if (nbb_cells[i].get_text() == nbb_unformatted_code) {\n",
       "                             nbb_cells[i].set_text(nbb_formatted_code);\n",
       "                        }\n",
       "                        break;\n",
       "                    }\n",
       "                }\n",
       "            }, 500);\n",
       "            "
      ],
      "text/plain": [
       "<IPython.core.display.Javascript object>"
      ]
     },
     "metadata": {},
     "output_type": "display_data"
    }
   ],
   "source": [
    "grocery_df.isna().sum()"
   ]
  },
  {
   "cell_type": "code",
   "execution_count": 34,
   "id": "f3ea7c7c",
   "metadata": {},
   "outputs": [
    {
     "data": {
      "application/javascript": [
       "\n",
       "            setTimeout(function() {\n",
       "                var nbb_cell_id = 34;\n",
       "                var nbb_unformatted_code = \"restaurant_df = json_to_df(restaurant_json)\";\n",
       "                var nbb_formatted_code = \"restaurant_df = json_to_df(restaurant_json)\";\n",
       "                var nbb_cells = Jupyter.notebook.get_cells();\n",
       "                for (var i = 0; i < nbb_cells.length; ++i) {\n",
       "                    if (nbb_cells[i].input_prompt_number == nbb_cell_id) {\n",
       "                        if (nbb_cells[i].get_text() == nbb_unformatted_code) {\n",
       "                             nbb_cells[i].set_text(nbb_formatted_code);\n",
       "                        }\n",
       "                        break;\n",
       "                    }\n",
       "                }\n",
       "            }, 500);\n",
       "            "
      ],
      "text/plain": [
       "<IPython.core.display.Javascript object>"
      ]
     },
     "metadata": {},
     "output_type": "display_data"
    }
   ],
   "source": [
    "restaurant_df = json_to_df(restaurant_json)"
   ]
  },
  {
   "cell_type": "code",
   "execution_count": 35,
   "id": "3df5d055",
   "metadata": {},
   "outputs": [
    {
     "data": {
      "text/plain": [
       "(5283, 10)"
      ]
     },
     "execution_count": 35,
     "metadata": {},
     "output_type": "execute_result"
    },
    {
     "data": {
      "application/javascript": [
       "\n",
       "            setTimeout(function() {\n",
       "                var nbb_cell_id = 35;\n",
       "                var nbb_unformatted_code = \"restaurant_df.shape\";\n",
       "                var nbb_formatted_code = \"restaurant_df.shape\";\n",
       "                var nbb_cells = Jupyter.notebook.get_cells();\n",
       "                for (var i = 0; i < nbb_cells.length; ++i) {\n",
       "                    if (nbb_cells[i].input_prompt_number == nbb_cell_id) {\n",
       "                        if (nbb_cells[i].get_text() == nbb_unformatted_code) {\n",
       "                             nbb_cells[i].set_text(nbb_formatted_code);\n",
       "                        }\n",
       "                        break;\n",
       "                    }\n",
       "                }\n",
       "            }, 500);\n",
       "            "
      ],
      "text/plain": [
       "<IPython.core.display.Javascript object>"
      ]
     },
     "metadata": {},
     "output_type": "display_data"
    }
   ],
   "source": [
    "restaurant_df.shape"
   ]
  },
  {
   "cell_type": "code",
   "execution_count": 36,
   "id": "60196f17",
   "metadata": {},
   "outputs": [
    {
     "data": {
      "application/javascript": [
       "\n",
       "            setTimeout(function() {\n",
       "                var nbb_cell_id = 36;\n",
       "                var nbb_unformatted_code = \"poi_df = pd.concat([grocery_df, restaurant_df], axis=0)\";\n",
       "                var nbb_formatted_code = \"poi_df = pd.concat([grocery_df, restaurant_df], axis=0)\";\n",
       "                var nbb_cells = Jupyter.notebook.get_cells();\n",
       "                for (var i = 0; i < nbb_cells.length; ++i) {\n",
       "                    if (nbb_cells[i].input_prompt_number == nbb_cell_id) {\n",
       "                        if (nbb_cells[i].get_text() == nbb_unformatted_code) {\n",
       "                             nbb_cells[i].set_text(nbb_formatted_code);\n",
       "                        }\n",
       "                        break;\n",
       "                    }\n",
       "                }\n",
       "            }, 500);\n",
       "            "
      ],
      "text/plain": [
       "<IPython.core.display.Javascript object>"
      ]
     },
     "metadata": {},
     "output_type": "display_data"
    }
   ],
   "source": [
    "poi_df = pd.concat([grocery_df, restaurant_df], axis=0)"
   ]
  },
  {
   "cell_type": "code",
   "execution_count": 37,
   "id": "61f84422",
   "metadata": {},
   "outputs": [
    {
     "data": {
      "application/javascript": [
       "\n",
       "            setTimeout(function() {\n",
       "                var nbb_cell_id = 37;\n",
       "                var nbb_unformatted_code = \"poi_df[\\\"primary_type\\\"] = poi_df[\\\"poi_types\\\"].apply(lambda x: x[0])\";\n",
       "                var nbb_formatted_code = \"poi_df[\\\"primary_type\\\"] = poi_df[\\\"poi_types\\\"].apply(lambda x: x[0])\";\n",
       "                var nbb_cells = Jupyter.notebook.get_cells();\n",
       "                for (var i = 0; i < nbb_cells.length; ++i) {\n",
       "                    if (nbb_cells[i].input_prompt_number == nbb_cell_id) {\n",
       "                        if (nbb_cells[i].get_text() == nbb_unformatted_code) {\n",
       "                             nbb_cells[i].set_text(nbb_formatted_code);\n",
       "                        }\n",
       "                        break;\n",
       "                    }\n",
       "                }\n",
       "            }, 500);\n",
       "            "
      ],
      "text/plain": [
       "<IPython.core.display.Javascript object>"
      ]
     },
     "metadata": {},
     "output_type": "display_data"
    }
   ],
   "source": [
    "poi_df[\"primary_type\"] = poi_df[\"poi_types\"].apply(lambda x: x[0])"
   ]
  },
  {
   "cell_type": "code",
   "execution_count": 38,
   "id": "96ff5a43",
   "metadata": {},
   "outputs": [
    {
     "data": {
      "text/plain": [
       "latitude        0\n",
       "longitude       0\n",
       "state           0\n",
       "place_id        0\n",
       "name            0\n",
       "rating          0\n",
       "num_ratings     0\n",
       "poi_types       0\n",
       "zipcode         0\n",
       "address         0\n",
       "primary_type    0\n",
       "dtype: int64"
      ]
     },
     "execution_count": 38,
     "metadata": {},
     "output_type": "execute_result"
    },
    {
     "data": {
      "application/javascript": [
       "\n",
       "            setTimeout(function() {\n",
       "                var nbb_cell_id = 38;\n",
       "                var nbb_unformatted_code = \"poi_df.isna().sum()\";\n",
       "                var nbb_formatted_code = \"poi_df.isna().sum()\";\n",
       "                var nbb_cells = Jupyter.notebook.get_cells();\n",
       "                for (var i = 0; i < nbb_cells.length; ++i) {\n",
       "                    if (nbb_cells[i].input_prompt_number == nbb_cell_id) {\n",
       "                        if (nbb_cells[i].get_text() == nbb_unformatted_code) {\n",
       "                             nbb_cells[i].set_text(nbb_formatted_code);\n",
       "                        }\n",
       "                        break;\n",
       "                    }\n",
       "                }\n",
       "            }, 500);\n",
       "            "
      ],
      "text/plain": [
       "<IPython.core.display.Javascript object>"
      ]
     },
     "metadata": {},
     "output_type": "display_data"
    }
   ],
   "source": [
    "poi_df.isna().sum()"
   ]
  },
  {
   "cell_type": "code",
   "execution_count": 40,
   "id": "40580fb1",
   "metadata": {},
   "outputs": [
    {
     "data": {
      "text/html": [
       "<div>\n",
       "<style scoped>\n",
       "    .dataframe tbody tr th:only-of-type {\n",
       "        vertical-align: middle;\n",
       "    }\n",
       "\n",
       "    .dataframe tbody tr th {\n",
       "        vertical-align: top;\n",
       "    }\n",
       "\n",
       "    .dataframe thead th {\n",
       "        text-align: right;\n",
       "    }\n",
       "</style>\n",
       "<table border=\"1\" class=\"dataframe\">\n",
       "  <thead>\n",
       "    <tr style=\"text-align: right;\">\n",
       "      <th></th>\n",
       "      <th>latitude</th>\n",
       "      <th>longitude</th>\n",
       "      <th>state</th>\n",
       "      <th>place_id</th>\n",
       "      <th>name</th>\n",
       "      <th>rating</th>\n",
       "      <th>num_ratings</th>\n",
       "      <th>poi_types</th>\n",
       "      <th>zipcode</th>\n",
       "      <th>address</th>\n",
       "      <th>primary_type</th>\n",
       "    </tr>\n",
       "  </thead>\n",
       "  <tbody>\n",
       "    <tr>\n",
       "      <th>0</th>\n",
       "      <td>33.791987</td>\n",
       "      <td>-84.385677</td>\n",
       "      <td>GA</td>\n",
       "      <td>ChIJoz4--E8E9YgRxpSO8xC1jj0</td>\n",
       "      <td>Residence Inn Atlanta Midtown/Peachtree at 17th</td>\n",
       "      <td>4.1</td>\n",
       "      <td>723</td>\n",
       "      <td>[lodging, point_of_interest, establishment]</td>\n",
       "      <td>30309</td>\n",
       "      <td>1365 Peachtree Street Northeast, Atlanta</td>\n",
       "      <td>lodging</td>\n",
       "    </tr>\n",
       "    <tr>\n",
       "      <th>1</th>\n",
       "      <td>33.790216</td>\n",
       "      <td>-84.388776</td>\n",
       "      <td>GA</td>\n",
       "      <td>ChIJh-lI8FoE9YgRyKGKYvLpvA8</td>\n",
       "      <td>Artmore Hotel</td>\n",
       "      <td>3.9</td>\n",
       "      <td>1106</td>\n",
       "      <td>[lodging, point_of_interest, establishment]</td>\n",
       "      <td>30309</td>\n",
       "      <td>1302 West Peachtree Street Northwest, Atlanta</td>\n",
       "      <td>lodging</td>\n",
       "    </tr>\n",
       "    <tr>\n",
       "      <th>2</th>\n",
       "      <td>33.799427</td>\n",
       "      <td>-84.392589</td>\n",
       "      <td>GA</td>\n",
       "      <td>ChIJFybLXVQE9YgRTePNqN08VnU</td>\n",
       "      <td>Atlanta Peachtree Station</td>\n",
       "      <td>3.6</td>\n",
       "      <td>163</td>\n",
       "      <td>[train_station, transit_station, point_of_inte...</td>\n",
       "      <td>30309</td>\n",
       "      <td>1688 Peachtree Road Northwest, Atlanta</td>\n",
       "      <td>train_station</td>\n",
       "    </tr>\n",
       "    <tr>\n",
       "      <th>3</th>\n",
       "      <td>33.797403</td>\n",
       "      <td>-84.387181</td>\n",
       "      <td>GA</td>\n",
       "      <td>ChIJw7eoDVIE9YgRx5tdBoAEvZc</td>\n",
       "      <td>WSB-TV Channel 2 Action News</td>\n",
       "      <td>4.5</td>\n",
       "      <td>224</td>\n",
       "      <td>[point_of_interest, establishment]</td>\n",
       "      <td>30309</td>\n",
       "      <td>1601 West Peachtree Street Northeast, Atlanta</td>\n",
       "      <td>point_of_interest</td>\n",
       "    </tr>\n",
       "    <tr>\n",
       "      <th>4</th>\n",
       "      <td>33.807117</td>\n",
       "      <td>-84.384343</td>\n",
       "      <td>GA</td>\n",
       "      <td>ChIJS6x_52YE9YgRvjzX8rkA3xI</td>\n",
       "      <td>Influence Health - Atlanta, GA</td>\n",
       "      <td>4.5</td>\n",
       "      <td>6</td>\n",
       "      <td>[point_of_interest, establishment]</td>\n",
       "      <td>30309</td>\n",
       "      <td>120 Ottley Drive Northeast suite 150, Atlanta</td>\n",
       "      <td>point_of_interest</td>\n",
       "    </tr>\n",
       "    <tr>\n",
       "      <th>...</th>\n",
       "      <td>...</td>\n",
       "      <td>...</td>\n",
       "      <td>...</td>\n",
       "      <td>...</td>\n",
       "      <td>...</td>\n",
       "      <td>...</td>\n",
       "      <td>...</td>\n",
       "      <td>...</td>\n",
       "      <td>...</td>\n",
       "      <td>...</td>\n",
       "      <td>...</td>\n",
       "    </tr>\n",
       "    <tr>\n",
       "      <th>5278</th>\n",
       "      <td>30.800110</td>\n",
       "      <td>-84.920406</td>\n",
       "      <td>GA</td>\n",
       "      <td>ChIJ4ba6nYUq7YgRSUgZ-9bRWG4</td>\n",
       "      <td>Papa Doc's Lakeside Grill</td>\n",
       "      <td>4.1</td>\n",
       "      <td>14</td>\n",
       "      <td>[restaurant, point_of_interest, food, establis...</td>\n",
       "      <td>32460</td>\n",
       "      <td>3371 Georgia 253, Donalsonville</td>\n",
       "      <td>restaurant</td>\n",
       "    </tr>\n",
       "    <tr>\n",
       "      <th>5279</th>\n",
       "      <td>30.800136</td>\n",
       "      <td>-84.920361</td>\n",
       "      <td>GA</td>\n",
       "      <td>ChIJIWan0f9H7YgRJRTfaocDBWQ</td>\n",
       "      <td>Pop's Dockside Grill</td>\n",
       "      <td>4.6</td>\n",
       "      <td>180</td>\n",
       "      <td>[restaurant, point_of_interest, food, establis...</td>\n",
       "      <td>32460</td>\n",
       "      <td>3371 Georgia 253, Donalsonville</td>\n",
       "      <td>restaurant</td>\n",
       "    </tr>\n",
       "    <tr>\n",
       "      <th>5280</th>\n",
       "      <td>33.451486</td>\n",
       "      <td>-81.925004</td>\n",
       "      <td>GA</td>\n",
       "      <td>ChIJCc0PltvL-YgRwMyapR2fSIQ</td>\n",
       "      <td>Subway</td>\n",
       "      <td>4.0</td>\n",
       "      <td>325</td>\n",
       "      <td>[meal_takeaway, restaurant, food, point_of_int...</td>\n",
       "      <td>29842</td>\n",
       "      <td>724 Laney Walker Boulevard Ext, Augusta</td>\n",
       "      <td>meal_takeaway</td>\n",
       "    </tr>\n",
       "    <tr>\n",
       "      <th>5281</th>\n",
       "      <td>34.978807</td>\n",
       "      <td>-85.348016</td>\n",
       "      <td>GA</td>\n",
       "      <td>ChIJ9XcT4ptcYIgRK4bk_0yBwVc</td>\n",
       "      <td>The Lookout Mountain Club</td>\n",
       "      <td>4.6</td>\n",
       "      <td>115</td>\n",
       "      <td>[restaurant, food, point_of_interest, health, ...</td>\n",
       "      <td>37350</td>\n",
       "      <td>1201 Fleetwood Drive, Lookout Mountain</td>\n",
       "      <td>restaurant</td>\n",
       "    </tr>\n",
       "    <tr>\n",
       "      <th>5282</th>\n",
       "      <td>34.973637</td>\n",
       "      <td>-85.347900</td>\n",
       "      <td>GA</td>\n",
       "      <td>ChIJc0168phcYIgRiYeutclvLNk</td>\n",
       "      <td>Rock City’s Cafe 7</td>\n",
       "      <td>4.2</td>\n",
       "      <td>89</td>\n",
       "      <td>[restaurant, food, point_of_interest, establis...</td>\n",
       "      <td>37350</td>\n",
       "      <td>1400 Patten Road, Lookout Mountain</td>\n",
       "      <td>restaurant</td>\n",
       "    </tr>\n",
       "  </tbody>\n",
       "</table>\n",
       "<p>8473 rows × 11 columns</p>\n",
       "</div>"
      ],
      "text/plain": [
       "       latitude  longitude state                     place_id  \\\n",
       "0     33.791987 -84.385677    GA  ChIJoz4--E8E9YgRxpSO8xC1jj0   \n",
       "1     33.790216 -84.388776    GA  ChIJh-lI8FoE9YgRyKGKYvLpvA8   \n",
       "2     33.799427 -84.392589    GA  ChIJFybLXVQE9YgRTePNqN08VnU   \n",
       "3     33.797403 -84.387181    GA  ChIJw7eoDVIE9YgRx5tdBoAEvZc   \n",
       "4     33.807117 -84.384343    GA  ChIJS6x_52YE9YgRvjzX8rkA3xI   \n",
       "...         ...        ...   ...                          ...   \n",
       "5278  30.800110 -84.920406    GA  ChIJ4ba6nYUq7YgRSUgZ-9bRWG4   \n",
       "5279  30.800136 -84.920361    GA  ChIJIWan0f9H7YgRJRTfaocDBWQ   \n",
       "5280  33.451486 -81.925004    GA  ChIJCc0PltvL-YgRwMyapR2fSIQ   \n",
       "5281  34.978807 -85.348016    GA  ChIJ9XcT4ptcYIgRK4bk_0yBwVc   \n",
       "5282  34.973637 -85.347900    GA  ChIJc0168phcYIgRiYeutclvLNk   \n",
       "\n",
       "                                                 name  rating  num_ratings  \\\n",
       "0     Residence Inn Atlanta Midtown/Peachtree at 17th     4.1          723   \n",
       "1                                       Artmore Hotel     3.9         1106   \n",
       "2                           Atlanta Peachtree Station     3.6          163   \n",
       "3                        WSB-TV Channel 2 Action News     4.5          224   \n",
       "4                      Influence Health - Atlanta, GA     4.5            6   \n",
       "...                                               ...     ...          ...   \n",
       "5278                        Papa Doc's Lakeside Grill     4.1           14   \n",
       "5279                             Pop's Dockside Grill     4.6          180   \n",
       "5280                                           Subway     4.0          325   \n",
       "5281                        The Lookout Mountain Club     4.6          115   \n",
       "5282                               Rock City’s Cafe 7     4.2           89   \n",
       "\n",
       "                                              poi_types zipcode  \\\n",
       "0           [lodging, point_of_interest, establishment]   30309   \n",
       "1           [lodging, point_of_interest, establishment]   30309   \n",
       "2     [train_station, transit_station, point_of_inte...   30309   \n",
       "3                    [point_of_interest, establishment]   30309   \n",
       "4                    [point_of_interest, establishment]   30309   \n",
       "...                                                 ...     ...   \n",
       "5278  [restaurant, point_of_interest, food, establis...   32460   \n",
       "5279  [restaurant, point_of_interest, food, establis...   32460   \n",
       "5280  [meal_takeaway, restaurant, food, point_of_int...   29842   \n",
       "5281  [restaurant, food, point_of_interest, health, ...   37350   \n",
       "5282  [restaurant, food, point_of_interest, establis...   37350   \n",
       "\n",
       "                                            address       primary_type  \n",
       "0          1365 Peachtree Street Northeast, Atlanta            lodging  \n",
       "1     1302 West Peachtree Street Northwest, Atlanta            lodging  \n",
       "2            1688 Peachtree Road Northwest, Atlanta      train_station  \n",
       "3     1601 West Peachtree Street Northeast, Atlanta  point_of_interest  \n",
       "4     120 Ottley Drive Northeast suite 150, Atlanta  point_of_interest  \n",
       "...                                             ...                ...  \n",
       "5278                3371 Georgia 253, Donalsonville         restaurant  \n",
       "5279                3371 Georgia 253, Donalsonville         restaurant  \n",
       "5280        724 Laney Walker Boulevard Ext, Augusta      meal_takeaway  \n",
       "5281         1201 Fleetwood Drive, Lookout Mountain         restaurant  \n",
       "5282             1400 Patten Road, Lookout Mountain         restaurant  \n",
       "\n",
       "[8473 rows x 11 columns]"
      ]
     },
     "execution_count": 40,
     "metadata": {},
     "output_type": "execute_result"
    },
    {
     "data": {
      "application/javascript": [
       "\n",
       "            setTimeout(function() {\n",
       "                var nbb_cell_id = 40;\n",
       "                var nbb_unformatted_code = \"poi_df\";\n",
       "                var nbb_formatted_code = \"poi_df\";\n",
       "                var nbb_cells = Jupyter.notebook.get_cells();\n",
       "                for (var i = 0; i < nbb_cells.length; ++i) {\n",
       "                    if (nbb_cells[i].input_prompt_number == nbb_cell_id) {\n",
       "                        if (nbb_cells[i].get_text() == nbb_unformatted_code) {\n",
       "                             nbb_cells[i].set_text(nbb_formatted_code);\n",
       "                        }\n",
       "                        break;\n",
       "                    }\n",
       "                }\n",
       "            }, 500);\n",
       "            "
      ],
      "text/plain": [
       "<IPython.core.display.Javascript object>"
      ]
     },
     "metadata": {},
     "output_type": "display_data"
    }
   ],
   "source": [
    "poi_df"
   ]
  },
  {
   "cell_type": "code",
   "execution_count": 41,
   "id": "a0798e7f",
   "metadata": {
    "scrolled": true
   },
   "outputs": [
    {
     "data": {
      "text/plain": [
       "restaurant                 3058\n",
       "meal_takeaway              1006\n",
       "point_of_interest           645\n",
       "bar                         499\n",
       "lodging                     335\n",
       "cafe                        269\n",
       "church                      263\n",
       "meal_delivery               224\n",
       "convenience_store           186\n",
       "gas_station                 179\n",
       "store                       128\n",
       "general_contractor           98\n",
       "secondary_school             77\n",
       "car_repair                   71\n",
       "doctor                       62\n",
       "drugstore                    55\n",
       "post_office                  50\n",
       "grocery_or_supermarket       49\n",
       "local_government_office      48\n",
       "health                       43\n",
       "home_goods_store             42\n",
       "bakery                       42\n",
       "bank                         41\n",
       "department_store             40\n",
       "tourist_attraction           40\n",
       "finance                      39\n",
       "school                       37\n",
       "park                         34\n",
       "clothing_store               33\n",
       "hospital                     29\n",
       "real_estate_agency           27\n",
       "insurance_agency             27\n",
       "car_dealer                   25\n",
       "pharmacy                     25\n",
       "bowling_alley                24\n",
       "university                   24\n",
       "library                      23\n",
       "primary_school               22\n",
       "night_club                   22\n",
       "electronics_store            20\n",
       "furniture_store              20\n",
       "police                       20\n",
       "courthouse                   19\n",
       "shopping_mall                19\n",
       "funeral_home                 19\n",
       "dentist                      18\n",
       "food                         18\n",
       "museum                       18\n",
       "campground                   17\n",
       "movie_theater                17\n",
       "gym                          17\n",
       "accounting                   16\n",
       "shoe_store                   16\n",
       "hardware_store               16\n",
       "beauty_salon                 16\n",
       "supermarket                  15\n",
       "travel_agency                15\n",
       "storage                      14\n",
       "plumber                      13\n",
       "liquor_store                 12\n",
       "city_hall                    11\n",
       "veterinary_care              11\n",
       "airport                      11\n",
       "roofing_contractor           10\n",
       "atm                          10\n",
       "lawyer                       10\n",
       "hair_care                     9\n",
       "rv_park                       8\n",
       "art_gallery                   8\n",
       "moving_company                8\n",
       "fire_station                  7\n",
       "movie_rental                  6\n",
       "book_store                    6\n",
       "train_station                 5\n",
       "cemetery                      5\n",
       "jewelry_store                 5\n",
       "car_rental                    5\n",
       "laundry                       5\n",
       "spa                           5\n",
       "stadium                       5\n",
       "electrician                   4\n",
       "painter                       4\n",
       "amusement_park                3\n",
       "florist                       3\n",
       "place_of_worship              3\n",
       "zoo                           2\n",
       "pet_store                     2\n",
       "parking                       1\n",
       "car_wash                      1\n",
       "physiotherapist               1\n",
       "transit_station               1\n",
       "premise                       1\n",
       "bicycle_store                 1\n",
       "Name: primary_type, dtype: int64"
      ]
     },
     "execution_count": 41,
     "metadata": {},
     "output_type": "execute_result"
    },
    {
     "data": {
      "application/javascript": [
       "\n",
       "            setTimeout(function() {\n",
       "                var nbb_cell_id = 41;\n",
       "                var nbb_unformatted_code = \"poi_df['primary_type'].value_counts()\";\n",
       "                var nbb_formatted_code = \"poi_df[\\\"primary_type\\\"].value_counts()\";\n",
       "                var nbb_cells = Jupyter.notebook.get_cells();\n",
       "                for (var i = 0; i < nbb_cells.length; ++i) {\n",
       "                    if (nbb_cells[i].input_prompt_number == nbb_cell_id) {\n",
       "                        if (nbb_cells[i].get_text() == nbb_unformatted_code) {\n",
       "                             nbb_cells[i].set_text(nbb_formatted_code);\n",
       "                        }\n",
       "                        break;\n",
       "                    }\n",
       "                }\n",
       "            }, 500);\n",
       "            "
      ],
      "text/plain": [
       "<IPython.core.display.Javascript object>"
      ]
     },
     "metadata": {},
     "output_type": "display_data"
    }
   ],
   "source": [
    "poi_df['primary_type'].value_counts()\n",
    "\n"
   ]
  },
  {
   "cell_type": "code",
   "execution_count": 43,
   "id": "79293b51",
   "metadata": {},
   "outputs": [
    {
     "name": "stdout",
     "output_type": "stream",
     "text": [
      "File uploaded to S3 with ETag: \"00852aa0dcf8a578eab3ca4b4eb892c1\"\n"
     ]
    },
    {
     "data": {
      "application/javascript": [
       "\n",
       "            setTimeout(function() {\n",
       "                var nbb_cell_id = 43;\n",
       "                var nbb_unformatted_code = \"import io\\n# Create an S3 resource instead of using the S3 client that was used earlier\\ns3R = boto3.resource('s3')\\n\\n# Convert the poi_df DataFrame to a csv buffer in memory\\ncsv_buffer = io.StringIO()\\npoi_df.to_csv(csv_buffer, index=False)\\n\\n# Naming the file for AWS storage\\nfile_name = 'poi_combined_haystack.csv'\\n\\n# Uploading the file to S3 and printing the response\\nresponse = s3R.Object(bucket_name, file_name).put(Body=csv_buffer.getvalue())\\nprint(f\\\"File uploaded to S3 with ETag: {response['ETag']}\\\") # Checking the status to confirm it was uploaded\";\n",
       "                var nbb_formatted_code = \"import io\\n\\n# Create an S3 resource instead of using the S3 client that was used earlier\\ns3R = boto3.resource(\\\"s3\\\")\\n\\n# Convert the poi_df DataFrame to a csv buffer in memory\\ncsv_buffer = io.StringIO()\\npoi_df.to_csv(csv_buffer, index=False)\\n\\n# Naming the file for AWS storage\\nfile_name = \\\"poi_combined_haystack.csv\\\"\\n\\n# Uploading the file to S3 and printing the response\\nresponse = s3R.Object(bucket_name, file_name).put(Body=csv_buffer.getvalue())\\nprint(\\n    f\\\"File uploaded to S3 with ETag: {response['ETag']}\\\"\\n)  # Checking the status to confirm it was uploaded\";\n",
       "                var nbb_cells = Jupyter.notebook.get_cells();\n",
       "                for (var i = 0; i < nbb_cells.length; ++i) {\n",
       "                    if (nbb_cells[i].input_prompt_number == nbb_cell_id) {\n",
       "                        if (nbb_cells[i].get_text() == nbb_unformatted_code) {\n",
       "                             nbb_cells[i].set_text(nbb_formatted_code);\n",
       "                        }\n",
       "                        break;\n",
       "                    }\n",
       "                }\n",
       "            }, 500);\n",
       "            "
      ],
      "text/plain": [
       "<IPython.core.display.Javascript object>"
      ]
     },
     "metadata": {},
     "output_type": "display_data"
    }
   ],
   "source": [
    "\n",
    "# Create an S3 resource instead of using the S3 client that was used earlier\n",
    "s3R = boto3.resource('s3')\n",
    "\n",
    "# Convert the poi_df DataFrame to a csv buffer in memory\n",
    "csv_buffer = io.StringIO()\n",
    "poi_df.to_csv(csv_buffer, index=False)\n",
    "\n",
    "# Naming the file for AWS storage\n",
    "file_name = 'poi_combined_haystack.csv'\n",
    "\n",
    "# Uploading the file to S3 and printing the response\n",
    "response = s3R.Object(bucket_name, file_name).put(Body=csv_buffer.getvalue())\n",
    "print(f\"File uploaded to S3 with ETag: {response['ETag']}\") # Checking the status to confirm it was uploaded\n"
   ]
  },
  {
   "cell_type": "code",
   "execution_count": null,
   "id": "1dc205e5",
   "metadata": {},
   "outputs": [],
   "source": []
  }
 ],
 "metadata": {
  "kernelspec": {
   "display_name": "Python 3 (ipykernel)",
   "language": "python",
   "name": "python3"
  },
  "language_info": {
   "codemirror_mode": {
    "name": "ipython",
    "version": 3
   },
   "file_extension": ".py",
   "mimetype": "text/x-python",
   "name": "python",
   "nbconvert_exporter": "python",
   "pygments_lexer": "ipython3",
   "version": "3.9.12"
  }
 },
 "nbformat": 4,
 "nbformat_minor": 5
}
