{
 "cells": [
  {
   "cell_type": "code",
   "execution_count": 3,
   "id": "2f1cf45a",
   "metadata": {},
   "outputs": [],
   "source": [
    "import pandas as pd\n",
    "import googlemaps\n",
    "import pickle\n",
    "import os\n",
    "import boto3\n",
    "import time"
   ]
  },
  {
   "cell_type": "code",
   "execution_count": 4,
   "id": "f6d3c41c",
   "metadata": {},
   "outputs": [],
   "source": [
    "s3 = boto3.client('s3')\n",
    "BUCKET_NAME = 'capstonehaystacks'\n",
    "FILE_NAME = 'points-of-interest-google2.csv'\n",
    "\n",
    "file_obj = s3.get_object(Bucket=BUCKET_NAME, Key=FILE_NAME)\n",
    "POI_google = pd.read_csv(file_obj['Body'])"
   ]
  },
  {
   "cell_type": "code",
   "execution_count": 5,
   "id": "480a9a0c",
   "metadata": {},
   "outputs": [
    {
     "data": {
      "text/html": [
       "<div>\n",
       "<style scoped>\n",
       "    .dataframe tbody tr th:only-of-type {\n",
       "        vertical-align: middle;\n",
       "    }\n",
       "\n",
       "    .dataframe tbody tr th {\n",
       "        vertical-align: top;\n",
       "    }\n",
       "\n",
       "    .dataframe thead th {\n",
       "        text-align: right;\n",
       "    }\n",
       "</style>\n",
       "<table border=\"1\" class=\"dataframe\">\n",
       "  <thead>\n",
       "    <tr style=\"text-align: right;\">\n",
       "      <th></th>\n",
       "      <th>name</th>\n",
       "      <th>address</th>\n",
       "      <th>gmap_id</th>\n",
       "      <th>description</th>\n",
       "      <th>latitude</th>\n",
       "      <th>longitude</th>\n",
       "      <th>category</th>\n",
       "      <th>avg_rating</th>\n",
       "      <th>num_of_reviews</th>\n",
       "      <th>price</th>\n",
       "      <th>hours</th>\n",
       "      <th>MISC</th>\n",
       "      <th>state</th>\n",
       "      <th>relative_results</th>\n",
       "      <th>url</th>\n",
       "      <th>zip_code</th>\n",
       "      <th>primary_category</th>\n",
       "    </tr>\n",
       "  </thead>\n",
       "  <tbody>\n",
       "    <tr>\n",
       "      <th>0</th>\n",
       "      <td>H&amp;R Block</td>\n",
       "      <td>H&amp;R Block, 802 Lower Fayetteville Rd Ste C, Ne...</td>\n",
       "      <td>0x88f4c6329748b5b7:0x412418d65ff2fcb7</td>\n",
       "      <td>NaN</td>\n",
       "      <td>33.374876</td>\n",
       "      <td>-84.762020</td>\n",
       "      <td>['Tax preparation service', 'Tax consultant']</td>\n",
       "      <td>4.8</td>\n",
       "      <td>58</td>\n",
       "      <td>NaN</td>\n",
       "      <td>{'Thursday': '10AM–5PM', 'Friday': 'Closed', '...</td>\n",
       "      <td>{'Health &amp; safety': ['Mask required', 'Staff w...</td>\n",
       "      <td>Open ⋅ Closes 5PM</td>\n",
       "      <td>['0x88f4c6685cd3510f:0x154ee5bc850164a6', '0x8...</td>\n",
       "      <td>https://www.google.com/maps/place//data=!4m2!3...</td>\n",
       "      <td>30263</td>\n",
       "      <td>Tax preparation service</td>\n",
       "    </tr>\n",
       "    <tr>\n",
       "      <th>1</th>\n",
       "      <td>Gwinnett Community Bank</td>\n",
       "      <td>Gwinnett Community Bank, 2775 Buford Hwy, Dulu...</td>\n",
       "      <td>0x88f5a28359cb48cd:0xacc5f8fde9522f87</td>\n",
       "      <td>NaN</td>\n",
       "      <td>34.007883</td>\n",
       "      <td>-84.133413</td>\n",
       "      <td>['Bank', 'ATM']</td>\n",
       "      <td>3.0</td>\n",
       "      <td>2</td>\n",
       "      <td>NaN</td>\n",
       "      <td>{'Thursday': '9AM–4PM', 'Friday': '9AM–5PM', '...</td>\n",
       "      <td>{'Service options': ['Drive-through'], 'Access...</td>\n",
       "      <td>Open ⋅ Closes 4PM</td>\n",
       "      <td>['0x88f599224d1b5ec5:0xcf6966bb9d99d4fc', '0x8...</td>\n",
       "      <td>https://www.google.com/maps/place//data=!4m2!3...</td>\n",
       "      <td>30096</td>\n",
       "      <td>Bank</td>\n",
       "    </tr>\n",
       "    <tr>\n",
       "      <th>2</th>\n",
       "      <td>Corley Insurance Inc</td>\n",
       "      <td>Corley Insurance Inc, 2855 Buford Hwy, Duluth,...</td>\n",
       "      <td>0x88f5a284e80502b3:0xfe92519aa603f4d9</td>\n",
       "      <td>NaN</td>\n",
       "      <td>34.006241</td>\n",
       "      <td>-84.136169</td>\n",
       "      <td>['Insurance agency', 'Auto insurance agency', ...</td>\n",
       "      <td>4.1</td>\n",
       "      <td>8</td>\n",
       "      <td>NaN</td>\n",
       "      <td>{'Thursday': '8:30AM–5:30PM', 'Friday': '8:30A...</td>\n",
       "      <td>{'Accessibility': ['Wheelchair accessible entr...</td>\n",
       "      <td>Open ⋅ Closes 5:30PM</td>\n",
       "      <td>['0x88f5a284fb58e8cd:0x8dd0cb71c88449ee', '0x8...</td>\n",
       "      <td>https://www.google.com/maps/place//data=!4m2!3...</td>\n",
       "      <td>30096</td>\n",
       "      <td>Insurance agency</td>\n",
       "    </tr>\n",
       "  </tbody>\n",
       "</table>\n",
       "</div>"
      ],
      "text/plain": [
       "                      name                                            address  \\\n",
       "0                H&R Block  H&R Block, 802 Lower Fayetteville Rd Ste C, Ne...   \n",
       "1  Gwinnett Community Bank  Gwinnett Community Bank, 2775 Buford Hwy, Dulu...   \n",
       "2     Corley Insurance Inc  Corley Insurance Inc, 2855 Buford Hwy, Duluth,...   \n",
       "\n",
       "                                 gmap_id description   latitude  longitude  \\\n",
       "0  0x88f4c6329748b5b7:0x412418d65ff2fcb7         NaN  33.374876 -84.762020   \n",
       "1  0x88f5a28359cb48cd:0xacc5f8fde9522f87         NaN  34.007883 -84.133413   \n",
       "2  0x88f5a284e80502b3:0xfe92519aa603f4d9         NaN  34.006241 -84.136169   \n",
       "\n",
       "                                            category  avg_rating  \\\n",
       "0      ['Tax preparation service', 'Tax consultant']         4.8   \n",
       "1                                    ['Bank', 'ATM']         3.0   \n",
       "2  ['Insurance agency', 'Auto insurance agency', ...         4.1   \n",
       "\n",
       "   num_of_reviews price                                              hours  \\\n",
       "0              58   NaN  {'Thursday': '10AM–5PM', 'Friday': 'Closed', '...   \n",
       "1               2   NaN  {'Thursday': '9AM–4PM', 'Friday': '9AM–5PM', '...   \n",
       "2               8   NaN  {'Thursday': '8:30AM–5:30PM', 'Friday': '8:30A...   \n",
       "\n",
       "                                                MISC                 state  \\\n",
       "0  {'Health & safety': ['Mask required', 'Staff w...     Open ⋅ Closes 5PM   \n",
       "1  {'Service options': ['Drive-through'], 'Access...     Open ⋅ Closes 4PM   \n",
       "2  {'Accessibility': ['Wheelchair accessible entr...  Open ⋅ Closes 5:30PM   \n",
       "\n",
       "                                    relative_results  \\\n",
       "0  ['0x88f4c6685cd3510f:0x154ee5bc850164a6', '0x8...   \n",
       "1  ['0x88f599224d1b5ec5:0xcf6966bb9d99d4fc', '0x8...   \n",
       "2  ['0x88f5a284fb58e8cd:0x8dd0cb71c88449ee', '0x8...   \n",
       "\n",
       "                                                 url  zip_code  \\\n",
       "0  https://www.google.com/maps/place//data=!4m2!3...     30263   \n",
       "1  https://www.google.com/maps/place//data=!4m2!3...     30096   \n",
       "2  https://www.google.com/maps/place//data=!4m2!3...     30096   \n",
       "\n",
       "          primary_category  \n",
       "0  Tax preparation service  \n",
       "1                     Bank  \n",
       "2         Insurance agency  "
      ]
     },
     "execution_count": 5,
     "metadata": {},
     "output_type": "execute_result"
    }
   ],
   "source": [
    "POI_google.head(3)"
   ]
  },
  {
   "cell_type": "code",
   "execution_count": 20,
   "id": "146a03de",
   "metadata": {},
   "outputs": [],
   "source": [
    "with open('../data/secrets.pkl', 'rb') as f:\n",
    "    secrets = pickle.load(f)\n"
   ]
  },
  {
   "cell_type": "code",
   "execution_count": 21,
   "id": "56c33663",
   "metadata": {},
   "outputs": [],
   "source": [
    "API_KEY = secrets['API_KEY']"
   ]
  },
  {
   "cell_type": "code",
   "execution_count": 22,
   "id": "3142f24b",
   "metadata": {},
   "outputs": [],
   "source": [
    "gmaps = googlemaps.Client(key=API_KEY)"
   ]
  },
  {
   "cell_type": "code",
   "execution_count": 26,
   "id": "a0a72ba4",
   "metadata": {},
   "outputs": [],
   "source": [
    "# testing out with 5 first rows\n",
    "test_df = POI_google[:10]"
   ]
  },
  {
   "cell_type": "code",
   "execution_count": 27,
   "id": "042129ec",
   "metadata": {},
   "outputs": [],
   "source": [
    "# Define a function to retrieve the place type for a given place_id\n",
    "def get_place_type(place_id):\n",
    "    # Make a request to the Places API for the place details\n",
    "    place_details = gmaps.place(place_id, fields=['type'])\n",
    "    \n",
    "    # Extract the place types from the response\n",
    "    place_types = place_details['result'].get('type', [])\n",
    "    \n",
    "    # Return the first place type (if any)\n",
    "    if len(place_types) > 0:\n",
    "        return place_types[0]\n",
    "    else:\n",
    "        return None\n",
    "\n",
    "# Define a function to retrieve the place type for each row in your dataframe\n",
    "def get_place_types(df):\n",
    "    # Create an empty list to store the place types\n",
    "    place_types = []\n",
    "    \n",
    "    # Iterate over each row in the dataframe\n",
    "    for index, row in df.iterrows():\n",
    "        # Retrieve the place type for the given place_id\n",
    "        place_type = get_place_type(row['gmap_id'])\n",
    "        \n",
    "        # Append the place type to the list\n",
    "        place_types.append(place_type)\n",
    "        \n",
    "        # Add a sleep to avoid exceeding API rate limits\n",
    "        time.sleep(0.1)\n",
    "    \n",
    "    # Return the list of place types\n",
    "    return place_types"
   ]
  },
  {
   "cell_type": "code",
   "execution_count": 28,
   "id": "8eba2518",
   "metadata": {
    "scrolled": false
   },
   "outputs": [
    {
     "ename": "ApiError",
     "evalue": "INVALID_REQUEST",
     "output_type": "error",
     "traceback": [
      "\u001b[0;31m---------------------------------------------------------------------------\u001b[0m",
      "\u001b[0;31mApiError\u001b[0m                                  Traceback (most recent call last)",
      "Input \u001b[0;32mIn [28]\u001b[0m, in \u001b[0;36m<cell line: 2>\u001b[0;34m()\u001b[0m\n\u001b[1;32m      1\u001b[0m \u001b[38;5;66;03m# Call the function to retrieve the place types for each row\u001b[39;00m\n\u001b[0;32m----> 2\u001b[0m test_df[\u001b[38;5;124m'\u001b[39m\u001b[38;5;124mplace_type\u001b[39m\u001b[38;5;124m'\u001b[39m] \u001b[38;5;241m=\u001b[39m \u001b[43mget_place_types\u001b[49m\u001b[43m(\u001b[49m\u001b[43mtest_df\u001b[49m\u001b[43m)\u001b[49m\n",
      "Input \u001b[0;32mIn [27]\u001b[0m, in \u001b[0;36mget_place_types\u001b[0;34m(df)\u001b[0m\n\u001b[1;32m     20\u001b[0m \u001b[38;5;66;03m# Iterate over each row in the dataframe\u001b[39;00m\n\u001b[1;32m     21\u001b[0m \u001b[38;5;28;01mfor\u001b[39;00m index, row \u001b[38;5;129;01min\u001b[39;00m df\u001b[38;5;241m.\u001b[39miterrows():\n\u001b[1;32m     22\u001b[0m     \u001b[38;5;66;03m# Retrieve the place type for the given place_id\u001b[39;00m\n\u001b[0;32m---> 23\u001b[0m     place_type \u001b[38;5;241m=\u001b[39m \u001b[43mget_place_type\u001b[49m\u001b[43m(\u001b[49m\u001b[43mrow\u001b[49m\u001b[43m[\u001b[49m\u001b[38;5;124;43m'\u001b[39;49m\u001b[38;5;124;43mgmap_id\u001b[39;49m\u001b[38;5;124;43m'\u001b[39;49m\u001b[43m]\u001b[49m\u001b[43m)\u001b[49m\n\u001b[1;32m     25\u001b[0m     \u001b[38;5;66;03m# Append the place type to the list\u001b[39;00m\n\u001b[1;32m     26\u001b[0m     place_types\u001b[38;5;241m.\u001b[39mappend(place_type)\n",
      "Input \u001b[0;32mIn [27]\u001b[0m, in \u001b[0;36mget_place_type\u001b[0;34m(place_id)\u001b[0m\n\u001b[1;32m      2\u001b[0m \u001b[38;5;28;01mdef\u001b[39;00m \u001b[38;5;21mget_place_type\u001b[39m(place_id):\n\u001b[1;32m      3\u001b[0m     \u001b[38;5;66;03m# Make a request to the Places API for the place details\u001b[39;00m\n\u001b[0;32m----> 4\u001b[0m     place_details \u001b[38;5;241m=\u001b[39m \u001b[43mgmaps\u001b[49m\u001b[38;5;241;43m.\u001b[39;49m\u001b[43mplace\u001b[49m\u001b[43m(\u001b[49m\u001b[43mplace_id\u001b[49m\u001b[43m,\u001b[49m\u001b[43m \u001b[49m\u001b[43mfields\u001b[49m\u001b[38;5;241;43m=\u001b[39;49m\u001b[43m[\u001b[49m\u001b[38;5;124;43m'\u001b[39;49m\u001b[38;5;124;43mtype\u001b[39;49m\u001b[38;5;124;43m'\u001b[39;49m\u001b[43m]\u001b[49m\u001b[43m)\u001b[49m\n\u001b[1;32m      6\u001b[0m     \u001b[38;5;66;03m# Extract the place types from the response\u001b[39;00m\n\u001b[1;32m      7\u001b[0m     place_types \u001b[38;5;241m=\u001b[39m place_details[\u001b[38;5;124m'\u001b[39m\u001b[38;5;124mresult\u001b[39m\u001b[38;5;124m'\u001b[39m]\u001b[38;5;241m.\u001b[39mget(\u001b[38;5;124m'\u001b[39m\u001b[38;5;124mtype\u001b[39m\u001b[38;5;124m'\u001b[39m, [])\n",
      "File \u001b[0;32m~/opt/anaconda3/lib/python3.9/site-packages/googlemaps/client.py:445\u001b[0m, in \u001b[0;36mmake_api_method.<locals>.wrapper\u001b[0;34m(*args, **kwargs)\u001b[0m\n\u001b[1;32m    442\u001b[0m \u001b[38;5;129m@functools\u001b[39m\u001b[38;5;241m.\u001b[39mwraps(func)\n\u001b[1;32m    443\u001b[0m \u001b[38;5;28;01mdef\u001b[39;00m \u001b[38;5;21mwrapper\u001b[39m(\u001b[38;5;241m*\u001b[39margs, \u001b[38;5;241m*\u001b[39m\u001b[38;5;241m*\u001b[39mkwargs):\n\u001b[1;32m    444\u001b[0m     args[\u001b[38;5;241m0\u001b[39m]\u001b[38;5;241m.\u001b[39m_extra_params \u001b[38;5;241m=\u001b[39m kwargs\u001b[38;5;241m.\u001b[39mpop(\u001b[38;5;124m\"\u001b[39m\u001b[38;5;124mextra_params\u001b[39m\u001b[38;5;124m\"\u001b[39m, \u001b[38;5;28;01mNone\u001b[39;00m)\n\u001b[0;32m--> 445\u001b[0m     result \u001b[38;5;241m=\u001b[39m \u001b[43mfunc\u001b[49m\u001b[43m(\u001b[49m\u001b[38;5;241;43m*\u001b[39;49m\u001b[43margs\u001b[49m\u001b[43m,\u001b[49m\u001b[43m \u001b[49m\u001b[38;5;241;43m*\u001b[39;49m\u001b[38;5;241;43m*\u001b[39;49m\u001b[43mkwargs\u001b[49m\u001b[43m)\u001b[49m\n\u001b[1;32m    446\u001b[0m     \u001b[38;5;28;01mtry\u001b[39;00m:\n\u001b[1;32m    447\u001b[0m         \u001b[38;5;28;01mdel\u001b[39;00m args[\u001b[38;5;241m0\u001b[39m]\u001b[38;5;241m.\u001b[39m_extra_params\n",
      "File \u001b[0;32m~/opt/anaconda3/lib/python3.9/site-packages/googlemaps/places.py:496\u001b[0m, in \u001b[0;36mplace\u001b[0;34m(client, place_id, session_token, fields, language, reviews_no_translations, reviews_sort)\u001b[0m\n\u001b[1;32m    493\u001b[0m \u001b[38;5;28;01mif\u001b[39;00m reviews_sort:\n\u001b[1;32m    494\u001b[0m     params[\u001b[38;5;124m\"\u001b[39m\u001b[38;5;124mreviews_sort\u001b[39m\u001b[38;5;124m\"\u001b[39m] \u001b[38;5;241m=\u001b[39m reviews_sort\n\u001b[0;32m--> 496\u001b[0m \u001b[38;5;28;01mreturn\u001b[39;00m \u001b[43mclient\u001b[49m\u001b[38;5;241;43m.\u001b[39;49m\u001b[43m_request\u001b[49m\u001b[43m(\u001b[49m\u001b[38;5;124;43m\"\u001b[39;49m\u001b[38;5;124;43m/maps/api/place/details/json\u001b[39;49m\u001b[38;5;124;43m\"\u001b[39;49m\u001b[43m,\u001b[49m\u001b[43m \u001b[49m\u001b[43mparams\u001b[49m\u001b[43m)\u001b[49m\n",
      "File \u001b[0;32m~/opt/anaconda3/lib/python3.9/site-packages/googlemaps/client.py:340\u001b[0m, in \u001b[0;36mClient._request\u001b[0;34m(self, url, params, first_request_time, retry_counter, base_url, accepts_clientid, extract_body, requests_kwargs, post_json)\u001b[0m\n\u001b[1;32m    338\u001b[0m     result \u001b[38;5;241m=\u001b[39m extract_body(response)\n\u001b[1;32m    339\u001b[0m \u001b[38;5;28;01melse\u001b[39;00m:\n\u001b[0;32m--> 340\u001b[0m     result \u001b[38;5;241m=\u001b[39m \u001b[38;5;28;43mself\u001b[39;49m\u001b[38;5;241;43m.\u001b[39;49m\u001b[43m_get_body\u001b[49m\u001b[43m(\u001b[49m\u001b[43mresponse\u001b[49m\u001b[43m)\u001b[49m\n\u001b[1;32m    341\u001b[0m \u001b[38;5;28mself\u001b[39m\u001b[38;5;241m.\u001b[39msent_times\u001b[38;5;241m.\u001b[39mappend(time\u001b[38;5;241m.\u001b[39mtime())\n\u001b[1;32m    342\u001b[0m \u001b[38;5;28;01mreturn\u001b[39;00m result\n",
      "File \u001b[0;32m~/opt/anaconda3/lib/python3.9/site-packages/googlemaps/client.py:369\u001b[0m, in \u001b[0;36mClient._get_body\u001b[0;34m(self, response)\u001b[0m\n\u001b[1;32m    365\u001b[0m \u001b[38;5;28;01mif\u001b[39;00m api_status \u001b[38;5;241m==\u001b[39m \u001b[38;5;124m\"\u001b[39m\u001b[38;5;124mOVER_QUERY_LIMIT\u001b[39m\u001b[38;5;124m\"\u001b[39m:\n\u001b[1;32m    366\u001b[0m     \u001b[38;5;28;01mraise\u001b[39;00m googlemaps\u001b[38;5;241m.\u001b[39mexceptions\u001b[38;5;241m.\u001b[39m_OverQueryLimit(\n\u001b[1;32m    367\u001b[0m         api_status, body\u001b[38;5;241m.\u001b[39mget(\u001b[38;5;124m\"\u001b[39m\u001b[38;5;124merror_message\u001b[39m\u001b[38;5;124m\"\u001b[39m))\n\u001b[0;32m--> 369\u001b[0m \u001b[38;5;28;01mraise\u001b[39;00m googlemaps\u001b[38;5;241m.\u001b[39mexceptions\u001b[38;5;241m.\u001b[39mApiError(api_status,\n\u001b[1;32m    370\u001b[0m                                      body\u001b[38;5;241m.\u001b[39mget(\u001b[38;5;124m\"\u001b[39m\u001b[38;5;124merror_message\u001b[39m\u001b[38;5;124m\"\u001b[39m))\n",
      "\u001b[0;31mApiError\u001b[0m: INVALID_REQUEST"
     ]
    }
   ],
   "source": [
    "# Call the function to retrieve the place types for each row\n",
    "test_df['place_type'] = get_place_types(test_df)"
   ]
  },
  {
   "cell_type": "code",
   "execution_count": 31,
   "id": "2431e427",
   "metadata": {
    "scrolled": true
   },
   "outputs": [
    {
     "ename": "ApiError",
     "evalue": "INVALID_REQUEST",
     "output_type": "error",
     "traceback": [
      "\u001b[0;31m---------------------------------------------------------------------------\u001b[0m",
      "\u001b[0;31mApiError\u001b[0m                                  Traceback (most recent call last)",
      "Input \u001b[0;32mIn [31]\u001b[0m, in \u001b[0;36m<cell line: 4>\u001b[0;34m()\u001b[0m\n\u001b[1;32m      1\u001b[0m \u001b[38;5;66;03m# It looks like the error is caused by an \"INVALID_REQUEST\". \u001b[39;00m\n\u001b[1;32m      2\u001b[0m \u001b[38;5;66;03m# This can happen if the place_id passed to gmaps.place is not valid. \u001b[39;00m\n\u001b[0;32m----> 4\u001b[0m \u001b[43mget_place_type\u001b[49m\u001b[43m(\u001b[49m\u001b[38;5;124;43m'\u001b[39;49m\u001b[38;5;124;43m0x88f4c6329748b5b7:0x412418d65ff2fcb7\u001b[39;49m\u001b[38;5;124;43m'\u001b[39;49m\u001b[43m)\u001b[49m\n",
      "Input \u001b[0;32mIn [27]\u001b[0m, in \u001b[0;36mget_place_type\u001b[0;34m(place_id)\u001b[0m\n\u001b[1;32m      2\u001b[0m \u001b[38;5;28;01mdef\u001b[39;00m \u001b[38;5;21mget_place_type\u001b[39m(place_id):\n\u001b[1;32m      3\u001b[0m     \u001b[38;5;66;03m# Make a request to the Places API for the place details\u001b[39;00m\n\u001b[0;32m----> 4\u001b[0m     place_details \u001b[38;5;241m=\u001b[39m \u001b[43mgmaps\u001b[49m\u001b[38;5;241;43m.\u001b[39;49m\u001b[43mplace\u001b[49m\u001b[43m(\u001b[49m\u001b[43mplace_id\u001b[49m\u001b[43m,\u001b[49m\u001b[43m \u001b[49m\u001b[43mfields\u001b[49m\u001b[38;5;241;43m=\u001b[39;49m\u001b[43m[\u001b[49m\u001b[38;5;124;43m'\u001b[39;49m\u001b[38;5;124;43mtype\u001b[39;49m\u001b[38;5;124;43m'\u001b[39;49m\u001b[43m]\u001b[49m\u001b[43m)\u001b[49m\n\u001b[1;32m      6\u001b[0m     \u001b[38;5;66;03m# Extract the place types from the response\u001b[39;00m\n\u001b[1;32m      7\u001b[0m     place_types \u001b[38;5;241m=\u001b[39m place_details[\u001b[38;5;124m'\u001b[39m\u001b[38;5;124mresult\u001b[39m\u001b[38;5;124m'\u001b[39m]\u001b[38;5;241m.\u001b[39mget(\u001b[38;5;124m'\u001b[39m\u001b[38;5;124mtype\u001b[39m\u001b[38;5;124m'\u001b[39m, [])\n",
      "File \u001b[0;32m~/opt/anaconda3/lib/python3.9/site-packages/googlemaps/client.py:445\u001b[0m, in \u001b[0;36mmake_api_method.<locals>.wrapper\u001b[0;34m(*args, **kwargs)\u001b[0m\n\u001b[1;32m    442\u001b[0m \u001b[38;5;129m@functools\u001b[39m\u001b[38;5;241m.\u001b[39mwraps(func)\n\u001b[1;32m    443\u001b[0m \u001b[38;5;28;01mdef\u001b[39;00m \u001b[38;5;21mwrapper\u001b[39m(\u001b[38;5;241m*\u001b[39margs, \u001b[38;5;241m*\u001b[39m\u001b[38;5;241m*\u001b[39mkwargs):\n\u001b[1;32m    444\u001b[0m     args[\u001b[38;5;241m0\u001b[39m]\u001b[38;5;241m.\u001b[39m_extra_params \u001b[38;5;241m=\u001b[39m kwargs\u001b[38;5;241m.\u001b[39mpop(\u001b[38;5;124m\"\u001b[39m\u001b[38;5;124mextra_params\u001b[39m\u001b[38;5;124m\"\u001b[39m, \u001b[38;5;28;01mNone\u001b[39;00m)\n\u001b[0;32m--> 445\u001b[0m     result \u001b[38;5;241m=\u001b[39m \u001b[43mfunc\u001b[49m\u001b[43m(\u001b[49m\u001b[38;5;241;43m*\u001b[39;49m\u001b[43margs\u001b[49m\u001b[43m,\u001b[49m\u001b[43m \u001b[49m\u001b[38;5;241;43m*\u001b[39;49m\u001b[38;5;241;43m*\u001b[39;49m\u001b[43mkwargs\u001b[49m\u001b[43m)\u001b[49m\n\u001b[1;32m    446\u001b[0m     \u001b[38;5;28;01mtry\u001b[39;00m:\n\u001b[1;32m    447\u001b[0m         \u001b[38;5;28;01mdel\u001b[39;00m args[\u001b[38;5;241m0\u001b[39m]\u001b[38;5;241m.\u001b[39m_extra_params\n",
      "File \u001b[0;32m~/opt/anaconda3/lib/python3.9/site-packages/googlemaps/places.py:496\u001b[0m, in \u001b[0;36mplace\u001b[0;34m(client, place_id, session_token, fields, language, reviews_no_translations, reviews_sort)\u001b[0m\n\u001b[1;32m    493\u001b[0m \u001b[38;5;28;01mif\u001b[39;00m reviews_sort:\n\u001b[1;32m    494\u001b[0m     params[\u001b[38;5;124m\"\u001b[39m\u001b[38;5;124mreviews_sort\u001b[39m\u001b[38;5;124m\"\u001b[39m] \u001b[38;5;241m=\u001b[39m reviews_sort\n\u001b[0;32m--> 496\u001b[0m \u001b[38;5;28;01mreturn\u001b[39;00m \u001b[43mclient\u001b[49m\u001b[38;5;241;43m.\u001b[39;49m\u001b[43m_request\u001b[49m\u001b[43m(\u001b[49m\u001b[38;5;124;43m\"\u001b[39;49m\u001b[38;5;124;43m/maps/api/place/details/json\u001b[39;49m\u001b[38;5;124;43m\"\u001b[39;49m\u001b[43m,\u001b[49m\u001b[43m \u001b[49m\u001b[43mparams\u001b[49m\u001b[43m)\u001b[49m\n",
      "File \u001b[0;32m~/opt/anaconda3/lib/python3.9/site-packages/googlemaps/client.py:340\u001b[0m, in \u001b[0;36mClient._request\u001b[0;34m(self, url, params, first_request_time, retry_counter, base_url, accepts_clientid, extract_body, requests_kwargs, post_json)\u001b[0m\n\u001b[1;32m    338\u001b[0m     result \u001b[38;5;241m=\u001b[39m extract_body(response)\n\u001b[1;32m    339\u001b[0m \u001b[38;5;28;01melse\u001b[39;00m:\n\u001b[0;32m--> 340\u001b[0m     result \u001b[38;5;241m=\u001b[39m \u001b[38;5;28;43mself\u001b[39;49m\u001b[38;5;241;43m.\u001b[39;49m\u001b[43m_get_body\u001b[49m\u001b[43m(\u001b[49m\u001b[43mresponse\u001b[49m\u001b[43m)\u001b[49m\n\u001b[1;32m    341\u001b[0m \u001b[38;5;28mself\u001b[39m\u001b[38;5;241m.\u001b[39msent_times\u001b[38;5;241m.\u001b[39mappend(time\u001b[38;5;241m.\u001b[39mtime())\n\u001b[1;32m    342\u001b[0m \u001b[38;5;28;01mreturn\u001b[39;00m result\n",
      "File \u001b[0;32m~/opt/anaconda3/lib/python3.9/site-packages/googlemaps/client.py:369\u001b[0m, in \u001b[0;36mClient._get_body\u001b[0;34m(self, response)\u001b[0m\n\u001b[1;32m    365\u001b[0m \u001b[38;5;28;01mif\u001b[39;00m api_status \u001b[38;5;241m==\u001b[39m \u001b[38;5;124m\"\u001b[39m\u001b[38;5;124mOVER_QUERY_LIMIT\u001b[39m\u001b[38;5;124m\"\u001b[39m:\n\u001b[1;32m    366\u001b[0m     \u001b[38;5;28;01mraise\u001b[39;00m googlemaps\u001b[38;5;241m.\u001b[39mexceptions\u001b[38;5;241m.\u001b[39m_OverQueryLimit(\n\u001b[1;32m    367\u001b[0m         api_status, body\u001b[38;5;241m.\u001b[39mget(\u001b[38;5;124m\"\u001b[39m\u001b[38;5;124merror_message\u001b[39m\u001b[38;5;124m\"\u001b[39m))\n\u001b[0;32m--> 369\u001b[0m \u001b[38;5;28;01mraise\u001b[39;00m googlemaps\u001b[38;5;241m.\u001b[39mexceptions\u001b[38;5;241m.\u001b[39mApiError(api_status,\n\u001b[1;32m    370\u001b[0m                                      body\u001b[38;5;241m.\u001b[39mget(\u001b[38;5;124m\"\u001b[39m\u001b[38;5;124merror_message\u001b[39m\u001b[38;5;124m\"\u001b[39m))\n",
      "\u001b[0;31mApiError\u001b[0m: INVALID_REQUEST"
     ]
    }
   ],
   "source": [
    "# It looks like the error is caused by an \"INVALID_REQUEST\". \n",
    "# This can happen if the place_id passed to gmaps.place is not valid. \n",
    "\n",
    "get_place_type('0x88f4c6329748b5b7:0x412418d65ff2fcb7')\n",
    "\n",
    "# Ok, the data frame PLace ID's aren't relavent anymore"
   ]
  },
  {
   "cell_type": "code",
   "execution_count": 30,
   "id": "86ed79a9",
   "metadata": {},
   "outputs": [],
   "source": [
    "# I found the ID for my local coffee shop and it works! so the ID's in the document are unusable\n",
    "# https://developers.google.com/maps/documentation/places/web-service/place-id`\n",
    "\n",
    "get_place_type('ChIJnXNTotvIwokRQK1m8aCCTgk')\n",
    "\n",
    "# So we have a bigger issue that that dataframe can't be appended with anything from google API."
   ]
  }
 ],
 "metadata": {
  "kernelspec": {
   "display_name": "Python 3 (ipykernel)",
   "language": "python",
   "name": "python3"
  },
  "language_info": {
   "codemirror_mode": {
    "name": "ipython",
    "version": 3
   },
   "file_extension": ".py",
   "mimetype": "text/x-python",
   "name": "python",
   "nbconvert_exporter": "python",
   "pygments_lexer": "ipython3",
   "version": "3.9.12"
  }
 },
 "nbformat": 4,
 "nbformat_minor": 5
}
