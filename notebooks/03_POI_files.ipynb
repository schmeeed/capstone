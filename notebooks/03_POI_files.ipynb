{
 "cells": [
  {
   "cell_type": "markdown",
   "id": "36fef0b3",
   "metadata": {},
   "source": [
    "## This notebook is for the POI csv's from Google places"
   ]
  },
  {
   "cell_type": "code",
   "execution_count": 36,
   "id": "04f3f451",
   "metadata": {},
   "outputs": [
    {
     "name": "stdout",
     "output_type": "stream",
     "text": [
      "The nb_black extension is already loaded. To reload it, use:\n",
      "  %reload_ext nb_black\n"
     ]
    },
    {
     "data": {
      "application/javascript": [
       "\n",
       "            setTimeout(function() {\n",
       "                var nbb_cell_id = 36;\n",
       "                var nbb_unformatted_code = \"import pandas as pd\\nimport numpy as np\\nimport io\\nimport boto3 # AWS\\n\\n\\n# the below extension properly formats a cell after it is run\\n%load_ext nb_black \\n\\n# Set the maximum number of rows to 200\\npd.set_option(\\\"display.max_rows\\\", 200)\\nimport pandas as pd\\n\\n# Set the maximum number of columns to 200\\npd.set_option('display.max_columns', 200)\";\n",
       "                var nbb_formatted_code = \"import pandas as pd\\nimport numpy as np\\nimport io\\nimport boto3  # AWS\\n\\n\\n# the below extension properly formats a cell after it is run\\n%load_ext nb_black\\n\\n# Set the maximum number of rows to 200\\npd.set_option(\\\"display.max_rows\\\", 200)\\nimport pandas as pd\\n\\n# Set the maximum number of columns to 200\\npd.set_option(\\\"display.max_columns\\\", 200)\";\n",
       "                var nbb_cells = Jupyter.notebook.get_cells();\n",
       "                for (var i = 0; i < nbb_cells.length; ++i) {\n",
       "                    if (nbb_cells[i].input_prompt_number == nbb_cell_id) {\n",
       "                        if (nbb_cells[i].get_text() == nbb_unformatted_code) {\n",
       "                             nbb_cells[i].set_text(nbb_formatted_code);\n",
       "                        }\n",
       "                        break;\n",
       "                    }\n",
       "                }\n",
       "            }, 500);\n",
       "            "
      ],
      "text/plain": [
       "<IPython.core.display.Javascript object>"
      ]
     },
     "metadata": {},
     "output_type": "display_data"
    }
   ],
   "source": [
    "import pandas as pd\n",
    "import numpy as np\n",
    "import io\n",
    "import boto3 # AWS\n",
    "\n",
    "\n",
    "# the below extension properly formats a cell after it is run\n",
    "%load_ext nb_black \n",
    "\n",
    "# Set the maximum number of rows to 200\n",
    "pd.set_option(\"display.max_rows\", 200)\n",
    "import pandas as pd\n",
    "\n",
    "# Set the maximum number of columns to 200\n",
    "pd.set_option('display.max_columns', 200)\n"
   ]
  },
  {
   "cell_type": "markdown",
   "id": "2374a1ab",
   "metadata": {},
   "source": [
    "Combining all of the CSV's I pulled from Google Places"
   ]
  },
  {
   "cell_type": "code",
   "execution_count": 15,
   "id": "9482ec8b",
   "metadata": {},
   "outputs": [
    {
     "data": {
      "application/javascript": [
       "\n",
       "            setTimeout(function() {\n",
       "                var nbb_cell_id = 15;\n",
       "                var nbb_unformatted_code = \"# creating an empty DataFrame\\ndf = pd.DataFrame()\\n\\n# POI files\\nfile_names = ['poi_30039_30076.csv', 'poi_30263_30303.csv', 'poi_30078_30113.csv',\\n              'poi_30114_30161.csv', 'poi_30218_30260.csv', 'poi_30168_30217.csv', 'poi_30002_30038.csv']\\n\\n# looping through the file names and appending the data to the df\\nfor file in file_names:\\n    data = pd.read_csv(file)\\n    df = pd.concat([df, data], ignore_index=True)\\n\\n# save the combined DataFrame to a new CSV file\\ndf.to_csv('combined_poi.csv', index=False)\";\n",
       "                var nbb_formatted_code = \"# creating an empty DataFrame\\ndf = pd.DataFrame()\\n\\n# POI files\\nfile_names = [\\n    \\\"poi_30039_30076.csv\\\",\\n    \\\"poi_30263_30303.csv\\\",\\n    \\\"poi_30078_30113.csv\\\",\\n    \\\"poi_30114_30161.csv\\\",\\n    \\\"poi_30218_30260.csv\\\",\\n    \\\"poi_30168_30217.csv\\\",\\n    \\\"poi_30002_30038.csv\\\",\\n]\\n\\n# looping through the file names and appending the data to the df\\nfor file in file_names:\\n    data = pd.read_csv(file)\\n    df = pd.concat([df, data], ignore_index=True)\\n\\n# save the combined DataFrame to a new CSV file\\ndf.to_csv(\\\"combined_poi.csv\\\", index=False)\";\n",
       "                var nbb_cells = Jupyter.notebook.get_cells();\n",
       "                for (var i = 0; i < nbb_cells.length; ++i) {\n",
       "                    if (nbb_cells[i].input_prompt_number == nbb_cell_id) {\n",
       "                        if (nbb_cells[i].get_text() == nbb_unformatted_code) {\n",
       "                             nbb_cells[i].set_text(nbb_formatted_code);\n",
       "                        }\n",
       "                        break;\n",
       "                    }\n",
       "                }\n",
       "            }, 500);\n",
       "            "
      ],
      "text/plain": [
       "<IPython.core.display.Javascript object>"
      ]
     },
     "metadata": {},
     "output_type": "display_data"
    }
   ],
   "source": [
    "# creating an empty DataFrame\n",
    "df = pd.DataFrame()\n",
    "\n",
    "# POI files\n",
    "file_names = ['poi_30039_30076.csv', 'poi_30263_30303.csv', 'poi_30078_30113.csv',\n",
    "              'poi_30114_30161.csv', 'poi_30218_30260.csv', 'poi_30168_30217.csv', 'poi_30002_30038.csv']\n",
    "\n",
    "# looping through the file names and appending the data to the df\n",
    "for file in file_names:\n",
    "    data = pd.read_csv(file)\n",
    "    df = pd.concat([df, data], ignore_index=True)\n",
    "\n",
    "# save the combined DataFrame to a new CSV file\n",
    "df.to_csv('combined_poi.csv', index=False)\n"
   ]
  },
  {
   "cell_type": "code",
   "execution_count": 16,
   "id": "15606835",
   "metadata": {},
   "outputs": [
    {
     "data": {
      "text/plain": [
       "place_id                   0\n",
       "name                       1\n",
       "rating                    12\n",
       "user_ratings_total        12\n",
       "latitude                   0\n",
       "longitude                  0\n",
       "poi_type                   0\n",
       "zip_code                   0\n",
       "area_radius           115627\n",
       "dtype: int64"
      ]
     },
     "execution_count": 16,
     "metadata": {},
     "output_type": "execute_result"
    },
    {
     "data": {
      "application/javascript": [
       "\n",
       "            setTimeout(function() {\n",
       "                var nbb_cell_id = 16;\n",
       "                var nbb_unformatted_code = \"df.isna().sum()\";\n",
       "                var nbb_formatted_code = \"df.isna().sum()\";\n",
       "                var nbb_cells = Jupyter.notebook.get_cells();\n",
       "                for (var i = 0; i < nbb_cells.length; ++i) {\n",
       "                    if (nbb_cells[i].input_prompt_number == nbb_cell_id) {\n",
       "                        if (nbb_cells[i].get_text() == nbb_unformatted_code) {\n",
       "                             nbb_cells[i].set_text(nbb_formatted_code);\n",
       "                        }\n",
       "                        break;\n",
       "                    }\n",
       "                }\n",
       "            }, 500);\n",
       "            "
      ],
      "text/plain": [
       "<IPython.core.display.Javascript object>"
      ]
     },
     "metadata": {},
     "output_type": "display_data"
    }
   ],
   "source": [
    "df.isna().sum()"
   ]
  },
  {
   "cell_type": "code",
   "execution_count": 4,
   "id": "1c9de391",
   "metadata": {},
   "outputs": [
    {
     "data": {
      "text/plain": [
       "park                  8641\n",
       "cafe                  8378\n",
       "gym                   8180\n",
       "atm                   7737\n",
       "bar                   7387\n",
       "university            7322\n",
       "spa                   7251\n",
       "restaurant            6992\n",
       "store                 6864\n",
       "laundry               6745\n",
       "transit_station       6159\n",
       "supermarket           5393\n",
       "storage               4929\n",
       "parking               4747\n",
       "bus_station           4629\n",
       "bicycle_store         4390\n",
       "night_club            3838\n",
       "bakery                3836\n",
       "movie_theater         3707\n",
       "beauty_salon          2925\n",
       "clothing_store        2679\n",
       "train_station         2176\n",
       "library               2041\n",
       "liquor_store          1779\n",
       "convenience_store     1546\n",
       "car_rental             667\n",
       "pet_store              253\n",
       "real_estate_agency     155\n",
       "book_store             117\n",
       "subway_station          91\n",
       "light_rail_station      34\n",
       "art_gallery              2\n",
       "Name: poi_type, dtype: int64"
      ]
     },
     "execution_count": 4,
     "metadata": {},
     "output_type": "execute_result"
    },
    {
     "data": {
      "application/javascript": [
       "\n",
       "            setTimeout(function() {\n",
       "                var nbb_cell_id = 4;\n",
       "                var nbb_unformatted_code = \"df[\\\"poi_type\\\"].value_counts()\";\n",
       "                var nbb_formatted_code = \"df[\\\"poi_type\\\"].value_counts()\";\n",
       "                var nbb_cells = Jupyter.notebook.get_cells();\n",
       "                for (var i = 0; i < nbb_cells.length; ++i) {\n",
       "                    if (nbb_cells[i].input_prompt_number == nbb_cell_id) {\n",
       "                        if (nbb_cells[i].get_text() == nbb_unformatted_code) {\n",
       "                             nbb_cells[i].set_text(nbb_formatted_code);\n",
       "                        }\n",
       "                        break;\n",
       "                    }\n",
       "                }\n",
       "            }, 500);\n",
       "            "
      ],
      "text/plain": [
       "<IPython.core.display.Javascript object>"
      ]
     },
     "metadata": {},
     "output_type": "display_data"
    }
   ],
   "source": [
    "df[\"poi_type\"].value_counts()"
   ]
  },
  {
   "cell_type": "code",
   "execution_count": 21,
   "id": "daa91a82",
   "metadata": {},
   "outputs": [
    {
     "data": {
      "application/javascript": [
       "\n",
       "            setTimeout(function() {\n",
       "                var nbb_cell_id = 21;\n",
       "                var nbb_unformatted_code = \"df_no_na = df.copy()\";\n",
       "                var nbb_formatted_code = \"df_no_na = df.copy()\";\n",
       "                var nbb_cells = Jupyter.notebook.get_cells();\n",
       "                for (var i = 0; i < nbb_cells.length; ++i) {\n",
       "                    if (nbb_cells[i].input_prompt_number == nbb_cell_id) {\n",
       "                        if (nbb_cells[i].get_text() == nbb_unformatted_code) {\n",
       "                             nbb_cells[i].set_text(nbb_formatted_code);\n",
       "                        }\n",
       "                        break;\n",
       "                    }\n",
       "                }\n",
       "            }, 500);\n",
       "            "
      ],
      "text/plain": [
       "<IPython.core.display.Javascript object>"
      ]
     },
     "metadata": {},
     "output_type": "display_data"
    }
   ],
   "source": [
    "df_no_na = df.copy()"
   ]
  },
  {
   "cell_type": "code",
   "execution_count": 22,
   "id": "d9f0c1f8",
   "metadata": {},
   "outputs": [
    {
     "data": {
      "application/javascript": [
       "\n",
       "            setTimeout(function() {\n",
       "                var nbb_cell_id = 22;\n",
       "                var nbb_unformatted_code = \"# dropping the rows with missing values\\ndf_no_na.dropna(subset=[\\\"name\\\", \\\"rating\\\", \\\"user_ratings_total\\\"], inplace=True)\\n\\n# Area_radius was only used for large places such as parks and universities\\ndf_no_na.drop(columns=['area_radius'], inplace=True)\\n\\n# reset the row index of the cleaned DataFrame\\ndf_no_na.reset_index(drop=True, inplace=True)\";\n",
       "                var nbb_formatted_code = \"# dropping the rows with missing values\\ndf_no_na.dropna(subset=[\\\"name\\\", \\\"rating\\\", \\\"user_ratings_total\\\"], inplace=True)\\n\\n# Area_radius was only used for large places such as parks and universities\\ndf_no_na.drop(columns=[\\\"area_radius\\\"], inplace=True)\\n\\n# reset the row index of the cleaned DataFrame\\ndf_no_na.reset_index(drop=True, inplace=True)\";\n",
       "                var nbb_cells = Jupyter.notebook.get_cells();\n",
       "                for (var i = 0; i < nbb_cells.length; ++i) {\n",
       "                    if (nbb_cells[i].input_prompt_number == nbb_cell_id) {\n",
       "                        if (nbb_cells[i].get_text() == nbb_unformatted_code) {\n",
       "                             nbb_cells[i].set_text(nbb_formatted_code);\n",
       "                        }\n",
       "                        break;\n",
       "                    }\n",
       "                }\n",
       "            }, 500);\n",
       "            "
      ],
      "text/plain": [
       "<IPython.core.display.Javascript object>"
      ]
     },
     "metadata": {},
     "output_type": "display_data"
    }
   ],
   "source": [
    "# dropping the rows with missing values\n",
    "df_no_na.dropna(subset=[\"name\", \"rating\", \"user_ratings_total\"], inplace=True)\n",
    "\n",
    "# Area_radius was only used for large places such as parks and universities\n",
    "df_no_na.drop(columns=['area_radius'], inplace=True)\n",
    "\n",
    "# reset the row index of the cleaned DataFrame\n",
    "df_no_na.reset_index(drop=True, inplace=True)\n",
    "\n"
   ]
  },
  {
   "cell_type": "code",
   "execution_count": 23,
   "id": "3b8a8a40",
   "metadata": {},
   "outputs": [
    {
     "data": {
      "text/plain": [
       "place_id              0\n",
       "name                  0\n",
       "rating                0\n",
       "user_ratings_total    0\n",
       "latitude              0\n",
       "longitude             0\n",
       "poi_type              0\n",
       "zip_code              0\n",
       "dtype: int64"
      ]
     },
     "execution_count": 23,
     "metadata": {},
     "output_type": "execute_result"
    },
    {
     "data": {
      "application/javascript": [
       "\n",
       "            setTimeout(function() {\n",
       "                var nbb_cell_id = 23;\n",
       "                var nbb_unformatted_code = \"df_no_na.isna().sum()\";\n",
       "                var nbb_formatted_code = \"df_no_na.isna().sum()\";\n",
       "                var nbb_cells = Jupyter.notebook.get_cells();\n",
       "                for (var i = 0; i < nbb_cells.length; ++i) {\n",
       "                    if (nbb_cells[i].input_prompt_number == nbb_cell_id) {\n",
       "                        if (nbb_cells[i].get_text() == nbb_unformatted_code) {\n",
       "                             nbb_cells[i].set_text(nbb_formatted_code);\n",
       "                        }\n",
       "                        break;\n",
       "                    }\n",
       "                }\n",
       "            }, 500);\n",
       "            "
      ],
      "text/plain": [
       "<IPython.core.display.Javascript object>"
      ]
     },
     "metadata": {},
     "output_type": "display_data"
    }
   ],
   "source": [
    "df_no_na.isna().sum()"
   ]
  },
  {
   "cell_type": "code",
   "execution_count": 24,
   "id": "a4bb97b7",
   "metadata": {},
   "outputs": [
    {
     "data": {
      "text/plain": [
       "(131577, 8)"
      ]
     },
     "execution_count": 24,
     "metadata": {},
     "output_type": "execute_result"
    },
    {
     "data": {
      "application/javascript": [
       "\n",
       "            setTimeout(function() {\n",
       "                var nbb_cell_id = 24;\n",
       "                var nbb_unformatted_code = \"df_no_na.shape\";\n",
       "                var nbb_formatted_code = \"df_no_na.shape\";\n",
       "                var nbb_cells = Jupyter.notebook.get_cells();\n",
       "                for (var i = 0; i < nbb_cells.length; ++i) {\n",
       "                    if (nbb_cells[i].input_prompt_number == nbb_cell_id) {\n",
       "                        if (nbb_cells[i].get_text() == nbb_unformatted_code) {\n",
       "                             nbb_cells[i].set_text(nbb_formatted_code);\n",
       "                        }\n",
       "                        break;\n",
       "                    }\n",
       "                }\n",
       "            }, 500);\n",
       "            "
      ],
      "text/plain": [
       "<IPython.core.display.Javascript object>"
      ]
     },
     "metadata": {},
     "output_type": "display_data"
    }
   ],
   "source": [
    "df_no_na.shape"
   ]
  },
  {
   "cell_type": "code",
   "execution_count": 25,
   "id": "e3b3c01d",
   "metadata": {},
   "outputs": [
    {
     "name": "stdout",
     "output_type": "stream",
     "text": [
      "Number of 0 values: 25095\n",
      "Number of non-zero values: 106482\n"
     ]
    },
    {
     "data": {
      "application/javascript": [
       "\n",
       "            setTimeout(function() {\n",
       "                var nbb_cell_id = 25;\n",
       "                var nbb_unformatted_code = \"# Looking at the amount of places with no user ratings\\nnum_zeros = (df_no_na['user_ratings_total'] == 0).sum()\\nnum_non_zeros = (df_no_na['user_ratings_total'] != 0).sum()\\nprint(f\\\"Number of 0 values: {num_zeros}\\\")\\nprint(f\\\"Number of non-zero values: {num_non_zeros}\\\")\";\n",
       "                var nbb_formatted_code = \"# Looking at the amount of places with no user ratings\\nnum_zeros = (df_no_na[\\\"user_ratings_total\\\"] == 0).sum()\\nnum_non_zeros = (df_no_na[\\\"user_ratings_total\\\"] != 0).sum()\\nprint(f\\\"Number of 0 values: {num_zeros}\\\")\\nprint(f\\\"Number of non-zero values: {num_non_zeros}\\\")\";\n",
       "                var nbb_cells = Jupyter.notebook.get_cells();\n",
       "                for (var i = 0; i < nbb_cells.length; ++i) {\n",
       "                    if (nbb_cells[i].input_prompt_number == nbb_cell_id) {\n",
       "                        if (nbb_cells[i].get_text() == nbb_unformatted_code) {\n",
       "                             nbb_cells[i].set_text(nbb_formatted_code);\n",
       "                        }\n",
       "                        break;\n",
       "                    }\n",
       "                }\n",
       "            }, 500);\n",
       "            "
      ],
      "text/plain": [
       "<IPython.core.display.Javascript object>"
      ]
     },
     "metadata": {},
     "output_type": "display_data"
    }
   ],
   "source": [
    "# Looking at the amount of places with no user ratings\n",
    "num_zeros = (df_no_na['user_ratings_total'] == 0).sum()\n",
    "num_non_zeros = (df_no_na['user_ratings_total'] != 0).sum()\n",
    "print(f\"Number of 0 values: {num_zeros}\")\n",
    "print(f\"Number of non-zero values: {num_non_zeros}\")\n"
   ]
  },
  {
   "cell_type": "code",
   "execution_count": 26,
   "id": "46560975",
   "metadata": {},
   "outputs": [
    {
     "name": "stdout",
     "output_type": "stream",
     "text": [
      "Number of values <= 2: 35510\n",
      "Number of values > 2: 96067\n"
     ]
    },
    {
     "data": {
      "application/javascript": [
       "\n",
       "            setTimeout(function() {\n",
       "                var nbb_cell_id = 26;\n",
       "                var nbb_unformatted_code = \"# Looking at the amount of places with more than two user ratings\\nnum_less_than_or_equal_to_2 = (df_no_na['user_ratings_total'] <= 2).sum()\\nnum_greater_than_2 = (df_no_na['user_ratings_total'] > 2).sum()\\nprint(f\\\"Number of values <= 2: {num_less_than_or_equal_to_2}\\\")\\nprint(f\\\"Number of values > 2: {num_greater_than_2}\\\")\";\n",
       "                var nbb_formatted_code = \"# Looking at the amount of places with more than two user ratings\\nnum_less_than_or_equal_to_2 = (df_no_na[\\\"user_ratings_total\\\"] <= 2).sum()\\nnum_greater_than_2 = (df_no_na[\\\"user_ratings_total\\\"] > 2).sum()\\nprint(f\\\"Number of values <= 2: {num_less_than_or_equal_to_2}\\\")\\nprint(f\\\"Number of values > 2: {num_greater_than_2}\\\")\";\n",
       "                var nbb_cells = Jupyter.notebook.get_cells();\n",
       "                for (var i = 0; i < nbb_cells.length; ++i) {\n",
       "                    if (nbb_cells[i].input_prompt_number == nbb_cell_id) {\n",
       "                        if (nbb_cells[i].get_text() == nbb_unformatted_code) {\n",
       "                             nbb_cells[i].set_text(nbb_formatted_code);\n",
       "                        }\n",
       "                        break;\n",
       "                    }\n",
       "                }\n",
       "            }, 500);\n",
       "            "
      ],
      "text/plain": [
       "<IPython.core.display.Javascript object>"
      ]
     },
     "metadata": {},
     "output_type": "display_data"
    }
   ],
   "source": [
    "# Looking at the amount of places with more than two user ratings\n",
    "num_less_than_or_equal_to_2 = (df_no_na['user_ratings_total'] <= 2).sum()\n",
    "num_greater_than_2 = (df_no_na['user_ratings_total'] > 2).sum()\n",
    "print(f\"Number of values <= 2: {num_less_than_or_equal_to_2}\")\n",
    "print(f\"Number of values > 2: {num_greater_than_2}\")\n"
   ]
  },
  {
   "cell_type": "code",
   "execution_count": 27,
   "id": "e9fd1db5",
   "metadata": {},
   "outputs": [
    {
     "name": "stdout",
     "output_type": "stream",
     "text": [
      "Starbucks                                  570\n",
      "Waffle House                               536\n",
      "Dunkin'                                    481\n",
      "Public Storage                             467\n",
      "Kroger                                     459\n",
      "                                          ... \n",
      "Sun & Bloom Co                               1\n",
      "The Stock Market Country Store               1\n",
      "Millionheir Kids Cartel                      1\n",
      "Corner's Edge Butcher Shoppe of Conyers      1\n",
      "Tesla                                        1\n",
      "Name: name, Length: 26504, dtype: int64\n"
     ]
    },
    {
     "data": {
      "application/javascript": [
       "\n",
       "            setTimeout(function() {\n",
       "                var nbb_cell_id = 27;\n",
       "                var nbb_unformatted_code = \"# Places with more than zero ratings \\n\\nnonzero_ratings = df_no_na[df_no_na['user_ratings_total'] != 0]\\nname_counts = nonzero_ratings['name'].value_counts()\\nprint(name_counts)\";\n",
       "                var nbb_formatted_code = \"# Places with more than zero ratings\\n\\nnonzero_ratings = df_no_na[df_no_na[\\\"user_ratings_total\\\"] != 0]\\nname_counts = nonzero_ratings[\\\"name\\\"].value_counts()\\nprint(name_counts)\";\n",
       "                var nbb_cells = Jupyter.notebook.get_cells();\n",
       "                for (var i = 0; i < nbb_cells.length; ++i) {\n",
       "                    if (nbb_cells[i].input_prompt_number == nbb_cell_id) {\n",
       "                        if (nbb_cells[i].get_text() == nbb_unformatted_code) {\n",
       "                             nbb_cells[i].set_text(nbb_formatted_code);\n",
       "                        }\n",
       "                        break;\n",
       "                    }\n",
       "                }\n",
       "            }, 500);\n",
       "            "
      ],
      "text/plain": [
       "<IPython.core.display.Javascript object>"
      ]
     },
     "metadata": {},
     "output_type": "display_data"
    }
   ],
   "source": [
    "# Places with more than zero ratings \n",
    "\n",
    "nonzero_ratings = df_no_na[df_no_na['user_ratings_total'] != 0]\n",
    "name_counts = nonzero_ratings['name'].value_counts()\n",
    "print(name_counts)\n"
   ]
  },
  {
   "cell_type": "code",
   "execution_count": 28,
   "id": "3573f9ab",
   "metadata": {},
   "outputs": [
    {
     "name": "stdout",
     "output_type": "stream",
     "text": [
      "Number of duplicates in 'place_id' column: 86043\n"
     ]
    },
    {
     "data": {
      "application/javascript": [
       "\n",
       "            setTimeout(function() {\n",
       "                var nbb_cell_id = 28;\n",
       "                var nbb_unformatted_code = \"# Looks like I have a bunch of duplicate place_id values even though it should be a\\n# unique identifier\\nnum_duplicates = df_no_na.duplicated(subset=['place_id']).sum()\\nprint(f\\\"Number of duplicates in 'place_id' column: {num_duplicates}\\\")\";\n",
       "                var nbb_formatted_code = \"# Looks like I have a bunch of duplicate place_id values even though it should be a\\n# unique identifier\\nnum_duplicates = df_no_na.duplicated(subset=[\\\"place_id\\\"]).sum()\\nprint(f\\\"Number of duplicates in 'place_id' column: {num_duplicates}\\\")\";\n",
       "                var nbb_cells = Jupyter.notebook.get_cells();\n",
       "                for (var i = 0; i < nbb_cells.length; ++i) {\n",
       "                    if (nbb_cells[i].input_prompt_number == nbb_cell_id) {\n",
       "                        if (nbb_cells[i].get_text() == nbb_unformatted_code) {\n",
       "                             nbb_cells[i].set_text(nbb_formatted_code);\n",
       "                        }\n",
       "                        break;\n",
       "                    }\n",
       "                }\n",
       "            }, 500);\n",
       "            "
      ],
      "text/plain": [
       "<IPython.core.display.Javascript object>"
      ]
     },
     "metadata": {},
     "output_type": "display_data"
    }
   ],
   "source": [
    "# Looks like I have a bunch of duplicate place_id values even though it should be a\n",
    "# unique identifier\n",
    "num_duplicates = df_no_na.duplicated(subset=['place_id']).sum()\n",
    "print(f\"Number of duplicates in 'place_id' column: {num_duplicates}\")\n"
   ]
  },
  {
   "cell_type": "code",
   "execution_count": 29,
   "id": "3ee0255b",
   "metadata": {},
   "outputs": [
    {
     "name": "stdout",
     "output_type": "stream",
     "text": [
      "Number of duplicate observations: 0\n"
     ]
    },
    {
     "data": {
      "application/javascript": [
       "\n",
       "            setTimeout(function() {\n",
       "                var nbb_cell_id = 29;\n",
       "                var nbb_unformatted_code = \"# Odd that there are not duplicate observations even though there are duplicate place_id\\nnum_duplicates = df_no_na.duplicated().sum()\\nprint(f\\\"Number of duplicate observations: {num_duplicates}\\\")\";\n",
       "                var nbb_formatted_code = \"# Odd that there are not duplicate observations even though there are duplicate place_id\\nnum_duplicates = df_no_na.duplicated().sum()\\nprint(f\\\"Number of duplicate observations: {num_duplicates}\\\")\";\n",
       "                var nbb_cells = Jupyter.notebook.get_cells();\n",
       "                for (var i = 0; i < nbb_cells.length; ++i) {\n",
       "                    if (nbb_cells[i].input_prompt_number == nbb_cell_id) {\n",
       "                        if (nbb_cells[i].get_text() == nbb_unformatted_code) {\n",
       "                             nbb_cells[i].set_text(nbb_formatted_code);\n",
       "                        }\n",
       "                        break;\n",
       "                    }\n",
       "                }\n",
       "            }, 500);\n",
       "            "
      ],
      "text/plain": [
       "<IPython.core.display.Javascript object>"
      ]
     },
     "metadata": {},
     "output_type": "display_data"
    }
   ],
   "source": [
    "# Odd that there are not duplicate observations even though there are duplicate place_id\n",
    "num_duplicates = df_no_na.duplicated().sum()\n",
    "print(f\"Number of duplicate observations: {num_duplicates}\")\n"
   ]
  },
  {
   "cell_type": "code",
   "execution_count": 30,
   "id": "5f62ffd7",
   "metadata": {},
   "outputs": [
    {
     "data": {
      "application/javascript": [
       "\n",
       "            setTimeout(function() {\n",
       "                var nbb_cell_id = 30;\n",
       "                var nbb_unformatted_code = \"# Dropping them for now\\ndf_no_duplicates = df_no_na.drop_duplicates(subset=['place_id'], keep='first')\";\n",
       "                var nbb_formatted_code = \"# Dropping them for now\\ndf_no_duplicates = df_no_na.drop_duplicates(subset=[\\\"place_id\\\"], keep=\\\"first\\\")\";\n",
       "                var nbb_cells = Jupyter.notebook.get_cells();\n",
       "                for (var i = 0; i < nbb_cells.length; ++i) {\n",
       "                    if (nbb_cells[i].input_prompt_number == nbb_cell_id) {\n",
       "                        if (nbb_cells[i].get_text() == nbb_unformatted_code) {\n",
       "                             nbb_cells[i].set_text(nbb_formatted_code);\n",
       "                        }\n",
       "                        break;\n",
       "                    }\n",
       "                }\n",
       "            }, 500);\n",
       "            "
      ],
      "text/plain": [
       "<IPython.core.display.Javascript object>"
      ]
     },
     "metadata": {},
     "output_type": "display_data"
    }
   ],
   "source": [
    "# Dropping them for now\n",
    "df_no_duplicates = df_no_na.drop_duplicates(subset=['place_id'], keep='first')\n"
   ]
  },
  {
   "cell_type": "code",
   "execution_count": 31,
   "id": "5ef659e5",
   "metadata": {},
   "outputs": [
    {
     "name": "stdout",
     "output_type": "stream",
     "text": [
      "Waffle House                               222\n",
      "Wells Fargo ATM                            217\n",
      "Starbucks                                  217\n",
      "Dollar General                             190\n",
      "McDonald's                                 184\n",
      "                                          ... \n",
      "South Cobb Regional Library                  1\n",
      "Northside Branch Library                     1\n",
      "Joan P. Garner Library at Ponce De Leon      1\n",
      "Martin Luther King Jr. Branch                1\n",
      "Tesla                                        1\n",
      "Name: name, Length: 26503, dtype: int64\n"
     ]
    },
    {
     "data": {
      "application/javascript": [
       "\n",
       "            setTimeout(function() {\n",
       "                var nbb_cell_id = 31;\n",
       "                var nbb_unformatted_code = \"# I'm not sure why there are so many waffle houses but google says this number is \\n# about right\\nnonzero_ratings = df_no_duplicates[df_no_duplicates['user_ratings_total'] != 0]\\nname_counts = nonzero_ratings['name'].value_counts()\\nprint(name_counts)\";\n",
       "                var nbb_formatted_code = \"# I'm not sure why there are so many waffle houses but google says this number is\\n# about right\\nnonzero_ratings = df_no_duplicates[df_no_duplicates[\\\"user_ratings_total\\\"] != 0]\\nname_counts = nonzero_ratings[\\\"name\\\"].value_counts()\\nprint(name_counts)\";\n",
       "                var nbb_cells = Jupyter.notebook.get_cells();\n",
       "                for (var i = 0; i < nbb_cells.length; ++i) {\n",
       "                    if (nbb_cells[i].input_prompt_number == nbb_cell_id) {\n",
       "                        if (nbb_cells[i].get_text() == nbb_unformatted_code) {\n",
       "                             nbb_cells[i].set_text(nbb_formatted_code);\n",
       "                        }\n",
       "                        break;\n",
       "                    }\n",
       "                }\n",
       "            }, 500);\n",
       "            "
      ],
      "text/plain": [
       "<IPython.core.display.Javascript object>"
      ]
     },
     "metadata": {},
     "output_type": "display_data"
    }
   ],
   "source": [
    "# I'm not sure why there are so many waffle houses but google says this number is \n",
    "# about right\n",
    "nonzero_ratings = df_no_duplicates[df_no_duplicates['user_ratings_total'] != 0]\n",
    "name_counts = nonzero_ratings['name'].value_counts()\n",
    "print(name_counts)\n"
   ]
  },
  {
   "cell_type": "code",
   "execution_count": 32,
   "id": "861c5c87",
   "metadata": {},
   "outputs": [
    {
     "data": {
      "text/plain": [
       "(45534, 8)"
      ]
     },
     "execution_count": 32,
     "metadata": {},
     "output_type": "execute_result"
    },
    {
     "data": {
      "application/javascript": [
       "\n",
       "            setTimeout(function() {\n",
       "                var nbb_cell_id = 32;\n",
       "                var nbb_unformatted_code = \"df_no_duplicates.shape\";\n",
       "                var nbb_formatted_code = \"df_no_duplicates.shape\";\n",
       "                var nbb_cells = Jupyter.notebook.get_cells();\n",
       "                for (var i = 0; i < nbb_cells.length; ++i) {\n",
       "                    if (nbb_cells[i].input_prompt_number == nbb_cell_id) {\n",
       "                        if (nbb_cells[i].get_text() == nbb_unformatted_code) {\n",
       "                             nbb_cells[i].set_text(nbb_formatted_code);\n",
       "                        }\n",
       "                        break;\n",
       "                    }\n",
       "                }\n",
       "            }, 500);\n",
       "            "
      ],
      "text/plain": [
       "<IPython.core.display.Javascript object>"
      ]
     },
     "metadata": {},
     "output_type": "display_data"
    }
   ],
   "source": [
    "df_no_duplicates.shape"
   ]
  },
  {
   "cell_type": "code",
   "execution_count": 33,
   "id": "556ceae9",
   "metadata": {},
   "outputs": [
    {
     "data": {
      "text/plain": [
       "store                 4561\n",
       "atm                   4345\n",
       "bar                   3706\n",
       "cafe                  3588\n",
       "spa                   2890\n",
       "park                  2564\n",
       "gym                   2533\n",
       "transit_station       2422\n",
       "restaurant            2138\n",
       "bakery                1916\n",
       "laundry               1790\n",
       "storage               1774\n",
       "beauty_salon          1743\n",
       "parking               1702\n",
       "supermarket           1320\n",
       "clothing_store        1156\n",
       "university            1032\n",
       "convenience_store      814\n",
       "library                591\n",
       "liquor_store           489\n",
       "night_club             397\n",
       "bicycle_store          388\n",
       "movie_theater          387\n",
       "bus_station            366\n",
       "train_station          291\n",
       "car_rental             253\n",
       "pet_store              131\n",
       "real_estate_agency     118\n",
       "book_store              67\n",
       "subway_station          58\n",
       "art_gallery              2\n",
       "light_rail_station       2\n",
       "Name: poi_type, dtype: int64"
      ]
     },
     "execution_count": 33,
     "metadata": {},
     "output_type": "execute_result"
    },
    {
     "data": {
      "application/javascript": [
       "\n",
       "            setTimeout(function() {\n",
       "                var nbb_cell_id = 33;\n",
       "                var nbb_unformatted_code = \"df_no_duplicates[\\\"poi_type\\\"].value_counts()\";\n",
       "                var nbb_formatted_code = \"df_no_duplicates[\\\"poi_type\\\"].value_counts()\";\n",
       "                var nbb_cells = Jupyter.notebook.get_cells();\n",
       "                for (var i = 0; i < nbb_cells.length; ++i) {\n",
       "                    if (nbb_cells[i].input_prompt_number == nbb_cell_id) {\n",
       "                        if (nbb_cells[i].get_text() == nbb_unformatted_code) {\n",
       "                             nbb_cells[i].set_text(nbb_formatted_code);\n",
       "                        }\n",
       "                        break;\n",
       "                    }\n",
       "                }\n",
       "            }, 500);\n",
       "            "
      ],
      "text/plain": [
       "<IPython.core.display.Javascript object>"
      ]
     },
     "metadata": {},
     "output_type": "display_data"
    }
   ],
   "source": [
    "df_no_duplicates[\"poi_type\"].value_counts()"
   ]
  },
  {
   "cell_type": "code",
   "execution_count": 34,
   "id": "19b83993",
   "metadata": {},
   "outputs": [
    {
     "name": "stdout",
     "output_type": "stream",
     "text": [
      "store                 3782\n",
      "bar                   3533\n",
      "cafe                  3276\n",
      "spa                   2729\n",
      "gym                   2169\n",
      "park                  2151\n",
      "restaurant            2032\n",
      "laundry               1686\n",
      "bakery                1608\n",
      "beauty_salon          1605\n",
      "atm                   1508\n",
      "storage               1395\n",
      "parking               1165\n",
      "supermarket           1163\n",
      "clothing_store        1081\n",
      "convenience_store      738\n",
      "university             582\n",
      "liquor_store           486\n",
      "library                457\n",
      "transit_station        404\n",
      "bicycle_store          362\n",
      "movie_theater          346\n",
      "night_club             293\n",
      "car_rental             244\n",
      "train_station          185\n",
      "bus_station            165\n",
      "pet_store              131\n",
      "real_estate_agency     100\n",
      "book_store              64\n",
      "subway_station          54\n",
      "art_gallery              2\n",
      "light_rail_station       1\n",
      "Name: poi_type, dtype: int64\n"
     ]
    },
    {
     "data": {
      "application/javascript": [
       "\n",
       "            setTimeout(function() {\n",
       "                var nbb_cell_id = 34;\n",
       "                var nbb_unformatted_code = \"# Places with more than zero ratings\\n\\nnonzero_ratings = df_no_duplicates[df_no_duplicates[\\\"user_ratings_total\\\"] != 0]\\nname_counts = nonzero_ratings[\\\"poi_type\\\"].value_counts()\\nprint(name_counts)\";\n",
       "                var nbb_formatted_code = \"# Places with more than zero ratings\\n\\nnonzero_ratings = df_no_duplicates[df_no_duplicates[\\\"user_ratings_total\\\"] != 0]\\nname_counts = nonzero_ratings[\\\"poi_type\\\"].value_counts()\\nprint(name_counts)\";\n",
       "                var nbb_cells = Jupyter.notebook.get_cells();\n",
       "                for (var i = 0; i < nbb_cells.length; ++i) {\n",
       "                    if (nbb_cells[i].input_prompt_number == nbb_cell_id) {\n",
       "                        if (nbb_cells[i].get_text() == nbb_unformatted_code) {\n",
       "                             nbb_cells[i].set_text(nbb_formatted_code);\n",
       "                        }\n",
       "                        break;\n",
       "                    }\n",
       "                }\n",
       "            }, 500);\n",
       "            "
      ],
      "text/plain": [
       "<IPython.core.display.Javascript object>"
      ]
     },
     "metadata": {},
     "output_type": "display_data"
    }
   ],
   "source": [
    "# Places with more than zero ratings\n",
    "\n",
    "nonzero_ratings = df_no_duplicates[df_no_duplicates[\"user_ratings_total\"] != 0]\n",
    "name_counts = nonzero_ratings[\"poi_type\"].value_counts()\n",
    "print(name_counts)"
   ]
  },
  {
   "cell_type": "markdown",
   "id": "222e86d9",
   "metadata": {},
   "source": [
    "Saving to AWS"
   ]
  },
  {
   "cell_type": "code",
   "execution_count": 39,
   "id": "ea552da8",
   "metadata": {},
   "outputs": [
    {
     "name": "stdout",
     "output_type": "stream",
     "text": [
      "File uploaded to S3 with ETag: \"bcb444534e874677527a4f8eec932d2f\"\n"
     ]
    },
    {
     "data": {
      "application/javascript": [
       "\n",
       "            setTimeout(function() {\n",
       "                var nbb_cell_id = 39;\n",
       "                var nbb_unformatted_code = \"# Converting the DataFrame to a csv buffer in memory\\ncsv_buffer = io.StringIO()\\ndf_no_duplicates.to_csv(csv_buffer, index=False)\\n\\n# Create an S3 resource\\ns3R = boto3.resource('s3')\\n\\n# Specifying the name of the bucket\\nbucket_name = 'capstonehaystacks'\\n\\n# Naming the file for AWS storage\\nfile_name = 'points-of-interest-google.csv'\\n\\n# Assigning the output to a variable what is printed\\nresponse = s3R.Object(bucket_name, file_name).put(Body=csv_buffer.getvalue())\\n\\n# Checking the status to confirm it was uploaded\\nprint(f\\\"File uploaded to S3 with ETag: {response['ETag']}\\\")\";\n",
       "                var nbb_formatted_code = \"# Converting the DataFrame to a csv buffer in memory\\ncsv_buffer = io.StringIO()\\ndf_no_duplicates.to_csv(csv_buffer, index=False)\\n\\n# Create an S3 resource\\ns3R = boto3.resource(\\\"s3\\\")\\n\\n# Specifying the name of the bucket\\nbucket_name = \\\"capstonehaystacks\\\"\\n\\n# Naming the file for AWS storage\\nfile_name = \\\"points-of-interest-google.csv\\\"\\n\\n# Assigning the output to a variable what is printed\\nresponse = s3R.Object(bucket_name, file_name).put(Body=csv_buffer.getvalue())\\n\\n# Checking the status to confirm it was uploaded\\nprint(f\\\"File uploaded to S3 with ETag: {response['ETag']}\\\")\";\n",
       "                var nbb_cells = Jupyter.notebook.get_cells();\n",
       "                for (var i = 0; i < nbb_cells.length; ++i) {\n",
       "                    if (nbb_cells[i].input_prompt_number == nbb_cell_id) {\n",
       "                        if (nbb_cells[i].get_text() == nbb_unformatted_code) {\n",
       "                             nbb_cells[i].set_text(nbb_formatted_code);\n",
       "                        }\n",
       "                        break;\n",
       "                    }\n",
       "                }\n",
       "            }, 500);\n",
       "            "
      ],
      "text/plain": [
       "<IPython.core.display.Javascript object>"
      ]
     },
     "metadata": {},
     "output_type": "display_data"
    }
   ],
   "source": [
    "# Converting the DataFrame to a csv buffer in memory\n",
    "csv_buffer = io.StringIO()\n",
    "df_no_duplicates.to_csv(csv_buffer, index=False)\n",
    "\n",
    "# Create an S3 resource\n",
    "s3R = boto3.resource('s3')\n",
    "\n",
    "# Specifying the name of the bucket\n",
    "bucket_name = 'capstonehaystacks'\n",
    "\n",
    "# Naming the file for AWS storage\n",
    "file_name = 'points-of-interest-google.csv'\n",
    "\n",
    "# Assigning the output to a variable what is printed\n",
    "response = s3R.Object(bucket_name, file_name).put(Body=csv_buffer.getvalue())\n",
    "\n",
    "# Checking the status to confirm it was uploaded\n",
    "print(f\"File uploaded to S3 with ETag: {response['ETag']}\")\n"
   ]
  },
  {
   "cell_type": "code",
   "execution_count": 40,
   "id": "5392c5bf",
   "metadata": {},
   "outputs": [
    {
     "name": "stdout",
     "output_type": "stream",
     "text": [
      "GA_LISTINGS_SALES.csv\n",
      "GA_LISTINGS_SALES_V2.csv\n",
      "all_zips_grocery_store.json\n",
      "all_zips_restaurant.json\n",
      "atlanta_cbsa_zip.csv\n",
      "atlanta_listings.csv\n",
      "combined_poi.csv\n",
      "core_geo_dataset.csv\n",
      "crime_rating_zipcode.csv\n",
      "elementary_schools.csv\n",
      "high_schools.csv\n",
      "middle_schools.csv\n",
      "poi_df.csv\n",
      "points-of-interest-google.csv\n",
      "points-of-interest-haystacks.csv\n"
     ]
    },
    {
     "data": {
      "application/javascript": [
       "\n",
       "            setTimeout(function() {\n",
       "                var nbb_cell_id = 40;\n",
       "                var nbb_unformatted_code = \"# Listing the contents of the S3 bucket  to ensure it was uploaded\\nfor obj in s3R.Bucket(bucket_name).objects.all():\\n    print(obj.key)\";\n",
       "                var nbb_formatted_code = \"# Listing the contents of the S3 bucket  to ensure it was uploaded\\nfor obj in s3R.Bucket(bucket_name).objects.all():\\n    print(obj.key)\";\n",
       "                var nbb_cells = Jupyter.notebook.get_cells();\n",
       "                for (var i = 0; i < nbb_cells.length; ++i) {\n",
       "                    if (nbb_cells[i].input_prompt_number == nbb_cell_id) {\n",
       "                        if (nbb_cells[i].get_text() == nbb_unformatted_code) {\n",
       "                             nbb_cells[i].set_text(nbb_formatted_code);\n",
       "                        }\n",
       "                        break;\n",
       "                    }\n",
       "                }\n",
       "            }, 500);\n",
       "            "
      ],
      "text/plain": [
       "<IPython.core.display.Javascript object>"
      ]
     },
     "metadata": {},
     "output_type": "display_data"
    }
   ],
   "source": [
    "# Listing the contents of the S3 bucket  to ensure it was uploaded\n",
    "for obj in s3R.Bucket(bucket_name).objects.all():\n",
    "    print(obj.key)"
   ]
  },
  {
   "cell_type": "code",
   "execution_count": 44,
   "id": "90521a43",
   "metadata": {},
   "outputs": [
    {
     "data": {
      "application/javascript": [
       "\n",
       "            setTimeout(function() {\n",
       "                var nbb_cell_id = 44;\n",
       "                var nbb_unformatted_code = \"# # Deleting the old file that this replaces\\n# file_name = \\\"poi_df.csv\\\"\\n\\n# # Create an S3 client\\n# s3_client = boto3.client(\\\"s3\\\")\\n\\n# # Delete the file from the S3 bucket\\n# response = s3_client.delete_object(Bucket=bucket_name, Key=file_name)\";\n",
       "                var nbb_formatted_code = \"# # Deleting the old file that this replaces\\n# file_name = \\\"poi_df.csv\\\"\\n\\n# # Create an S3 client\\n# s3_client = boto3.client(\\\"s3\\\")\\n\\n# # Delete the file from the S3 bucket\\n# response = s3_client.delete_object(Bucket=bucket_name, Key=file_name)\";\n",
       "                var nbb_cells = Jupyter.notebook.get_cells();\n",
       "                for (var i = 0; i < nbb_cells.length; ++i) {\n",
       "                    if (nbb_cells[i].input_prompt_number == nbb_cell_id) {\n",
       "                        if (nbb_cells[i].get_text() == nbb_unformatted_code) {\n",
       "                             nbb_cells[i].set_text(nbb_formatted_code);\n",
       "                        }\n",
       "                        break;\n",
       "                    }\n",
       "                }\n",
       "            }, 500);\n",
       "            "
      ],
      "text/plain": [
       "<IPython.core.display.Javascript object>"
      ]
     },
     "metadata": {},
     "output_type": "display_data"
    }
   ],
   "source": [
    "# Deleting the old file that this replaces\n",
    "file_name = \"poi_df.csv\"\n",
    "\n",
    "# Create an S3 client\n",
    "s3_client = boto3.client(\"s3\")\n",
    "\n",
    "# Delete the file from the S3 bucket\n",
    "response = s3_client.delete_object(Bucket=bucket_name, Key=file_name)"
   ]
  },
  {
   "cell_type": "code",
   "execution_count": 46,
   "id": "db27deb2",
   "metadata": {},
   "outputs": [
    {
     "name": "stdout",
     "output_type": "stream",
     "text": [
      "GA_LISTINGS_SALES.csv\n",
      "GA_LISTINGS_SALES_V2.csv\n",
      "all_zips_grocery_store.json\n",
      "all_zips_restaurant.json\n",
      "atlanta_cbsa_zip.csv\n",
      "atlanta_listings.csv\n",
      "core_geo_dataset.csv\n",
      "crime_rating_zipcode.csv\n",
      "elementary_schools.csv\n",
      "high_schools.csv\n",
      "middle_schools.csv\n",
      "points-of-interest-google.csv\n",
      "points-of-interest-haystacks.csv\n"
     ]
    },
    {
     "data": {
      "application/javascript": [
       "\n",
       "            setTimeout(function() {\n",
       "                var nbb_cell_id = 46;\n",
       "                var nbb_unformatted_code = \"# Listing the contents of the S3 bucket  to ensure it was uploaded\\nfor obj in s3R.Bucket(bucket_name).objects.all():\\n    print(obj.key)\";\n",
       "                var nbb_formatted_code = \"# Listing the contents of the S3 bucket  to ensure it was uploaded\\nfor obj in s3R.Bucket(bucket_name).objects.all():\\n    print(obj.key)\";\n",
       "                var nbb_cells = Jupyter.notebook.get_cells();\n",
       "                for (var i = 0; i < nbb_cells.length; ++i) {\n",
       "                    if (nbb_cells[i].input_prompt_number == nbb_cell_id) {\n",
       "                        if (nbb_cells[i].get_text() == nbb_unformatted_code) {\n",
       "                             nbb_cells[i].set_text(nbb_formatted_code);\n",
       "                        }\n",
       "                        break;\n",
       "                    }\n",
       "                }\n",
       "            }, 500);\n",
       "            "
      ],
      "text/plain": [
       "<IPython.core.display.Javascript object>"
      ]
     },
     "metadata": {},
     "output_type": "display_data"
    }
   ],
   "source": [
    "# Listing the contents of the S3 bucket  to ensure it was uploaded\n",
    "for obj in s3R.Bucket(bucket_name).objects.all():\n",
    "    print(obj.key)"
   ]
  },
  {
   "cell_type": "code",
   "execution_count": 49,
   "id": "16fd2179",
   "metadata": {},
   "outputs": [
    {
     "data": {
      "text/plain": [
       "Index(['place_id', 'name', 'rating', 'user_ratings_total', 'latitude',\n",
       "       'longitude', 'poi_type', 'zip_code'],\n",
       "      dtype='object')"
      ]
     },
     "execution_count": 49,
     "metadata": {},
     "output_type": "execute_result"
    },
    {
     "data": {
      "application/javascript": [
       "\n",
       "            setTimeout(function() {\n",
       "                var nbb_cell_id = 49;\n",
       "                var nbb_unformatted_code = \"df_no_duplicates.columns\";\n",
       "                var nbb_formatted_code = \"df_no_duplicates.columns\";\n",
       "                var nbb_cells = Jupyter.notebook.get_cells();\n",
       "                for (var i = 0; i < nbb_cells.length; ++i) {\n",
       "                    if (nbb_cells[i].input_prompt_number == nbb_cell_id) {\n",
       "                        if (nbb_cells[i].get_text() == nbb_unformatted_code) {\n",
       "                             nbb_cells[i].set_text(nbb_formatted_code);\n",
       "                        }\n",
       "                        break;\n",
       "                    }\n",
       "                }\n",
       "            }, 500);\n",
       "            "
      ],
      "text/plain": [
       "<IPython.core.display.Javascript object>"
      ]
     },
     "metadata": {},
     "output_type": "display_data"
    }
   ],
   "source": [
    "df_no_duplicates.columns"
   ]
  },
  {
   "cell_type": "code",
   "execution_count": null,
   "id": "531a2b2c",
   "metadata": {},
   "outputs": [],
   "source": []
  }
 ],
 "metadata": {
  "kernelspec": {
   "display_name": "Python 3 (ipykernel)",
   "language": "python",
   "name": "python3"
  },
  "language_info": {
   "codemirror_mode": {
    "name": "ipython",
    "version": 3
   },
   "file_extension": ".py",
   "mimetype": "text/x-python",
   "name": "python",
   "nbconvert_exporter": "python",
   "pygments_lexer": "ipython3",
   "version": "3.9.12"
  }
 },
 "nbformat": 4,
 "nbformat_minor": 5
}
