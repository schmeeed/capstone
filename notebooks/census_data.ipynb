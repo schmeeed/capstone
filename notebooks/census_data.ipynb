{
 "cells": [
  {
   "cell_type": "code",
   "execution_count": 282,
   "id": "041ddcda",
   "metadata": {},
   "outputs": [
    {
     "name": "stdout",
     "output_type": "stream",
     "text": [
      "The nb_black extension is already loaded. To reload it, use:\n",
      "  %reload_ext nb_black\n"
     ]
    },
    {
     "data": {
      "application/javascript": [
       "\n",
       "            setTimeout(function() {\n",
       "                var nbb_cell_id = 282;\n",
       "                var nbb_unformatted_code = \"import pandas as pd\\nimport boto3\\nimport io\\n\\n\\n# the below extension properly formats a cell after it is run\\n%load_ext nb_black\\n\\n# Set the maximum number of rows to 200\\npd.set_option(\\\"display.max_rows\\\", 200)\\n\\n\\n# Set the maximum number of columns to 200\\npd.set_option(\\\"display.max_columns\\\", 200)\";\n",
       "                var nbb_formatted_code = \"import pandas as pd\\nimport boto3\\nimport io\\n\\n\\n# the below extension properly formats a cell after it is run\\n%load_ext nb_black\\n\\n# Set the maximum number of rows to 200\\npd.set_option(\\\"display.max_rows\\\", 200)\\n\\n\\n# Set the maximum number of columns to 200\\npd.set_option(\\\"display.max_columns\\\", 200)\";\n",
       "                var nbb_cells = Jupyter.notebook.get_cells();\n",
       "                for (var i = 0; i < nbb_cells.length; ++i) {\n",
       "                    if (nbb_cells[i].input_prompt_number == nbb_cell_id) {\n",
       "                        if (nbb_cells[i].get_text() == nbb_unformatted_code) {\n",
       "                             nbb_cells[i].set_text(nbb_formatted_code);\n",
       "                        }\n",
       "                        break;\n",
       "                    }\n",
       "                }\n",
       "            }, 500);\n",
       "            "
      ],
      "text/plain": [
       "<IPython.core.display.Javascript object>"
      ]
     },
     "metadata": {},
     "output_type": "display_data"
    }
   ],
   "source": [
    "import pandas as pd\n",
    "import boto3\n",
    "import io\n",
    "\n",
    "\n",
    "# the below extension properly formats a cell after it is run\n",
    "%load_ext nb_black\n",
    "\n",
    "# Set the maximum number of rows to 200\n",
    "pd.set_option(\"display.max_rows\", 200)\n",
    "\n",
    "\n",
    "# Set the maximum number of columns to 200\n",
    "pd.set_option(\"display.max_columns\", 200)"
   ]
  },
  {
   "cell_type": "code",
   "execution_count": 72,
   "id": "985595a4",
   "metadata": {
    "scrolled": true
   },
   "outputs": [
    {
     "name": "stdout",
     "output_type": "stream",
     "text": [
      "GA_LISTINGS_SALES.csv\n",
      "GA_LISTINGS_SALES_V2.csv\n",
      "GA_listing.csv\n",
      "all_zips_grocery_store.json\n",
      "all_zips_restaurant.json\n",
      "atlanta-geo.csv\n",
      "atlanta_cbsa_zip.csv\n",
      "atlanta_hdma_2021.csv\n",
      "atlanta_hdma_census_2021.csv\n",
      "atlanta_hdma_tract_2021.csv\n",
      "atlanta_listings.csv\n",
      "core_geo_dataset.csv\n",
      "crime.csv\n",
      "crime_rating_zipcode.csv\n",
      "elementary_schools.csv\n",
      "ga_georgia_zip_codes_geo.min.json\n",
      "high_schools.csv\n",
      "hmda_2017_ga_all-records_labels.csv\n",
      "hmda_2021_ga_all-records_labels.csv\n",
      "jason_listing.csv\n",
      "listing-with-poi-distances.csv\n",
      "listings_with_tract.csv\n",
      "middle_schools.csv\n",
      "poi_combined_haystack.csv\n",
      "poi_combined_haystack_ALL.csv\n",
      "poi_combined_haystack_ALL_CLEANED.csv\n",
      "points-of-interest-google.csv\n",
      "points-of-interest-google2.csv\n",
      "points-of-interest-haystacks.csv\n",
      "schools.csv\n",
      "zip_summary.csv\n",
      "zipcodes_111meter.min.json\n"
     ]
    },
    {
     "data": {
      "application/javascript": [
       "\n",
       "            setTimeout(function() {\n",
       "                var nbb_cell_id = 72;\n",
       "                var nbb_unformatted_code = \"s3R = boto3.resource(\\\"s3\\\")\\ns3 = boto3.client(\\\"s3\\\")\\nbucket_name = \\\"capstonehaystacks\\\"\\n# Listing the contents of the S3 bucket\\nfor obj in s3R.Bucket(bucket_name).objects.all():\\n    print(obj.key)\";\n",
       "                var nbb_formatted_code = \"s3R = boto3.resource(\\\"s3\\\")\\ns3 = boto3.client(\\\"s3\\\")\\nbucket_name = \\\"capstonehaystacks\\\"\\n# Listing the contents of the S3 bucket\\nfor obj in s3R.Bucket(bucket_name).objects.all():\\n    print(obj.key)\";\n",
       "                var nbb_cells = Jupyter.notebook.get_cells();\n",
       "                for (var i = 0; i < nbb_cells.length; ++i) {\n",
       "                    if (nbb_cells[i].input_prompt_number == nbb_cell_id) {\n",
       "                        if (nbb_cells[i].get_text() == nbb_unformatted_code) {\n",
       "                             nbb_cells[i].set_text(nbb_formatted_code);\n",
       "                        }\n",
       "                        break;\n",
       "                    }\n",
       "                }\n",
       "            }, 500);\n",
       "            "
      ],
      "text/plain": [
       "<IPython.core.display.Javascript object>"
      ]
     },
     "metadata": {},
     "output_type": "display_data"
    }
   ],
   "source": [
    "s3R = boto3.resource(\"s3\")\n",
    "s3 = boto3.client(\"s3\")\n",
    "bucket_name = \"capstonehaystacks\"\n",
    "# Listing the contents of the S3 bucket\n",
    "for obj in s3R.Bucket(bucket_name).objects.all():\n",
    "    print(obj.key)"
   ]
  },
  {
   "cell_type": "code",
   "execution_count": 129,
   "id": "4888779c",
   "metadata": {},
   "outputs": [
    {
     "data": {
      "application/javascript": [
       "\n",
       "            setTimeout(function() {\n",
       "                var nbb_cell_id = 129;\n",
       "                var nbb_unformatted_code = \"file_name = \\\"points-of-interest-google2.csv\\\"\\n\\n# Downloading the file from S3 and parsing it into a dataframe\\ns3.download_file(bucket_name, file_name, file_name)\\n# Low memory is set to False because columns have mixed data types\\npoi = pd.read_csv(file_name, index_col=False, low_memory=False)\";\n",
       "                var nbb_formatted_code = \"file_name = \\\"points-of-interest-google2.csv\\\"\\n\\n# Downloading the file from S3 and parsing it into a dataframe\\ns3.download_file(bucket_name, file_name, file_name)\\n# Low memory is set to False because columns have mixed data types\\npoi = pd.read_csv(file_name, index_col=False, low_memory=False)\";\n",
       "                var nbb_cells = Jupyter.notebook.get_cells();\n",
       "                for (var i = 0; i < nbb_cells.length; ++i) {\n",
       "                    if (nbb_cells[i].input_prompt_number == nbb_cell_id) {\n",
       "                        if (nbb_cells[i].get_text() == nbb_unformatted_code) {\n",
       "                             nbb_cells[i].set_text(nbb_formatted_code);\n",
       "                        }\n",
       "                        break;\n",
       "                    }\n",
       "                }\n",
       "            }, 500);\n",
       "            "
      ],
      "text/plain": [
       "<IPython.core.display.Javascript object>"
      ]
     },
     "metadata": {},
     "output_type": "display_data"
    }
   ],
   "source": [
    "file_name = \"points-of-interest-google2.csv\"\n",
    "\n",
    "# Downloading the file from S3 and parsing it into a dataframe\n",
    "s3.download_file(bucket_name, file_name, file_name)\n",
    "# Low memory is set to False because columns have mixed data types\n",
    "poi = pd.read_csv(file_name, index_col=False, low_memory=False)"
   ]
  },
  {
   "cell_type": "code",
   "execution_count": null,
   "id": "f1b4546b",
   "metadata": {},
   "outputs": [],
   "source": [
    "file_name = \"atlanta_cbsa_zip.csv\"\n",
    "\n",
    "# Downloading the file from S3 and parsing it into a dataframe\n",
    "s3.download_file(bucket_name, file_name, file_name)\n",
    "# Low memory is set to False because columns have mixed data types\n",
    "atlanta_zip = pd.read_csv(file_name, index_col=False, low_memory=False)"
   ]
  },
  {
   "cell_type": "code",
   "execution_count": null,
   "id": "585a524e",
   "metadata": {},
   "outputs": [],
   "source": [
    "\n",
    "zipcode_list = atlanta_zip[\"census_zcta5_geoid\"].tolist()"
   ]
  },
  {
   "cell_type": "code",
   "execution_count": null,
   "id": "98d56adb",
   "metadata": {},
   "outputs": [],
   "source": []
  },
  {
   "cell_type": "code",
   "execution_count": 130,
   "id": "be0079b1",
   "metadata": {},
   "outputs": [
    {
     "data": {
      "text/plain": [
       "Restaurant                      2374\n",
       "Gas station                     1965\n",
       "Auto repair shop                1635\n",
       "Hair salon                      1529\n",
       "Nail salon                      1318\n",
       "                                ... \n",
       "Patent attorney                    1\n",
       "Wine wholesaler and importer       1\n",
       "Bowling club                       1\n",
       "Dry wall supply store              1\n",
       "National reserve                   1\n",
       "Name: primary_category, Length: 2531, dtype: int64"
      ]
     },
     "execution_count": 130,
     "metadata": {},
     "output_type": "execute_result"
    },
    {
     "data": {
      "application/javascript": [
       "\n",
       "            setTimeout(function() {\n",
       "                var nbb_cell_id = 130;\n",
       "                var nbb_unformatted_code = \"poi[\\\"primary_category\\\"].value_counts()\";\n",
       "                var nbb_formatted_code = \"poi[\\\"primary_category\\\"].value_counts()\";\n",
       "                var nbb_cells = Jupyter.notebook.get_cells();\n",
       "                for (var i = 0; i < nbb_cells.length; ++i) {\n",
       "                    if (nbb_cells[i].input_prompt_number == nbb_cell_id) {\n",
       "                        if (nbb_cells[i].get_text() == nbb_unformatted_code) {\n",
       "                             nbb_cells[i].set_text(nbb_formatted_code);\n",
       "                        }\n",
       "                        break;\n",
       "                    }\n",
       "                }\n",
       "            }, 500);\n",
       "            "
      ],
      "text/plain": [
       "<IPython.core.display.Javascript object>"
      ]
     },
     "metadata": {},
     "output_type": "display_data"
    }
   ],
   "source": [
    "poi[\"primary_category\"].value_counts()"
   ]
  },
  {
   "cell_type": "code",
   "execution_count": 131,
   "id": "c4dc30bd",
   "metadata": {},
   "outputs": [
    {
     "data": {
      "application/javascript": [
       "\n",
       "            setTimeout(function() {\n",
       "                var nbb_cell_id = 131;\n",
       "                var nbb_unformatted_code = \"# removing all poi's that are closed\\npoi = poi[poi[\\\"state\\\"] != \\\"Permanently closed\\\"]\";\n",
       "                var nbb_formatted_code = \"# removing all poi's that are closed\\npoi = poi[poi[\\\"state\\\"] != \\\"Permanently closed\\\"]\";\n",
       "                var nbb_cells = Jupyter.notebook.get_cells();\n",
       "                for (var i = 0; i < nbb_cells.length; ++i) {\n",
       "                    if (nbb_cells[i].input_prompt_number == nbb_cell_id) {\n",
       "                        if (nbb_cells[i].get_text() == nbb_unformatted_code) {\n",
       "                             nbb_cells[i].set_text(nbb_formatted_code);\n",
       "                        }\n",
       "                        break;\n",
       "                    }\n",
       "                }\n",
       "            }, 500);\n",
       "            "
      ],
      "text/plain": [
       "<IPython.core.display.Javascript object>"
      ]
     },
     "metadata": {},
     "output_type": "display_data"
    }
   ],
   "source": [
    "# removing all poi's that are closed\n",
    "poi = poi[poi[\"state\"] != \"Permanently closed\"]\n"
   ]
  },
  {
   "cell_type": "code",
   "execution_count": 132,
   "id": "cf53171f",
   "metadata": {},
   "outputs": [
    {
     "data": {
      "text/plain": [
       "16576"
      ]
     },
     "execution_count": 132,
     "metadata": {},
     "output_type": "execute_result"
    },
    {
     "data": {
      "application/javascript": [
       "\n",
       "            setTimeout(function() {\n",
       "                var nbb_cell_id = 132;\n",
       "                var nbb_unformatted_code = \"# checking how many observations have a price\\npoi[\\\"price\\\"].notnull().sum()\";\n",
       "                var nbb_formatted_code = \"# checking how many observations have a price\\npoi[\\\"price\\\"].notnull().sum()\";\n",
       "                var nbb_cells = Jupyter.notebook.get_cells();\n",
       "                for (var i = 0; i < nbb_cells.length; ++i) {\n",
       "                    if (nbb_cells[i].input_prompt_number == nbb_cell_id) {\n",
       "                        if (nbb_cells[i].get_text() == nbb_unformatted_code) {\n",
       "                             nbb_cells[i].set_text(nbb_formatted_code);\n",
       "                        }\n",
       "                        break;\n",
       "                    }\n",
       "                }\n",
       "            }, 500);\n",
       "            "
      ],
      "text/plain": [
       "<IPython.core.display.Javascript object>"
      ]
     },
     "metadata": {},
     "output_type": "display_data"
    }
   ],
   "source": [
    "# checking how many observations have a price\n",
    "poi[\"price\"].notnull().sum()"
   ]
  },
  {
   "cell_type": "code",
   "execution_count": 134,
   "id": "89868e53",
   "metadata": {},
   "outputs": [
    {
     "data": {
      "text/html": [
       "<div>\n",
       "<style scoped>\n",
       "    .dataframe tbody tr th:only-of-type {\n",
       "        vertical-align: middle;\n",
       "    }\n",
       "\n",
       "    .dataframe tbody tr th {\n",
       "        vertical-align: top;\n",
       "    }\n",
       "\n",
       "    .dataframe thead th {\n",
       "        text-align: right;\n",
       "    }\n",
       "</style>\n",
       "<table border=\"1\" class=\"dataframe\">\n",
       "  <thead>\n",
       "    <tr style=\"text-align: right;\">\n",
       "      <th></th>\n",
       "      <th>name</th>\n",
       "      <th>address</th>\n",
       "      <th>gmap_id</th>\n",
       "      <th>description</th>\n",
       "      <th>latitude</th>\n",
       "      <th>longitude</th>\n",
       "      <th>category</th>\n",
       "      <th>avg_rating</th>\n",
       "      <th>num_of_reviews</th>\n",
       "      <th>price</th>\n",
       "      <th>hours</th>\n",
       "      <th>MISC</th>\n",
       "      <th>state</th>\n",
       "      <th>relative_results</th>\n",
       "      <th>url</th>\n",
       "      <th>zip_code</th>\n",
       "      <th>primary_category</th>\n",
       "    </tr>\n",
       "  </thead>\n",
       "  <tbody>\n",
       "    <tr>\n",
       "      <th>13551</th>\n",
       "      <td>Pearl's Gardens</td>\n",
       "      <td>Pearl's Gardens, 45 Satellite Blvd, Suwanee, G...</td>\n",
       "      <td>0x88f5964c6730b83d:0x2908fb444d29ac20</td>\n",
       "      <td>Easygoing, strip-mall option featuring traditi...</td>\n",
       "      <td>34.039155</td>\n",
       "      <td>-84.054822</td>\n",
       "      <td>['Korean restaurant', 'Barbecue restaurant']</td>\n",
       "      <td>4.3</td>\n",
       "      <td>18</td>\n",
       "      <td>NaN</td>\n",
       "      <td>{'Sunday': '11AM–10PM', 'Monday': 'Closed', 'T...</td>\n",
       "      <td>{'Service options': ['Delivery', 'Takeout', 'D...</td>\n",
       "      <td>Open ⋅ Closes 10PM</td>\n",
       "      <td>['0x88f5964c3c2592df:0xe8a7fdf48d46c85', '0x88...</td>\n",
       "      <td>https://www.google.com/maps/place//data=!4m2!3...</td>\n",
       "      <td>30024</td>\n",
       "      <td>Korean restaurant</td>\n",
       "    </tr>\n",
       "    <tr>\n",
       "      <th>16234</th>\n",
       "      <td>Mandoo Restaurant(만두아저씨)</td>\n",
       "      <td>Mandoo Restaurant(만두아저씨), 2700 Lawrenceville-S...</td>\n",
       "      <td>0x88f5963b168f862b:0xf00651fc3ada223a</td>\n",
       "      <td>NaN</td>\n",
       "      <td>34.022000</td>\n",
       "      <td>-84.044869</td>\n",
       "      <td>['Korean restaurant']</td>\n",
       "      <td>4.1</td>\n",
       "      <td>16</td>\n",
       "      <td>NaN</td>\n",
       "      <td>{'Wednesday': '9:30AM–8:30PM', 'Thursday': '9:...</td>\n",
       "      <td>{'Service options': ['Takeout', 'Delivery'], '...</td>\n",
       "      <td>Open ⋅ Closes 8:30PM</td>\n",
       "      <td>['0x88f5963b9a473809:0x8bdd1fe21a429cff', '0x8...</td>\n",
       "      <td>https://www.google.com/maps/place//data=!4m2!3...</td>\n",
       "      <td>30024</td>\n",
       "      <td>Korean restaurant</td>\n",
       "    </tr>\n",
       "    <tr>\n",
       "      <th>20454</th>\n",
       "      <td>bb.q Chicken Suwanee</td>\n",
       "      <td>bb.q Chicken Suwanee, 2850 Lawrenceville-Suwan...</td>\n",
       "      <td>0x88f597dc6f364ec5:0xa24b7f30859cdccf</td>\n",
       "      <td>NaN</td>\n",
       "      <td>34.024953</td>\n",
       "      <td>-84.045703</td>\n",
       "      <td>['Korean restaurant']</td>\n",
       "      <td>4.0</td>\n",
       "      <td>106</td>\n",
       "      <td>NaN</td>\n",
       "      <td>{'Friday': '11:30AM–11PM', 'Saturday': '11:30A...</td>\n",
       "      <td>{'Service options': ['Delivery', 'Takeout', 'D...</td>\n",
       "      <td>Open ⋅ Closes 11PM</td>\n",
       "      <td>NaN</td>\n",
       "      <td>https://www.google.com/maps/place//data=!4m2!3...</td>\n",
       "      <td>30024</td>\n",
       "      <td>Korean restaurant</td>\n",
       "    </tr>\n",
       "    <tr>\n",
       "      <th>37103</th>\n",
       "      <td>Gopchang Salon</td>\n",
       "      <td>Gopchang Salon, 2850 Lawrenceville-Suwanee Rd ...</td>\n",
       "      <td>0x88f5970967dc8345:0x2e81a00cb3528521</td>\n",
       "      <td>NaN</td>\n",
       "      <td>34.024266</td>\n",
       "      <td>-84.044641</td>\n",
       "      <td>['Korean restaurant']</td>\n",
       "      <td>4.6</td>\n",
       "      <td>53</td>\n",
       "      <td>NaN</td>\n",
       "      <td>{'Sunday': '4–11PM', 'Monday': '4–11PM', 'Tues...</td>\n",
       "      <td>{'Service options': ['Takeout', 'Dine-in', 'De...</td>\n",
       "      <td>Open ⋅ Closes 11PM</td>\n",
       "      <td>NaN</td>\n",
       "      <td>https://www.google.com/maps/place//data=!4m2!3...</td>\n",
       "      <td>30024</td>\n",
       "      <td>Korean restaurant</td>\n",
       "    </tr>\n",
       "    <tr>\n",
       "      <th>42420</th>\n",
       "      <td>GOP CHANG ON FIRE</td>\n",
       "      <td>GOP CHANG ON FIRE, 1291 Old Peachtree Rd NW #2...</td>\n",
       "      <td>0x88f5bd5c267deb63:0x43334d10a937659a</td>\n",
       "      <td>NaN</td>\n",
       "      <td>34.005296</td>\n",
       "      <td>-84.083624</td>\n",
       "      <td>['Korean restaurant']</td>\n",
       "      <td>4.5</td>\n",
       "      <td>148</td>\n",
       "      <td>$$</td>\n",
       "      <td>{'Monday': 'Closed', 'Tuesday': '4PM–12AM', 'W...</td>\n",
       "      <td>{'Service options': ['Takeout', 'Dine-in', 'De...</td>\n",
       "      <td>Closed ⋅ Opens 4PM Tue</td>\n",
       "      <td>['0x88f5a33f53ab9b11:0x8631faf0a1a07031', '0x8...</td>\n",
       "      <td>https://www.google.com/maps/place//data=!4m2!3...</td>\n",
       "      <td>30024</td>\n",
       "      <td>Korean restaurant</td>\n",
       "    </tr>\n",
       "    <tr>\n",
       "      <th>50488</th>\n",
       "      <td>족과의동침 2 스와니</td>\n",
       "      <td>족과의동침 2 스와니, 1291 Old Peachtree Rd NW #202, Su...</td>\n",
       "      <td>0x88f5bd3b239caf07:0xa016f9717bb31a7e</td>\n",
       "      <td>NaN</td>\n",
       "      <td>34.005060</td>\n",
       "      <td>-84.083411</td>\n",
       "      <td>['Korean restaurant', 'Restaurant']</td>\n",
       "      <td>4.6</td>\n",
       "      <td>34</td>\n",
       "      <td>NaN</td>\n",
       "      <td>{'Wednesday': '3–11PM', 'Thursday': '3–11PM', ...</td>\n",
       "      <td>{'Service options': ['Takeout', 'Dine-in', 'De...</td>\n",
       "      <td>Closed ⋅ Opens 3PM</td>\n",
       "      <td>NaN</td>\n",
       "      <td>https://www.google.com/maps/place//data=!4m2!3...</td>\n",
       "      <td>30024</td>\n",
       "      <td>Korean restaurant</td>\n",
       "    </tr>\n",
       "    <tr>\n",
       "      <th>53846</th>\n",
       "      <td>진주가든(Pearls Garden)</td>\n",
       "      <td>진주가든(Pearls Garden), 45 Satellite Blvd, Suwane...</td>\n",
       "      <td>0x88f5964c3c2592df:0xe8a7fdf48d46c85</td>\n",
       "      <td>NaN</td>\n",
       "      <td>34.039139</td>\n",
       "      <td>-84.054710</td>\n",
       "      <td>['Korean restaurant']</td>\n",
       "      <td>4.3</td>\n",
       "      <td>78</td>\n",
       "      <td>$$</td>\n",
       "      <td>{'Tuesday': '11AM–10PM', 'Wednesday': '11AM–10...</td>\n",
       "      <td>{'Service options': ['Curbside pickup', 'Takeo...</td>\n",
       "      <td>Closed ⋅ Opens 11AM</td>\n",
       "      <td>['0x88f59638f09ae8e1:0xcbdac5976b3047af', '0x8...</td>\n",
       "      <td>https://www.google.com/maps/place//data=!4m2!3...</td>\n",
       "      <td>30024</td>\n",
       "      <td>Korean restaurant</td>\n",
       "    </tr>\n",
       "    <tr>\n",
       "      <th>60754</th>\n",
       "      <td>SOJU BOX (소주 박스)</td>\n",
       "      <td>SOJU BOX (소주 박스), 1291 Old Peachtree Rd NW #22...</td>\n",
       "      <td>0x88f5bd3191bb4341:0xcd8170a45684a819</td>\n",
       "      <td>NaN</td>\n",
       "      <td>34.005060</td>\n",
       "      <td>-84.083411</td>\n",
       "      <td>['Korean restaurant']</td>\n",
       "      <td>4.8</td>\n",
       "      <td>18</td>\n",
       "      <td>NaN</td>\n",
       "      <td>{'Friday': '5PM–2AM', 'Saturday': '5PM–2AM', '...</td>\n",
       "      <td>{'Service options': ['Takeout', 'Dine-in'], 'P...</td>\n",
       "      <td>Open ⋅ Closes 2AM</td>\n",
       "      <td>NaN</td>\n",
       "      <td>https://www.google.com/maps/place//data=!4m2!3...</td>\n",
       "      <td>30024</td>\n",
       "      <td>Korean restaurant</td>\n",
       "    </tr>\n",
       "    <tr>\n",
       "      <th>67162</th>\n",
       "      <td>Manna Korean Restaurant</td>\n",
       "      <td>Manna Korean Restaurant, 1291 Old Peachtree Rd...</td>\n",
       "      <td>0x88f5bd2a31ea3eed:0xfe2fc1223db7d7c9</td>\n",
       "      <td>NaN</td>\n",
       "      <td>34.005007</td>\n",
       "      <td>-84.084525</td>\n",
       "      <td>['Korean restaurant']</td>\n",
       "      <td>4.5</td>\n",
       "      <td>4</td>\n",
       "      <td>NaN</td>\n",
       "      <td>{'Sunday': '11AM–9:30PM', 'Monday': '11AM–9:30...</td>\n",
       "      <td>{'Service options': ['Takeout', 'Delivery'], '...</td>\n",
       "      <td>Closed ⋅ Opens 11AM</td>\n",
       "      <td>['0x88f5a3aab7ba9f53:0x4140edf82046ceff', '0x8...</td>\n",
       "      <td>https://www.google.com/maps/place//data=!4m2!3...</td>\n",
       "      <td>30024</td>\n",
       "      <td>Korean restaurant</td>\n",
       "    </tr>\n",
       "    <tr>\n",
       "      <th>79331</th>\n",
       "      <td>Poetree Cafe</td>\n",
       "      <td>Poetree Cafe, 45 Old Peachtree Rd NW, Suwanee,...</td>\n",
       "      <td>0x88f59638f09ae8e1:0xcbdac5976b3047af</td>\n",
       "      <td>NaN</td>\n",
       "      <td>34.026480</td>\n",
       "      <td>-84.046322</td>\n",
       "      <td>['Korean restaurant', 'Cafe', 'Restaurant']</td>\n",
       "      <td>4.5</td>\n",
       "      <td>288</td>\n",
       "      <td>$$</td>\n",
       "      <td>{'Monday': 'Closed', 'Tuesday': '11:30AM–10PM'...</td>\n",
       "      <td>{'Service options': ['Takeout', 'Dine-in', 'De...</td>\n",
       "      <td>Closed ⋅ Opens 11:30AM Tue</td>\n",
       "      <td>['0x88f5963b9a473809:0x8bdd1fe21a429cff', '0x8...</td>\n",
       "      <td>https://www.google.com/maps/place//data=!4m2!3...</td>\n",
       "      <td>30024</td>\n",
       "      <td>Korean restaurant</td>\n",
       "    </tr>\n",
       "    <tr>\n",
       "      <th>90572</th>\n",
       "      <td>Sodeulnyuk</td>\n",
       "      <td>Sodeulnyuk, 2790 Lawrenceville-Suwanee Rd #165...</td>\n",
       "      <td>0x88f597a645f12b9b:0x282309513008d148</td>\n",
       "      <td>NaN</td>\n",
       "      <td>34.023506</td>\n",
       "      <td>-84.045114</td>\n",
       "      <td>['Korean restaurant']</td>\n",
       "      <td>3.8</td>\n",
       "      <td>208</td>\n",
       "      <td>$$</td>\n",
       "      <td>{'Saturday': '10AM–10PM', 'Sunday': '10AM–10PM...</td>\n",
       "      <td>{'Service options': ['Takeout', 'Dine-in', 'De...</td>\n",
       "      <td>NaN</td>\n",
       "      <td>['0x88f5963b9a473809:0x8bdd1fe21a429cff', '0x8...</td>\n",
       "      <td>https://www.google.com/maps/place//data=!4m2!3...</td>\n",
       "      <td>30024</td>\n",
       "      <td>Korean restaurant</td>\n",
       "    </tr>\n",
       "    <tr>\n",
       "      <th>92205</th>\n",
       "      <td>Kang Seo Restaurant</td>\n",
       "      <td>Kang Seo Restaurant, 2790 Lawrenceville-Suwane...</td>\n",
       "      <td>0x88f5963b9a473809:0x8bdd1fe21a429cff</td>\n",
       "      <td>NaN</td>\n",
       "      <td>34.023275</td>\n",
       "      <td>-84.045074</td>\n",
       "      <td>['Korean restaurant']</td>\n",
       "      <td>4.1</td>\n",
       "      <td>308</td>\n",
       "      <td>$$</td>\n",
       "      <td>{'Thursday': '10:30AM–9PM', 'Friday': '10:30AM...</td>\n",
       "      <td>{'Service options': ['Takeout', 'Dine-in', 'De...</td>\n",
       "      <td>NaN</td>\n",
       "      <td>['0x88f597a645f12b9b:0x282309513008d148', '0x8...</td>\n",
       "      <td>https://www.google.com/maps/place//data=!4m2!3...</td>\n",
       "      <td>30024</td>\n",
       "      <td>Korean restaurant</td>\n",
       "    </tr>\n",
       "    <tr>\n",
       "      <th>92206</th>\n",
       "      <td>So Gong Dong Tofu BBQ Restaurant</td>\n",
       "      <td>So Gong Dong Tofu BBQ Restaurant, 1291 Old Pea...</td>\n",
       "      <td>0x88f5bd5c3059a0a7:0xfd81ef59878c40f3</td>\n",
       "      <td>NaN</td>\n",
       "      <td>34.003875</td>\n",
       "      <td>-84.083300</td>\n",
       "      <td>['Korean restaurant']</td>\n",
       "      <td>4.4</td>\n",
       "      <td>238</td>\n",
       "      <td>$</td>\n",
       "      <td>{'Thursday': '10AM–9PM', 'Friday': '10AM–9PM',...</td>\n",
       "      <td>{'Service options': ['Takeout', 'Dine-in'], 'H...</td>\n",
       "      <td>NaN</td>\n",
       "      <td>['0x88f597a645f12b9b:0x282309513008d148', '0x8...</td>\n",
       "      <td>https://www.google.com/maps/place//data=!4m2!3...</td>\n",
       "      <td>30024</td>\n",
       "      <td>Korean restaurant</td>\n",
       "    </tr>\n",
       "    <tr>\n",
       "      <th>92470</th>\n",
       "      <td>ANJOO Modern Korean BarBQ and Tapas</td>\n",
       "      <td>ANJOO Modern Korean BarBQ and Tapas, 525 Peach...</td>\n",
       "      <td>0x88f597146d9884e9:0xbca191639eda3393</td>\n",
       "      <td>NaN</td>\n",
       "      <td>34.062624</td>\n",
       "      <td>-84.076076</td>\n",
       "      <td>['Korean restaurant']</td>\n",
       "      <td>4.7</td>\n",
       "      <td>26</td>\n",
       "      <td>NaN</td>\n",
       "      <td>{'Wednesday': '11AM–10PM', 'Thursday': '11AM–1...</td>\n",
       "      <td>{'Service options': ['Takeout', 'Dine-in', 'De...</td>\n",
       "      <td>NaN</td>\n",
       "      <td>NaN</td>\n",
       "      <td>https://www.google.com/maps/place//data=!4m2!3...</td>\n",
       "      <td>30024</td>\n",
       "      <td>Korean restaurant</td>\n",
       "    </tr>\n",
       "    <tr>\n",
       "      <th>93485</th>\n",
       "      <td>Bogle Bogle Tofu &amp; Noodle (보글보글)</td>\n",
       "      <td>Bogle Bogle Tofu &amp; Noodle (보글보글), 7775 McGinni...</td>\n",
       "      <td>0x88f5997935791c39:0x5887aa7b0d7df3e0</td>\n",
       "      <td>NaN</td>\n",
       "      <td>34.055059</td>\n",
       "      <td>-84.129966</td>\n",
       "      <td>['Korean restaurant']</td>\n",
       "      <td>3.8</td>\n",
       "      <td>126</td>\n",
       "      <td>NaN</td>\n",
       "      <td>{'Sunday': '11AM–10PM', 'Monday': '11AM–10PM',...</td>\n",
       "      <td>{'Service options': ['Takeout', 'Dine-in'], 'P...</td>\n",
       "      <td>NaN</td>\n",
       "      <td>['0x88f598ce406684e5:0xff2c50bdfcd649b9', '0x8...</td>\n",
       "      <td>https://www.google.com/maps/place//data=!4m2!3...</td>\n",
       "      <td>30024</td>\n",
       "      <td>Korean restaurant</td>\n",
       "    </tr>\n",
       "  </tbody>\n",
       "</table>\n",
       "</div>"
      ],
      "text/plain": [
       "                                      name  \\\n",
       "13551                      Pearl's Gardens   \n",
       "16234             Mandoo Restaurant(만두아저씨)   \n",
       "20454                 bb.q Chicken Suwanee   \n",
       "37103                       Gopchang Salon   \n",
       "42420                    GOP CHANG ON FIRE   \n",
       "50488                          족과의동침 2 스와니   \n",
       "53846                  진주가든(Pearls Garden)   \n",
       "60754                     SOJU BOX (소주 박스)   \n",
       "67162              Manna Korean Restaurant   \n",
       "79331                         Poetree Cafe   \n",
       "90572                           Sodeulnyuk   \n",
       "92205                  Kang Seo Restaurant   \n",
       "92206     So Gong Dong Tofu BBQ Restaurant   \n",
       "92470  ANJOO Modern Korean BarBQ and Tapas   \n",
       "93485     Bogle Bogle Tofu & Noodle (보글보글)   \n",
       "\n",
       "                                                 address  \\\n",
       "13551  Pearl's Gardens, 45 Satellite Blvd, Suwanee, G...   \n",
       "16234  Mandoo Restaurant(만두아저씨), 2700 Lawrenceville-S...   \n",
       "20454  bb.q Chicken Suwanee, 2850 Lawrenceville-Suwan...   \n",
       "37103  Gopchang Salon, 2850 Lawrenceville-Suwanee Rd ...   \n",
       "42420  GOP CHANG ON FIRE, 1291 Old Peachtree Rd NW #2...   \n",
       "50488  족과의동침 2 스와니, 1291 Old Peachtree Rd NW #202, Su...   \n",
       "53846  진주가든(Pearls Garden), 45 Satellite Blvd, Suwane...   \n",
       "60754  SOJU BOX (소주 박스), 1291 Old Peachtree Rd NW #22...   \n",
       "67162  Manna Korean Restaurant, 1291 Old Peachtree Rd...   \n",
       "79331  Poetree Cafe, 45 Old Peachtree Rd NW, Suwanee,...   \n",
       "90572  Sodeulnyuk, 2790 Lawrenceville-Suwanee Rd #165...   \n",
       "92205  Kang Seo Restaurant, 2790 Lawrenceville-Suwane...   \n",
       "92206  So Gong Dong Tofu BBQ Restaurant, 1291 Old Pea...   \n",
       "92470  ANJOO Modern Korean BarBQ and Tapas, 525 Peach...   \n",
       "93485  Bogle Bogle Tofu & Noodle (보글보글), 7775 McGinni...   \n",
       "\n",
       "                                     gmap_id  \\\n",
       "13551  0x88f5964c6730b83d:0x2908fb444d29ac20   \n",
       "16234  0x88f5963b168f862b:0xf00651fc3ada223a   \n",
       "20454  0x88f597dc6f364ec5:0xa24b7f30859cdccf   \n",
       "37103  0x88f5970967dc8345:0x2e81a00cb3528521   \n",
       "42420  0x88f5bd5c267deb63:0x43334d10a937659a   \n",
       "50488  0x88f5bd3b239caf07:0xa016f9717bb31a7e   \n",
       "53846   0x88f5964c3c2592df:0xe8a7fdf48d46c85   \n",
       "60754  0x88f5bd3191bb4341:0xcd8170a45684a819   \n",
       "67162  0x88f5bd2a31ea3eed:0xfe2fc1223db7d7c9   \n",
       "79331  0x88f59638f09ae8e1:0xcbdac5976b3047af   \n",
       "90572  0x88f597a645f12b9b:0x282309513008d148   \n",
       "92205  0x88f5963b9a473809:0x8bdd1fe21a429cff   \n",
       "92206  0x88f5bd5c3059a0a7:0xfd81ef59878c40f3   \n",
       "92470  0x88f597146d9884e9:0xbca191639eda3393   \n",
       "93485  0x88f5997935791c39:0x5887aa7b0d7df3e0   \n",
       "\n",
       "                                             description   latitude  \\\n",
       "13551  Easygoing, strip-mall option featuring traditi...  34.039155   \n",
       "16234                                                NaN  34.022000   \n",
       "20454                                                NaN  34.024953   \n",
       "37103                                                NaN  34.024266   \n",
       "42420                                                NaN  34.005296   \n",
       "50488                                                NaN  34.005060   \n",
       "53846                                                NaN  34.039139   \n",
       "60754                                                NaN  34.005060   \n",
       "67162                                                NaN  34.005007   \n",
       "79331                                                NaN  34.026480   \n",
       "90572                                                NaN  34.023506   \n",
       "92205                                                NaN  34.023275   \n",
       "92206                                                NaN  34.003875   \n",
       "92470                                                NaN  34.062624   \n",
       "93485                                                NaN  34.055059   \n",
       "\n",
       "       longitude                                      category  avg_rating  \\\n",
       "13551 -84.054822  ['Korean restaurant', 'Barbecue restaurant']         4.3   \n",
       "16234 -84.044869                         ['Korean restaurant']         4.1   \n",
       "20454 -84.045703                         ['Korean restaurant']         4.0   \n",
       "37103 -84.044641                         ['Korean restaurant']         4.6   \n",
       "42420 -84.083624                         ['Korean restaurant']         4.5   \n",
       "50488 -84.083411           ['Korean restaurant', 'Restaurant']         4.6   \n",
       "53846 -84.054710                         ['Korean restaurant']         4.3   \n",
       "60754 -84.083411                         ['Korean restaurant']         4.8   \n",
       "67162 -84.084525                         ['Korean restaurant']         4.5   \n",
       "79331 -84.046322   ['Korean restaurant', 'Cafe', 'Restaurant']         4.5   \n",
       "90572 -84.045114                         ['Korean restaurant']         3.8   \n",
       "92205 -84.045074                         ['Korean restaurant']         4.1   \n",
       "92206 -84.083300                         ['Korean restaurant']         4.4   \n",
       "92470 -84.076076                         ['Korean restaurant']         4.7   \n",
       "93485 -84.129966                         ['Korean restaurant']         3.8   \n",
       "\n",
       "       num_of_reviews price  \\\n",
       "13551              18   NaN   \n",
       "16234              16   NaN   \n",
       "20454             106   NaN   \n",
       "37103              53   NaN   \n",
       "42420             148    $$   \n",
       "50488              34   NaN   \n",
       "53846              78    $$   \n",
       "60754              18   NaN   \n",
       "67162               4   NaN   \n",
       "79331             288    $$   \n",
       "90572             208    $$   \n",
       "92205             308    $$   \n",
       "92206             238     $   \n",
       "92470              26   NaN   \n",
       "93485             126   NaN   \n",
       "\n",
       "                                                   hours  \\\n",
       "13551  {'Sunday': '11AM–10PM', 'Monday': 'Closed', 'T...   \n",
       "16234  {'Wednesday': '9:30AM–8:30PM', 'Thursday': '9:...   \n",
       "20454  {'Friday': '11:30AM–11PM', 'Saturday': '11:30A...   \n",
       "37103  {'Sunday': '4–11PM', 'Monday': '4–11PM', 'Tues...   \n",
       "42420  {'Monday': 'Closed', 'Tuesday': '4PM–12AM', 'W...   \n",
       "50488  {'Wednesday': '3–11PM', 'Thursday': '3–11PM', ...   \n",
       "53846  {'Tuesday': '11AM–10PM', 'Wednesday': '11AM–10...   \n",
       "60754  {'Friday': '5PM–2AM', 'Saturday': '5PM–2AM', '...   \n",
       "67162  {'Sunday': '11AM–9:30PM', 'Monday': '11AM–9:30...   \n",
       "79331  {'Monday': 'Closed', 'Tuesday': '11:30AM–10PM'...   \n",
       "90572  {'Saturday': '10AM–10PM', 'Sunday': '10AM–10PM...   \n",
       "92205  {'Thursday': '10:30AM–9PM', 'Friday': '10:30AM...   \n",
       "92206  {'Thursday': '10AM–9PM', 'Friday': '10AM–9PM',...   \n",
       "92470  {'Wednesday': '11AM–10PM', 'Thursday': '11AM–1...   \n",
       "93485  {'Sunday': '11AM–10PM', 'Monday': '11AM–10PM',...   \n",
       "\n",
       "                                                    MISC  \\\n",
       "13551  {'Service options': ['Delivery', 'Takeout', 'D...   \n",
       "16234  {'Service options': ['Takeout', 'Delivery'], '...   \n",
       "20454  {'Service options': ['Delivery', 'Takeout', 'D...   \n",
       "37103  {'Service options': ['Takeout', 'Dine-in', 'De...   \n",
       "42420  {'Service options': ['Takeout', 'Dine-in', 'De...   \n",
       "50488  {'Service options': ['Takeout', 'Dine-in', 'De...   \n",
       "53846  {'Service options': ['Curbside pickup', 'Takeo...   \n",
       "60754  {'Service options': ['Takeout', 'Dine-in'], 'P...   \n",
       "67162  {'Service options': ['Takeout', 'Delivery'], '...   \n",
       "79331  {'Service options': ['Takeout', 'Dine-in', 'De...   \n",
       "90572  {'Service options': ['Takeout', 'Dine-in', 'De...   \n",
       "92205  {'Service options': ['Takeout', 'Dine-in', 'De...   \n",
       "92206  {'Service options': ['Takeout', 'Dine-in'], 'H...   \n",
       "92470  {'Service options': ['Takeout', 'Dine-in', 'De...   \n",
       "93485  {'Service options': ['Takeout', 'Dine-in'], 'P...   \n",
       "\n",
       "                            state  \\\n",
       "13551          Open ⋅ Closes 10PM   \n",
       "16234        Open ⋅ Closes 8:30PM   \n",
       "20454          Open ⋅ Closes 11PM   \n",
       "37103          Open ⋅ Closes 11PM   \n",
       "42420      Closed ⋅ Opens 4PM Tue   \n",
       "50488          Closed ⋅ Opens 3PM   \n",
       "53846         Closed ⋅ Opens 11AM   \n",
       "60754           Open ⋅ Closes 2AM   \n",
       "67162         Closed ⋅ Opens 11AM   \n",
       "79331  Closed ⋅ Opens 11:30AM Tue   \n",
       "90572                         NaN   \n",
       "92205                         NaN   \n",
       "92206                         NaN   \n",
       "92470                         NaN   \n",
       "93485                         NaN   \n",
       "\n",
       "                                        relative_results  \\\n",
       "13551  ['0x88f5964c3c2592df:0xe8a7fdf48d46c85', '0x88...   \n",
       "16234  ['0x88f5963b9a473809:0x8bdd1fe21a429cff', '0x8...   \n",
       "20454                                                NaN   \n",
       "37103                                                NaN   \n",
       "42420  ['0x88f5a33f53ab9b11:0x8631faf0a1a07031', '0x8...   \n",
       "50488                                                NaN   \n",
       "53846  ['0x88f59638f09ae8e1:0xcbdac5976b3047af', '0x8...   \n",
       "60754                                                NaN   \n",
       "67162  ['0x88f5a3aab7ba9f53:0x4140edf82046ceff', '0x8...   \n",
       "79331  ['0x88f5963b9a473809:0x8bdd1fe21a429cff', '0x8...   \n",
       "90572  ['0x88f5963b9a473809:0x8bdd1fe21a429cff', '0x8...   \n",
       "92205  ['0x88f597a645f12b9b:0x282309513008d148', '0x8...   \n",
       "92206  ['0x88f597a645f12b9b:0x282309513008d148', '0x8...   \n",
       "92470                                                NaN   \n",
       "93485  ['0x88f598ce406684e5:0xff2c50bdfcd649b9', '0x8...   \n",
       "\n",
       "                                                     url  zip_code  \\\n",
       "13551  https://www.google.com/maps/place//data=!4m2!3...     30024   \n",
       "16234  https://www.google.com/maps/place//data=!4m2!3...     30024   \n",
       "20454  https://www.google.com/maps/place//data=!4m2!3...     30024   \n",
       "37103  https://www.google.com/maps/place//data=!4m2!3...     30024   \n",
       "42420  https://www.google.com/maps/place//data=!4m2!3...     30024   \n",
       "50488  https://www.google.com/maps/place//data=!4m2!3...     30024   \n",
       "53846  https://www.google.com/maps/place//data=!4m2!3...     30024   \n",
       "60754  https://www.google.com/maps/place//data=!4m2!3...     30024   \n",
       "67162  https://www.google.com/maps/place//data=!4m2!3...     30024   \n",
       "79331  https://www.google.com/maps/place//data=!4m2!3...     30024   \n",
       "90572  https://www.google.com/maps/place//data=!4m2!3...     30024   \n",
       "92205  https://www.google.com/maps/place//data=!4m2!3...     30024   \n",
       "92206  https://www.google.com/maps/place//data=!4m2!3...     30024   \n",
       "92470  https://www.google.com/maps/place//data=!4m2!3...     30024   \n",
       "93485  https://www.google.com/maps/place//data=!4m2!3...     30024   \n",
       "\n",
       "        primary_category  \n",
       "13551  Korean restaurant  \n",
       "16234  Korean restaurant  \n",
       "20454  Korean restaurant  \n",
       "37103  Korean restaurant  \n",
       "42420  Korean restaurant  \n",
       "50488  Korean restaurant  \n",
       "53846  Korean restaurant  \n",
       "60754  Korean restaurant  \n",
       "67162  Korean restaurant  \n",
       "79331  Korean restaurant  \n",
       "90572  Korean restaurant  \n",
       "92205  Korean restaurant  \n",
       "92206  Korean restaurant  \n",
       "92470  Korean restaurant  \n",
       "93485  Korean restaurant  "
      ]
     },
     "execution_count": 134,
     "metadata": {},
     "output_type": "execute_result"
    },
    {
     "data": {
      "application/javascript": [
       "\n",
       "            setTimeout(function() {\n",
       "                var nbb_cell_id = 134;\n",
       "                var nbb_unformatted_code = \"poi[(poi[\\\"zip_code\\\"] == 30024) & (poi[\\\"primary_category\\\"] == \\\"Korean restaurant\\\")]\";\n",
       "                var nbb_formatted_code = \"poi[(poi[\\\"zip_code\\\"] == 30024) & (poi[\\\"primary_category\\\"] == \\\"Korean restaurant\\\")]\";\n",
       "                var nbb_cells = Jupyter.notebook.get_cells();\n",
       "                for (var i = 0; i < nbb_cells.length; ++i) {\n",
       "                    if (nbb_cells[i].input_prompt_number == nbb_cell_id) {\n",
       "                        if (nbb_cells[i].get_text() == nbb_unformatted_code) {\n",
       "                             nbb_cells[i].set_text(nbb_formatted_code);\n",
       "                        }\n",
       "                        break;\n",
       "                    }\n",
       "                }\n",
       "            }, 500);\n",
       "            "
      ],
      "text/plain": [
       "<IPython.core.display.Javascript object>"
      ]
     },
     "metadata": {},
     "output_type": "display_data"
    }
   ],
   "source": [
    "poi[(poi[\"zip_code\"] == 30024) & (poi[\"primary_category\"] == \"Korean restaurant\")]\n"
   ]
  },
  {
   "cell_type": "code",
   "execution_count": 139,
   "id": "870a4998",
   "metadata": {},
   "outputs": [
    {
     "data": {
      "text/plain": [
       "Restaurant                                     31\n",
       "Nail salon                                     30\n",
       "Hair salon                                     29\n",
       "Dentist                                        27\n",
       "Auto repair shop                               25\n",
       "Gas station                                    20\n",
       "Fast food restaurant                           19\n",
       "Beauty salon                                   18\n",
       "Pizza restaurant                               16\n",
       "Korean restaurant                              15\n",
       "Doctor                                         15\n",
       "Shopping mall                                  15\n",
       "Mexican restaurant                             14\n",
       "Park                                           13\n",
       "Coffee shop                                    12\n",
       "Insurance agency                               12\n",
       "Grocery store                                  12\n",
       "Corporate office                               11\n",
       "Bank                                           11\n",
       "Church                                         11\n",
       "Sandwich shop                                  11\n",
       "Massage therapist                              10\n",
       "Pharmacy                                       10\n",
       "Chiropractor                                   10\n",
       "Cell phone store                               10\n",
       "Hotel                                          10\n",
       "Chinese restaurant                              9\n",
       "Gym                                             9\n",
       "Distribution service                            9\n",
       "Apartment complex                               9\n",
       "Sushi restaurant                                8\n",
       "Tire shop                                       7\n",
       "Medical clinic                                  7\n",
       "Pet groomer                                     7\n",
       "Home builder                                    7\n",
       "Bakery                                          7\n",
       "Pizza delivery                                  7\n",
       "Car wash                                        7\n",
       "Veterinarian                                    6\n",
       "Real estate agency                              6\n",
       "Martial arts school                             6\n",
       "Chicken restaurant                              6\n",
       "Employment agency                               6\n",
       "Bubble tea store                                6\n",
       "Barber shop                                     6\n",
       "Auto parts store                                6\n",
       "Warehouse                                       6\n",
       "Liquor store                                    6\n",
       "Auto body shop                                  6\n",
       "Self-storage facility                           6\n",
       "Attorney                                        5\n",
       "Korean barbecue restaurant                      5\n",
       "Community center                                5\n",
       "Dental clinic                                   5\n",
       "Spa                                             5\n",
       "Building materials supplier                     5\n",
       "Home improvement store                          5\n",
       "Ice cream shop                                  5\n",
       "Lawn care service                               5\n",
       "Sign shop                                       5\n",
       "Manufacturer                                    5\n",
       "Shipping and mailing service                    5\n",
       "Dance school                                    4\n",
       "Tutoring service                                4\n",
       "Print shop                                      4\n",
       "HVAC contractor                                 4\n",
       "Department store                                4\n",
       "Business center                                 4\n",
       "Cafe                                            4\n",
       "Garden center                                   4\n",
       "Store                                           4\n",
       "Optometrist                                     4\n",
       "Plumber                                         4\n",
       "Appliance repair service                        4\n",
       "Gymnastics center                               4\n",
       "American restaurant                             4\n",
       "Law firm                                        4\n",
       "Physical therapy clinic                         4\n",
       "Barbecue restaurant                             4\n",
       "Association or organization                     4\n",
       "Pet supply store                                4\n",
       "Personal trainer                                4\n",
       "Dry cleaner                                     4\n",
       "Electrician                                     4\n",
       "Car repair and maintenance                      4\n",
       "Asian fusion restaurant                         4\n",
       "Gastroenterologist                              4\n",
       "Internist                                       4\n",
       "Tobacco shop                                    3\n",
       "Chicken wings restaurant                        3\n",
       "Waxing hair removal service                     3\n",
       "Clothing alteration service                     3\n",
       "Amusement center                                3\n",
       "Japanese restaurant                             3\n",
       "Car rental agency                               3\n",
       "Apartment building                              3\n",
       "Paint store                                     3\n",
       "Pediatric dentist                               3\n",
       "Drug store                                      3\n",
       "Mortgage lender                                 3\n",
       "Physical fitness program                        3\n",
       "Air conditioning contractor                     3\n",
       "Swimming pool                                   3\n",
       "Beauty supply store                             3\n",
       "Bar & grill                                     3\n",
       "Juice shop                                      3\n",
       "Pest control service                            3\n",
       "Obstetrician-gynecologist                       3\n",
       "Seafood restaurant                              3\n",
       "Urgent care center                              3\n",
       "Pool hall                                       3\n",
       "Water damage restoration service                3\n",
       "Mediterranean restaurant                        3\n",
       "Golf course                                     3\n",
       "Pediatrician                                    3\n",
       "Breakfast restaurant                            3\n",
       "Medical Center                                  3\n",
       "School                                          2\n",
       "Convenience store                               2\n",
       "Truck repair shop                               2\n",
       "Furniture store                                 2\n",
       "Contractor                                      2\n",
       "Animal hospital                                 2\n",
       "Corporate campus                                2\n",
       "Tool rental service                             2\n",
       "Family practice physician                       2\n",
       "Boat ramp                                       2\n",
       "Indian restaurant                               2\n",
       "Deli                                            2\n",
       "Event venue                                     2\n",
       "Indian grocery store                            2\n",
       "Flooring store                                  2\n",
       "Brewery                                         2\n",
       "Elementary school                               2\n",
       "Real estate agents                              2\n",
       "Software company                                2\n",
       "Asian restaurant                                2\n",
       "Consignment shop                                2\n",
       "Shoe store                                      2\n",
       "Window tinting service                          2\n",
       "Day care center                                 2\n",
       "Landscaper                                      2\n",
       "Mobile phone repair shop                        2\n",
       "Donut shop                                      2\n",
       "Counselor                                       2\n",
       "Retirement community                            2\n",
       "Grill store                                     2\n",
       "Vaporizer store                                 2\n",
       "Mover                                           2\n",
       "Medical office                                  2\n",
       "Hindu temple                                    2\n",
       "Hamburger restaurant                            2\n",
       "Satellite communication service                 2\n",
       "Dermatologist                                   2\n",
       "Custom home builder                             2\n",
       "Business to business service                    2\n",
       "Car dealer                                      2\n",
       "Engineer                                        2\n",
       "Roofing contractor                              2\n",
       "Accountant                                      2\n",
       "Addiction treatment center                      2\n",
       "Taekwondo school                                2\n",
       "Orthodontist                                    2\n",
       "Korean church                                   2\n",
       "Moving and storage service                      2\n",
       "City government office                          2\n",
       "Tennis court                                    2\n",
       "Dollar store                                    2\n",
       "Teeth whitening service                         2\n",
       "Shipping service                                2\n",
       "Sports complex                                  2\n",
       "Tax preparation service                         2\n",
       "Physical therapist                              2\n",
       "Smog inspection station                         2\n",
       "Gift shop                                       2\n",
       "Jeweler                                         2\n",
       "Vietnamese restaurant                           2\n",
       "Volleyball club                                 2\n",
       "Thai restaurant                                 2\n",
       "Lounge                                          2\n",
       "Baptist church                                  2\n",
       "Oral surgeon                                    2\n",
       "Computer support and services                   2\n",
       "Otolaryngology clinic                           2\n",
       "Medical laboratory                              2\n",
       "Jewelry buyer                                   2\n",
       "Tanning salon                                   2\n",
       "Health and beauty shop                          2\n",
       "s clothing store\",                              2\n",
       "Festival                                        2\n",
       "Surgeon                                         2\n",
       "Real estate attorney                            2\n",
       "Office supply store                             2\n",
       "Eye care center                                 2\n",
       "Pet store                                       2\n",
       "Bottled water supplier                          1\n",
       "Lighting store                                  1\n",
       "Hardware store                                  1\n",
       "Tapas bar                                       1\n",
       "Marketing agency                                1\n",
       "Welder                                          1\n",
       "Bicycle Shop                                    1\n",
       "Uniform store                                   1\n",
       "Housing complex                                 1\n",
       "Security system supplier                        1\n",
       "Trucking company                                1\n",
       "Loan agency                                     1\n",
       "Heating equipment supplier                      1\n",
       "Recruiter                                       1\n",
       "Donations center                                1\n",
       "Batting cage center                             1\n",
       "School bus service                              1\n",
       "Golf driving range                              1\n",
       "Dessert shop                                    1\n",
       "Shower door shop                                1\n",
       "Psychiatrist                                    1\n",
       "Cigar shop                                      1\n",
       "Storage facility                                1\n",
       "Country club                                    1\n",
       "Sleep clinic                                    1\n",
       "Janitorial service                              1\n",
       "Lake                                            1\n",
       "School district office                          1\n",
       "Neurologist                                     1\n",
       "Wedding venue                                   1\n",
       "Playground                                      1\n",
       "Movie theater                                   1\n",
       "Rock climbing gym                               1\n",
       "Life insurance agency                           1\n",
       "Extended stay hotel                             1\n",
       "Driving school                                  1\n",
       "Hot pot restaurant                              1\n",
       "Occupational therapist                          1\n",
       "Motel                                           1\n",
       "Electronics                                     1\n",
       "Cosmetics store                                 1\n",
       "Southern restaurant (US)                        1\n",
       "CD store                                        1\n",
       "Learning center                                 1\n",
       "Notary public                                   1\n",
       "Electronics manufacturer                        1\n",
       "Yoga studio                                     1\n",
       "Electrical supply store                         1\n",
       "Craft store                                     1\n",
       "Post office                                     1\n",
       "Steak house                                     1\n",
       "Parking lot                                     1\n",
       "National reserve                                1\n",
       "Business networking company                     1\n",
       "Cottage village                                 1\n",
       "Ramen restaurant                                1\n",
       "Tex-Mex restaurant                              1\n",
       "Used car dealer                                 1\n",
       "Dessert restaurant                              1\n",
       "Wig shop                                        1\n",
       "Candy store                                     1\n",
       "Tractor dealer                                  1\n",
       "Italian restaurant                              1\n",
       "Business park                                   1\n",
       "Supermarket                                     1\n",
       "Oil change service                              1\n",
       "Public educational institution                  1\n",
       "Landscape designer                              1\n",
       "Turkish restaurant                              1\n",
       "Commercial printer                              1\n",
       "Fountain                                        1\n",
       "Club                                            1\n",
       "Criminal justice attorney                       1\n",
       "House cleaning service                          1\n",
       "Custom t-shirt store                            1\n",
       "Halal restaurant                                1\n",
       "Sports bar                                      1\n",
       "Real estate developer                           1\n",
       "Church of Jesus Christ of Latter-day Saints     1\n",
       "Violin shop                                     1\n",
       "Book store                                      1\n",
       "Amphitheater                                    1\n",
       "Karaoke                                         1\n",
       "Car detailing service                           1\n",
       "Painter                                         1\n",
       "Music store                                     1\n",
       "Dialysis center                                 1\n",
       "Tattoo removal service                          1\n",
       "Golf instructor                                 1\n",
       "Lumber store                                    1\n",
       "Cell tower                                      1\n",
       "Endodontist                                     1\n",
       "Football club                                   1\n",
       "Frozen yogurt shop                              1\n",
       "Fitness center                                  1\n",
       "Heating contractor                              1\n",
       "Butcher shop deli                               1\n",
       "Child care agency                               1\n",
       "Residents association                           1\n",
       "Shipping company                                1\n",
       "Live music venue                                1\n",
       "Shooting range                                  1\n",
       "Mosque                                          1\n",
       "Certified public accountant                     1\n",
       "Auto dent removal service                       1\n",
       "Diner                                           1\n",
       "Jamaican restaurant                             1\n",
       "Television station                              1\n",
       "Non-profit organization                         1\n",
       "Technical service                               1\n",
       "Beauty product supplier                         1\n",
       "School supply store                             1\n",
       "Boutique                                        1\n",
       "Pain management physician                       1\n",
       "Pipe supplier                                   1\n",
       "Dance company                                   1\n",
       "Employment attorney                             1\n",
       "Painting studio                                 1\n",
       "Assisted living facility                        1\n",
       "Podiatrist                                      1\n",
       "Private educational institution                 1\n",
       "Clothing store                                  1\n",
       "Air conditioning system supplier                1\n",
       "Wedding photographer                            1\n",
       "Packaging machinery                             1\n",
       "Medical diagnostic imaging center               1\n",
       "Adult entertainment store                       1\n",
       "Endocrinologist                                 1\n",
       "Event planner                                   1\n",
       "Shipping equipment industry                     1\n",
       "Weight loss service                             1\n",
       "DJ service                                      1\n",
       "Transportation service                          1\n",
       "Clothing supplier                               1\n",
       "Tennis store                                    1\n",
       "Veterinary care                                 1\n",
       "Florist                                         1\n",
       "Digital printer                                 1\n",
       "Variety store                                   1\n",
       "Christmas tree farm                             1\n",
       "Biotechnology company                           1\n",
       "Property management company                     1\n",
       "Accounting firm                                 1\n",
       "Woodworker                                      1\n",
       "Millwork shop                                   1\n",
       "Gutter cleaning service                         1\n",
       "Tree farm                                       1\n",
       "Health consultant                               1\n",
       "Hearing aid store                               1\n",
       "Engineering consultant                          1\n",
       "Baseball field                                  1\n",
       "Industrial real estate agency                   1\n",
       "Tailor                                          1\n",
       "Painting                                        1\n",
       "Archery club                                    1\n",
       "Laboratory                                      1\n",
       "Metal fabricator                                1\n",
       "Food manufacturer                               1\n",
       "Sports school                                   1\n",
       "Carpet cleaning service                         1\n",
       "Home goods store                                1\n",
       "Drug testing service                            1\n",
       "Parkour spot                                    1\n",
       "Home inspector                                  1\n",
       "Mental health clinic                            1\n",
       "Tool store                                      1\n",
       "Townhouse complex                               1\n",
       "Horse boarding stable                           1\n",
       "Mortgage broker                                 1\n",
       "Auto wrecker                                    1\n",
       "Demolition contractor                           1\n",
       "Financial planner                               1\n",
       "Cardiologist                                    1\n",
       "Urologist                                       1\n",
       " association\",                                  1\n",
       "Company                                         1\n",
       "General contractor                              1\n",
       "Abrasives supplier                              1\n",
       "Otolaryngologist                                1\n",
       "Garage door supplier                            1\n",
       "Pet sitter                                      1\n",
       "Soccer field                                    1\n",
       "Meditation center                               1\n",
       "Dental laboratory                               1\n",
       "Fire damage restoration service                 1\n",
       "Wholesale grocer                                1\n",
       "After school program                            1\n",
       "Adult DVD store                                 1\n",
       "Music school                                    1\n",
       "Korean grocery store                            1\n",
       "Recycling center                                1\n",
       "Farm                                            1\n",
       "Video production service                        1\n",
       "Sports club                                     1\n",
       "Land surveyor                                   1\n",
       "Football Field                                  1\n",
       "Appraiser                                       1\n",
       "Copy shop                                       1\n",
       "Department of motor vehicles                    1\n",
       "Health spa                                      1\n",
       "Trophy shop                                     1\n",
       "Public library                                  1\n",
       "Fraternal organization                          1\n",
       "Camera repair shop                              1\n",
       "Auto painting                                   1\n",
       "Wheel alignment service                         1\n",
       "Art gallery                                     1\n",
       "Car battery store                               1\n",
       "Money transfer service                          1\n",
       "Embroidery shop                                 1\n",
       "Recreation center                               1\n",
       "Computer consultant                             1\n",
       "Greeting card shop                              1\n",
       "Plastic surgeon                                 1\n",
       "Vitamin & supplements store                     1\n",
       "Sporting goods store                            1\n",
       "Pet boarding service                            1\n",
       "Musical instrument store                        1\n",
       "Walk-in clinic                                  1\n",
       "Gated community                                 1\n",
       "Appliance store                                 1\n",
       "Venezuelan restaurant                           1\n",
       "United Methodist church                         1\n",
       "Playground equipment supplier                   1\n",
       "Immigration attorney                            1\n",
       "Food products supplier                          1\n",
       "Reflexologist                                   1\n",
       "Cabinet maker                                   1\n",
       "RV repair shop                                  1\n",
       "Banquet hall                                    1\n",
       "Sharpening service                              1\n",
       "Plumbing supply store                           1\n",
       "Window treatment store                          1\n",
       "Mattress store                                  1\n",
       "Fabric store                                    1\n",
       "Locksmith                                       1\n",
       "Drilling contractor                             1\n",
       "Nutritionist                                    1\n",
       "Assemblies of God church                        1\n",
       "Construction company                            1\n",
       "Pilates studio                                  1\n",
       "Jewelry store                                   1\n",
       "Bar                                             1\n",
       "Piano tuning service                            1\n",
       "Marketing consultant                            1\n",
       "Personal injury attorney                        1\n",
       "Cake shop                                       1\n",
       "Comic book store                                1\n",
       "Karaoke bar                                     1\n",
       "Wholesaler                                      1\n",
       "Wellness center                                 1\n",
       "Acupuncture clinic                              1\n",
       "Information services                            1\n",
       "Auto restoration service                        1\n",
       "Consultant                                      1\n",
       "Publisher                                       1\n",
       "Police department                               1\n",
       "Website designer                                1\n",
       "Photography studio                              1\n",
       "Rehabilitation center                           1\n",
       "Massage school                                  1\n",
       "Auto glass shop                                 1\n",
       "Greek restaurant                                1\n",
       "Name: primary_category, dtype: int64"
      ]
     },
     "execution_count": 139,
     "metadata": {},
     "output_type": "execute_result"
    },
    {
     "data": {
      "application/javascript": [
       "\n",
       "            setTimeout(function() {\n",
       "                var nbb_cell_id = 139;\n",
       "                var nbb_unformatted_code = \"# checking how many poi's in one zip code\\n# poi_types_count =\\npoi[poi['zip_code'] == 30024]['primary_category'].value_counts()\\n# print(poi_types_count)\";\n",
       "                var nbb_formatted_code = \"# checking how many poi's in one zip code\\n# poi_types_count =\\npoi[poi[\\\"zip_code\\\"] == 30024][\\\"primary_category\\\"].value_counts()\\n# print(poi_types_count)\";\n",
       "                var nbb_cells = Jupyter.notebook.get_cells();\n",
       "                for (var i = 0; i < nbb_cells.length; ++i) {\n",
       "                    if (nbb_cells[i].input_prompt_number == nbb_cell_id) {\n",
       "                        if (nbb_cells[i].get_text() == nbb_unformatted_code) {\n",
       "                             nbb_cells[i].set_text(nbb_formatted_code);\n",
       "                        }\n",
       "                        break;\n",
       "                    }\n",
       "                }\n",
       "            }, 500);\n",
       "            "
      ],
      "text/plain": [
       "<IPython.core.display.Javascript object>"
      ]
     },
     "metadata": {},
     "output_type": "display_data"
    }
   ],
   "source": [
    "# checking how many poi's in one zip code\n",
    "\n",
    "poi[poi['zip_code'] == 30024]['primary_category'].value_counts()\n",
    "\n"
   ]
  },
  {
   "cell_type": "code",
   "execution_count": 105,
   "id": "1655cf88",
   "metadata": {},
   "outputs": [
    {
     "data": {
      "text/plain": [
       "30096    1702\n",
       "30144    1479\n",
       "30318    1400\n",
       "30024    1353\n",
       "30253    1270\n",
       "         ... \n",
       "30111       3\n",
       "30623       3\n",
       "30289       2\n",
       "30250       2\n",
       "30275       2\n",
       "Name: zip_code, Length: 240, dtype: int64"
      ]
     },
     "execution_count": 105,
     "metadata": {},
     "output_type": "execute_result"
    },
    {
     "data": {
      "application/javascript": [
       "\n",
       "            setTimeout(function() {\n",
       "                var nbb_cell_id = 105;\n",
       "                var nbb_unformatted_code = \"poi_old[\\\"zip_code\\\"].value_counts()\";\n",
       "                var nbb_formatted_code = \"poi_old[\\\"zip_code\\\"].value_counts()\";\n",
       "                var nbb_cells = Jupyter.notebook.get_cells();\n",
       "                for (var i = 0; i < nbb_cells.length; ++i) {\n",
       "                    if (nbb_cells[i].input_prompt_number == nbb_cell_id) {\n",
       "                        if (nbb_cells[i].get_text() == nbb_unformatted_code) {\n",
       "                             nbb_cells[i].set_text(nbb_formatted_code);\n",
       "                        }\n",
       "                        break;\n",
       "                    }\n",
       "                }\n",
       "            }, 500);\n",
       "            "
      ],
      "text/plain": [
       "<IPython.core.display.Javascript object>"
      ]
     },
     "metadata": {},
     "output_type": "display_data"
    }
   ],
   "source": [
    "poi[\"zip_code\"].value_counts()"
   ]
  },
  {
   "cell_type": "code",
   "execution_count": 141,
   "id": "ccfe3bad",
   "metadata": {},
   "outputs": [
    {
     "data": {
      "text/plain": [
       "Subway                                       410\n",
       "Dollar General                               314\n",
       "Shell                                        293\n",
       "Waffle House                                 272\n",
       "McDonald's                                   252\n",
       "                                            ... \n",
       "Able Self Storage                              1\n",
       "Mutt and Jeff Porkskins Inc                    1\n",
       "Vinings Lofts and Apartments                   1\n",
       "Potato Corner                                  1\n",
       "Atlanta Convention Center at AmericasMart      1\n",
       "Name: name, Length: 68325, dtype: int64"
      ]
     },
     "execution_count": 141,
     "metadata": {},
     "output_type": "execute_result"
    },
    {
     "data": {
      "application/javascript": [
       "\n",
       "            setTimeout(function() {\n",
       "                var nbb_cell_id = 141;\n",
       "                var nbb_unformatted_code = \"poi[\\\"name\\\"].value_counts()\";\n",
       "                var nbb_formatted_code = \"poi[\\\"name\\\"].value_counts()\";\n",
       "                var nbb_cells = Jupyter.notebook.get_cells();\n",
       "                for (var i = 0; i < nbb_cells.length; ++i) {\n",
       "                    if (nbb_cells[i].input_prompt_number == nbb_cell_id) {\n",
       "                        if (nbb_cells[i].get_text() == nbb_unformatted_code) {\n",
       "                             nbb_cells[i].set_text(nbb_formatted_code);\n",
       "                        }\n",
       "                        break;\n",
       "                    }\n",
       "                }\n",
       "            }, 500);\n",
       "            "
      ],
      "text/plain": [
       "<IPython.core.display.Javascript object>"
      ]
     },
     "metadata": {},
     "output_type": "display_data"
    }
   ],
   "source": [
    "poi[\"name\"].value_counts()"
   ]
  },
  {
   "cell_type": "code",
   "execution_count": 145,
   "id": "4057fb19",
   "metadata": {},
   "outputs": [
    {
     "data": {
      "application/javascript": [
       "\n",
       "            setTimeout(function() {\n",
       "                var nbb_cell_id = 145;\n",
       "                var nbb_unformatted_code = \"# moving zip_code to first colum\\npoi.insert(0, 'zip_code', poi.pop('zip_code'))\";\n",
       "                var nbb_formatted_code = \"# moving zip_code to first colum\\npoi.insert(0, \\\"zip_code\\\", poi.pop(\\\"zip_code\\\"))\";\n",
       "                var nbb_cells = Jupyter.notebook.get_cells();\n",
       "                for (var i = 0; i < nbb_cells.length; ++i) {\n",
       "                    if (nbb_cells[i].input_prompt_number == nbb_cell_id) {\n",
       "                        if (nbb_cells[i].get_text() == nbb_unformatted_code) {\n",
       "                             nbb_cells[i].set_text(nbb_formatted_code);\n",
       "                        }\n",
       "                        break;\n",
       "                    }\n",
       "                }\n",
       "            }, 500);\n",
       "            "
      ],
      "text/plain": [
       "<IPython.core.display.Javascript object>"
      ]
     },
     "metadata": {},
     "output_type": "display_data"
    }
   ],
   "source": [
    "# moving zip_code to first colum\n",
    "poi.insert(0, 'zip_code', poi.pop('zip_code'))\n"
   ]
  },
  {
   "cell_type": "code",
   "execution_count": 147,
   "id": "f35038fb",
   "metadata": {},
   "outputs": [
    {
     "data": {
      "application/javascript": [
       "\n",
       "            setTimeout(function() {\n",
       "                var nbb_cell_id = 147;\n",
       "                var nbb_unformatted_code = \"# dropping columns we wont need\\ncolumns_to_drop = ['address', 'gmap_id', 'description', 'hours', 'MISC', 'state', 'relative_results', 'url']\\npoi.drop(columns=columns_to_drop, inplace=True)\";\n",
       "                var nbb_formatted_code = \"# dropping columns we wont need\\ncolumns_to_drop = [\\n    \\\"address\\\",\\n    \\\"gmap_id\\\",\\n    \\\"description\\\",\\n    \\\"hours\\\",\\n    \\\"MISC\\\",\\n    \\\"state\\\",\\n    \\\"relative_results\\\",\\n    \\\"url\\\",\\n]\\npoi.drop(columns=columns_to_drop, inplace=True)\";\n",
       "                var nbb_cells = Jupyter.notebook.get_cells();\n",
       "                for (var i = 0; i < nbb_cells.length; ++i) {\n",
       "                    if (nbb_cells[i].input_prompt_number == nbb_cell_id) {\n",
       "                        if (nbb_cells[i].get_text() == nbb_unformatted_code) {\n",
       "                             nbb_cells[i].set_text(nbb_formatted_code);\n",
       "                        }\n",
       "                        break;\n",
       "                    }\n",
       "                }\n",
       "            }, 500);\n",
       "            "
      ],
      "text/plain": [
       "<IPython.core.display.Javascript object>"
      ]
     },
     "metadata": {},
     "output_type": "display_data"
    }
   ],
   "source": [
    "# dropping columns we wont need\n",
    "columns_to_drop = ['address', 'gmap_id', 'description', 'hours', 'MISC', 'state', 'relative_results', 'url']\n",
    "poi.drop(columns=columns_to_drop, inplace=True)\n"
   ]
  },
  {
   "cell_type": "code",
   "execution_count": 150,
   "id": "a6cde063",
   "metadata": {},
   "outputs": [
    {
     "data": {
      "application/javascript": [
       "\n",
       "            setTimeout(function() {\n",
       "                var nbb_cell_id = 150;\n",
       "                var nbb_unformatted_code = \"# dropping the few rows with a missing value in primary category\\npoi.dropna(subset=['primary_category'], inplace=True)\";\n",
       "                var nbb_formatted_code = \"# dropping the few rows with a missing value in primary category\\npoi.dropna(subset=[\\\"primary_category\\\"], inplace=True)\";\n",
       "                var nbb_cells = Jupyter.notebook.get_cells();\n",
       "                for (var i = 0; i < nbb_cells.length; ++i) {\n",
       "                    if (nbb_cells[i].input_prompt_number == nbb_cell_id) {\n",
       "                        if (nbb_cells[i].get_text() == nbb_unformatted_code) {\n",
       "                             nbb_cells[i].set_text(nbb_formatted_code);\n",
       "                        }\n",
       "                        break;\n",
       "                    }\n",
       "                }\n",
       "            }, 500);\n",
       "            "
      ],
      "text/plain": [
       "<IPython.core.display.Javascript object>"
      ]
     },
     "metadata": {},
     "output_type": "display_data"
    }
   ],
   "source": [
    "# dropping the few rows with a missing value in primary category\n",
    "poi.dropna(subset=['primary_category'], inplace=True)\n"
   ]
  },
  {
   "cell_type": "code",
   "execution_count": 151,
   "id": "75ac8b76",
   "metadata": {},
   "outputs": [
    {
     "data": {
      "text/plain": [
       "zip_code                0\n",
       "name                    0\n",
       "latitude                0\n",
       "longitude               0\n",
       "category                0\n",
       "avg_rating              0\n",
       "num_of_reviews          0\n",
       "price               71872\n",
       "primary_category        0\n",
       "dtype: int64"
      ]
     },
     "execution_count": 151,
     "metadata": {},
     "output_type": "execute_result"
    },
    {
     "data": {
      "application/javascript": [
       "\n",
       "            setTimeout(function() {\n",
       "                var nbb_cell_id = 151;\n",
       "                var nbb_unformatted_code = \"poi.isna().sum()\";\n",
       "                var nbb_formatted_code = \"poi.isna().sum()\";\n",
       "                var nbb_cells = Jupyter.notebook.get_cells();\n",
       "                for (var i = 0; i < nbb_cells.length; ++i) {\n",
       "                    if (nbb_cells[i].input_prompt_number == nbb_cell_id) {\n",
       "                        if (nbb_cells[i].get_text() == nbb_unformatted_code) {\n",
       "                             nbb_cells[i].set_text(nbb_formatted_code);\n",
       "                        }\n",
       "                        break;\n",
       "                    }\n",
       "                }\n",
       "            }, 500);\n",
       "            "
      ],
      "text/plain": [
       "<IPython.core.display.Javascript object>"
      ]
     },
     "metadata": {},
     "output_type": "display_data"
    }
   ],
   "source": [
    "poi.isna().sum()"
   ]
  },
  {
   "cell_type": "markdown",
   "id": "05a70298",
   "metadata": {},
   "source": [
    "## Looking into census data"
   ]
  },
  {
   "cell_type": "code",
   "execution_count": null,
   "id": "cb1e2d9e",
   "metadata": {},
   "outputs": [],
   "source": [
    "file_name = \"ACSDP5Y2021.DP04-Data.csv\"\n",
    "\n",
    "# Downloading the file from S3 and parsing it into a dataframe\n",
    "s3.download_file(bucket_name, file_name, file_name)\n",
    "# Low memory is set to False because columns have mixed data types\n",
    "df = pd.read_csv(file_name, index_col=False, low_memory=False)"
   ]
  },
  {
   "cell_type": "code",
   "execution_count": 276,
   "id": "1eb91b5b",
   "metadata": {},
   "outputs": [
    {
     "data": {
      "application/javascript": [
       "\n",
       "            setTimeout(function() {\n",
       "                var nbb_cell_id = 276;\n",
       "                var nbb_unformatted_code = \"df = pd.read_csv(\\\"ACSDP5Y2021.DP04-Data.csv\\\", low_memory=False)\";\n",
       "                var nbb_formatted_code = \"df = pd.read_csv(\\\"ACSDP5Y2021.DP04-Data.csv\\\", low_memory=False)\";\n",
       "                var nbb_cells = Jupyter.notebook.get_cells();\n",
       "                for (var i = 0; i < nbb_cells.length; ++i) {\n",
       "                    if (nbb_cells[i].input_prompt_number == nbb_cell_id) {\n",
       "                        if (nbb_cells[i].get_text() == nbb_unformatted_code) {\n",
       "                             nbb_cells[i].set_text(nbb_formatted_code);\n",
       "                        }\n",
       "                        break;\n",
       "                    }\n",
       "                }\n",
       "            }, 500);\n",
       "            "
      ],
      "text/plain": [
       "<IPython.core.display.Javascript object>"
      ]
     },
     "metadata": {},
     "output_type": "display_data"
    }
   ],
   "source": [
    "# df = pd.read_csv(\"ACSDP5Y2021.DP04-Data.csv\", low_memory=False)"
   ]
  },
  {
   "cell_type": "code",
   "execution_count": 278,
   "id": "074e564a",
   "metadata": {},
   "outputs": [
    {
     "data": {
      "application/javascript": [
       "\n",
       "            setTimeout(function() {\n",
       "                var nbb_cell_id = 278;\n",
       "                var nbb_unformatted_code = \"zipcode_list = atlanta_zip[\\\"census_zcta5_geoid\\\"].tolist()\";\n",
       "                var nbb_formatted_code = \"zipcode_list = atlanta_zip[\\\"census_zcta5_geoid\\\"].tolist()\";\n",
       "                var nbb_cells = Jupyter.notebook.get_cells();\n",
       "                for (var i = 0; i < nbb_cells.length; ++i) {\n",
       "                    if (nbb_cells[i].input_prompt_number == nbb_cell_id) {\n",
       "                        if (nbb_cells[i].get_text() == nbb_unformatted_code) {\n",
       "                             nbb_cells[i].set_text(nbb_formatted_code);\n",
       "                        }\n",
       "                        break;\n",
       "                    }\n",
       "                }\n",
       "            }, 500);\n",
       "            "
      ],
      "text/plain": [
       "<IPython.core.display.Javascript object>"
      ]
     },
     "metadata": {},
     "output_type": "display_data"
    }
   ],
   "source": []
  },
  {
   "cell_type": "code",
   "execution_count": 279,
   "id": "5e203f0e",
   "metadata": {},
   "outputs": [
    {
     "data": {
      "application/javascript": [
       "\n",
       "            setTimeout(function() {\n",
       "                var nbb_cell_id = 279;\n",
       "                var nbb_unformatted_code = \"# Creating a new colum of zip codes\\ndf[\\\"zipcode\\\"] = df[\\\"NAME\\\"].str[-5:]\\n\\n# Dropping all columns that end in \\\"EA\\\", \\\"M\\\", or \\\"MA\\\"\\ndf = df.loc[:, ~df.columns.str.endswith((\\\"EA\\\", \\\"M\\\", \\\"MA\\\"))]\\n\\n# Dropping columns we dont need\\ndf = df.drop(columns=[\\\"Unnamed: 1146\\\", \\\"NAME\\\"])\\n\\n# Setting the first row as the new column names\\ndf.columns = df.iloc[0]\\n\\n# Dropping the first row, which is now redundant\\ndf = df.drop(0)\\n\\n# Renaming the columns\\n# df = df.rename(columns=lambda x: x.split(\\\"!!\\\")[-1] if \\\"!!\\\" in x else x)\\n# Renaming the columns\\n# df = df.rename(\\n#     columns=lambda x: x.split(\\\"!!\\\")[-1].replace(\\\" \\\", \\\"_\\\").replace(\\\",\\\", \\\"_\\\")\\n#     if \\\"!!\\\" in x\\n#     else x\\n# )\\n# Renaming the columns\\ndf = df.rename(\\n    columns=lambda x: x.split(\\\"!!\\\", 1)[-1].replace(\\\"!!\\\", \\\"_\\\") if \\\"!!\\\" in x else x\\n)\\n\\n\\n# removing the first column\\ndf = df.iloc[:, 1:]\\n\\n# moving the last column to the first position and renaming it \\\"zipcode\\\"\\ndf = df.iloc[:, [-1] + list(range(len(df.columns) - 1))]\\ndf = df.rename(columns={df.columns[0]: \\\"zipcode\\\"})\\n\\n# Converting all columns to numeric dtype\\ndf = df.apply(pd.to_numeric, errors=\\\"coerce\\\").fillna(0)\\n\\n\\n# # converting all columns to integer dtype\\n# df = df.apply(pd.to_numeric, errors=\\\"coerce\\\").fillna(0).astype(int)\\n\\n# Filtering out rows not in the Atlanta metro area\\ndf = df[df[\\\"zipcode\\\"].isin(zipcode_list)]\\n\\n# Resetting index\\ndf = df.reset_index(drop=True)\";\n",
       "                var nbb_formatted_code = \"# Creating a new colum of zip codes\\ndf[\\\"zipcode\\\"] = df[\\\"NAME\\\"].str[-5:]\\n\\n# Dropping all columns that end in \\\"EA\\\", \\\"M\\\", or \\\"MA\\\"\\ndf = df.loc[:, ~df.columns.str.endswith((\\\"EA\\\", \\\"M\\\", \\\"MA\\\"))]\\n\\n# Dropping columns we dont need\\ndf = df.drop(columns=[\\\"Unnamed: 1146\\\", \\\"NAME\\\"])\\n\\n# Setting the first row as the new column names\\ndf.columns = df.iloc[0]\\n\\n# Dropping the first row, which is now redundant\\ndf = df.drop(0)\\n\\n# Renaming the columns\\n# df = df.rename(columns=lambda x: x.split(\\\"!!\\\")[-1] if \\\"!!\\\" in x else x)\\n# Renaming the columns\\n# df = df.rename(\\n#     columns=lambda x: x.split(\\\"!!\\\")[-1].replace(\\\" \\\", \\\"_\\\").replace(\\\",\\\", \\\"_\\\")\\n#     if \\\"!!\\\" in x\\n#     else x\\n# )\\n# Renaming the columns\\ndf = df.rename(\\n    columns=lambda x: x.split(\\\"!!\\\", 1)[-1].replace(\\\"!!\\\", \\\"_\\\") if \\\"!!\\\" in x else x\\n)\\n\\n\\n# removing the first column\\ndf = df.iloc[:, 1:]\\n\\n# moving the last column to the first position and renaming it \\\"zipcode\\\"\\ndf = df.iloc[:, [-1] + list(range(len(df.columns) - 1))]\\ndf = df.rename(columns={df.columns[0]: \\\"zipcode\\\"})\\n\\n# Converting all columns to numeric dtype\\ndf = df.apply(pd.to_numeric, errors=\\\"coerce\\\").fillna(0)\\n\\n\\n# # converting all columns to integer dtype\\n# df = df.apply(pd.to_numeric, errors=\\\"coerce\\\").fillna(0).astype(int)\\n\\n# Filtering out rows not in the Atlanta metro area\\ndf = df[df[\\\"zipcode\\\"].isin(zipcode_list)]\\n\\n# Resetting index\\ndf = df.reset_index(drop=True)\";\n",
       "                var nbb_cells = Jupyter.notebook.get_cells();\n",
       "                for (var i = 0; i < nbb_cells.length; ++i) {\n",
       "                    if (nbb_cells[i].input_prompt_number == nbb_cell_id) {\n",
       "                        if (nbb_cells[i].get_text() == nbb_unformatted_code) {\n",
       "                             nbb_cells[i].set_text(nbb_formatted_code);\n",
       "                        }\n",
       "                        break;\n",
       "                    }\n",
       "                }\n",
       "            }, 500);\n",
       "            "
      ],
      "text/plain": [
       "<IPython.core.display.Javascript object>"
      ]
     },
     "metadata": {},
     "output_type": "display_data"
    }
   ],
   "source": [
    "# Creating a new colum of zip codes\n",
    "df[\"zipcode\"] = df[\"NAME\"].str[-5:]\n",
    "\n",
    "# Dropping all columns that end in \"EA\", \"M\", or \"MA\"\n",
    "df = df.loc[:, ~df.columns.str.endswith((\"EA\", \"M\", \"MA\"))]\n",
    "\n",
    "# Dropping columns we dont need\n",
    "df = df.drop(columns=[\"Unnamed: 1146\", \"NAME\"])\n",
    "\n",
    "# Setting the first row as the new column names\n",
    "df.columns = df.iloc[0]\n",
    "\n",
    "# Dropping the first row, which is now redundant\n",
    "df = df.drop(0)\n",
    "\n",
    "# Renaming the columns\n",
    "df = df.rename(\n",
    "    columns=lambda x: x.split(\"!!\", 1)[-1].replace(\"!!\", \"_\") if \"!!\" in x else x\n",
    ")\n",
    "\n",
    "\n",
    "# removing the first column\n",
    "df = df.iloc[:, 1:]\n",
    "\n",
    "# moving the last column to the first position and renaming it \"zipcode\"\n",
    "df = df.iloc[:, [-1] + list(range(len(df.columns) - 1))]\n",
    "df = df.rename(columns={df.columns[0]: \"zipcode\"})\n",
    "\n",
    "# Converting all columns to numeric dtype\n",
    "df = df.apply(pd.to_numeric, errors=\"coerce\").fillna(0)\n",
    "\n",
    "\n",
    "# # converting all columns to integer dtype\n",
    "# df = df.apply(pd.to_numeric, errors=\"coerce\").fillna(0).astype(int)\n",
    "\n",
    "# Filtering out rows not in the Atlanta metro area\n",
    "df = df[df[\"zipcode\"].isin(zipcode_list)]\n",
    "\n",
    "# Resetting index\n",
    "df = df.reset_index(drop=True)"
   ]
  },
  {
   "cell_type": "code",
   "execution_count": 273,
   "id": "675c7ffb",
   "metadata": {},
   "outputs": [
    {
     "data": {
      "text/plain": [
       "(241, 287)"
      ]
     },
     "execution_count": 273,
     "metadata": {},
     "output_type": "execute_result"
    },
    {
     "data": {
      "application/javascript": [
       "\n",
       "            setTimeout(function() {\n",
       "                var nbb_cell_id = 273;\n",
       "                var nbb_unformatted_code = \"df.shape\";\n",
       "                var nbb_formatted_code = \"df.shape\";\n",
       "                var nbb_cells = Jupyter.notebook.get_cells();\n",
       "                for (var i = 0; i < nbb_cells.length; ++i) {\n",
       "                    if (nbb_cells[i].input_prompt_number == nbb_cell_id) {\n",
       "                        if (nbb_cells[i].get_text() == nbb_unformatted_code) {\n",
       "                             nbb_cells[i].set_text(nbb_formatted_code);\n",
       "                        }\n",
       "                        break;\n",
       "                    }\n",
       "                }\n",
       "            }, 500);\n",
       "            "
      ],
      "text/plain": [
       "<IPython.core.display.Javascript object>"
      ]
     },
     "metadata": {},
     "output_type": "display_data"
    }
   ],
   "source": [
    "df.shape"
   ]
  },
  {
   "cell_type": "code",
   "execution_count": 274,
   "id": "179859fc",
   "metadata": {},
   "outputs": [
    {
     "data": {
      "application/javascript": [
       "\n",
       "            setTimeout(function() {\n",
       "                var nbb_cell_id = 274;\n",
       "                var nbb_unformatted_code = \"# column names to drop\\ncolumns_to_drop = df.columns[6:89]\\n# dropping the columns\\ndf = df.drop(columns_to_drop, axis=1)\";\n",
       "                var nbb_formatted_code = \"# column names to drop\\ncolumns_to_drop = df.columns[6:89]\\n# dropping the columns\\ndf = df.drop(columns_to_drop, axis=1)\";\n",
       "                var nbb_cells = Jupyter.notebook.get_cells();\n",
       "                for (var i = 0; i < nbb_cells.length; ++i) {\n",
       "                    if (nbb_cells[i].input_prompt_number == nbb_cell_id) {\n",
       "                        if (nbb_cells[i].get_text() == nbb_unformatted_code) {\n",
       "                             nbb_cells[i].set_text(nbb_formatted_code);\n",
       "                        }\n",
       "                        break;\n",
       "                    }\n",
       "                }\n",
       "            }, 500);\n",
       "            "
      ],
      "text/plain": [
       "<IPython.core.display.Javascript object>"
      ]
     },
     "metadata": {},
     "output_type": "display_data"
    }
   ],
   "source": [
    "# # column names to drop\n",
    "# columns_to_drop = df.columns[6:89]\n",
    "# # dropping the columns\n",
    "# df = df.drop(columns_to_drop, axis=1)"
   ]
  },
  {
   "cell_type": "code",
   "execution_count": 275,
   "id": "acaf3b51",
   "metadata": {},
   "outputs": [
    {
     "data": {
      "text/plain": [
       "(241, 121)"
      ]
     },
     "execution_count": 275,
     "metadata": {},
     "output_type": "execute_result"
    },
    {
     "data": {
      "application/javascript": [
       "\n",
       "            setTimeout(function() {\n",
       "                var nbb_cell_id = 275;\n",
       "                var nbb_unformatted_code = \"df.shape\";\n",
       "                var nbb_formatted_code = \"df.shape\";\n",
       "                var nbb_cells = Jupyter.notebook.get_cells();\n",
       "                for (var i = 0; i < nbb_cells.length; ++i) {\n",
       "                    if (nbb_cells[i].input_prompt_number == nbb_cell_id) {\n",
       "                        if (nbb_cells[i].get_text() == nbb_unformatted_code) {\n",
       "                             nbb_cells[i].set_text(nbb_formatted_code);\n",
       "                        }\n",
       "                        break;\n",
       "                    }\n",
       "                }\n",
       "            }, 500);\n",
       "            "
      ],
      "text/plain": [
       "<IPython.core.display.Javascript object>"
      ]
     },
     "metadata": {},
     "output_type": "display_data"
    }
   ],
   "source": [
    "df.shape"
   ]
  },
  {
   "cell_type": "code",
   "execution_count": 250,
   "id": "3a118ba9",
   "metadata": {},
   "outputs": [
    {
     "data": {
      "application/javascript": [
       "\n",
       "            setTimeout(function() {\n",
       "                var nbb_cell_id = 250;\n",
       "                var nbb_unformatted_code = \"# Get the column names to drop\\ncolumns_to_drop = df.columns[7:51]  # Columns 6-50 (inclusive)\\n\\n# Drop the columns\\ndf = df.drop(columns_to_drop, axis=1)\";\n",
       "                var nbb_formatted_code = \"# Get the column names to drop\\ncolumns_to_drop = df.columns[7:51]  # Columns 6-50 (inclusive)\\n\\n# Drop the columns\\ndf = df.drop(columns_to_drop, axis=1)\";\n",
       "                var nbb_cells = Jupyter.notebook.get_cells();\n",
       "                for (var i = 0; i < nbb_cells.length; ++i) {\n",
       "                    if (nbb_cells[i].input_prompt_number == nbb_cell_id) {\n",
       "                        if (nbb_cells[i].get_text() == nbb_unformatted_code) {\n",
       "                             nbb_cells[i].set_text(nbb_formatted_code);\n",
       "                        }\n",
       "                        break;\n",
       "                    }\n",
       "                }\n",
       "            }, 500);\n",
       "            "
      ],
      "text/plain": [
       "<IPython.core.display.Javascript object>"
      ]
     },
     "metadata": {},
     "output_type": "display_data"
    }
   ],
   "source": [
    "# # column names to drop\n",
    "# columns_to_drop = df.columns[7:51]  # Columns 6-50 (inclusive)\n",
    "\n",
    "# # dropping the columns\n",
    "# df = df.drop(columns_to_drop, axis=1)"
   ]
  },
  {
   "cell_type": "code",
   "execution_count": 257,
   "id": "802765e1",
   "metadata": {},
   "outputs": [
    {
     "data": {
      "application/javascript": [
       "\n",
       "            setTimeout(function() {\n",
       "                var nbb_cell_id = 257;\n",
       "                var nbb_unformatted_code = \"# column names to drop\\ncolumns_to_drop = df.columns[8:25]  # Columns 6-50 (inclusive)\\n\\n# dropping the columns\\ndf = df.drop(columns_to_drop, axis=1)\";\n",
       "                var nbb_formatted_code = \"# column names to drop\\ncolumns_to_drop = df.columns[8:25]  # Columns 6-50 (inclusive)\\n\\n# dropping the columns\\ndf = df.drop(columns_to_drop, axis=1)\";\n",
       "                var nbb_cells = Jupyter.notebook.get_cells();\n",
       "                for (var i = 0; i < nbb_cells.length; ++i) {\n",
       "                    if (nbb_cells[i].input_prompt_number == nbb_cell_id) {\n",
       "                        if (nbb_cells[i].get_text() == nbb_unformatted_code) {\n",
       "                             nbb_cells[i].set_text(nbb_formatted_code);\n",
       "                        }\n",
       "                        break;\n",
       "                    }\n",
       "                }\n",
       "            }, 500);\n",
       "            "
      ],
      "text/plain": [
       "<IPython.core.display.Javascript object>"
      ]
     },
     "metadata": {},
     "output_type": "display_data"
    }
   ],
   "source": [
    "# column names to drop\n",
    "columns_to_drop = df.columns[8:25]  # Columns 6-50 (inclusive)\n",
    "\n",
    "# dropping the columns\n",
    "df = df.drop(columns_to_drop, axis=1)"
   ]
  },
  {
   "cell_type": "code",
   "execution_count": 267,
   "id": "28b495d8",
   "metadata": {},
   "outputs": [
    {
     "data": {
      "text/plain": [
       "(241, 121)"
      ]
     },
     "execution_count": 267,
     "metadata": {},
     "output_type": "execute_result"
    },
    {
     "data": {
      "application/javascript": [
       "\n",
       "            setTimeout(function() {\n",
       "                var nbb_cell_id = 267;\n",
       "                var nbb_unformatted_code = \"df.shape\";\n",
       "                var nbb_formatted_code = \"df.shape\";\n",
       "                var nbb_cells = Jupyter.notebook.get_cells();\n",
       "                for (var i = 0; i < nbb_cells.length; ++i) {\n",
       "                    if (nbb_cells[i].input_prompt_number == nbb_cell_id) {\n",
       "                        if (nbb_cells[i].get_text() == nbb_unformatted_code) {\n",
       "                             nbb_cells[i].set_text(nbb_formatted_code);\n",
       "                        }\n",
       "                        break;\n",
       "                    }\n",
       "                }\n",
       "            }, 500);\n",
       "            "
      ],
      "text/plain": [
       "<IPython.core.display.Javascript object>"
      ]
     },
     "metadata": {},
     "output_type": "display_data"
    }
   ],
   "source": [
    "df.shape"
   ]
  },
  {
   "cell_type": "code",
   "execution_count": 256,
   "id": "4e87aded",
   "metadata": {},
   "outputs": [
    {
     "name": "stdout",
     "output_type": "stream",
     "text": [
      "Column 0: zipcode\n",
      "Column 1: HOUSING OCCUPANCY_Total housing units\n",
      "Column 2: HOUSING OCCUPANCY_Total housing units_Occupied housing units\n",
      "Column 3: HOUSING OCCUPANCY_Total housing units_Vacant housing units\n",
      "Column 4: HOUSING OCCUPANCY_Total housing units_Homeowner vacancy rate\n",
      "Column 5: HOUSING OCCUPANCY_Total housing units_Rental vacancy rate\n",
      "Column 6: VALUE_Owner-occupied units_Median (dollars)\n",
      "Column 7: GROSS RENT_Occupied units paying rent_Median (dollars)\n",
      "Column 8: GROSS RENT_Occupied units paying rent_No rent paid\n",
      "Column 9: GROSS RENT AS A PERCENTAGE OF HOUSEHOLD INCOME (GRAPI)_Occupied units paying rent (excluding units where GRAPI cannot be computed)\n",
      "Column 10: GROSS RENT AS A PERCENTAGE OF HOUSEHOLD INCOME (GRAPI)_Occupied units paying rent (excluding units where GRAPI cannot be computed)_Less than 15.0 percent\n",
      "Column 11: GROSS RENT AS A PERCENTAGE OF HOUSEHOLD INCOME (GRAPI)_Occupied units paying rent (excluding units where GRAPI cannot be computed)_15.0 to 19.9 percent\n",
      "Column 12: GROSS RENT AS A PERCENTAGE OF HOUSEHOLD INCOME (GRAPI)_Occupied units paying rent (excluding units where GRAPI cannot be computed)_20.0 to 24.9 percent\n",
      "Column 13: GROSS RENT AS A PERCENTAGE OF HOUSEHOLD INCOME (GRAPI)_Occupied units paying rent (excluding units where GRAPI cannot be computed)_25.0 to 29.9 percent\n",
      "Column 14: GROSS RENT AS A PERCENTAGE OF HOUSEHOLD INCOME (GRAPI)_Occupied units paying rent (excluding units where GRAPI cannot be computed)_30.0 to 34.9 percent\n",
      "Column 15: GROSS RENT AS A PERCENTAGE OF HOUSEHOLD INCOME (GRAPI)_Occupied units paying rent (excluding units where GRAPI cannot be computed)_35.0 percent or more\n",
      "Column 16: GROSS RENT AS A PERCENTAGE OF HOUSEHOLD INCOME (GRAPI)_Occupied units paying rent (excluding units where GRAPI cannot be computed)_Not computed\n",
      "Column 17: HOUSING OCCUPANCY_Total housing units\n",
      "Column 18: HOUSING OCCUPANCY_Total housing units_Occupied housing units\n",
      "Column 19: HOUSING OCCUPANCY_Total housing units_Vacant housing units\n",
      "Column 20: HOUSING OCCUPANCY_Total housing units_Homeowner vacancy rate\n",
      "Column 21: HOUSING OCCUPANCY_Total housing units_Rental vacancy rate\n",
      "Column 22: VALUE_Owner-occupied units_Median (dollars)\n",
      "Column 23: GROSS RENT_Occupied units paying rent_Median (dollars)\n",
      "Column 24: GROSS RENT_Occupied units paying rent_No rent paid\n",
      "Column 25: GROSS RENT AS A PERCENTAGE OF HOUSEHOLD INCOME (GRAPI)_Occupied units paying rent (excluding units where GRAPI cannot be computed)\n",
      "Column 26: GROSS RENT AS A PERCENTAGE OF HOUSEHOLD INCOME (GRAPI)_Occupied units paying rent (excluding units where GRAPI cannot be computed)_Less than 15.0 percent\n",
      "Column 27: GROSS RENT AS A PERCENTAGE OF HOUSEHOLD INCOME (GRAPI)_Occupied units paying rent (excluding units where GRAPI cannot be computed)_15.0 to 19.9 percent\n",
      "Column 28: GROSS RENT AS A PERCENTAGE OF HOUSEHOLD INCOME (GRAPI)_Occupied units paying rent (excluding units where GRAPI cannot be computed)_20.0 to 24.9 percent\n",
      "Column 29: GROSS RENT AS A PERCENTAGE OF HOUSEHOLD INCOME (GRAPI)_Occupied units paying rent (excluding units where GRAPI cannot be computed)_25.0 to 29.9 percent\n",
      "Column 30: GROSS RENT AS A PERCENTAGE OF HOUSEHOLD INCOME (GRAPI)_Occupied units paying rent (excluding units where GRAPI cannot be computed)_30.0 to 34.9 percent\n",
      "Column 31: GROSS RENT AS A PERCENTAGE OF HOUSEHOLD INCOME (GRAPI)_Occupied units paying rent (excluding units where GRAPI cannot be computed)_35.0 percent or more\n",
      "Column 32: GROSS RENT AS A PERCENTAGE OF HOUSEHOLD INCOME (GRAPI)_Occupied units paying rent (excluding units where GRAPI cannot be computed)_Not computed\n"
     ]
    },
    {
     "data": {
      "application/javascript": [
       "\n",
       "            setTimeout(function() {\n",
       "                var nbb_cell_id = 256;\n",
       "                var nbb_unformatted_code = \"# Iterate over each column name and its corresponding column number\\nfor idx, column_name in enumerate(df.columns):\\n    print(f\\\"Column {idx}: {column_name}\\\")\";\n",
       "                var nbb_formatted_code = \"# Iterate over each column name and its corresponding column number\\nfor idx, column_name in enumerate(df.columns):\\n    print(f\\\"Column {idx}: {column_name}\\\")\";\n",
       "                var nbb_cells = Jupyter.notebook.get_cells();\n",
       "                for (var i = 0; i < nbb_cells.length; ++i) {\n",
       "                    if (nbb_cells[i].input_prompt_number == nbb_cell_id) {\n",
       "                        if (nbb_cells[i].get_text() == nbb_unformatted_code) {\n",
       "                             nbb_cells[i].set_text(nbb_formatted_code);\n",
       "                        }\n",
       "                        break;\n",
       "                    }\n",
       "                }\n",
       "            }, 500);\n",
       "            "
      ],
      "text/plain": [
       "<IPython.core.display.Javascript object>"
      ]
     },
     "metadata": {},
     "output_type": "display_data"
    }
   ],
   "source": [
    "# Iterate over each column name and its corresponding column number\n",
    "for idx, column_name in enumerate(df.columns):\n",
    "    print(f\"Column {idx}: {column_name}\")"
   ]
  },
  {
   "cell_type": "code",
   "execution_count": 158,
   "id": "d30e2a5d",
   "metadata": {},
   "outputs": [
    {
     "data": {
      "application/javascript": [
       "\n",
       "            setTimeout(function() {\n",
       "                var nbb_cell_id = 158;\n",
       "                var nbb_unformatted_code = \"df.to_csv(\\\"dp04.csv\\\", index=False)\";\n",
       "                var nbb_formatted_code = \"df.to_csv(\\\"dp04.csv\\\", index=False)\";\n",
       "                var nbb_cells = Jupyter.notebook.get_cells();\n",
       "                for (var i = 0; i < nbb_cells.length; ++i) {\n",
       "                    if (nbb_cells[i].input_prompt_number == nbb_cell_id) {\n",
       "                        if (nbb_cells[i].get_text() == nbb_unformatted_code) {\n",
       "                             nbb_cells[i].set_text(nbb_formatted_code);\n",
       "                        }\n",
       "                        break;\n",
       "                    }\n",
       "                }\n",
       "            }, 500);\n",
       "            "
      ],
      "text/plain": [
       "<IPython.core.display.Javascript object>"
      ]
     },
     "metadata": {},
     "output_type": "display_data"
    }
   ],
   "source": [
    "# df.to_csv(\"dp04.csv\", index=False)"
   ]
  },
  {
   "cell_type": "code",
   "execution_count": 283,
   "id": "0a9afc29",
   "metadata": {},
   "outputs": [
    {
     "name": "stdout",
     "output_type": "stream",
     "text": [
      "File uploaded to S3 with ETag: \"b7a6a7cab74757b8f40fb414247a2bf6\"\n"
     ]
    },
    {
     "data": {
      "application/javascript": [
       "\n",
       "            setTimeout(function() {\n",
       "                var nbb_cell_id = 283;\n",
       "                var nbb_unformatted_code = \"# Create an S3 resource instead of using the S3 client that was used earlier\\n# s3R = boto3.resource('s3')\\n\\n# Convert the poi_df DataFrame to a csv buffer in memory\\ncsv_buffer = io.StringIO()\\npoi.to_csv(csv_buffer, index=False)\\n\\n# Naming the file for AWS storage\\nfile_name = \\\"points-of-interest-google3.csv\\\"\\n\\n# Uploading the file to S3 and printing the response\\nresponse = s3R.Object(bucket_name, file_name).put(Body=csv_buffer.getvalue())\\nprint(f\\\"File uploaded to S3 with ETag: {response['ETag']}\\\")  # C\";\n",
       "                var nbb_formatted_code = \"# Create an S3 resource instead of using the S3 client that was used earlier\\n# s3R = boto3.resource('s3')\\n\\n# Convert the poi_df DataFrame to a csv buffer in memory\\ncsv_buffer = io.StringIO()\\npoi.to_csv(csv_buffer, index=False)\\n\\n# Naming the file for AWS storage\\nfile_name = \\\"points-of-interest-google3.csv\\\"\\n\\n# Uploading the file to S3 and printing the response\\nresponse = s3R.Object(bucket_name, file_name).put(Body=csv_buffer.getvalue())\\nprint(f\\\"File uploaded to S3 with ETag: {response['ETag']}\\\")  # C\";\n",
       "                var nbb_cells = Jupyter.notebook.get_cells();\n",
       "                for (var i = 0; i < nbb_cells.length; ++i) {\n",
       "                    if (nbb_cells[i].input_prompt_number == nbb_cell_id) {\n",
       "                        if (nbb_cells[i].get_text() == nbb_unformatted_code) {\n",
       "                             nbb_cells[i].set_text(nbb_formatted_code);\n",
       "                        }\n",
       "                        break;\n",
       "                    }\n",
       "                }\n",
       "            }, 500);\n",
       "            "
      ],
      "text/plain": [
       "<IPython.core.display.Javascript object>"
      ]
     },
     "metadata": {},
     "output_type": "display_data"
    }
   ],
   "source": [
    "\n",
    "# Convert the poi_df DataFrame to a csv buffer in memory\n",
    "csv_buffer = io.StringIO()\n",
    "poi.to_csv(csv_buffer, index=False)\n",
    "\n",
    "# Naming the file for AWS storage\n",
    "file_name = \"points-of-interest-google3.csv\"\n",
    "\n",
    "# Uploading the file to S3 and printing the response\n",
    "response = s3R.Object(bucket_name, file_name).put(Body=csv_buffer.getvalue())\n",
    "print(f\"File uploaded to S3 with ETag: {response['ETag']}\")  "
   ]
  },
  {
   "cell_type": "code",
   "execution_count": 284,
   "id": "aa8a2405",
   "metadata": {},
   "outputs": [
    {
     "name": "stdout",
     "output_type": "stream",
     "text": [
      "File uploaded to S3 with ETag: \"2e42cc9a1a54d627e3f3ea5c0454f3aa\"\n"
     ]
    },
    {
     "data": {
      "application/javascript": [
       "\n",
       "            setTimeout(function() {\n",
       "                var nbb_cell_id = 284;\n",
       "                var nbb_unformatted_code = \"\\n# Convert the poi_df DataFrame to a csv buffer in memory\\ncsv_buffer = io.StringIO()\\ndf.to_csv(csv_buffer, index=False)\\n\\n# Naming the file for AWS storage\\nfile_name = \\\"census_data\\\"\\n\\n# Uploading the file to S3 and printing the response\\nresponse = s3R.Object(bucket_name, file_name).put(Body=csv_buffer.getvalue())\\nprint(f\\\"File uploaded to S3 with ETag: {response['ETag']}\\\")  # C\";\n",
       "                var nbb_formatted_code = \"# Convert the poi_df DataFrame to a csv buffer in memory\\ncsv_buffer = io.StringIO()\\ndf.to_csv(csv_buffer, index=False)\\n\\n# Naming the file for AWS storage\\nfile_name = \\\"census_data\\\"\\n\\n# Uploading the file to S3 and printing the response\\nresponse = s3R.Object(bucket_name, file_name).put(Body=csv_buffer.getvalue())\\nprint(f\\\"File uploaded to S3 with ETag: {response['ETag']}\\\")  # C\";\n",
       "                var nbb_cells = Jupyter.notebook.get_cells();\n",
       "                for (var i = 0; i < nbb_cells.length; ++i) {\n",
       "                    if (nbb_cells[i].input_prompt_number == nbb_cell_id) {\n",
       "                        if (nbb_cells[i].get_text() == nbb_unformatted_code) {\n",
       "                             nbb_cells[i].set_text(nbb_formatted_code);\n",
       "                        }\n",
       "                        break;\n",
       "                    }\n",
       "                }\n",
       "            }, 500);\n",
       "            "
      ],
      "text/plain": [
       "<IPython.core.display.Javascript object>"
      ]
     },
     "metadata": {},
     "output_type": "display_data"
    }
   ],
   "source": [
    "# Convert the poi_df DataFrame to a csv buffer in memory\n",
    "csv_buffer = io.StringIO()\n",
    "df.to_csv(csv_buffer, index=False)\n",
    "\n",
    "# Naming the file for AWS storage\n",
    "file_name = \"census_data\"\n",
    "\n",
    "# Uploading the file to S3 and printing the response\n",
    "response = s3R.Object(bucket_name, file_name).put(Body=csv_buffer.getvalue())\n",
    "print(f\"File uploaded to S3 with ETag: {response['ETag']}\")  # C"
   ]
  },
  {
   "cell_type": "code",
   "execution_count": null,
   "id": "534559bc",
   "metadata": {},
   "outputs": [],
   "source": []
  },
  {
   "cell_type": "code",
   "execution_count": null,
   "id": "0d3e6eb9",
   "metadata": {},
   "outputs": [],
   "source": []
  },
  {
   "cell_type": "code",
   "execution_count": null,
   "id": "1fcc953d",
   "metadata": {},
   "outputs": [],
   "source": []
  },
  {
   "cell_type": "code",
   "execution_count": null,
   "id": "8f3a1e63",
   "metadata": {},
   "outputs": [],
   "source": []
  },
  {
   "cell_type": "code",
   "execution_count": null,
   "id": "c52bd311",
   "metadata": {},
   "outputs": [],
   "source": []
  },
  {
   "cell_type": "code",
   "execution_count": null,
   "id": "a177f775",
   "metadata": {},
   "outputs": [],
   "source": []
  },
  {
   "cell_type": "code",
   "execution_count": null,
   "id": "9f0c2db4",
   "metadata": {},
   "outputs": [],
   "source": []
  },
  {
   "cell_type": "code",
   "execution_count": null,
   "id": "4c0bc484",
   "metadata": {},
   "outputs": [],
   "source": []
  }
 ],
 "metadata": {
  "kernelspec": {
   "display_name": "Python 3 (ipykernel)",
   "language": "python",
   "name": "python3"
  },
  "language_info": {
   "codemirror_mode": {
    "name": "ipython",
    "version": 3
   },
   "file_extension": ".py",
   "mimetype": "text/x-python",
   "name": "python",
   "nbconvert_exporter": "python",
   "pygments_lexer": "ipython3",
   "version": "3.9.12"
  }
 },
 "nbformat": 4,
 "nbformat_minor": 5
}
