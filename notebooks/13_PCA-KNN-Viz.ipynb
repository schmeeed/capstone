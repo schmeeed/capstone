{
 "cells": [
  {
   "cell_type": "code",
   "execution_count": 1,
   "id": "1d6eaeb1",
   "metadata": {},
   "outputs": [],
   "source": [
    "import pandas as pd\n",
    "import numpy as np\n",
    "\n",
    "import boto3\n",
    "import io\n",
    "\n",
    "import matplotlib.pyplot as plt\n",
    "\n",
    "from sklearn.neighbors import KNeighborsClassifier, NearestNeighbors\n",
    "from sklearn.preprocessing import StandardScaler\n",
    "from sklearn.decomposition import PCA"
   ]
  },
  {
   "cell_type": "code",
   "execution_count": 2,
   "id": "b21ec00b",
   "metadata": {},
   "outputs": [],
   "source": [
    "# Create function to load s3 files from AWS\n",
    "def load_s3_file(file_name, s3, bucket_name, df_name):\n",
    "    # Downloading the file from S3 and parsing it into a dataframe\n",
    "    s3.download_file(bucket_name, file_name, file_name)\n",
    "    \n",
    "    # Low memory is set to False because columns have mixed data types\n",
    "    df_name = pd.read_csv(file_name, index_col=False, low_memory=False)\n",
    "    return df_name "
   ]
  },
  {
   "cell_type": "code",
   "execution_count": 3,
   "id": "143bcf20",
   "metadata": {
    "scrolled": true
   },
   "outputs": [
    {
     "name": "stdout",
     "output_type": "stream",
     "text": [
      "ACSDP5Y2021.DP04-Data.csv\n",
      "ACSST5Y2021.S0101-Data.csv\n",
      "ACSST5Y2021.S0801-Data.csv\n",
      "ACSST5Y2021.S1901-Data.csv\n",
      "GA_LISTINGS_SALES.csv\n",
      "GA_LISTINGS_SALES_V2.csv\n",
      "GA_listing.csv\n",
      "POI_second_tab.csv\n",
      "POI_with_count.csv\n",
      "all_zips_grocery_store.json\n",
      "all_zips_restaurant.json\n",
      "atlanta-geo.csv\n",
      "atlanta_cbsa_zip.csv\n",
      "atlanta_hdma_2021.csv\n",
      "atlanta_hdma_census_2021.csv\n",
      "atlanta_hdma_tract_2021.csv\n",
      "atlanta_listings.csv\n",
      "census_POI_name_binary.csv\n",
      "census_POI_name_capita.csv\n",
      "census_POI_name_count.csv\n",
      "census_all.csv\n",
      "census_all_perCapita.csv\n",
      "census_data\n",
      "core_geo_dataset.csv\n",
      "crime.csv\n",
      "crime_rating_zipcode.csv\n",
      "elementary_schools.csv\n",
      "ga_georgia_zip_codes_geo.min.json\n",
      "high_schools.csv\n",
      "hmda_2017_ga_all-records_labels.csv\n",
      "hmda_2021_ga_all-records_labels.csv\n",
      "jason_listing.csv\n",
      "listing-with-poi-distances.csv\n",
      "listings_with_tract.csv\n",
      "middle_schools.csv\n",
      "poi-google-exploded.csv\n",
      "poi_combined_haystack.csv\n",
      "poi_combined_haystack_ALL.csv\n",
      "poi_combined_haystack_ALL_CLEANED.csv\n",
      "poi_expanded.csv\n",
      "points-of-interest-google.csv\n",
      "points-of-interest-google2.csv\n",
      "points-of-interest-google3.csv\n",
      "points-of-interest-haystacks.csv\n",
      "schools.csv\n",
      "zip_summary.csv\n",
      "zipcode_expanded\n",
      "zipcodes_111meter.min.json\n"
     ]
    }
   ],
   "source": [
    "# Load files from AWS\n",
    "s3R = boto3.resource(\"s3\")\n",
    "s3 = boto3.client(\"s3\")\n",
    "bucket_name = \"capstonehaystacks\"\n",
    "\n",
    "# Listing the contents of the S3 bucket\n",
    "for obj in s3R.Bucket(bucket_name).objects.all():\n",
    "    print(obj.key)"
   ]
  },
  {
   "cell_type": "code",
   "execution_count": 4,
   "id": "96aff9e0",
   "metadata": {},
   "outputs": [],
   "source": [
    "# Load S3 files to variables\n",
    "census = load_s3_file(\"census_all.csv\", s3, bucket_name, df_name=\"census\")\n",
    "census_capita = load_s3_file(\"census_all_perCapita.csv\", s3, bucket_name, df_name=\"census_capita\")\n",
    "hdma = load_s3_file(\"atlanta_hdma_2021.csv\", s3, bucket_name, df_name=\"hdma\")\n",
    "POI = load_s3_file(\"POI_second_tab.csv\", s3, bucket_name, df_name=\"POI\")"
   ]
  },
  {
   "cell_type": "code",
   "execution_count": 5,
   "id": "5ce45aa7",
   "metadata": {},
   "outputs": [
    {
     "name": "stdout",
     "output_type": "stream",
     "text": [
      "Similar Zip Codes: 0      30002\n",
      "70     30127\n",
      "30     30054\n",
      "26     30044\n",
      "140    30296\n",
      "3      30008\n",
      "Name: zipcode, dtype: int64\n"
     ]
    }
   ],
   "source": [
    "# drop_cols = ['total_workers', 'total_households', 'household_median_income',\n",
    "#              'restaurant_above_4.7_percentage', 'restaurant_above_4.7_per_Capita', 'restaurant_below_4.7_per_Capita']\n",
    "# census_capita = census_capita.drop(drop_cols, axis=1)\n",
    "\n",
    "# Select the column to exclude\n",
    "column_to_exclude = 'zipcode'\n",
    "\n",
    "df_to_standardize = census_capita.drop(column_to_exclude, axis=1)\n",
    "scaler = StandardScaler()\n",
    "standardized_values = scaler.fit_transform(df_to_standardize)\n",
    "census_capita_standardized = pd.DataFrame(standardized_values, columns=df_to_standardize.columns)\n",
    "\n",
    "# Add the excluded column back to the standardized DataFrame\n",
    "census_capita_standardized[column_to_exclude] = census_capita[column_to_exclude]\n",
    "\n",
    "# Pop the excluded column and insert it at the first position\n",
    "zipcode_column = census_capita_standardized.pop(column_to_exclude)\n",
    "census_capita_standardized.insert(0, column_to_exclude, zipcode_column)\n",
    "\n",
    "census_capita_standardized.head()\n",
    "\n",
    "# Feature Selection\n",
    "selected_cols = census_capita_standardized.drop('zipcode', axis=1).columns ## Investor Profile Builder\n",
    "X = census_capita_standardized.drop('zipcode', axis=1).values \n",
    "\n",
    "k=6 # No. of zipcodes to consider\n",
    "model = NearestNeighbors(n_neighbors=k)\n",
    "model.fit(X)\n",
    "\n",
    "# Define my Zip Code vals\n",
    "my_zip = 30002\n",
    "my_zip_vals = census_capita_standardized[census_capita_standardized['zipcode'] == my_zip].iloc[:,1:]\n",
    "my_zip_vals\n",
    "\n",
    "# Find Similar Zip Codes\n",
    "new_X = my_zip_vals.values\n",
    "\n",
    "distances, indices = model.kneighbors(new_X)\n",
    "similar_zip_codes = census_capita_standardized.iloc[indices[0]]['zipcode']  \n",
    "\n",
    "print(f\"Similar Zip Codes: {similar_zip_codes}\")\n",
    "\n",
    "my_sim_zips = census_capita[census_capita['zipcode'].isin(similar_zip_codes)]\n",
    "my_other_zips = census_capita[~census_capita['zipcode'].isin(similar_zip_codes)]"
   ]
  },
  {
   "cell_type": "markdown",
   "id": "a65eb6d9",
   "metadata": {},
   "source": [
    "-----"
   ]
  },
  {
   "cell_type": "code",
   "execution_count": 6,
   "id": "c40c8c5a",
   "metadata": {},
   "outputs": [],
   "source": [
    "# Prepare the data\n",
    "my_df = census_capita.iloc[:, 1:]  # Exclude the zipcode column\n",
    "my_df = my_df.dropna()  # Drop rows with missing values if any\n",
    "\n",
    "# Scale the data\n",
    "scaler = StandardScaler()\n",
    "scaled_data = scaler.fit_transform(my_df)\n",
    "\n",
    "# PCA\n",
    "pca = PCA(n_components=2)\n",
    "transformed_data = pca.fit_transform(scaled_data)\n",
    "\n",
    "# # Analyze the results\n",
    "# explained_variance_ratio = pca.explained_variance_ratio_\n",
    "# cumulative_variance = np.cumsum(explained_variance_ratio)\n",
    "# n_components = np.argmax(cumulative_variance >= 0.95) + 1\n",
    "\n",
    "# # Perform PCA with the desired number of components\n",
    "# pca_final = PCA(n_components=n_components)\n",
    "# pca_final.fit(scaled_data)\n",
    "\n",
    "# # Transform the data to the new coordinate system\n",
    "# transformed_data = pca_final.transform(scaled_data)\n"
   ]
  },
  {
   "cell_type": "code",
   "execution_count": 7,
   "id": "ff25d1e4",
   "metadata": {},
   "outputs": [
    {
     "data": {
      "image/png": "[encoded data removed]",
      "text/plain": [
       "<Figure size 432x288 with 1 Axes>"
      ]
     },
     "metadata": {
      "needs_background": "light"
     },
     "output_type": "display_data"
    }
   ],
   "source": [
    "import matplotlib.pyplot as plt\n",
    "\n",
    "# Plot the transformed data\n",
    "plt.scatter(transformed_data[:, 0], transformed_data[:, 1])\n",
    "plt.xlabel('Principal Component 1')\n",
    "plt.ylabel('Principal Component 2')\n",
    "plt.title('PCA Scatter Plot')\n",
    "plt.show()\n"
   ]
  },
  {
   "cell_type": "code",
   "execution_count": 17,
   "id": "bca9637e",
   "metadata": {},
   "outputs": [
    {
     "data": {
      "image/png": "[encoded data removed]",
      "text/plain": [
       "<Figure size 432x288 with 1 Axes>"
      ]
     },
     "metadata": {
      "needs_background": "light"
     },
     "output_type": "display_data"
    }
   ],
   "source": [
    "# Removing extreme outlier\n",
    "transformed_data = transformed_data[(transformed_data[:, 0] < 40) & (transformed_data[:, 1] < 20)]\n",
    "\n",
    "# Plot the transformed data\n",
    "plt.scatter(transformed_data[:, 0], transformed_data[:, 1], \n",
    "            color='lightgrey', label='Other Zip Codes')\n",
    "plt.scatter(transformed_data[my_sim_zips.index, 0], transformed_data[my_sim_zips.index, 1], \n",
    "            color='blue', label='Similar Zip Codes')\n",
    "plt.scatter(transformed_data[my_zip_vals.index, 0], transformed_data[my_zip_vals.index, 1], \n",
    "            color='red', label='My Zip Code')\n",
    "plt.xlabel('Principal Component 1')\n",
    "plt.ylabel('Principal Component 2')\n",
    "plt.title('PCA Scatter Plot')\n",
    "\n",
    "plt.legend()\n",
    "\n",
    "# Show the plot\n",
    "\n",
    "plt.savefig('../visuals/PCAKNN-Visual.png')\n",
    "\n",
    "plt.show()"
   ]
  },
  {
   "cell_type": "markdown",
   "id": "1c0ef445",
   "metadata": {},
   "source": [
    "-----\n"
   ]
  },
  {
   "cell_type": "code",
   "execution_count": 9,
   "id": "fc2b5dc6",
   "metadata": {},
   "outputs": [],
   "source": [
    "# import matplotlib.pyplot as plt\n",
    "# import numpy as np\n",
    "\n",
    "# # Calculate the center point\n",
    "# center_point = np.mean(transformed_data, axis=0)\n",
    "\n",
    "# # Plot the transformed data\n",
    "# plt.scatter(transformed_data[:, 0], transformed_data[:, 1], color='black', label='Data Points')\n",
    "# plt.scatter(center_point[0], center_point[1], color='red', label='Center Point')\n",
    "# plt.xlabel('Principal Component 1')\n",
    "# plt.ylabel('Principal Component 2')\n",
    "# plt.title('PCA Scatter Plot')\n",
    "\n",
    "\n",
    "\n",
    "# # Draw a grey line from the center to each data point with opacity\n",
    "# for i in range(transformed_data.shape[0]):\n",
    "#     plt.plot([center_point[0], transformed_data[i, 0]], [center_point[1], \n",
    "#             transformed_data[i, 1]], color='grey', linestyle='--', alpha=0.5)\n",
    "\n",
    "#     # Calculate the Euclidean distance from the center to each point\n",
    "#     distance = np.linalg.norm(transformed_data[i] - center_point)\n",
    "\n",
    "#     # Calculate the midpoint of the line\n",
    "#     midpoint_x = (center_point[0] + transformed_data[i, 0]) / 2\n",
    "#     midpoint_y = (center_point[1] + transformed_data[i, 1]) / 2\n",
    "\n",
    "#     # Define the offsets for the labels\n",
    "#     x_offset = 0.05  # Offset in the x-axis direction\n",
    "#     y_offset = 1.5  # Offset in the y-axis direction\n",
    "\n",
    "#     # Show the distance as text at the midpoint of the line with offsets\n",
    "#     plt.text(midpoint_x + x_offset, midpoint_y + y_offset, f'{distance:.1f}', \n",
    "#              color='grey', fontsize=8, ha='center', va='center')\n",
    "\n",
    "# plt.show()\n"
   ]
  }
 ],
 "metadata": {
  "kernelspec": {
   "display_name": "Python 3 (ipykernel)",
   "language": "python",
   "name": "python3"
  },
  "language_info": {
   "codemirror_mode": {
    "name": "ipython",
    "version": 3
   },
   "file_extension": ".py",
   "mimetype": "text/x-python",
   "name": "python",
   "nbconvert_exporter": "python",
   "pygments_lexer": "ipython3",
   "version": "3.9.12"
  }
 },
 "nbformat": 4,
 "nbformat_minor": 5
}
